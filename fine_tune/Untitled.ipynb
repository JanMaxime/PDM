{
 "cells": [
  {
   "cell_type": "code",
   "execution_count": 5,
   "id": "995a9f87-1fb5-42dd-9a01-14ec7bfac899",
   "metadata": {},
   "outputs": [],
   "source": [
    "import seaborn as sns\n",
    "import pickle\n",
    "from matplotlib.pyplot import figure\n",
    "\n"
   ]
  },
  {
   "cell_type": "code",
   "execution_count": 7,
   "id": "22ca4c1c-aa74-4452-b586-4282b03e3048",
   "metadata": {},
   "outputs": [],
   "source": [
    "\n",
    "with open('ameliorations2.pickle', 'rb') as handle:\n",
    "    ameliorations2 = pickle.load(handle)"
   ]
  },
  {
   "cell_type": "code",
   "execution_count": 8,
   "id": "42f4fda2-ed10-41ae-ab0f-e166a77062ad",
   "metadata": {},
   "outputs": [
    {
     "data": {
      "text/plain": [
       "[[50.12450292724871,\n",
       "  35.25716980378732,\n",
       "  128.87298806517026,\n",
       "  42.419843750106274,\n",
       "  -59.75250108070202,\n",
       "  -41.81379757914044],\n",
       " [93.41029542240963,\n",
       "  77.83285436877229,\n",
       "  -16.436952082928187,\n",
       "  -59.14173967761005,\n",
       "  4.936152655680054,\n",
       "  -86.23154912532242],\n",
       " [69.05154448638065,\n",
       "  46.8595928592365,\n",
       "  111.10365418662927,\n",
       "  -74.05335778249732,\n",
       "  8.178395567252231,\n",
       "  -58.0651545289676],\n",
       " [138.7990879901369,\n",
       "  66.03157573391209,\n",
       "  70.22408218682699,\n",
       "  124.29714565320575,\n",
       "  132.92497438991052,\n",
       "  21.566772016249132],\n",
       " [-4.273216129386199,\n",
       "  39.015852097713434,\n",
       "  34.76649933788057,\n",
       "  125.37197766234667,\n",
       "  49.89445188612329,\n",
       "  60.11969374155301]]"
      ]
     },
     "execution_count": 8,
     "metadata": {},
     "output_type": "execute_result"
    }
   ],
   "source": [
    "ameliorations2"
   ]
  },
  {
   "cell_type": "code",
   "execution_count": 14,
   "id": "9dad18ca-042b-4cfe-8cf9-ff39ecba5d07",
   "metadata": {},
   "outputs": [],
   "source": [
    "\n",
    "with open('ameliorations2.pickle', 'rb') as handle:\n",
    "    ameliorations = pickle.load(handle)\n",
    "\n",
    "#ameliorations = ameliorations + ameliorations2\n",
    "\n",
    "\n",
    "\n",
    "\n",
    "for i in range(len(ameliorations)):\n",
    "    for j in range(len(ameliorations[i])):\n",
    "        if ameliorations[i][j]  < 0:\n",
    "            ameliorations[i][j] = 0\n",
    "        else:\n",
    "            ameliorations[i][j] /=34\n",
    "            \n",
    "            \n",
    "            "
   ]
  },
  {
   "cell_type": "code",
   "execution_count": 17,
   "id": "d7c3cb8f-92c7-41e9-ac9a-f0cd15822b74",
   "metadata": {},
   "outputs": [],
   "source": [
    "with open('ameliorations2.pickle', 'rb') as handle:\n",
    "    ameliorations = pickle.load(handle)"
   ]
  },
  {
   "cell_type": "code",
   "execution_count": 18,
   "id": "b5c9ac25-b00e-4516-a827-7f3cb593a540",
   "metadata": {},
   "outputs": [
    {
     "data": {
      "text/plain": [
       "[[50.12450292724871,\n",
       "  35.25716980378732,\n",
       "  128.87298806517026,\n",
       "  42.419843750106274,\n",
       "  -59.75250108070202,\n",
       "  -41.81379757914044],\n",
       " [93.41029542240963,\n",
       "  77.83285436877229,\n",
       "  -16.436952082928187,\n",
       "  -59.14173967761005,\n",
       "  4.936152655680054,\n",
       "  -86.23154912532242],\n",
       " [69.05154448638065,\n",
       "  46.8595928592365,\n",
       "  111.10365418662927,\n",
       "  -74.05335778249732,\n",
       "  8.178395567252231,\n",
       "  -58.0651545289676],\n",
       " [138.7990879901369,\n",
       "  66.03157573391209,\n",
       "  70.22408218682699,\n",
       "  124.29714565320575,\n",
       "  132.92497438991052,\n",
       "  21.566772016249132],\n",
       " [-4.273216129386199,\n",
       "  39.015852097713434,\n",
       "  34.76649933788057,\n",
       "  125.37197766234667,\n",
       "  49.89445188612329,\n",
       "  60.11969374155301]]"
      ]
     },
     "execution_count": 18,
     "metadata": {},
     "output_type": "execute_result"
    }
   ],
   "source": [
    "ameliorations"
   ]
  },
  {
   "cell_type": "code",
   "execution_count": 20,
   "id": "7ff8e130-e138-4d7f-b049-a80b8171a0fb",
   "metadata": {},
   "outputs": [
    {
     "data": {
      "text/plain": [
       "4.829999999999999"
      ]
     },
     "execution_count": 20,
     "metadata": {},
     "output_type": "execute_result"
    }
   ],
   "source": [
    "(138/34)*1.19"
   ]
  },
  {
   "cell_type": "code",
   "execution_count": 16,
   "id": "fe33ec9c-33d7-43ba-a4ce-4909fe53864d",
   "metadata": {},
   "outputs": [
    {
     "data": {
      "image/png": "[encoded data removed]",
      "text/plain": [
       "<Figure size 480x320 with 2 Axes>"
      ]
     },
     "metadata": {
      "needs_background": "light"
     },
     "output_type": "display_data"
    }
   ],
   "source": [
    "figure(figsize=(6, 4), dpi=80)\n",
    "ax = sns.heatmap(ameliorations)\n",
    "ax.set_title(\"Mean georeferencing enhancement (in px)\")\n",
    "ax.set_xticklabels([75,100, 125,150, 175, 200])\n",
    "ax.set_xlabel(\"Neighbour's radius\")\n",
    "ax.set_ylabel(\"Sift radius\")\n",
    "ax.set_yticklabels([13,15,17,19,21])\n",
    "ax.invert_yaxis()"
   ]
  },
  {
   "cell_type": "code",
   "execution_count": null,
   "id": "74cce72f-3d35-4d86-8f3b-0f6ce5671a8e",
   "metadata": {},
   "outputs": [],
   "source": []
  }
 ],
 "metadata": {
  "kernelspec": {
   "display_name": "Python 3",
   "language": "python",
   "name": "python3"
  },
  "language_info": {
   "codemirror_mode": {
    "name": "ipython",
    "version": 3
   },
   "file_extension": ".py",
   "mimetype": "text/x-python",
   "name": "python",
   "nbconvert_exporter": "python",
   "pygments_lexer": "ipython3",
   "version": "3.8.8"
  }
 },
 "nbformat": 4,
 "nbformat_minor": 5
}

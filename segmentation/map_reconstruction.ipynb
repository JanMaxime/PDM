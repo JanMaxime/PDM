{
 "cells": [
  {
   "cell_type": "code",
   "execution_count": 1,
   "id": "00c02b1f-b72d-4925-b382-9f735ded3456",
   "metadata": {},
   "outputs": [
    {
     "name": "stderr",
     "output_type": "stream",
     "text": [
      "/home/toko/anaconda3/envs/open-mmlab/lib/python3.10/site-packages/tqdm/auto.py:22: TqdmWarning: IProgress not found. Please update jupyter and ipywidgets. See https://ipywidgets.readthedocs.io/en/stable/user_install.html\n",
      "  from .autonotebook import tqdm as notebook_tqdm\n"
     ]
    }
   ],
   "source": [
    "import numpy as np\n",
    "import cv2\n",
    "from mmcv import Config\n",
    "from mmseg.apis import inference_segmentor, init_segmentor, show_result_pyplot\n",
    "import glob\n",
    "import matplotlib.pyplot as plt\n",
    "from PIL import Image\n",
    "import os\n",
    "from patch_and_reconstitute_map import *\n",
    "import warnings\n",
    "warnings.filterwarnings('ignore')\n",
    "import tqdm"
   ]
  },
  {
   "cell_type": "code",
   "execution_count": 2,
   "id": "38446644-8253-4bf3-bfdb-4b752327f64e",
   "metadata": {},
   "outputs": [],
   "source": [
    "classes = ('frame', 'road_network','water', 'blocks', 'non-built' )\n",
    "palette = [[0, 0, 0], [255, 255, 255],[0, 0, 255], [255, 0, 255], [0, 255, 255]]\n",
    "\n",
    "classes_3 = ('frame', 'road_network', 'blocks' )\n",
    "palette_3 = [[0, 0, 0], [255, 255, 255], [255, 0, 255]]"
   ]
  },
  {
   "cell_type": "code",
   "execution_count": 3,
   "id": "d6fb9b93-81eb-4ca1-b2f0-c27344cf5ed7",
   "metadata": {},
   "outputs": [],
   "source": [
    "cfg = Config.fromfile('configs/ocrnet/ocrnet_hr48_512x1024_160k_cityscapes.py')\n",
    "\n",
    "# Since we use only one GPU, BN is used instead of SyncBN\n",
    "cfg.norm_cfg = dict(type='BN', requires_grad=True)\n",
    "cfg.model.backbone.norm_cfg = cfg.norm_cfg\n",
    "cfg.model.decode_head[0].norm_cfg = cfg.norm_cfg\n",
    "cfg.model.decode_head[1].norm_cfg = cfg.norm_cfg\n",
    "# modify num classes of the model in decode/auxiliary head\n",
    "cfg.model.decode_head[0].num_classes = 3\n",
    "cfg.model.decode_head[1].num_classes = 3"
   ]
  },
  {
   "cell_type": "code",
   "execution_count": 4,
   "id": "4dec4801-10ce-4bbb-8c82-02c66996e2e0",
   "metadata": {},
   "outputs": [
    {
     "name": "stdout",
     "output_type": "stream",
     "text": [
      "load checkpoint from local path: work_dirs/best_cp/best_cp_3_classes.pth\n"
     ]
    }
   ],
   "source": [
    "model = init_segmentor(cfg, \"work_dirs/best_cp/best_cp_3_classes.pth\", device='cuda:0')"
   ]
  },
  {
   "cell_type": "code",
   "execution_count": 7,
   "id": "a1b566e0-b638-4dcd-8fb8-041bce965152",
   "metadata": {},
   "outputs": [],
   "source": [
    "maps_filename = glob.glob(\"../../full_maps/montpellier/*.png\")\n",
    "for map_filename in sorted(maps_filename):\n",
    "    try:\n",
    "        image = Image.open(map_filename)\n",
    "        image = np.asarray(image).astype(np.uint8)\n",
    "        dir_name = map_filename[map_filename.rfind(\"/\")+1:-4]\n",
    "        dir_name = f\"../../full_maps/montpellier_patches/{dir_name}\"\n",
    "        os.makedirs(dir_name, exist_ok=True)\n",
    "        makeImagePatches(image, dir_name, export=True)\n",
    "    except:\n",
    "        print(map_filename)"
   ]
  },
  {
   "cell_type": "code",
   "execution_count": 8,
   "id": "b3b0f475-0c82-43a5-b528-8cf27b47696b",
   "metadata": {},
   "outputs": [
    {
     "name": "stderr",
     "output_type": "stream",
     "text": [
      "100%|█████████████████████████████████████████████| 4/4 [02:16<00:00, 34.04s/it]\n"
     ]
    }
   ],
   "source": [
    "patches_dirs = glob.glob(\"../../full_maps/montpellier_patches/*\")\n",
    "for patch_dir in tqdm.tqdm(sorted(patches_dirs)):\n",
    "    os.makedirs(patch_dir+\"/predictions\", exist_ok=True)\n",
    "    patches = glob.glob(patch_dir+\"/*.png\")\n",
    "    for patch in patches:\n",
    "        prediction = inference_segmentor(model, patch)\n",
    "        prediction[0][prediction[0] == 2] = 0\n",
    "        prediction = Image.fromarray(prediction[0].astype(\"uint8\")).convert(\"P\")\n",
    "        prediction.putpalette(np.array(palette_3, dtype=np.uint8))\n",
    "\n",
    "        prediction.save(patch_dir+\"/predictions/\"+patch[patch.rfind(\"/\")+1:])"
   ]
  },
  {
   "cell_type": "code",
   "execution_count": 9,
   "id": "969dfa09-f528-484c-af8d-358ecbb7750e",
   "metadata": {},
   "outputs": [
    {
     "name": "stderr",
     "output_type": "stream",
     "text": [
      "100%|█████████████████████████████████████████████| 4/4 [00:11<00:00,  2.96s/it]\n"
     ]
    }
   ],
   "source": [
    "patches_dirs = glob.glob(\"../../full_maps/montpellier_patches/*\")\n",
    "predictions_dirs = [patch_dir + \"/predictions/*.png\" for patch_dir in patches_dirs]\n",
    "for prediction_dir in tqdm.tqdm(predictions_dirs):\n",
    "    predictions_paths = glob.glob(prediction_dir)\n",
    "    original_image_filename = prediction_dir[find_nth(prediction_dir, \"/\", 4)+1:find_nth(prediction_dir, \"/\", 5)]\n",
    "    original_image = Image.open(\"../../full_maps/montpellier/\"+original_image_filename+\".png\")\n",
    "    original_image = np.asarray(original_image).astype(np.uint8)[:,:,0]\n",
    "    full_prediction = np.zeros_like(original_image)\n",
    "    for prediction_path in predictions_paths:\n",
    "        filename = prediction_path[prediction_path.rfind(\"/\")+1:-4]\n",
    "        row = int(filename[:filename.find(\"_\")])\n",
    "        col = int(filename[filename.find(\"_\")+1:])\n",
    "        prediction = Image.open(prediction_path)\n",
    "        prediction = np.asarray(prediction).astype(np.uint8)\n",
    "        if row == 0:\n",
    "            offset_row = 0\n",
    "        else:\n",
    "            offset_row = 100\n",
    "        if col == 0:\n",
    "            offset_col = 0\n",
    "        else:\n",
    "            offset_col = 100\n",
    "        try:\n",
    "            full_prediction[offset_row+row*800:100+(row+1)*800, offset_col+col*800:100+(col+1)*800] = prediction[offset_row:900, offset_col:900]\n",
    "        except:\n",
    "            pass\n",
    "\n",
    "    full_prediction= Image.fromarray(full_prediction.astype(\"uint8\")*255)\n",
    "    full_prediction.save(\"../../full_maps/other_full_predictions/\"+original_image_filename+\".png\")"
   ]
  },
  {
   "cell_type": "code",
   "execution_count": null,
   "id": "357b0b9a-1abb-48f6-a740-956c64764a13",
   "metadata": {},
   "outputs": [],
   "source": []
  }
 ],
 "metadata": {
  "kernelspec": {
   "display_name": "Python 3 (ipykernel)",
   "language": "python",
   "name": "python3"
  },
  "language_info": {
   "codemirror_mode": {
    "name": "ipython",
    "version": 3
   },
   "file_extension": ".py",
   "mimetype": "text/x-python",
   "name": "python",
   "nbconvert_exporter": "python",
   "pygments_lexer": "ipython3",
   "version": "3.10.4"
  }
 },
 "nbformat": 4,
 "nbformat_minor": 5
}

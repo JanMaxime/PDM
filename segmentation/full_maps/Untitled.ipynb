{
 "cells": [
  {
   "cell_type": "code",
   "execution_count": 1,
   "id": "9e986e11-11a2-45ab-b953-30e8201b5e7a",
   "metadata": {},
   "outputs": [],
   "source": [
    "import numpy as np\n",
    "import glob\n",
    "import cv2 as cv\n",
    "import json\n",
    "import math\n",
    "import matplotlib.pyplot as plt\n",
    "from skimage.morphology import skeletonize\n",
    "import pickle\n",
    "import glob\n",
    "import tqdm\n",
    "import os\n",
    "import seaborn as sns"
   ]
  },
  {
   "cell_type": "code",
   "execution_count": 61,
   "id": "6088e5d1-3a31-44ab-aa31-d941679bbdeb",
   "metadata": {},
   "outputs": [],
   "source": [
    "city=\"montpellier\"\n",
    "baseline = cv.imread(f\"other_full_predictions/baseline_{city}.png\", cv.IMREAD_GRAYSCALE)\n",
    "baseline = skeletonize(baseline/255).astype(np.uint8)*255\n",
    "baseline_merged = cv.merge((np.zeros_like(baseline),np.zeros_like(baseline),baseline))"
   ]
  },
  {
   "cell_type": "code",
   "execution_count": 62,
   "id": "e47d9805-bc1d-450d-89ec-d1fa89e9cfe7",
   "metadata": {},
   "outputs": [
    {
     "name": "stdout",
     "output_type": "stream",
     "text": [
      "(2212, 2428, 3)\n",
      "(2212, 2428, 3)\n",
      "(2212, 2428, 3)\n"
     ]
    },
    {
     "data": {
      "text/plain": [
       "True"
      ]
     },
     "execution_count": 62,
     "metadata": {},
     "output_type": "execute_result"
    }
   ],
   "source": [
    "for image in glob.glob(f\"{city}/realignment/*.png\"):\n",
    "    im = cv.imread(image)\n",
    "    print(im.shape)\n",
    "    baseline_merged += im\n",
    "cv.imwrite(f\"{city}/stacked_{city}.png\", baseline_merged)"
   ]
  },
  {
   "cell_type": "code",
   "execution_count": 34,
   "id": "5a98e9df-e3c6-49e5-a6a5-16fdf19f196f",
   "metadata": {},
   "outputs": [
    {
     "data": {
      "text/plain": [
       "True"
      ]
     },
     "execution_count": 34,
     "metadata": {},
     "output_type": "execute_result"
    }
   ],
   "source": [
    "cv.imwrite(f\"{city}/stacked_{city}.png\", final+baseline)"
   ]
  },
  {
   "cell_type": "code",
   "execution_count": 49,
   "id": "98c4b40f-409e-4647-a98a-0c798f16964f",
   "metadata": {},
   "outputs": [
    {
     "data": {
      "text/plain": [
       "True"
      ]
     },
     "execution_count": 49,
     "metadata": {},
     "output_type": "execute_result"
    }
   ],
   "source": [
    "cv.imwrite(\"baseline_cum.png\", baseline_merged)"
   ]
  },
  {
   "cell_type": "code",
   "execution_count": null,
   "id": "61aaef7d-ed77-4436-8483-dc2d7d97534a",
   "metadata": {},
   "outputs": [],
   "source": []
  }
 ],
 "metadata": {
  "kernelspec": {
   "display_name": "Python 3 (ipykernel)",
   "language": "python",
   "name": "python3"
  },
  "language_info": {
   "codemirror_mode": {
    "name": "ipython",
    "version": 3
   },
   "file_extension": ".py",
   "mimetype": "text/x-python",
   "name": "python",
   "nbconvert_exporter": "python",
   "pygments_lexer": "ipython3",
   "version": "3.10.4"
  }
 },
 "nbformat": 4,
 "nbformat_minor": 5
}

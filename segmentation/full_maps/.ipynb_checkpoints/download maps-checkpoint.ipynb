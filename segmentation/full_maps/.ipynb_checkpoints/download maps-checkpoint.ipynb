{
 "cells": [
  {
   "cell_type": "code",
   "execution_count": 3,
   "id": "2980f694-0881-4c34-be5d-341d184e62b2",
   "metadata": {},
   "outputs": [],
   "source": [
    "import glob\n",
    "import os\n",
    "import tqdm"
   ]
  },
  {
   "cell_type": "code",
   "execution_count": 2,
   "id": "cebd0412-a4ad-4f8d-8615-ef94ac4ce23a",
   "metadata": {},
   "outputs": [],
   "source": [
    "data = pd.read_excel(\"data.xlsx\")\n",
    "data = data[data.ark.str.contains(\"12148_\")] "
   ]
  },
  {
   "cell_type": "code",
   "execution_count": 3,
   "id": "6a4dc005-bf4c-45fe-837d-0bc2f43b381e",
   "metadata": {},
   "outputs": [],
   "source": [
    "data.ark = data.ark.apply(lambda x : x[6:])"
   ]
  },
  {
   "cell_type": "code",
   "execution_count": 4,
   "id": "ba20335f-bc07-4146-be49-cf3b30cda558",
   "metadata": {
    "collapsed": true,
    "jupyter": {
     "outputs_hidden": true
    },
    "tags": []
   },
   "outputs": [
    {
     "name": "stderr",
     "output_type": "stream",
     "text": [
      "0it [00:00, ?it/s]"
     ]
    },
    {
     "name": "stdout",
     "output_type": "stream",
     "text": [
      "pass\n",
      "pass\n",
      "pass\n",
      "pass\n",
      "pass\n",
      "pass\n",
      "pass\n",
      "pass\n",
      "pass\n",
      "pass\n",
      "pass\n",
      "pass\n",
      "pass\n",
      "pass\n",
      "pass\n",
      "pass\n",
      "pass\n",
      "pass\n",
      "pass\n",
      "pass\n",
      "pass\n",
      "pass\n",
      "pass\n",
      "pass\n",
      "--2022-07-14 05:29:06--  https://gallica.bnf.fr/iiif/ark:/12148/btv1b55013275x/f1/full/full/0/native.png\n",
      "Resolving gallica.bnf.fr (gallica.bnf.fr)... 194.199.8.11\n",
      "Connecting to gallica.bnf.fr (gallica.bnf.fr)|194.199.8.11|:443... connected.\n",
      "HTTP request sent, awaiting response... 503 Service Unavailable\n",
      "2022-07-14 05:31:06 ERROR 503: Service Unavailable.\n",
      "\n"
     ]
    },
    {
     "name": "stderr",
     "output_type": "stream",
     "text": [
      "25it [02:00,  4.81s/it]"
     ]
    },
    {
     "name": "stdout",
     "output_type": "stream",
     "text": [
      "--2022-07-14 05:31:06--  https://gallica.bnf.fr/iiif/ark:/12148/btv1b55013275x/f2/full/full/0/native.png\n",
      "Resolving gallica.bnf.fr (gallica.bnf.fr)... 194.199.8.11\n",
      "Connecting to gallica.bnf.fr (gallica.bnf.fr)|194.199.8.11|:443... connected.\n",
      "HTTP request sent, awaiting response... 503 Service Unavailable\n",
      "2022-07-14 05:33:06 ERROR 503: Service Unavailable.\n",
      "\n"
     ]
    },
    {
     "name": "stderr",
     "output_type": "stream",
     "text": [
      "26it [04:00, 11.06s/it]"
     ]
    },
    {
     "name": "stdout",
     "output_type": "stream",
     "text": [
      "--2022-07-14 05:33:07--  https://gallica.bnf.fr/iiif/ark:/12148/btv1b53066873d/f1/full/full/0/native.png\n",
      "Resolving gallica.bnf.fr (gallica.bnf.fr)... 194.199.8.11\n",
      "Connecting to gallica.bnf.fr (gallica.bnf.fr)|194.199.8.11|:443... connected.\n",
      "HTTP request sent, awaiting response... 503 Service Unavailable\n",
      "2022-07-14 05:35:07 ERROR 503: Service Unavailable.\n",
      "\n"
     ]
    },
    {
     "name": "stderr",
     "output_type": "stream",
     "text": [
      "27it [06:01, 18.89s/it]"
     ]
    },
    {
     "name": "stdout",
     "output_type": "stream",
     "text": [
      "--2022-07-14 05:35:07--  https://gallica.bnf.fr/iiif/ark:/12148/btv1b530855115/f1/full/full/0/native.png\n",
      "Resolving gallica.bnf.fr (gallica.bnf.fr)... 194.199.8.11\n",
      "Connecting to gallica.bnf.fr (gallica.bnf.fr)|194.199.8.11|:443... connected.\n",
      "HTTP request sent, awaiting response... 503 Service Unavailable\n",
      "2022-07-14 05:37:07 ERROR 503: Service Unavailable.\n",
      "\n"
     ]
    },
    {
     "name": "stderr",
     "output_type": "stream",
     "text": [
      "28it [08:01, 28.31s/it]"
     ]
    },
    {
     "name": "stdout",
     "output_type": "stream",
     "text": [
      "pass\n",
      "pass\n",
      "pass\n",
      "pass\n",
      "pass\n",
      "pass\n",
      "pass\n",
      "pass\n",
      "pass\n",
      "pass\n",
      "pass\n",
      "pass\n",
      "--2022-07-14 05:37:07--  https://gallica.bnf.fr/iiif/ark:/12148/btv1b530620268/f1/full/full/0/native.png\n",
      "Resolving gallica.bnf.fr (gallica.bnf.fr)... 194.199.8.11\n",
      "Connecting to gallica.bnf.fr (gallica.bnf.fr)|194.199.8.11|:443... connected.\n",
      "HTTP request sent, awaiting response... 503 Service Unavailable\n",
      "2022-07-14 05:39:08 ERROR 503: Service Unavailable.\n",
      "\n"
     ]
    },
    {
     "name": "stderr",
     "output_type": "stream",
     "text": [
      "41it [10:01, 16.25s/it]"
     ]
    },
    {
     "name": "stdout",
     "output_type": "stream",
     "text": [
      "pass\n",
      "pass\n",
      "pass\n",
      "pass\n",
      "pass\n",
      "pass\n",
      "pass\n",
      "pass\n",
      "pass\n",
      "pass\n",
      "pass\n",
      "pass\n",
      "pass\n",
      "pass\n",
      "pass\n",
      "pass\n",
      "pass\n",
      "pass\n",
      "pass\n",
      "pass\n",
      "pass\n",
      "pass\n",
      "pass\n",
      "pass\n",
      "pass\n",
      "pass\n",
      "pass\n",
      "pass\n",
      "pass\n",
      "pass\n",
      "pass\n",
      "pass\n",
      "pass\n",
      "pass\n",
      "pass\n",
      "pass\n",
      "pass\n",
      "pass\n",
      "pass\n",
      "pass\n",
      "pass\n",
      "pass\n",
      "pass\n",
      "pass\n",
      "pass\n",
      "pass\n",
      "pass\n",
      "pass\n",
      "pass\n",
      "pass\n",
      "pass\n",
      "pass\n",
      "pass\n",
      "pass\n",
      "pass\n",
      "pass\n",
      "pass\n",
      "pass\n",
      "pass\n",
      "pass\n",
      "pass\n",
      "pass\n",
      "pass\n",
      "pass\n",
      "pass\n",
      "pass\n",
      "pass\n",
      "pass\n",
      "pass\n",
      "pass\n",
      "pass\n",
      "pass\n",
      "pass\n",
      "pass\n",
      "pass\n",
      "pass\n",
      "pass\n",
      "pass\n",
      "pass\n",
      "pass\n",
      "pass\n",
      "pass\n",
      "pass\n",
      "pass\n",
      "pass\n",
      "pass\n",
      "pass\n",
      "pass\n",
      "pass\n",
      "pass\n",
      "pass\n",
      "pass\n",
      "pass\n",
      "pass\n",
      "pass\n",
      "pass\n",
      "pass\n",
      "pass\n",
      "pass\n",
      "pass\n",
      "pass\n",
      "pass\n",
      "pass\n",
      "pass\n",
      "--2022-07-14 05:39:08--  https://gallica.bnf.fr/iiif/ark:/12148/btv1b53062218h/f1/full/full/0/native.png\n",
      "Resolving gallica.bnf.fr (gallica.bnf.fr)... 194.199.8.11\n",
      "Connecting to gallica.bnf.fr (gallica.bnf.fr)|194.199.8.11|:443... connected.\n",
      "HTTP request sent, awaiting response... 503 Service Unavailable\n",
      "2022-07-14 05:41:08 ERROR 503: Service Unavailable.\n",
      "\n"
     ]
    },
    {
     "name": "stderr",
     "output_type": "stream",
     "text": [
      "146it [12:02,  2.97s/it]"
     ]
    },
    {
     "name": "stdout",
     "output_type": "stream",
     "text": [
      "pass\n",
      "pass\n",
      "pass\n",
      "pass\n",
      "pass\n",
      "pass\n",
      "pass\n",
      "pass\n",
      "pass\n",
      "pass\n",
      "pass\n",
      "pass\n",
      "pass\n",
      "pass\n",
      "pass\n",
      "pass\n",
      "pass\n",
      "pass\n",
      "pass\n",
      "pass\n",
      "pass\n",
      "pass\n",
      "pass\n",
      "pass\n",
      "--2022-07-14 05:41:08--  https://gallica.bnf.fr/iiif/ark:/12148/btv1b53085256x/f1/full/full/0/native.png\n",
      "Resolving gallica.bnf.fr (gallica.bnf.fr)... 194.199.8.11\n",
      "Connecting to gallica.bnf.fr (gallica.bnf.fr)|194.199.8.11|:443... connected.\n",
      "HTTP request sent, awaiting response... 503 Service Unavailable\n",
      "2022-07-14 05:43:08 ERROR 503: Service Unavailable.\n",
      "\n"
     ]
    },
    {
     "name": "stderr",
     "output_type": "stream",
     "text": [
      "171it [14:02,  3.39s/it]"
     ]
    },
    {
     "name": "stdout",
     "output_type": "stream",
     "text": [
      "pass\n",
      "pass\n",
      "pass\n",
      "pass\n",
      "pass\n",
      "--2022-07-14 05:43:08--  https://gallica.bnf.fr/iiif/ark:/12148/btv1b53085188p/f1/full/full/0/native.png\n",
      "Resolving gallica.bnf.fr (gallica.bnf.fr)... 194.199.8.11\n",
      "Connecting to gallica.bnf.fr (gallica.bnf.fr)|194.199.8.11|:443... connected.\n",
      "HTTP request sent, awaiting response... 503 Service Unavailable\n",
      "2022-07-14 05:45:09 ERROR 503: Service Unavailable.\n",
      "\n"
     ]
    },
    {
     "name": "stderr",
     "output_type": "stream",
     "text": [
      "177it [16:02,  4.61s/it]"
     ]
    },
    {
     "name": "stdout",
     "output_type": "stream",
     "text": [
      "pass\n",
      "pass\n",
      "pass\n",
      "pass\n",
      "pass\n",
      "pass\n",
      "pass\n",
      "pass\n",
      "pass\n",
      "pass\n",
      "pass\n",
      "pass\n",
      "pass\n",
      "pass\n",
      "pass\n",
      "pass\n",
      "pass\n",
      "pass\n",
      "pass\n",
      "pass\n",
      "pass\n",
      "pass\n",
      "pass\n",
      "pass\n",
      "pass\n",
      "pass\n",
      "pass\n",
      "pass\n",
      "pass\n",
      "pass\n",
      "pass\n",
      "pass\n",
      "pass\n",
      "pass\n",
      "pass\n",
      "pass\n",
      "pass\n",
      "pass\n",
      "pass\n",
      "pass\n",
      "pass\n",
      "pass\n",
      "pass\n",
      "pass\n",
      "pass\n",
      "pass\n",
      "pass\n",
      "pass\n",
      "pass\n",
      "pass\n",
      "pass\n",
      "pass\n",
      "pass\n",
      "pass\n",
      "pass\n",
      "pass\n",
      "pass\n",
      "pass\n",
      "pass\n",
      "pass\n",
      "pass\n",
      "--2022-07-14 05:45:09--  https://gallica.bnf.fr/iiif/ark:/12148/btv1b530856516/f1/full/full/0/native.png\n",
      "Resolving gallica.bnf.fr (gallica.bnf.fr)... 194.199.8.11\n",
      "Connecting to gallica.bnf.fr (gallica.bnf.fr)|194.199.8.11|:443... connected.\n",
      "HTTP request sent, awaiting response... 200 200\n",
      "Length: 49075191 (47M) [image/png]\n",
      "Saving to: ‘btv1b530856516_f1.png’\n",
      "\n",
      "btv1b530856516_f1.p 100%[===================>]  46.80M  6.69MB/s    in 7.7s    \n",
      "\n",
      "2022-07-14 05:45:39 (6.09 MB/s) - ‘btv1b530856516_f1.png’ saved [49075191/49075191]\n",
      "\n"
     ]
    },
    {
     "name": "stderr",
     "output_type": "stream",
     "text": [
      "239it [16:33,  2.47s/it]"
     ]
    },
    {
     "name": "stdout",
     "output_type": "stream",
     "text": [
      "pass\n",
      "--2022-07-14 05:45:39--  https://gallica.bnf.fr/iiif/ark:/12148/btv1b53029789x/f1/full/full/0/native.png\n",
      "Resolving gallica.bnf.fr (gallica.bnf.fr)... 194.199.8.11\n",
      "Connecting to gallica.bnf.fr (gallica.bnf.fr)|194.199.8.11|:443... connected.\n",
      "HTTP request sent, awaiting response... 200 200\n",
      "Length: 142637761 (136M) [image/png]\n",
      "Saving to: ‘btv1b53029789x_f1.png’\n",
      "\n",
      "btv1b53029789x_f1.p 100%[===================>] 136.03M  6.77MB/s    in 23s     \n",
      "\n",
      "2022-07-14 05:46:49 (5.84 MB/s) - ‘btv1b53029789x_f1.png’ saved [142637761/142637761]\n",
      "\n"
     ]
    },
    {
     "name": "stderr",
     "output_type": "stream",
     "text": [
      "241it [17:43,  3.23s/it]"
     ]
    },
    {
     "name": "stdout",
     "output_type": "stream",
     "text": [
      "--2022-07-14 05:46:49--  https://gallica.bnf.fr/iiif/ark:/12148/btv1b530227865/f1/full/full/0/native.png\n",
      "Resolving gallica.bnf.fr (gallica.bnf.fr)... 194.199.8.11\n",
      "Connecting to gallica.bnf.fr (gallica.bnf.fr)|194.199.8.11|:443... connected.\n",
      "HTTP request sent, awaiting response... 200 200\n",
      "Length: 82396010 (79M) [image/png]\n",
      "Saving to: ‘btv1b530227865_f1.png’\n",
      "\n",
      "btv1b530227865_f1.p 100%[===================>]  78.58M  6.79MB/s    in 12s     \n",
      "\n",
      "2022-07-14 05:47:45 (6.77 MB/s) - ‘btv1b530227865_f1.png’ saved [82396010/82396010]\n",
      "\n"
     ]
    },
    {
     "name": "stderr",
     "output_type": "stream",
     "text": [
      "242it [18:38,  4.09s/it]"
     ]
    },
    {
     "name": "stdout",
     "output_type": "stream",
     "text": [
      "pass\n",
      "--2022-07-14 05:47:45--  https://gallica.bnf.fr/iiif/ark:/12148/btv1b53027781n/f1/full/full/0/native.png\n",
      "Resolving gallica.bnf.fr (gallica.bnf.fr)... 194.199.8.11\n",
      "Connecting to gallica.bnf.fr (gallica.bnf.fr)|194.199.8.11|:443... connected.\n",
      "HTTP request sent, awaiting response... 200 200\n",
      "Length: 108774262 (104M) [image/png]\n",
      "Saving to: ‘btv1b53027781n_f1.png’\n",
      "\n",
      "btv1b53027781n_f1.p 100%[===================>] 103.73M  6.77MB/s    in 19s     \n",
      "\n",
      "2022-07-14 05:48:51 (5.36 MB/s) - ‘btv1b53027781n_f1.png’ saved [108774262/108774262]\n",
      "\n"
     ]
    },
    {
     "name": "stderr",
     "output_type": "stream",
     "text": [
      "244it [19:45,  5.40s/it]"
     ]
    },
    {
     "name": "stdout",
     "output_type": "stream",
     "text": [
      "pass\n",
      "--2022-07-14 05:48:51--  https://gallica.bnf.fr/iiif/ark:/12148/btv1b530852418/f1/full/full/0/native.png\n",
      "Resolving gallica.bnf.fr (gallica.bnf.fr)... 194.199.8.11\n",
      "Connecting to gallica.bnf.fr (gallica.bnf.fr)|194.199.8.11|:443... connected.\n",
      "HTTP request sent, awaiting response... 200 200\n",
      "Length: 158303436 (151M) [image/png]\n",
      "Saving to: ‘btv1b530852418_f1.png’\n",
      "\n",
      "btv1b530852418_f1.p 100%[===================>] 150.97M  6.83MB/s    in 25s     \n",
      "\n",
      "2022-07-14 05:50:04 (5.92 MB/s) - ‘btv1b530852418_f1.png’ saved [158303436/158303436]\n",
      "\n"
     ]
    },
    {
     "name": "stderr",
     "output_type": "stream",
     "text": [
      "246it [20:58,  7.27s/it]"
     ]
    },
    {
     "name": "stdout",
     "output_type": "stream",
     "text": [
      "--2022-07-14 05:50:04--  https://gallica.bnf.fr/iiif/ark:/12148/btv1b530604587/f1/full/full/0/native.png\n",
      "Resolving gallica.bnf.fr (gallica.bnf.fr)... 194.199.8.11\n",
      "Connecting to gallica.bnf.fr (gallica.bnf.fr)|194.199.8.11|:443... connected.\n",
      "HTTP request sent, awaiting response... 200 200\n",
      "Length: 124502181 (119M) [image/png]\n",
      "Saving to: ‘btv1b530604587_f1.png’\n",
      "\n",
      "btv1b530604587_f1.p 100%[===================>] 118.73M  6.82MB/s    in 22s     \n",
      "\n",
      "2022-07-14 05:51:08 (5.41 MB/s) - ‘btv1b530604587_f1.png’ saved [124502181/124502181]\n",
      "\n"
     ]
    },
    {
     "name": "stderr",
     "output_type": "stream",
     "text": [
      "247it [22:01,  9.59s/it]"
     ]
    },
    {
     "name": "stdout",
     "output_type": "stream",
     "text": [
      "--2022-07-14 05:51:08--  https://gallica.bnf.fr/iiif/ark:/12148/btv1b530296508/f1/full/full/0/native.png\n",
      "Resolving gallica.bnf.fr (gallica.bnf.fr)... 194.199.8.11\n",
      "Connecting to gallica.bnf.fr (gallica.bnf.fr)|194.199.8.11|:443... connected.\n",
      "HTTP request sent, awaiting response... 200 200\n",
      "Length: 101749344 (97M) [image/png]\n",
      "Saving to: ‘btv1b530296508_f1.png’\n",
      "\n",
      "btv1b530296508_f1.p 100%[===================>]  97.04M  6.83MB/s    in 15s     \n",
      "\n",
      "2022-07-14 05:52:05 (6.49 MB/s) - ‘btv1b530296508_f1.png’ saved [101749344/101749344]\n",
      "\n"
     ]
    },
    {
     "name": "stderr",
     "output_type": "stream",
     "text": [
      "248it [22:58, 12.23s/it]"
     ]
    },
    {
     "name": "stdout",
     "output_type": "stream",
     "text": [
      "pass\n",
      "pass\n",
      "--2022-07-14 05:52:05--  https://gallica.bnf.fr/iiif/ark:/12148/btv1b530620429/f1/full/full/0/native.png\n",
      "Resolving gallica.bnf.fr (gallica.bnf.fr)... 194.199.8.11\n",
      "Connecting to gallica.bnf.fr (gallica.bnf.fr)|194.199.8.11|:443... connected.\n",
      "HTTP request sent, awaiting response... 200 200\n",
      "Length: 77036186 (73M) [image/png]\n",
      "Saving to: ‘btv1b530620429_f1.png’\n",
      "\n",
      "btv1b530620429_f1.p 100%[===================>]  73.47M  6.83MB/s    in 15s     \n",
      "\n",
      "2022-07-14 05:53:02 (5.04 MB/s) - ‘btv1b530620429_f1.png’ saved [77036186/77036186]\n",
      "\n"
     ]
    },
    {
     "name": "stderr",
     "output_type": "stream",
     "text": [
      "251it [23:56, 13.56s/it]"
     ]
    },
    {
     "name": "stdout",
     "output_type": "stream",
     "text": [
      "--2022-07-14 05:53:02--  https://gallica.bnf.fr/iiif/ark:/12148/btv1b53019686w/f1/full/full/0/native.png\n",
      "Resolving gallica.bnf.fr (gallica.bnf.fr)... 194.199.8.11\n",
      "Connecting to gallica.bnf.fr (gallica.bnf.fr)|194.199.8.11|:443... connected.\n",
      "HTTP request sent, awaiting response... 200 200\n",
      "Length: 215934038 (206M) [image/png]\n",
      "Saving to: ‘btv1b53019686w_f1.png’\n",
      "\n",
      "btv1b53019686w_f1.p 100%[===================>] 205.93M  6.77MB/s    in 33s     \n",
      "\n",
      "2022-07-14 05:54:40 (6.21 MB/s) - ‘btv1b53019686w_f1.png’ saved [215934038/215934038]\n",
      "\n"
     ]
    },
    {
     "name": "stderr",
     "output_type": "stream",
     "text": [
      "252it [25:33, 20.59s/it]"
     ]
    },
    {
     "name": "stdout",
     "output_type": "stream",
     "text": [
      "--2022-07-14 05:54:40--  https://gallica.bnf.fr/iiif/ark:/12148/btv1b530297513/f1/full/full/0/native.png\n",
      "Resolving gallica.bnf.fr (gallica.bnf.fr)... 194.199.8.11\n",
      "Connecting to gallica.bnf.fr (gallica.bnf.fr)|194.199.8.11|:443... connected.\n",
      "HTTP request sent, awaiting response... 200 200\n",
      "Length: 148211237 (141M) [image/png]\n",
      "Saving to: ‘btv1b530297513_f1.png’\n",
      "\n",
      "btv1b530297513_f1.p 100%[===================>] 141.34M  6.88MB/s    in 24s     \n",
      "\n",
      "2022-07-14 05:55:55 (5.94 MB/s) - ‘btv1b530297513_f1.png’ saved [148211237/148211237]\n",
      "\n"
     ]
    },
    {
     "name": "stderr",
     "output_type": "stream",
     "text": [
      "253it [26:49, 26.49s/it]"
     ]
    },
    {
     "name": "stdout",
     "output_type": "stream",
     "text": [
      "--2022-07-14 05:55:55--  https://gallica.bnf.fr/iiif/ark:/12148/btv1b53085548j/f1/full/full/0/native.png\n",
      "Resolving gallica.bnf.fr (gallica.bnf.fr)... 194.199.8.11\n",
      "Connecting to gallica.bnf.fr (gallica.bnf.fr)|194.199.8.11|:443... connected.\n",
      "HTTP request sent, awaiting response... 200 200\n",
      "Length: 152613435 (146M) [image/png]\n",
      "Saving to: ‘btv1b53085548j_f1.png’\n",
      "\n",
      "btv1b53085548j_f1.p 100%[===================>] 145.54M  6.83MB/s    in 26s     \n",
      "\n",
      "2022-07-14 05:57:07 (5.67 MB/s) - ‘btv1b53085548j_f1.png’ saved [152613435/152613435]\n",
      "\n"
     ]
    },
    {
     "name": "stderr",
     "output_type": "stream",
     "text": [
      "254it [28:01, 32.54s/it]"
     ]
    },
    {
     "name": "stdout",
     "output_type": "stream",
     "text": [
      "--2022-07-14 05:57:08--  https://gallica.bnf.fr/iiif/ark:/12148/btv1b53085271h/f1/full/full/0/native.png\n",
      "Resolving gallica.bnf.fr (gallica.bnf.fr)... 194.199.8.11\n",
      "Connecting to gallica.bnf.fr (gallica.bnf.fr)|194.199.8.11|:443... connected.\n",
      "HTTP request sent, awaiting response... 200 200\n",
      "Length: 150728982 (144M) [image/png]\n",
      "Saving to: ‘btv1b53085271h_f1.png’\n",
      "\n",
      "btv1b53085271h_f1.p 100%[===================>] 143.75M  6.82MB/s    in 24s     \n",
      "\n",
      "2022-07-14 05:58:10 (5.89 MB/s) - ‘btv1b53085271h_f1.png’ saved [150728982/150728982]\n",
      "\n"
     ]
    },
    {
     "name": "stderr",
     "output_type": "stream",
     "text": [
      "255it [29:04, 37.40s/it]"
     ]
    },
    {
     "name": "stdout",
     "output_type": "stream",
     "text": [
      "--2022-07-14 05:58:11--  https://gallica.bnf.fr/iiif/ark:/12148/btv1b53065121f/f1/full/full/0/native.png\n",
      "Resolving gallica.bnf.fr (gallica.bnf.fr)... 194.199.8.11\n",
      "Connecting to gallica.bnf.fr (gallica.bnf.fr)|194.199.8.11|:443... connected.\n",
      "HTTP request sent, awaiting response... 200 200\n",
      "Length: 88602363 (84M) [image/png]\n",
      "Saving to: ‘btv1b53065121f_f1.png’\n",
      "\n",
      "btv1b53065121f_f1.p 100%[===================>]  84.50M  6.85MB/s    in 12s     \n",
      "\n",
      "2022-07-14 05:59:06 (6.77 MB/s) - ‘btv1b53065121f_f1.png’ saved [88602363/88602363]\n",
      "\n"
     ]
    },
    {
     "name": "stderr",
     "output_type": "stream",
     "text": [
      "256it [30:00, 40.84s/it]"
     ]
    },
    {
     "name": "stdout",
     "output_type": "stream",
     "text": [
      "--2022-07-14 05:59:07--  https://gallica.bnf.fr/iiif/ark:/12148/btv1b530603419/f1/full/full/0/native.png\n",
      "Resolving gallica.bnf.fr (gallica.bnf.fr)... 194.199.8.11\n",
      "Connecting to gallica.bnf.fr (gallica.bnf.fr)|194.199.8.11|:443... connected.\n",
      "HTTP request sent, awaiting response... 200 200\n",
      "Length: 93945114 (90M) [image/png]\n",
      "Saving to: ‘btv1b530603419_f1.png’\n",
      "\n",
      "btv1b530603419_f1.p 100%[===================>]  89.59M  2.70MB/s    in 17s     \n",
      "\n",
      "2022-07-14 06:00:06 (5.17 MB/s) - ‘btv1b530603419_f1.png’ saved [93945114/93945114]\n",
      "\n"
     ]
    },
    {
     "name": "stderr",
     "output_type": "stream",
     "text": [
      "257it [31:00, 44.84s/it]"
     ]
    },
    {
     "name": "stdout",
     "output_type": "stream",
     "text": [
      "--2022-07-14 06:00:06--  https://gallica.bnf.fr/iiif/ark:/12148/btv1b84590341/f1/full/full/0/native.png\n",
      "Resolving gallica.bnf.fr (gallica.bnf.fr)... 194.199.8.11\n",
      "Connecting to gallica.bnf.fr (gallica.bnf.fr)|194.199.8.11|:443... connected.\n",
      "HTTP request sent, awaiting response... 200 200\n",
      "Length: 77495509 (74M) [image/png]\n",
      "Saving to: ‘btv1b84590341_f1.png’\n",
      "\n",
      "btv1b84590341_f1.pn 100%[===================>]  73.91M  6.79MB/s    in 12s     \n",
      "\n",
      "2022-07-14 06:00:57 (6.39 MB/s) - ‘btv1b84590341_f1.png’ saved [77495509/77495509]\n",
      "\n"
     ]
    },
    {
     "name": "stderr",
     "output_type": "stream",
     "text": [
      "258it [31:51, 46.23s/it]"
     ]
    },
    {
     "name": "stdout",
     "output_type": "stream",
     "text": [
      "pass\n",
      "--2022-07-14 06:00:57--  https://gallica.bnf.fr/iiif/ark:/12148/btv1b53061915g/f1/full/full/0/native.png\n",
      "Resolving gallica.bnf.fr (gallica.bnf.fr)... 194.199.8.11\n",
      "Connecting to gallica.bnf.fr (gallica.bnf.fr)|194.199.8.11|:443... connected.\n",
      "HTTP request sent, awaiting response... 200 200\n",
      "Length: 161900751 (154M) [image/png]\n",
      "Saving to: ‘btv1b53061915g_f1.png’\n",
      "\n",
      "btv1b53061915g_f1.p 100%[===================>] 154.40M  6.74MB/s    in 28s     \n",
      "\n",
      "2022-07-14 06:02:29 (5.53 MB/s) - ‘btv1b53061915g_f1.png’ saved [161900751/161900751]\n",
      "\n"
     ]
    },
    {
     "name": "stderr",
     "output_type": "stream",
     "text": [
      "260it [33:22, 46.03s/it]"
     ]
    },
    {
     "name": "stdout",
     "output_type": "stream",
     "text": [
      "--2022-07-14 06:02:29--  https://gallica.bnf.fr/iiif/ark:/12148/btv1b53027600h/f1/full/full/0/native.png\n",
      "Resolving gallica.bnf.fr (gallica.bnf.fr)... 194.199.8.11\n",
      "Connecting to gallica.bnf.fr (gallica.bnf.fr)|194.199.8.11|:443... connected.\n",
      "HTTP request sent, awaiting response... 200 200\n",
      "Length: 146516570 (140M) [image/png]\n",
      "Saving to: ‘btv1b53027600h_f1.png’\n",
      "\n",
      "btv1b53027600h_f1.p 100%[===================>] 139.73M  6.85MB/s    in 24s     \n",
      "\n",
      "2022-07-14 06:03:37 (5.76 MB/s) - ‘btv1b53027600h_f1.png’ saved [146516570/146516570]\n",
      "\n"
     ]
    },
    {
     "name": "stderr",
     "output_type": "stream",
     "text": [
      "261it [34:30, 50.87s/it]"
     ]
    },
    {
     "name": "stdout",
     "output_type": "stream",
     "text": [
      "--2022-07-14 06:03:37--  https://gallica.bnf.fr/iiif/ark:/12148/btv1b8440509m/f1/full/full/0/native.png\n",
      "Resolving gallica.bnf.fr (gallica.bnf.fr)... 194.199.8.11\n",
      "Connecting to gallica.bnf.fr (gallica.bnf.fr)|194.199.8.11|:443... connected.\n",
      "HTTP request sent, awaiting response... 200 200\n",
      "Length: 114335750 (109M) [image/png]\n",
      "Saving to: ‘btv1b8440509m_f1.png’\n",
      "\n",
      "btv1b8440509m_f1.pn 100%[===================>] 109.04M  6.85MB/s    in 16s     \n",
      "\n",
      "2022-07-14 06:05:06 (6.74 MB/s) - ‘btv1b8440509m_f1.png’ saved [114335750/114335750]\n",
      "\n"
     ]
    },
    {
     "name": "stderr",
     "output_type": "stream",
     "text": [
      "262it [36:00, 60.15s/it]"
     ]
    },
    {
     "name": "stdout",
     "output_type": "stream",
     "text": [
      "--2022-07-14 06:05:06--  https://gallica.bnf.fr/iiif/ark:/12148/btv1b53010772z/f1/full/full/0/native.png\n",
      "Resolving gallica.bnf.fr (gallica.bnf.fr)... 194.199.8.11\n",
      "Connecting to gallica.bnf.fr (gallica.bnf.fr)|194.199.8.11|:443... connected.\n",
      "HTTP request sent, awaiting response... 200 200\n",
      "Length: 145010441 (138M) [image/png]\n",
      "Saving to: ‘btv1b53010772z_f1.png’\n",
      "\n",
      "btv1b53010772z_f1.p 100%[===================>] 138.29M  6.83MB/s    in 25s     \n",
      "\n",
      "2022-07-14 06:06:15 (5.59 MB/s) - ‘btv1b53010772z_f1.png’ saved [145010441/145010441]\n",
      "\n"
     ]
    },
    {
     "name": "stderr",
     "output_type": "stream",
     "text": [
      "263it [37:09, 62.35s/it]"
     ]
    },
    {
     "name": "stdout",
     "output_type": "stream",
     "text": [
      "--2022-07-14 06:06:15--  https://gallica.bnf.fr/iiif/ark:/12148/btv1b530877179/f1/full/full/0/native.png\n",
      "Resolving gallica.bnf.fr (gallica.bnf.fr)... 194.199.8.11\n",
      "Connecting to gallica.bnf.fr (gallica.bnf.fr)|194.199.8.11|:443... connected.\n",
      "HTTP request sent, awaiting response... 200 200\n",
      "Length: 22528356 (21M) [image/png]\n",
      "Saving to: ‘btv1b530877179_f1.png’\n",
      "\n",
      "btv1b530877179_f1.p 100%[===================>]  21.48M  6.46MB/s    in 4.1s    \n",
      "\n",
      "2022-07-14 06:06:31 (5.28 MB/s) - ‘btv1b530877179_f1.png’ saved [22528356/22528356]\n",
      "\n"
     ]
    },
    {
     "name": "stderr",
     "output_type": "stream",
     "text": [
      "264it [37:25, 50.01s/it]"
     ]
    },
    {
     "name": "stdout",
     "output_type": "stream",
     "text": [
      "--2022-07-14 06:06:31--  https://gallica.bnf.fr/iiif/ark:/12148/btv1b530857002/f1/full/full/0/native.png\n",
      "Resolving gallica.bnf.fr (gallica.bnf.fr)... 194.199.8.11\n",
      "Connecting to gallica.bnf.fr (gallica.bnf.fr)|194.199.8.11|:443... connected.\n",
      "HTTP request sent, awaiting response... 200 200\n",
      "Length: 109093687 (104M) [image/png]\n",
      "Saving to: ‘btv1b530857002_f1.png’\n",
      "\n",
      "btv1b530857002_f1.p 100%[===================>] 104.04M  6.88MB/s    in 15s     \n",
      "\n",
      "2022-07-14 06:07:19 (6.80 MB/s) - ‘btv1b530857002_f1.png’ saved [109093687/109093687]\n",
      "\n"
     ]
    },
    {
     "name": "stderr",
     "output_type": "stream",
     "text": [
      "265it [38:13, 49.42s/it]"
     ]
    },
    {
     "name": "stdout",
     "output_type": "stream",
     "text": [
      "pass\n",
      "--2022-07-14 06:07:19--  https://gallica.bnf.fr/iiif/ark:/12148/btv1b53025012v/f1/full/full/0/native.png\n",
      "Resolving gallica.bnf.fr (gallica.bnf.fr)... 194.199.8.11\n",
      "Connecting to gallica.bnf.fr (gallica.bnf.fr)|194.199.8.11|:443... connected.\n",
      "HTTP request sent, awaiting response... 200 200\n",
      "Length: 131251162 (125M) [image/png]\n",
      "Saving to: ‘btv1b53025012v_f1.png’\n",
      "\n",
      "btv1b53025012v_f1.p 100%[===================>] 125.17M  6.62MB/s    in 23s     \n",
      "\n",
      "2022-07-14 06:08:18 (5.53 MB/s) - ‘btv1b53025012v_f1.png’ saved [131251162/131251162]\n",
      "\n"
     ]
    },
    {
     "name": "stderr",
     "output_type": "stream",
     "text": [
      "267it [39:12, 40.60s/it]"
     ]
    },
    {
     "name": "stdout",
     "output_type": "stream",
     "text": [
      "--2022-07-14 06:08:18--  https://gallica.bnf.fr/iiif/ark:/12148/btv1b530606150/f1/full/full/0/native.png\n",
      "Resolving gallica.bnf.fr (gallica.bnf.fr)... 194.199.8.11\n",
      "Connecting to gallica.bnf.fr (gallica.bnf.fr)|194.199.8.11|:443... connected.\n",
      "HTTP request sent, awaiting response... 503 Service Unavailable\n",
      "2022-07-14 06:10:18 ERROR 503: Service Unavailable.\n",
      "\n"
     ]
    },
    {
     "name": "stderr",
     "output_type": "stream",
     "text": [
      "268it [41:12, 59.70s/it]"
     ]
    },
    {
     "name": "stdout",
     "output_type": "stream",
     "text": [
      "--2022-07-14 06:10:18--  https://gallica.bnf.fr/iiif/ark:/12148/btv1b53061943t/f1/full/full/0/native.png\n",
      "Resolving gallica.bnf.fr (gallica.bnf.fr)... 194.199.8.11\n",
      "Connecting to gallica.bnf.fr (gallica.bnf.fr)|194.199.8.11|:443... connected.\n",
      "HTTP request sent, awaiting response... 200 200\n",
      "Length: 150896249 (144M) [image/png]\n",
      "Saving to: ‘btv1b53061943t_f1.png’\n",
      "\n",
      "btv1b53061943t_f1.p 100%[===================>] 143.91M  6.78MB/s    in 26s     \n",
      "\n",
      "2022-07-14 06:11:33 (5.59 MB/s) - ‘btv1b53061943t_f1.png’ saved [150896249/150896249]\n",
      "\n"
     ]
    },
    {
     "name": "stderr",
     "output_type": "stream",
     "text": [
      "269it [42:26, 63.50s/it]"
     ]
    },
    {
     "name": "stdout",
     "output_type": "stream",
     "text": [
      "--2022-07-14 06:11:33--  https://gallica.bnf.fr/iiif/ark:/12148/btv1b53060381z/f1/full/full/0/native.png\n",
      "Resolving gallica.bnf.fr (gallica.bnf.fr)... 194.199.8.11\n",
      "Connecting to gallica.bnf.fr (gallica.bnf.fr)|194.199.8.11|:443... connected.\n",
      "HTTP request sent, awaiting response... 200 200\n",
      "Length: 120961992 (115M) [image/png]\n",
      "Saving to: ‘btv1b53060381z_f1.png’\n",
      "\n",
      "btv1b53060381z_f1.p 100%[===================>] 115.36M  6.84MB/s    in 20s     \n",
      "\n",
      "2022-07-14 06:12:40 (5.77 MB/s) - ‘btv1b53060381z_f1.png’ saved [120961992/120961992]\n",
      "\n"
     ]
    },
    {
     "name": "stderr",
     "output_type": "stream",
     "text": [
      "270it [43:33, 64.42s/it]"
     ]
    },
    {
     "name": "stdout",
     "output_type": "stream",
     "text": [
      "--2022-07-14 06:12:40--  https://gallica.bnf.fr/iiif/ark:/12148/btv1b53085534b/f1/full/full/0/native.png\n",
      "Resolving gallica.bnf.fr (gallica.bnf.fr)... 194.199.8.11\n",
      "Connecting to gallica.bnf.fr (gallica.bnf.fr)|194.199.8.11|:443... connected.\n",
      "HTTP request sent, awaiting response... 200 200\n",
      "Length: 159380697 (152M) [image/png]\n",
      "Saving to: ‘btv1b53085534b_f1.png’\n",
      "\n",
      "btv1b53085534b_f1.p 100%[===================>] 152.00M  6.80MB/s    in 25s     \n",
      "\n",
      "2022-07-14 06:13:49 (6.05 MB/s) - ‘btv1b53085534b_f1.png’ saved [159380697/159380697]\n",
      "\n"
     ]
    },
    {
     "name": "stderr",
     "output_type": "stream",
     "text": [
      "271it [44:43, 65.81s/it]"
     ]
    },
    {
     "name": "stdout",
     "output_type": "stream",
     "text": [
      "--2022-07-14 06:13:49--  https://gallica.bnf.fr/iiif/ark:/12148/btv1b530294477/f1/full/full/0/native.png\n",
      "Resolving gallica.bnf.fr (gallica.bnf.fr)... 194.199.8.11\n",
      "Connecting to gallica.bnf.fr (gallica.bnf.fr)|194.199.8.11|:443... connected.\n",
      "HTTP request sent, awaiting response... 200 200\n",
      "Length: 112191530 (107M) [image/png]\n",
      "Saving to: ‘btv1b530294477_f1.png’\n",
      "\n",
      "btv1b530294477_f1.p 100%[===================>] 106.99M  6.68MB/s    in 21s     \n",
      "\n",
      "2022-07-14 06:14:44 (5.05 MB/s) - ‘btv1b530294477_f1.png’ saved [112191530/112191530]\n",
      "\n"
     ]
    },
    {
     "name": "stderr",
     "output_type": "stream",
     "text": [
      "272it [45:38, 62.73s/it]"
     ]
    },
    {
     "name": "stdout",
     "output_type": "stream",
     "text": [
      "--2022-07-14 06:14:44--  https://gallica.bnf.fr/iiif/ark:/12148/btv1b85935132/f1/full/full/0/native.png\n",
      "Resolving gallica.bnf.fr (gallica.bnf.fr)... 194.199.8.11\n",
      "Connecting to gallica.bnf.fr (gallica.bnf.fr)|194.199.8.11|:443... connected.\n",
      "HTTP request sent, awaiting response... 200 200\n",
      "Length: 116134908 (111M) [image/png]\n",
      "Saving to: ‘btv1b85935132_f1.png’\n",
      "\n",
      "btv1b85935132_f1.pn 100%[===================>] 110.75M  6.64MB/s    in 17s     \n",
      "\n",
      "2022-07-14 06:15:49 (6.71 MB/s) - ‘btv1b85935132_f1.png’ saved [116134908/116134908]\n",
      "\n"
     ]
    },
    {
     "name": "stderr",
     "output_type": "stream",
     "text": [
      "273it [46:43, 63.35s/it]"
     ]
    },
    {
     "name": "stdout",
     "output_type": "stream",
     "text": [
      "pass\n",
      "--2022-07-14 06:15:49--  https://gallica.bnf.fr/iiif/ark:/12148/btv1b53027680t/f1/full/full/0/native.png\n",
      "Resolving gallica.bnf.fr (gallica.bnf.fr)... 194.199.8.11\n",
      "Connecting to gallica.bnf.fr (gallica.bnf.fr)|194.199.8.11|:443... connected.\n",
      "HTTP request sent, awaiting response... 200 200\n",
      "Length: 108201389 (103M) [image/png]\n",
      "Saving to: ‘btv1b53027680t_f1.png’\n",
      "\n",
      "btv1b53027680t_f1.p 100%[===================>] 103.19M  6.83MB/s    in 19s     \n",
      "\n",
      "2022-07-14 06:16:41 (5.37 MB/s) - ‘btv1b53027680t_f1.png’ saved [108201389/108201389]\n",
      "\n"
     ]
    },
    {
     "name": "stderr",
     "output_type": "stream",
     "text": [
      "275it [47:35, 46.61s/it]"
     ]
    },
    {
     "name": "stdout",
     "output_type": "stream",
     "text": [
      "pass\n",
      "--2022-07-14 06:16:42--  https://gallica.bnf.fr/iiif/ark:/12148/btv1b53085193v/f1/full/full/0/native.png\n",
      "Resolving gallica.bnf.fr (gallica.bnf.fr)... 194.199.8.11\n",
      "Connecting to gallica.bnf.fr (gallica.bnf.fr)|194.199.8.11|:443... connected.\n",
      "HTTP request sent, awaiting response... 200 200\n",
      "Length: 265492177 (253M) [image/png]\n",
      "Saving to: ‘btv1b53085193v_f1.png’\n",
      "\n",
      "btv1b53085193v_f1.p 100%[===================>] 253.19M  6.79MB/s    in 42s     \n",
      "\n",
      "2022-07-14 06:18:34 (6.03 MB/s) - ‘btv1b53085193v_f1.png’ saved [265492177/265492177]\n",
      "\n"
     ]
    },
    {
     "name": "stderr",
     "output_type": "stream",
     "text": [
      "277it [49:28, 50.41s/it]"
     ]
    },
    {
     "name": "stdout",
     "output_type": "stream",
     "text": [
      "--2022-07-14 06:18:34--  https://gallica.bnf.fr/iiif/ark:/12148/btv1b530603938/f1/full/full/0/native.png\n",
      "Resolving gallica.bnf.fr (gallica.bnf.fr)... 194.199.8.11\n",
      "Connecting to gallica.bnf.fr (gallica.bnf.fr)|194.199.8.11|:443... connected.\n",
      "HTTP request sent, awaiting response... 200 200\n",
      "Length: 129068547 (123M) [image/png]\n",
      "Saving to: ‘btv1b530603938_f1.png’\n",
      "\n",
      "btv1b530603938_f1.p 100%[===================>] 123.09M  6.81MB/s    in 21s     \n",
      "\n",
      "2022-07-14 06:19:35 (5.78 MB/s) - ‘btv1b530603938_f1.png’ saved [129068547/129068547]\n",
      "\n"
     ]
    },
    {
     "name": "stderr",
     "output_type": "stream",
     "text": [
      "278it [50:29, 52.80s/it]"
     ]
    },
    {
     "name": "stdout",
     "output_type": "stream",
     "text": [
      "--2022-07-14 06:19:36--  https://gallica.bnf.fr/iiif/ark:/12148/btv1b53085594t/f1/full/full/0/native.png\n",
      "Resolving gallica.bnf.fr (gallica.bnf.fr)... 194.199.8.11\n",
      "Connecting to gallica.bnf.fr (gallica.bnf.fr)|194.199.8.11|:443... connected.\n",
      "HTTP request sent, awaiting response... 503 Service Unavailable\n",
      "2022-07-14 06:21:36 ERROR 503: Service Unavailable.\n",
      "\n"
     ]
    },
    {
     "name": "stderr",
     "output_type": "stream",
     "text": [
      "279it [52:29, 68.88s/it]"
     ]
    },
    {
     "name": "stdout",
     "output_type": "stream",
     "text": [
      "--2022-07-14 06:21:36--  https://gallica.bnf.fr/iiif/ark:/12148/btv1b53085516d/f1/full/full/0/native.png\n",
      "Resolving gallica.bnf.fr (gallica.bnf.fr)... 194.199.8.11\n",
      "Connecting to gallica.bnf.fr (gallica.bnf.fr)|194.199.8.11|:443... connected.\n",
      "HTTP request sent, awaiting response... 200 200\n",
      "Length: 153290411 (146M) [image/png]\n",
      "Saving to: ‘btv1b53085516d_f1.png’\n",
      "\n",
      "btv1b53085516d_f1.p 100%[===================>] 146.19M  6.74MB/s    in 22s     \n",
      "\n",
      "2022-07-14 06:22:50 (6.58 MB/s) - ‘btv1b53085516d_f1.png’ saved [153290411/153290411]\n",
      "\n"
     ]
    },
    {
     "name": "stderr",
     "output_type": "stream",
     "text": [
      "280it [53:44, 70.33s/it]"
     ]
    },
    {
     "name": "stdout",
     "output_type": "stream",
     "text": [
      "pass\n",
      "--2022-07-14 06:22:50--  https://gallica.bnf.fr/iiif/ark:/12148/btv1b53062243h/f1/full/full/0/native.png\n",
      "Resolving gallica.bnf.fr (gallica.bnf.fr)... 194.199.8.11\n",
      "Connecting to gallica.bnf.fr (gallica.bnf.fr)|194.199.8.11|:443... connected.\n",
      "HTTP request sent, awaiting response... 200 200\n",
      "Length: 113298525 (108M) [image/png]\n",
      "Saving to: ‘btv1b53062243h_f1.png’\n",
      "\n",
      "btv1b53062243h_f1.p 100%[===================>] 108.05M  6.66MB/s    in 19s     \n",
      "\n",
      "2022-07-14 06:23:53 (5.67 MB/s) - ‘btv1b53062243h_f1.png’ saved [113298525/113298525]\n",
      "\n"
     ]
    },
    {
     "name": "stderr",
     "output_type": "stream",
     "text": [
      "282it [54:47, 53.97s/it]"
     ]
    },
    {
     "name": "stdout",
     "output_type": "stream",
     "text": [
      "--2022-07-14 06:23:53--  https://gallica.bnf.fr/iiif/ark:/12148/btv1b53085528q/f1/full/full/0/native.png\n",
      "Resolving gallica.bnf.fr (gallica.bnf.fr)... 194.199.8.11\n",
      "Connecting to gallica.bnf.fr (gallica.bnf.fr)|194.199.8.11|:443... connected.\n",
      "HTTP request sent, awaiting response... 200 200\n",
      "Length: 174203738 (166M) [image/png]\n",
      "Saving to: ‘btv1b53085528q_f1.png’\n",
      "\n",
      "btv1b53085528q_f1.p 100%[===================>] 166.13M  6.82MB/s    in 27s     \n",
      "\n",
      "2022-07-14 06:25:01 (6.08 MB/s) - ‘btv1b53085528q_f1.png’ saved [174203738/174203738]\n",
      "\n"
     ]
    },
    {
     "name": "stderr",
     "output_type": "stream",
     "text": [
      "283it [55:54, 57.06s/it]"
     ]
    },
    {
     "name": "stdout",
     "output_type": "stream",
     "text": [
      "--2022-07-14 06:25:01--  https://gallica.bnf.fr/iiif/ark:/12148/btv1b530855473/f1/full/full/0/native.png\n",
      "Resolving gallica.bnf.fr (gallica.bnf.fr)... 194.199.8.11\n",
      "Connecting to gallica.bnf.fr (gallica.bnf.fr)|194.199.8.11|:443... connected.\n",
      "HTTP request sent, awaiting response... 200 200\n",
      "Length: 156526490 (149M) [image/png]\n",
      "Saving to: ‘btv1b530855473_f1.png’\n",
      "\n",
      "btv1b530855473_f1.p 100%[===================>] 149.27M  6.83MB/s    in 25s     \n",
      "\n",
      "2022-07-14 06:26:26 (6.02 MB/s) - ‘btv1b530855473_f1.png’ saved [156526490/156526490]\n",
      "\n"
     ]
    },
    {
     "name": "stderr",
     "output_type": "stream",
     "text": [
      "284it [57:20, 64.22s/it]"
     ]
    },
    {
     "name": "stdout",
     "output_type": "stream",
     "text": [
      "--2022-07-14 06:26:27--  https://gallica.bnf.fr/iiif/ark:/12148/btv1b530855295/f1/full/full/0/native.png\n",
      "Resolving gallica.bnf.fr (gallica.bnf.fr)... 194.199.8.11\n",
      "Connecting to gallica.bnf.fr (gallica.bnf.fr)|194.199.8.11|:443... connected.\n",
      "HTTP request sent, awaiting response... 200 200\n",
      "Length: 168050351 (160M) [image/png]\n",
      "Saving to: ‘btv1b530855295_f1.png’\n",
      "\n",
      "btv1b530855295_f1.p 100%[===================>] 160.26M  6.88MB/s    in 28s     \n",
      "\n",
      "2022-07-14 06:27:41 (5.81 MB/s) - ‘btv1b530855295_f1.png’ saved [168050351/168050351]\n",
      "\n"
     ]
    },
    {
     "name": "stderr",
     "output_type": "stream",
     "text": [
      "285it [58:35, 66.89s/it]"
     ]
    },
    {
     "name": "stdout",
     "output_type": "stream",
     "text": [
      "--2022-07-14 06:27:41--  https://gallica.bnf.fr/iiif/ark:/12148/btv1b550111195/f1/full/full/0/native.png\n",
      "Resolving gallica.bnf.fr (gallica.bnf.fr)... 194.199.8.11\n",
      "Connecting to gallica.bnf.fr (gallica.bnf.fr)|194.199.8.11|:443... connected.\n",
      "HTTP request sent, awaiting response... 200 200\n",
      "Length: 70538316 (67M) [image/png]\n",
      "Saving to: ‘btv1b550111195_f1.png’\n",
      "\n",
      "btv1b550111195_f1.p 100%[===================>]  67.27M  6.75MB/s    in 11s     \n",
      "\n",
      "2022-07-14 06:28:24 (6.30 MB/s) - ‘btv1b550111195_f1.png’ saved [70538316/70538316]\n",
      "\n"
     ]
    },
    {
     "name": "stderr",
     "output_type": "stream",
     "text": [
      "286it [59:18, 60.56s/it]"
     ]
    },
    {
     "name": "stdout",
     "output_type": "stream",
     "text": [
      "--2022-07-14 06:28:25--  https://gallica.bnf.fr/iiif/ark:/12148/btv1b53085181j/f1/full/full/0/native.png\n",
      "Resolving gallica.bnf.fr (gallica.bnf.fr)... 194.199.8.11\n",
      "Connecting to gallica.bnf.fr (gallica.bnf.fr)|194.199.8.11|:443... connected.\n",
      "HTTP request sent, awaiting response... 200 200\n",
      "Length: 154933044 (148M) [image/png]\n",
      "Saving to: ‘btv1b53085181j_f1.png’\n",
      "\n",
      "btv1b53085181j_f1.p 100%[===================>] 147.75M  6.84MB/s    in 27s     \n",
      "\n",
      "2022-07-14 06:29:37 (5.52 MB/s) - ‘btv1b53085181j_f1.png’ saved [154933044/154933044]\n",
      "\n"
     ]
    },
    {
     "name": "stderr",
     "output_type": "stream",
     "text": [
      "287it [1:00:31, 63.99s/it]"
     ]
    },
    {
     "name": "stdout",
     "output_type": "stream",
     "text": [
      "--2022-07-14 06:29:37--  https://gallica.bnf.fr/iiif/ark:/12148/btv1b84394358/f1/full/full/0/native.png\n",
      "Resolving gallica.bnf.fr (gallica.bnf.fr)... 194.199.8.11\n",
      "Connecting to gallica.bnf.fr (gallica.bnf.fr)|194.199.8.11|:443... connected.\n",
      "HTTP request sent, awaiting response... 200 200\n",
      "Length: 67820858 (65M) [image/png]\n",
      "Saving to: ‘btv1b84394358_f1.png’\n",
      "\n",
      "btv1b84394358_f1.pn 100%[===================>]  64.68M  6.83MB/s    in 9.5s    \n",
      "\n",
      "2022-07-14 06:30:40 (6.78 MB/s) - ‘btv1b84394358_f1.png’ saved [67820858/67820858]\n",
      "\n"
     ]
    },
    {
     "name": "stderr",
     "output_type": "stream",
     "text": [
      "288it [1:01:34, 63.62s/it]"
     ]
    },
    {
     "name": "stdout",
     "output_type": "stream",
     "text": [
      "--2022-07-14 06:30:40--  https://gallica.bnf.fr/iiif/ark:/12148/btv1b8444558b/f1/full/full/0/native.png\n",
      "Resolving gallica.bnf.fr (gallica.bnf.fr)... 194.199.8.11\n",
      "Connecting to gallica.bnf.fr (gallica.bnf.fr)|194.199.8.11|:443... connected.\n",
      "HTTP request sent, awaiting response... 200 200\n",
      "Length: 46128535 (44M) [image/png]\n",
      "Saving to: ‘btv1b8444558b_f1.png’\n",
      "\n",
      "btv1b8444558b_f1.pn 100%[===================>]  43.99M  6.62MB/s    in 7.3s    \n",
      "\n",
      "2022-07-14 06:31:18 (6.01 MB/s) - ‘btv1b8444558b_f1.png’ saved [46128535/46128535]\n",
      "\n"
     ]
    },
    {
     "name": "stderr",
     "output_type": "stream",
     "text": [
      "289it [1:02:11, 56.12s/it]"
     ]
    },
    {
     "name": "stdout",
     "output_type": "stream",
     "text": [
      "--2022-07-14 06:31:18--  https://gallica.bnf.fr/iiif/ark:/12148/btv1b84458682/f1/full/full/0/native.png\n",
      "Resolving gallica.bnf.fr (gallica.bnf.fr)... 194.199.8.11\n",
      "Connecting to gallica.bnf.fr (gallica.bnf.fr)|194.199.8.11|:443... connected.\n",
      "HTTP request sent, awaiting response... 200 200\n",
      "Length: 125098692 (119M) [image/png]\n",
      "Saving to: ‘btv1b84458682_f1.png’\n",
      "\n",
      "btv1b84458682_f1.pn 100%[===================>] 119.30M  6.85MB/s    in 22s     \n",
      "\n",
      "2022-07-14 06:32:39 (5.36 MB/s) - ‘btv1b84458682_f1.png’ saved [125098692/125098692]\n",
      "\n"
     ]
    },
    {
     "name": "stderr",
     "output_type": "stream",
     "text": [
      "290it [1:03:33, 63.60s/it]"
     ]
    },
    {
     "name": "stdout",
     "output_type": "stream",
     "text": [
      "--2022-07-14 06:32:40--  https://gallica.bnf.fr/iiif/ark:/12148/btv1b84458682/f2/full/full/0/native.png\n",
      "Resolving gallica.bnf.fr (gallica.bnf.fr)... 194.199.8.11\n",
      "Connecting to gallica.bnf.fr (gallica.bnf.fr)|194.199.8.11|:443... connected.\n",
      "HTTP request sent, awaiting response... 200 200\n",
      "Length: 146563961 (140M) [image/png]\n",
      "Saving to: ‘btv1b84458682_f2.png’\n",
      "\n",
      "btv1b84458682_f2.pn 100%[===================>] 139.77M  6.85MB/s    in 24s     \n",
      "\n",
      "2022-07-14 06:33:43 (5.94 MB/s) - ‘btv1b84458682_f2.png’ saved [146563961/146563961]\n",
      "\n"
     ]
    },
    {
     "name": "stderr",
     "output_type": "stream",
     "text": [
      "291it [1:04:36, 63.45s/it]"
     ]
    },
    {
     "name": "stdout",
     "output_type": "stream",
     "text": [
      "--2022-07-14 06:33:43--  https://gallica.bnf.fr/iiif/ark:/12148/btv1b530997787/f1/full/full/0/native.png\n",
      "Resolving gallica.bnf.fr (gallica.bnf.fr)... 194.199.8.11\n",
      "Connecting to gallica.bnf.fr (gallica.bnf.fr)|194.199.8.11|:443... connected.\n",
      "HTTP request sent, awaiting response... 200 200\n",
      "Length: 137018941 (131M) [image/png]\n",
      "Saving to: ‘btv1b530997787_f1.png’\n",
      "\n",
      "btv1b530997787_f1.p 100%[===================>] 130.67M  6.71MB/s    in 23s     \n",
      "\n",
      "2022-07-14 06:34:53 (5.61 MB/s) - ‘btv1b530997787_f1.png’ saved [137018941/137018941]\n",
      "\n"
     ]
    },
    {
     "name": "stderr",
     "output_type": "stream",
     "text": [
      "292it [1:05:47, 65.67s/it]"
     ]
    },
    {
     "name": "stdout",
     "output_type": "stream",
     "text": [
      "--2022-07-14 06:34:54--  https://gallica.bnf.fr/iiif/ark:/12148/btv1b8445099v/f1/full/full/0/native.png\n",
      "Resolving gallica.bnf.fr (gallica.bnf.fr)... 194.199.8.11\n",
      "Connecting to gallica.bnf.fr (gallica.bnf.fr)|194.199.8.11|:443... connected.\n",
      "HTTP request sent, awaiting response... 200 200\n",
      "Length: 113619395 (108M) [image/png]\n",
      "Saving to: ‘btv1b8445099v_f1.png’\n",
      "\n",
      "btv1b8445099v_f1.pn 100%[===================>] 108.36M  6.79MB/s    in 17s     \n",
      "\n",
      "2022-07-14 06:36:03 (6.46 MB/s) - ‘btv1b8445099v_f1.png’ saved [113619395/113619395]\n",
      "\n"
     ]
    },
    {
     "name": "stderr",
     "output_type": "stream",
     "text": [
      "293it [1:06:56, 66.68s/it]"
     ]
    },
    {
     "name": "stdout",
     "output_type": "stream",
     "text": [
      "pass\n",
      "--2022-07-14 06:36:03--  https://gallica.bnf.fr/iiif/ark:/12148/btv1b8443088f/f1/full/full/0/native.png\n",
      "Resolving gallica.bnf.fr (gallica.bnf.fr)... 194.199.8.11\n",
      "Connecting to gallica.bnf.fr (gallica.bnf.fr)|194.199.8.11|:443... connected.\n",
      "HTTP request sent, awaiting response... 200 200\n",
      "Length: 61090637 (58M) [image/png]\n",
      "Saving to: ‘btv1b8443088f_f1.png’\n",
      "\n",
      "btv1b8443088f_f1.pn 100%[===================>]  58.26M  6.80MB/s    in 9.4s    \n",
      "\n",
      "2022-07-14 06:36:47 (6.20 MB/s) - ‘btv1b8443088f_f1.png’ saved [61090637/61090637]\n",
      "\n"
     ]
    },
    {
     "name": "stderr",
     "output_type": "stream",
     "text": [
      "295it [1:07:40, 46.17s/it]"
     ]
    },
    {
     "name": "stdout",
     "output_type": "stream",
     "text": [
      "--2022-07-14 06:36:47--  https://gallica.bnf.fr/iiif/ark:/12148/btv1b8443088f/f2/full/full/0/native.png\n",
      "Resolving gallica.bnf.fr (gallica.bnf.fr)... 194.199.8.11\n",
      "Connecting to gallica.bnf.fr (gallica.bnf.fr)|194.199.8.11|:443... connected.\n",
      "HTTP request sent, awaiting response... 200 200\n",
      "Length: 64561440 (62M) [image/png]\n",
      "Saving to: ‘btv1b8443088f_f2.png’\n",
      "\n",
      "btv1b8443088f_f2.pn 100%[===================>]  61.57M  6.80MB/s    in 14s     \n",
      "\n",
      "2022-07-14 06:37:23 (4.52 MB/s) - ‘btv1b8443088f_f2.png’ saved [64561440/64561440]\n",
      "\n"
     ]
    },
    {
     "name": "stderr",
     "output_type": "stream",
     "text": [
      "296it [1:08:17, 43.74s/it]"
     ]
    },
    {
     "name": "stdout",
     "output_type": "stream",
     "text": [
      "pass\n",
      "--2022-07-14 06:37:23--  https://gallica.bnf.fr/iiif/ark:/12148/btv1b8445735b/f1/full/full/0/native.png\n",
      "Resolving gallica.bnf.fr (gallica.bnf.fr)... 194.199.8.11\n",
      "Connecting to gallica.bnf.fr (gallica.bnf.fr)|194.199.8.11|:443... connected.\n",
      "HTTP request sent, awaiting response... 200 200\n",
      "Length: 47147377 (45M) [image/png]\n",
      "Saving to: ‘btv1b8445735b_f1.png’\n",
      "\n",
      "btv1b8445735b_f1.pn 100%[===================>]  44.96M  6.68MB/s    in 7.7s    \n",
      "\n",
      "2022-07-14 06:37:53 (5.87 MB/s) - ‘btv1b8445735b_f1.png’ saved [47147377/47147377]\n",
      "\n"
     ]
    },
    {
     "name": "stderr",
     "output_type": "stream",
     "text": [
      "298it [1:08:47, 31.89s/it]"
     ]
    },
    {
     "name": "stdout",
     "output_type": "stream",
     "text": [
      "--2022-07-14 06:37:53--  https://gallica.bnf.fr/iiif/ark:/12148/btv1b530852096/f1/full/full/0/native.png\n",
      "Resolving gallica.bnf.fr (gallica.bnf.fr)... 194.199.8.11\n",
      "Connecting to gallica.bnf.fr (gallica.bnf.fr)|194.199.8.11|:443... connected.\n",
      "HTTP request sent, awaiting response... 200 200\n",
      "Length: 154883714 (148M) [image/png]\n",
      "Saving to: ‘btv1b530852096_f1.png’\n",
      "\n",
      "btv1b530852096_f1.p 100%[===================>] 147.71M  6.83MB/s    in 27s     \n",
      "\n",
      "2022-07-14 06:39:00 (5.47 MB/s) - ‘btv1b530852096_f1.png’ saved [154883714/154883714]\n",
      "\n"
     ]
    },
    {
     "name": "stderr",
     "output_type": "stream",
     "text": [
      "299it [1:09:54, 39.89s/it]"
     ]
    },
    {
     "name": "stdout",
     "output_type": "stream",
     "text": [
      "--2022-07-14 06:39:00--  https://gallica.bnf.fr/iiif/ark:/12148/btv1b53029856q/f1/full/full/0/native.png\n",
      "Resolving gallica.bnf.fr (gallica.bnf.fr)... 194.199.8.11\n",
      "Connecting to gallica.bnf.fr (gallica.bnf.fr)|194.199.8.11|:443... connected.\n",
      "HTTP request sent, awaiting response... 200 200\n",
      "Length: 157306179 (150M) [image/png]\n",
      "Saving to: ‘btv1b53029856q_f1.png’\n",
      "\n",
      "btv1b53029856q_f1.p 100%[===================>] 150.02M  6.81MB/s    in 27s     \n",
      "\n",
      "2022-07-14 06:40:01 (5.51 MB/s) - ‘btv1b53029856q_f1.png’ saved [157306179/157306179]\n",
      "\n"
     ]
    },
    {
     "name": "stderr",
     "output_type": "stream",
     "text": [
      "300it [1:10:55, 45.13s/it]"
     ]
    },
    {
     "name": "stdout",
     "output_type": "stream",
     "text": [
      "--2022-07-14 06:40:01--  https://gallica.bnf.fr/iiif/ark:/12148/btv1b8440647n/f1/full/full/0/native.png\n",
      "Resolving gallica.bnf.fr (gallica.bnf.fr)... 194.199.8.11\n",
      "Connecting to gallica.bnf.fr (gallica.bnf.fr)|194.199.8.11|:443... connected.\n",
      "HTTP request sent, awaiting response... 200 200\n",
      "Length: 34164327 (33M) [image/png]\n",
      "Saving to: ‘btv1b8440647n_f1.png’\n",
      "\n",
      "btv1b8440647n_f1.pn 100%[===================>]  32.58M  6.84MB/s    in 5.5s    \n",
      "\n",
      "2022-07-14 06:40:27 (5.92 MB/s) - ‘btv1b8440647n_f1.png’ saved [34164327/34164327]\n",
      "\n"
     ]
    },
    {
     "name": "stderr",
     "output_type": "stream",
     "text": [
      "301it [1:11:20, 39.97s/it]"
     ]
    },
    {
     "name": "stdout",
     "output_type": "stream",
     "text": [
      "--2022-07-14 06:40:27--  https://gallica.bnf.fr/iiif/ark:/12148/btv1b53062273r/f1/full/full/0/native.png\n",
      "Resolving gallica.bnf.fr (gallica.bnf.fr)... 194.199.8.11\n",
      "Connecting to gallica.bnf.fr (gallica.bnf.fr)|194.199.8.11|:443... connected.\n",
      "HTTP request sent, awaiting response... 200 200\n",
      "Length: 125155694 (119M) [image/png]\n",
      "Saving to: ‘btv1b53062273r_f1.png’\n",
      "\n",
      "btv1b53062273r_f1.p 100%[===================>] 119.36M  6.82MB/s    in 18s     \n",
      "\n",
      "2022-07-14 06:41:27 (6.54 MB/s) - ‘btv1b53062273r_f1.png’ saved [125155694/125155694]\n",
      "\n"
     ]
    },
    {
     "name": "stderr",
     "output_type": "stream",
     "text": [
      "302it [1:12:21, 45.64s/it]"
     ]
    },
    {
     "name": "stdout",
     "output_type": "stream",
     "text": [
      "--2022-07-14 06:41:28--  https://gallica.bnf.fr/iiif/ark:/12148/btv1b530068310/f1/full/full/0/native.png\n",
      "Resolving gallica.bnf.fr (gallica.bnf.fr)... 194.199.8.11\n",
      "Connecting to gallica.bnf.fr (gallica.bnf.fr)|194.199.8.11|:443... connected.\n",
      "HTTP request sent, awaiting response... 503 Service Unavailable\n",
      "2022-07-14 06:43:28 ERROR 503: Service Unavailable.\n",
      "\n"
     ]
    },
    {
     "name": "stderr",
     "output_type": "stream",
     "text": [
      "303it [1:14:21, 66.46s/it]"
     ]
    },
    {
     "name": "stdout",
     "output_type": "stream",
     "text": [
      "pass\n",
      "--2022-07-14 06:43:28--  https://gallica.bnf.fr/iiif/ark:/12148/btv1b53087902d/f1/full/full/0/native.png\n",
      "Resolving gallica.bnf.fr (gallica.bnf.fr)... 194.199.8.11\n",
      "Connecting to gallica.bnf.fr (gallica.bnf.fr)|194.199.8.11|:443... connected.\n",
      "HTTP request sent, awaiting response... 200 200\n",
      "Length: 72283031 (69M) [image/png]\n",
      "Saving to: ‘btv1b53087902d_f1.png’\n",
      "\n",
      "btv1b53087902d_f1.p 100%[===================>]  68.93M  6.85MB/s    in 14s     \n",
      "\n",
      "2022-07-14 06:44:13 (4.88 MB/s) - ‘btv1b53087902d_f1.png’ saved [72283031/72283031]\n",
      "\n"
     ]
    },
    {
     "name": "stderr",
     "output_type": "stream",
     "text": [
      "305it [1:15:07, 47.10s/it]"
     ]
    },
    {
     "name": "stdout",
     "output_type": "stream",
     "text": [
      "--2022-07-14 06:44:13--  https://gallica.bnf.fr/iiif/ark:/12148/btv1b53085223b/f1/full/full/0/native.png\n",
      "Resolving gallica.bnf.fr (gallica.bnf.fr)... 194.199.8.11\n",
      "Connecting to gallica.bnf.fr (gallica.bnf.fr)|194.199.8.11|:443... connected.\n",
      "HTTP request sent, awaiting response... 200 200\n",
      "Length: 144077835 (137M) [image/png]\n",
      "Saving to: ‘btv1b53085223b_f1.png’\n",
      "\n",
      "btv1b53085223b_f1.p 100%[===================>] 137.40M  6.84MB/s    in 25s     \n",
      "\n",
      "2022-07-14 06:45:27 (5.58 MB/s) - ‘btv1b53085223b_f1.png’ saved [144077835/144077835]\n",
      "\n"
     ]
    },
    {
     "name": "stderr",
     "output_type": "stream",
     "text": [
      "306it [1:16:21, 53.46s/it]"
     ]
    },
    {
     "name": "stdout",
     "output_type": "stream",
     "text": [
      "--2022-07-14 06:45:27--  https://gallica.bnf.fr/iiif/ark:/12148/btv1b53066696t/f1/full/full/0/native.png\n",
      "Resolving gallica.bnf.fr (gallica.bnf.fr)... 194.199.8.11\n",
      "Connecting to gallica.bnf.fr (gallica.bnf.fr)|194.199.8.11|:443... connected.\n",
      "HTTP request sent, awaiting response... 200 200\n",
      "Length: 155855874 (149M) [image/png]\n",
      "Saving to: ‘btv1b53066696t_f1.png’\n",
      "\n",
      "btv1b53066696t_f1.p 100%[===================>] 148.64M  6.86MB/s    in 26s     \n",
      "\n",
      "2022-07-14 06:47:15 (5.75 MB/s) - ‘btv1b53066696t_f1.png’ saved [155855874/155855874]\n",
      "\n"
     ]
    },
    {
     "name": "stderr",
     "output_type": "stream",
     "text": [
      "307it [1:18:09, 67.42s/it]"
     ]
    },
    {
     "name": "stdout",
     "output_type": "stream",
     "text": [
      "--2022-07-14 06:47:15--  https://gallica.bnf.fr/iiif/ark:/12148/btv1b53085165h/f1/full/full/0/native.png\n",
      "Resolving gallica.bnf.fr (gallica.bnf.fr)... 194.199.8.11\n",
      "Connecting to gallica.bnf.fr (gallica.bnf.fr)|194.199.8.11|:443... connected.\n",
      "HTTP request sent, awaiting response... 200 200\n",
      "Length: 154706192 (148M) [image/png]\n",
      "Saving to: ‘btv1b53085165h_f1.png’\n",
      "\n",
      "btv1b53085165h_f1.p 100%[===================>] 147.54M  6.79MB/s    in 26s     \n",
      "\n",
      "2022-07-14 06:48:28 (5.69 MB/s) - ‘btv1b53085165h_f1.png’ saved [154706192/154706192]\n",
      "\n"
     ]
    },
    {
     "name": "stderr",
     "output_type": "stream",
     "text": [
      "308it [1:19:22, 69.00s/it]"
     ]
    },
    {
     "name": "stdout",
     "output_type": "stream",
     "text": [
      "pass\n",
      "--2022-07-14 06:48:28--  https://gallica.bnf.fr/iiif/ark:/12148/btv1b8494294j/f1/full/full/0/native.png\n",
      "Resolving gallica.bnf.fr (gallica.bnf.fr)... 194.199.8.11\n",
      "Connecting to gallica.bnf.fr (gallica.bnf.fr)|194.199.8.11|:443... connected.\n",
      "HTTP request sent, awaiting response... 200 200\n",
      "Length: 89205252 (85M) [image/png]\n",
      "Saving to: ‘btv1b8494294j_f1.png’\n",
      "\n",
      "btv1b8494294j_f1.pn 100%[===================>]  85.07M  6.83MB/s    in 13s     \n",
      "\n",
      "2022-07-14 06:49:44 (6.37 MB/s) - ‘btv1b8494294j_f1.png’ saved [89205252/89205252]\n",
      "\n"
     ]
    },
    {
     "name": "stderr",
     "output_type": "stream",
     "text": [
      "310it [1:20:37, 55.43s/it]"
     ]
    },
    {
     "name": "stdout",
     "output_type": "stream",
     "text": [
      "--2022-07-14 06:49:44--  https://gallica.bnf.fr/iiif/ark:/12148/btv1b530855278/f1/full/full/0/native.png\n",
      "Resolving gallica.bnf.fr (gallica.bnf.fr)... 194.199.8.11\n",
      "Connecting to gallica.bnf.fr (gallica.bnf.fr)|194.199.8.11|:443... connected.\n",
      "HTTP request sent, awaiting response... 200 200\n",
      "Length: 148132825 (141M) [image/png]\n",
      "Saving to: ‘btv1b530855278_f1.png’\n",
      "\n",
      "btv1b530855278_f1.p 100%[===================>] 141.27M  6.85MB/s    in 25s     \n",
      "\n",
      "2022-07-14 06:51:08 (5.57 MB/s) - ‘btv1b530855278_f1.png’ saved [148132825/148132825]\n",
      "\n"
     ]
    },
    {
     "name": "stderr",
     "output_type": "stream",
     "text": [
      "311it [1:22:01, 62.18s/it]"
     ]
    },
    {
     "name": "stdout",
     "output_type": "stream",
     "text": [
      "pass\n",
      "--2022-07-14 06:51:08--  https://gallica.bnf.fr/iiif/ark:/12148/btv1b53085184w/f1/full/full/0/native.png\n",
      "Resolving gallica.bnf.fr (gallica.bnf.fr)... 194.199.8.11\n",
      "Connecting to gallica.bnf.fr (gallica.bnf.fr)|194.199.8.11|:443... connected.\n",
      "HTTP request sent, awaiting response... 200 200\n",
      "Length: 159718266 (152M) [image/png]\n",
      "Saving to: ‘btv1b53085184w_f1.png’\n",
      "\n",
      "btv1b53085184w_f1.p 100%[===================>] 152.32M  6.82MB/s    in 26s     \n",
      "\n",
      "2022-07-14 06:52:15 (5.76 MB/s) - ‘btv1b53085184w_f1.png’ saved [159718266/159718266]\n",
      "\n"
     ]
    },
    {
     "name": "stderr",
     "output_type": "stream",
     "text": [
      "313it [1:23:09, 50.74s/it]"
     ]
    },
    {
     "name": "stdout",
     "output_type": "stream",
     "text": [
      "--2022-07-14 06:52:15--  https://gallica.bnf.fr/iiif/ark:/12148/btv1b530852507/f1/full/full/0/native.png\n",
      "Resolving gallica.bnf.fr (gallica.bnf.fr)... 194.199.8.11\n",
      "Connecting to gallica.bnf.fr (gallica.bnf.fr)|194.199.8.11|:443... connected.\n",
      "HTTP request sent, awaiting response... 200 200\n",
      "Length: 221031240 (211M) [image/png]\n",
      "Saving to: ‘btv1b530852507_f1.png’\n",
      "\n",
      "btv1b530852507_f1.p 100%[===================>] 210.79M  6.77MB/s    in 36s     \n",
      "\n",
      "2022-07-14 06:54:06 (5.85 MB/s) - ‘btv1b530852507_f1.png’ saved [221031240/221031240]\n",
      "\n"
     ]
    },
    {
     "name": "stderr",
     "output_type": "stream",
     "text": [
      "314it [1:25:00, 64.22s/it]"
     ]
    },
    {
     "name": "stdout",
     "output_type": "stream",
     "text": [
      "--2022-07-14 06:54:06--  https://gallica.bnf.fr/iiif/ark:/12148/btv1b53087743r/f1/full/full/0/native.png\n",
      "Resolving gallica.bnf.fr (gallica.bnf.fr)... 194.199.8.11\n",
      "Connecting to gallica.bnf.fr (gallica.bnf.fr)|194.199.8.11|:443... connected.\n",
      "HTTP request sent, awaiting response... 200 200\n",
      "Length: 134368873 (128M) [image/png]\n",
      "Saving to: ‘btv1b53087743r_f1.png’\n",
      "\n",
      "btv1b53087743r_f1.p 100%[===================>] 128.14M  6.83MB/s    in 22s     \n",
      "\n",
      "2022-07-14 06:55:30 (5.74 MB/s) - ‘btv1b53087743r_f1.png’ saved [134368873/134368873]\n",
      "\n"
     ]
    },
    {
     "name": "stderr",
     "output_type": "stream",
     "text": [
      "315it [1:26:23, 68.90s/it]"
     ]
    },
    {
     "name": "stdout",
     "output_type": "stream",
     "text": [
      "--2022-07-14 06:55:30--  https://gallica.bnf.fr/iiif/ark:/12148/btv1b84941553/f1/full/full/0/native.png\n",
      "Resolving gallica.bnf.fr (gallica.bnf.fr)... 194.199.8.11\n",
      "Connecting to gallica.bnf.fr (gallica.bnf.fr)|194.199.8.11|:443... connected.\n",
      "HTTP request sent, awaiting response... 200 200\n",
      "Length: 96756386 (92M) [image/png]\n",
      "Saving to: ‘btv1b84941553_f1.png’\n",
      "\n",
      "btv1b84941553_f1.pn 100%[===================>]  92.27M  6.72MB/s    in 14s     \n",
      "\n",
      "2022-07-14 06:56:34 (6.44 MB/s) - ‘btv1b84941553_f1.png’ saved [96756386/96756386]\n",
      "\n"
     ]
    },
    {
     "name": "stderr",
     "output_type": "stream",
     "text": [
      "316it [1:27:27, 67.58s/it]"
     ]
    },
    {
     "name": "stdout",
     "output_type": "stream",
     "text": [
      "--2022-07-14 06:56:34--  https://gallica.bnf.fr/iiif/ark:/12148/btv1b53085154n/f1/full/full/0/native.png\n",
      "Resolving gallica.bnf.fr (gallica.bnf.fr)... 194.199.8.11\n",
      "Connecting to gallica.bnf.fr (gallica.bnf.fr)|194.199.8.11|:443... connected.\n",
      "HTTP request sent, awaiting response... 200 200\n",
      "Length: 152898723 (146M) [image/png]\n",
      "Saving to: ‘btv1b53085154n_f1.png’\n",
      "\n",
      "btv1b53085154n_f1.p 100%[===================>] 145.82M  6.80MB/s    in 25s     \n",
      "\n",
      "2022-07-14 06:57:35 (5.94 MB/s) - ‘btv1b53085154n_f1.png’ saved [152898723/152898723]\n",
      "\n"
     ]
    },
    {
     "name": "stderr",
     "output_type": "stream",
     "text": [
      "317it [1:28:29, 65.97s/it]"
     ]
    },
    {
     "name": "stdout",
     "output_type": "stream",
     "text": [
      "--2022-07-14 06:57:35--  https://gallica.bnf.fr/iiif/ark:/12148/btv1b53085168v/f1/full/full/0/native.png\n",
      "Resolving gallica.bnf.fr (gallica.bnf.fr)... 194.199.8.11\n",
      "Connecting to gallica.bnf.fr (gallica.bnf.fr)|194.199.8.11|:443... connected.\n",
      "HTTP request sent, awaiting response... 200 200\n",
      "Length: 138960844 (133M) [image/png]\n",
      "Saving to: ‘btv1b53085168v_f1.png’\n",
      "\n",
      "btv1b53085168v_f1.p 100%[===================>] 132.52M  6.84MB/s    in 22s     \n",
      "\n",
      "2022-07-14 06:58:37 (5.96 MB/s) - ‘btv1b53085168v_f1.png’ saved [138960844/138960844]\n",
      "\n"
     ]
    },
    {
     "name": "stderr",
     "output_type": "stream",
     "text": [
      "318it [1:29:31, 64.78s/it]"
     ]
    },
    {
     "name": "stdout",
     "output_type": "stream",
     "text": [
      "--2022-07-14 06:58:37--  https://gallica.bnf.fr/iiif/ark:/12148/btv1b84924402/f1/full/full/0/native.png\n",
      "Resolving gallica.bnf.fr (gallica.bnf.fr)... 194.199.8.11\n",
      "Connecting to gallica.bnf.fr (gallica.bnf.fr)|194.199.8.11|:443... connected.\n",
      "HTTP request sent, awaiting response... 200 200\n",
      "Length: 148362645 (141M) [image/png]\n",
      "Saving to: ‘btv1b84924402_f1.png’\n",
      "\n",
      "btv1b84924402_f1.pn 100%[===================>] 141.49M  6.83MB/s    in 26s     \n",
      "\n",
      "2022-07-14 06:59:58 (5.51 MB/s) - ‘btv1b84924402_f1.png’ saved [148362645/148362645]\n",
      "\n"
     ]
    },
    {
     "name": "stderr",
     "output_type": "stream",
     "text": [
      "319it [1:30:52, 69.39s/it]"
     ]
    },
    {
     "name": "stdout",
     "output_type": "stream",
     "text": [
      "--2022-07-14 06:59:58--  https://gallica.bnf.fr/iiif/ark:/12148/btv1b530852022/f1/full/full/0/native.png\n",
      "Resolving gallica.bnf.fr (gallica.bnf.fr)... 194.199.8.11\n",
      "Connecting to gallica.bnf.fr (gallica.bnf.fr)|194.199.8.11|:443... connected.\n",
      "HTTP request sent, awaiting response... 200 200\n",
      "Length: 241238428 (230M) [image/png]\n",
      "Saving to: ‘btv1b530852022_f1.png’\n",
      "\n",
      "btv1b530852022_f1.p 100%[===================>] 230.06M  6.84MB/s    in 37s     \n",
      "\n",
      "2022-07-14 07:01:46 (6.29 MB/s) - ‘btv1b530852022_f1.png’ saved [241238428/241238428]\n",
      "\n"
     ]
    },
    {
     "name": "stderr",
     "output_type": "stream",
     "text": [
      "320it [1:32:39, 80.44s/it]"
     ]
    },
    {
     "name": "stdout",
     "output_type": "stream",
     "text": [
      "pass\n",
      "--2022-07-14 07:01:46--  https://gallica.bnf.fr/iiif/ark:/12148/btv1b84444817/f1/full/full/0/native.png\n",
      "Resolving gallica.bnf.fr (gallica.bnf.fr)... 194.199.8.11\n",
      "Connecting to gallica.bnf.fr (gallica.bnf.fr)|194.199.8.11|:443... connected.\n",
      "HTTP request sent, awaiting response... 200 200\n",
      "Length: 99886162 (95M) [image/png]\n",
      "Saving to: ‘btv1b84444817_f1.png’\n",
      "\n",
      "btv1b84444817_f1.pn 100%[===================>]  95.26M  6.78MB/s    in 18s     \n",
      "\n",
      "2022-07-14 07:02:27 (5.19 MB/s) - ‘btv1b84444817_f1.png’ saved [99886162/99886162]\n",
      "\n"
     ]
    },
    {
     "name": "stderr",
     "output_type": "stream",
     "text": [
      "322it [1:33:21, 53.46s/it]"
     ]
    },
    {
     "name": "stdout",
     "output_type": "stream",
     "text": [
      "pass\n",
      "pass\n",
      "--2022-07-14 07:02:27--  https://gallica.bnf.fr/iiif/ark:/12148/btv1b53065034t/f1/full/full/0/native.png\n",
      "Resolving gallica.bnf.fr (gallica.bnf.fr)... 194.199.8.11\n",
      "Connecting to gallica.bnf.fr (gallica.bnf.fr)|194.199.8.11|:443... connected.\n",
      "HTTP request sent, awaiting response... 200 200\n",
      "Length: 106454042 (102M) [image/png]\n",
      "Saving to: ‘btv1b53065034t_f1.png’\n",
      "\n",
      "btv1b53065034t_f1.p 100%[===================>] 101.52M  6.82MB/s    in 19s     \n",
      "\n",
      "2022-07-14 07:03:22 (5.37 MB/s) - ‘btv1b53065034t_f1.png’ saved [106454042/106454042]\n",
      "\n"
     ]
    },
    {
     "name": "stderr",
     "output_type": "stream",
     "text": [
      "325it [1:34:16, 36.20s/it]"
     ]
    },
    {
     "name": "stdout",
     "output_type": "stream",
     "text": [
      "--2022-07-14 07:03:22--  https://gallica.bnf.fr/iiif/ark:/12148/btv1b530851699/f1/full/full/0/native.png\n",
      "Resolving gallica.bnf.fr (gallica.bnf.fr)... 194.199.8.11\n",
      "Connecting to gallica.bnf.fr (gallica.bnf.fr)|194.199.8.11|:443... connected.\n",
      "HTTP request sent, awaiting response... 200 200\n",
      "Length: 247081106 (236M) [image/png]\n",
      "Saving to: ‘btv1b530851699_f1.png’\n",
      "\n",
      "btv1b530851699_f1.p 100%[===================>] 235.63M  6.83MB/s    in 39s     \n",
      "\n",
      "2022-07-14 07:05:20 (6.10 MB/s) - ‘btv1b530851699_f1.png’ saved [247081106/247081106]\n",
      "\n"
     ]
    },
    {
     "name": "stderr",
     "output_type": "stream",
     "text": [
      "326it [1:36:14, 51.71s/it]"
     ]
    },
    {
     "name": "stdout",
     "output_type": "stream",
     "text": [
      "--2022-07-14 07:05:20--  https://gallica.bnf.fr/iiif/ark:/12148/btv1b53136168x/f1/full/full/0/native.png\n",
      "Resolving gallica.bnf.fr (gallica.bnf.fr)... 194.199.8.11\n",
      "Connecting to gallica.bnf.fr (gallica.bnf.fr)|194.199.8.11|:443... connected.\n",
      "HTTP request sent, awaiting response... 200 200\n",
      "Length: 25705265 (25M) [image/png]\n",
      "Saving to: ‘btv1b53136168x_f1.png’\n",
      "\n",
      "btv1b53136168x_f1.p 100%[===================>]  24.51M  6.79MB/s    in 4.3s    \n",
      "\n",
      "2022-07-14 07:05:46 (5.72 MB/s) - ‘btv1b53136168x_f1.png’ saved [25705265/25705265]\n",
      "\n"
     ]
    },
    {
     "name": "stderr",
     "output_type": "stream",
     "text": [
      "327it [1:36:40, 46.20s/it]"
     ]
    },
    {
     "name": "stdout",
     "output_type": "stream",
     "text": [
      "--2022-07-14 07:05:46--  https://gallica.bnf.fr/iiif/ark:/12148/btv1b53085177t/f1/full/full/0/native.png\n",
      "Resolving gallica.bnf.fr (gallica.bnf.fr)... 194.199.8.11\n",
      "Connecting to gallica.bnf.fr (gallica.bnf.fr)|194.199.8.11|:443... connected.\n",
      "HTTP request sent, awaiting response... 200 200\n",
      "Length: 136113873 (130M) [image/png]\n",
      "Saving to: ‘btv1b53085177t_f1.png’\n",
      "\n",
      "btv1b53085177t_f1.p 100%[===================>] 129.81M  6.84MB/s    in 22s     \n",
      "\n",
      "2022-07-14 07:06:56 (5.87 MB/s) - ‘btv1b53085177t_f1.png’ saved [136113873/136113873]\n",
      "\n"
     ]
    },
    {
     "name": "stderr",
     "output_type": "stream",
     "text": [
      "328it [1:37:50, 51.83s/it]"
     ]
    },
    {
     "name": "stdout",
     "output_type": "stream",
     "text": [
      "--2022-07-14 07:06:56--  https://gallica.bnf.fr/iiif/ark:/12148/btv1b53062228x/f1/full/full/0/native.png\n",
      "Resolving gallica.bnf.fr (gallica.bnf.fr)... 194.199.8.11\n",
      "Connecting to gallica.bnf.fr (gallica.bnf.fr)|194.199.8.11|:443... connected.\n",
      "HTTP request sent, awaiting response... 200 200\n",
      "Length: 124992023 (119M) [image/png]\n",
      "Saving to: ‘btv1b53062228x_f1.png’\n",
      "\n",
      "btv1b53062228x_f1.p 100%[===================>] 119.20M  6.84MB/s    in 18s     \n",
      "\n",
      "2022-07-14 07:07:56 (6.81 MB/s) - ‘btv1b53062228x_f1.png’ saved [124992023/124992023]\n",
      "\n"
     ]
    },
    {
     "name": "stderr",
     "output_type": "stream",
     "text": [
      "329it [1:38:50, 53.87s/it]"
     ]
    },
    {
     "name": "stdout",
     "output_type": "stream",
     "text": [
      "--2022-07-14 07:07:56--  https://gallica.bnf.fr/iiif/ark:/12148/btv1b530855617/f1/full/full/0/native.png\n",
      "Resolving gallica.bnf.fr (gallica.bnf.fr)... 194.199.8.11\n",
      "Connecting to gallica.bnf.fr (gallica.bnf.fr)|194.199.8.11|:443... connected.\n",
      "HTTP request sent, awaiting response... 503 Service Unavailable\n",
      "2022-07-14 07:09:56 ERROR 503: Service Unavailable.\n",
      "\n"
     ]
    },
    {
     "name": "stderr",
     "output_type": "stream",
     "text": [
      "330it [1:40:50, 71.36s/it]"
     ]
    },
    {
     "name": "stdout",
     "output_type": "stream",
     "text": [
      "pass\n",
      "--2022-07-14 07:09:57--  https://gallica.bnf.fr/iiif/ark:/12148/btv1b53085222w/f1/full/full/0/native.png\n",
      "Resolving gallica.bnf.fr (gallica.bnf.fr)... 194.199.8.11\n",
      "Connecting to gallica.bnf.fr (gallica.bnf.fr)|194.199.8.11|:443... connected.\n",
      "HTTP request sent, awaiting response... 200 200\n",
      "Length: 153492359 (146M) [image/png]\n",
      "Saving to: ‘btv1b53085222w_f1.png’\n",
      "\n",
      "btv1b53085222w_f1.p 100%[===================>] 146.38M  6.88MB/s    in 26s     \n",
      "\n",
      "2022-07-14 07:11:15 (5.58 MB/s) - ‘btv1b53085222w_f1.png’ saved [153492359/153492359]\n",
      "\n"
     ]
    },
    {
     "name": "stderr",
     "output_type": "stream",
     "text": [
      "332it [1:42:08, 57.53s/it]"
     ]
    },
    {
     "name": "stdout",
     "output_type": "stream",
     "text": [
      "--2022-07-14 07:11:15--  https://gallica.bnf.fr/iiif/ark:/12148/btv1b53085215t/f1/full/full/0/native.png\n",
      "Resolving gallica.bnf.fr (gallica.bnf.fr)... 194.199.8.11\n",
      "Connecting to gallica.bnf.fr (gallica.bnf.fr)|194.199.8.11|:443... connected.\n",
      "HTTP request sent, awaiting response... 200 200\n",
      "Length: 139693190 (133M) [image/png]\n",
      "Saving to: ‘btv1b53085215t_f1.png’\n",
      "\n",
      "btv1b53085215t_f1.p 100%[===================>] 133.22M  6.81MB/s    in 23s     \n",
      "\n",
      "2022-07-14 07:12:16 (5.92 MB/s) - ‘btv1b53085215t_f1.png’ saved [139693190/139693190]\n",
      "\n"
     ]
    },
    {
     "name": "stderr",
     "output_type": "stream",
     "text": [
      "333it [1:43:10, 58.46s/it]"
     ]
    },
    {
     "name": "stdout",
     "output_type": "stream",
     "text": [
      "--2022-07-14 07:12:16--  https://gallica.bnf.fr/iiif/ark:/12148/btv1b8445816b/f1/full/full/0/native.png\n",
      "Resolving gallica.bnf.fr (gallica.bnf.fr)... 194.199.8.11\n",
      "Connecting to gallica.bnf.fr (gallica.bnf.fr)|194.199.8.11|:443... connected.\n",
      "HTTP request sent, awaiting response... 200 200\n",
      "Length: 33740212 (32M) [image/png]\n",
      "Saving to: ‘btv1b8445816b_f1.png’\n",
      "\n",
      "btv1b8445816b_f1.pn 100%[===================>]  32.18M  6.86MB/s    in 4.8s    \n",
      "\n",
      "2022-07-14 07:12:33 (6.71 MB/s) - ‘btv1b8445816b_f1.png’ saved [33740212/33740212]\n",
      "\n"
     ]
    },
    {
     "name": "stderr",
     "output_type": "stream",
     "text": [
      "334it [1:43:27, 48.01s/it]"
     ]
    },
    {
     "name": "stdout",
     "output_type": "stream",
     "text": [
      "--2022-07-14 07:12:33--  https://gallica.bnf.fr/iiif/ark:/12148/btv1b530636653/f1/full/full/0/native.png\n",
      "Resolving gallica.bnf.fr (gallica.bnf.fr)... 194.199.8.11\n",
      "Connecting to gallica.bnf.fr (gallica.bnf.fr)|194.199.8.11|:443... connected.\n",
      "HTTP request sent, awaiting response... 200 200\n",
      "Length: 166816480 (159M) [image/png]\n",
      "Saving to: ‘btv1b530636653_f1.png’\n",
      "\n",
      "btv1b530636653_f1.p 100%[===================>] 159.09M  6.74MB/s    in 28s     \n",
      "\n",
      "2022-07-14 07:14:15 (5.63 MB/s) - ‘btv1b530636653_f1.png’ saved [166816480/166816480]\n",
      "\n"
     ]
    },
    {
     "name": "stderr",
     "output_type": "stream",
     "text": [
      "335it [1:45:08, 62.13s/it]"
     ]
    },
    {
     "name": "stdout",
     "output_type": "stream",
     "text": [
      "--2022-07-14 07:14:15--  https://gallica.bnf.fr/iiif/ark:/12148/btv1b53064925x/f1/full/full/0/native.png\n",
      "Resolving gallica.bnf.fr (gallica.bnf.fr)... 194.199.8.11\n",
      "Connecting to gallica.bnf.fr (gallica.bnf.fr)|194.199.8.11|:443... connected.\n",
      "HTTP request sent, awaiting response... 200 200\n",
      "Length: 128192321 (122M) [image/png]\n",
      "Saving to: ‘btv1b53064925x_f1.png’\n",
      "\n",
      "btv1b53064925x_f1.p 100%[===================>] 122.25M  6.76MB/s    in 22s     \n",
      "\n",
      "2022-07-14 07:15:34 (5.53 MB/s) - ‘btv1b53064925x_f1.png’ saved [128192321/128192321]\n",
      "\n"
     ]
    },
    {
     "name": "stderr",
     "output_type": "stream",
     "text": [
      "336it [1:46:27, 66.73s/it]"
     ]
    },
    {
     "name": "stdout",
     "output_type": "stream",
     "text": [
      "pass\n",
      "pass\n",
      "pass\n",
      "pass\n",
      "pass\n",
      "pass\n",
      "pass\n",
      "pass\n",
      "pass\n",
      "pass\n",
      "pass\n",
      "pass\n",
      "pass\n",
      "pass\n",
      "pass\n",
      "pass\n",
      "--2022-07-14 07:15:34--  https://gallica.bnf.fr/iiif/ark:/12148/btv1b8494156h/f1/full/full/0/native.png\n",
      "Resolving gallica.bnf.fr (gallica.bnf.fr)... 194.199.8.11\n",
      "Connecting to gallica.bnf.fr (gallica.bnf.fr)|194.199.8.11|:443... connected.\n",
      "HTTP request sent, awaiting response... 200 200\n",
      "Length: 124623112 (119M) [image/png]\n",
      "Saving to: ‘btv1b8494156h_f1.png’\n",
      "\n",
      "btv1b8494156h_f1.pn 100%[===================>] 118.85M  6.83MB/s    in 18s     \n",
      "\n",
      "2022-07-14 07:17:18 (6.50 MB/s) - ‘btv1b8494156h_f1.png’ saved [124623112/124623112]\n",
      "\n"
     ]
    },
    {
     "name": "stderr",
     "output_type": "stream",
     "text": [
      "353it [1:48:11, 14.04s/it]"
     ]
    },
    {
     "name": "stdout",
     "output_type": "stream",
     "text": [
      "--2022-07-14 07:17:18--  https://gallica.bnf.fr/iiif/ark:/12148/btv1b84454871/f1/full/full/0/native.png\n",
      "Resolving gallica.bnf.fr (gallica.bnf.fr)... 194.199.8.11\n",
      "Connecting to gallica.bnf.fr (gallica.bnf.fr)|194.199.8.11|:443... connected.\n",
      "HTTP request sent, awaiting response... 200 200\n",
      "Length: 74261785 (71M) [image/png]\n",
      "Saving to: ‘btv1b84454871_f1.png’\n",
      "\n",
      "btv1b84454871_f1.pn 100%[===================>]  70.82M  6.77MB/s    in 11s     \n",
      "\n",
      "2022-07-14 07:18:24 (6.33 MB/s) - ‘btv1b84454871_f1.png’ saved [74261785/74261785]\n",
      "\n"
     ]
    },
    {
     "name": "stderr",
     "output_type": "stream",
     "text": [
      "354it [1:49:18, 17.62s/it]"
     ]
    },
    {
     "name": "stdout",
     "output_type": "stream",
     "text": [
      "--2022-07-14 07:18:24--  https://gallica.bnf.fr/iiif/ark:/12148/btv1b53121228m/f1/full/full/0/native.png\n",
      "Resolving gallica.bnf.fr (gallica.bnf.fr)... 194.199.8.11\n",
      "Connecting to gallica.bnf.fr (gallica.bnf.fr)|194.199.8.11|:443... connected.\n",
      "HTTP request sent, awaiting response... 200 200\n",
      "Length: 174031699 (166M) [image/png]\n",
      "Saving to: ‘btv1b53121228m_f1.png’\n",
      "\n",
      "btv1b53121228m_f1.p 100%[===================>] 165.97M  6.80MB/s    in 28s     \n",
      "\n",
      "2022-07-14 07:19:53 (5.83 MB/s) - ‘btv1b53121228m_f1.png’ saved [174031699/174031699]\n",
      "\n"
     ]
    },
    {
     "name": "stderr",
     "output_type": "stream",
     "text": [
      "355it [1:50:47, 23.93s/it]"
     ]
    },
    {
     "name": "stdout",
     "output_type": "stream",
     "text": [
      "--2022-07-14 07:19:53--  https://gallica.bnf.fr/iiif/ark:/12148/btv1b53121228m/f2/full/full/0/native.png\n",
      "Resolving gallica.bnf.fr (gallica.bnf.fr)... 194.199.8.11\n",
      "Connecting to gallica.bnf.fr (gallica.bnf.fr)|194.199.8.11|:443... connected.\n",
      "HTTP request sent, awaiting response... 200 200\n",
      "Length: 166157987 (158M) [image/png]\n",
      "Saving to: ‘btv1b53121228m_f2.png’\n",
      "\n",
      "btv1b53121228m_f2.p 100%[===================>] 158.46M  6.87MB/s    in 27s     \n",
      "\n",
      "2022-07-14 07:21:23 (5.83 MB/s) - ‘btv1b53121228m_f2.png’ saved [166157987/166157987]\n",
      "\n"
     ]
    },
    {
     "name": "stderr",
     "output_type": "stream",
     "text": [
      "356it [1:52:16, 31.33s/it]"
     ]
    },
    {
     "name": "stdout",
     "output_type": "stream",
     "text": [
      "--2022-07-14 07:21:23--  https://gallica.bnf.fr/iiif/ark:/12148/btv1b8439832d/f1/full/full/0/native.png\n",
      "Resolving gallica.bnf.fr (gallica.bnf.fr)... 194.199.8.11\n",
      "Connecting to gallica.bnf.fr (gallica.bnf.fr)|194.199.8.11|:443... connected.\n",
      "HTTP request sent, awaiting response... 200 200\n",
      "Length: 126768406 (121M) [image/png]\n",
      "Saving to: ‘btv1b8439832d_f1.png’\n",
      "\n",
      "btv1b8439832d_f1.pn 100%[===================>] 120.90M  6.87MB/s    in 21s     \n",
      "\n",
      "2022-07-14 07:22:33 (5.81 MB/s) - ‘btv1b8439832d_f1.png’ saved [126768406/126768406]\n",
      "\n"
     ]
    },
    {
     "name": "stderr",
     "output_type": "stream",
     "text": [
      "357it [1:53:26, 36.67s/it]"
     ]
    },
    {
     "name": "stdout",
     "output_type": "stream",
     "text": [
      "pass\n",
      "--2022-07-14 07:22:33--  https://gallica.bnf.fr/iiif/ark:/12148/btv1b8440652z/f1/full/full/0/native.png\n",
      "Resolving gallica.bnf.fr (gallica.bnf.fr)... 194.199.8.11\n",
      "Connecting to gallica.bnf.fr (gallica.bnf.fr)|194.199.8.11|:443... connected.\n",
      "HTTP request sent, awaiting response... 200 200\n",
      "Length: 141506223 (135M) [image/png]\n",
      "Saving to: ‘btv1b8440652z_f1.png’\n",
      "\n",
      "btv1b8440652z_f1.pn 100%[===================>] 134.95M  6.70MB/s    in 23s     \n",
      "\n",
      "2022-07-14 07:23:57 (5.90 MB/s) - ‘btv1b8440652z_f1.png’ saved [141506223/141506223]\n",
      "\n"
     ]
    },
    {
     "name": "stderr",
     "output_type": "stream",
     "text": [
      "359it [1:54:51, 38.20s/it]"
     ]
    },
    {
     "name": "stdout",
     "output_type": "stream",
     "text": [
      "--2022-07-14 07:23:57--  https://gallica.bnf.fr/iiif/ark:/12148/btv1b8445200d/f1/full/full/0/native.png\n",
      "Resolving gallica.bnf.fr (gallica.bnf.fr)... 194.199.8.11\n",
      "Connecting to gallica.bnf.fr (gallica.bnf.fr)|194.199.8.11|:443... connected.\n",
      "HTTP request sent, awaiting response... 200 200\n",
      "Length: 64646967 (62M) [image/png]\n",
      "Saving to: ‘btv1b8445200d_f1.png’\n",
      "\n",
      "btv1b8445200d_f1.pn 100%[===================>]  61.65M  6.80MB/s    in 9.1s    \n",
      "\n",
      "2022-07-14 07:24:43 (6.77 MB/s) - ‘btv1b8445200d_f1.png’ saved [64646967/64646967]\n",
      "\n"
     ]
    },
    {
     "name": "stderr",
     "output_type": "stream",
     "text": [
      "360it [1:55:37, 39.52s/it]"
     ]
    },
    {
     "name": "stdout",
     "output_type": "stream",
     "text": [
      "--2022-07-14 07:24:43--  https://gallica.bnf.fr/iiif/ark:/12148/btv1b530622835/f1/full/full/0/native.png\n",
      "Resolving gallica.bnf.fr (gallica.bnf.fr)... 194.199.8.11\n",
      "Connecting to gallica.bnf.fr (gallica.bnf.fr)|194.199.8.11|:443... connected.\n",
      "HTTP request sent, awaiting response... 200 200\n",
      "Length: 203581662 (194M) [image/png]\n",
      "Saving to: ‘btv1b530622835_f1.png’\n",
      "\n",
      "btv1b530622835_f1.p 100%[===================>] 194.15M  6.76MB/s    in 33s     \n",
      "\n",
      "2022-07-14 07:26:38 (5.86 MB/s) - ‘btv1b530622835_f1.png’ saved [203581662/203581662]\n",
      "\n"
     ]
    },
    {
     "name": "stderr",
     "output_type": "stream",
     "text": [
      "361it [1:57:32, 54.16s/it]"
     ]
    },
    {
     "name": "stdout",
     "output_type": "stream",
     "text": [
      "--2022-07-14 07:26:38--  https://gallica.bnf.fr/iiif/ark:/12148/btv1b8444475h/f1/full/full/0/native.png\n",
      "Resolving gallica.bnf.fr (gallica.bnf.fr)... 194.199.8.11\n",
      "Connecting to gallica.bnf.fr (gallica.bnf.fr)|194.199.8.11|:443... connected.\n",
      "HTTP request sent, awaiting response... 200 200\n",
      "Length: 73370789 (70M) [image/png]\n",
      "Saving to: ‘btv1b8444475h_f1.png’\n",
      "\n",
      "btv1b8444475h_f1.pn 100%[===================>]  69.97M  6.83MB/s    in 10s     \n",
      "\n",
      "2022-07-14 07:27:37 (6.74 MB/s) - ‘btv1b8444475h_f1.png’ saved [73370789/73370789]\n",
      "\n"
     ]
    },
    {
     "name": "stderr",
     "output_type": "stream",
     "text": [
      "362it [1:58:30, 55.15s/it]"
     ]
    },
    {
     "name": "stdout",
     "output_type": "stream",
     "text": [
      "pass\n",
      "--2022-07-14 07:27:37--  https://gallica.bnf.fr/iiif/ark:/12148/btv1b53062300w/f1/full/full/0/native.png\n",
      "Resolving gallica.bnf.fr (gallica.bnf.fr)... 194.199.8.11\n",
      "Connecting to gallica.bnf.fr (gallica.bnf.fr)|194.199.8.11|:443... connected.\n",
      "HTTP request sent, awaiting response... 200 200\n",
      "Length: 166753398 (159M) [image/png]\n",
      "Saving to: ‘btv1b53062300w_f1.png’\n",
      "\n",
      "btv1b53062300w_f1.p 100%[===================>] 159.03M  6.86MB/s    in 27s     \n",
      "\n",
      "2022-07-14 07:29:02 (5.87 MB/s) - ‘btv1b53062300w_f1.png’ saved [166753398/166753398]\n",
      "\n"
     ]
    },
    {
     "name": "stderr",
     "output_type": "stream",
     "text": [
      "364it [1:59:56, 50.35s/it]"
     ]
    },
    {
     "name": "stdout",
     "output_type": "stream",
     "text": [
      "--2022-07-14 07:29:02--  https://gallica.bnf.fr/iiif/ark:/12148/btv1b530253103/f1/full/full/0/native.png\n",
      "Resolving gallica.bnf.fr (gallica.bnf.fr)... 194.199.8.11\n",
      "Connecting to gallica.bnf.fr (gallica.bnf.fr)|194.199.8.11|:443... connected.\n",
      "HTTP request sent, awaiting response... 503 Service Unavailable\n",
      "2022-07-14 07:31:02 ERROR 503: Service Unavailable.\n",
      "\n"
     ]
    },
    {
     "name": "stderr",
     "output_type": "stream",
     "text": [
      "365it [2:01:56, 65.35s/it]"
     ]
    },
    {
     "name": "stdout",
     "output_type": "stream",
     "text": [
      "--2022-07-14 07:31:02--  https://gallica.bnf.fr/iiif/ark:/12148/btv1b8443205v/f1/full/full/0/native.png\n",
      "Resolving gallica.bnf.fr (gallica.bnf.fr)... 194.199.8.11\n",
      "Connecting to gallica.bnf.fr (gallica.bnf.fr)|194.199.8.11|:443... connected.\n",
      "HTTP request sent, awaiting response... 200 200\n",
      "Length: 68839677 (66M) [image/png]\n",
      "Saving to: ‘btv1b8443205v_f1.png’\n",
      "\n",
      "btv1b8443205v_f1.pn 100%[===================>]  65.65M  6.81MB/s    in 11s     \n",
      "\n",
      "2022-07-14 07:32:08 (6.13 MB/s) - ‘btv1b8443205v_f1.png’ saved [68839677/68839677]\n",
      "\n"
     ]
    },
    {
     "name": "stderr",
     "output_type": "stream",
     "text": [
      "366it [2:03:02, 65.59s/it]"
     ]
    },
    {
     "name": "stdout",
     "output_type": "stream",
     "text": [
      "--2022-07-14 07:32:09--  https://gallica.bnf.fr/iiif/ark:/12148/btv1b53006636g/f1/full/full/0/native.png\n",
      "Resolving gallica.bnf.fr (gallica.bnf.fr)... 194.199.8.11\n",
      "Connecting to gallica.bnf.fr (gallica.bnf.fr)|194.199.8.11|:443... connected.\n",
      "HTTP request sent, awaiting response... 200 200\n",
      "Length: 80120693 (76M) [image/png]\n",
      "Saving to: ‘btv1b53006636g_f1.png’\n",
      "\n",
      "btv1b53006636g_f1.p 100%[===================>]  76.41M  2.64MB/s    in 16s     \n",
      "\n",
      "2022-07-14 07:32:59 (4.69 MB/s) - ‘btv1b53006636g_f1.png’ saved [80120693/80120693]\n",
      "\n"
     ]
    },
    {
     "name": "stderr",
     "output_type": "stream",
     "text": [
      "367it [2:03:52, 61.73s/it]"
     ]
    },
    {
     "name": "stdout",
     "output_type": "stream",
     "text": [
      "--2022-07-14 07:32:59--  https://gallica.bnf.fr/iiif/ark:/12148/btv1b53085257c/f1/full/full/0/native.png\n",
      "Resolving gallica.bnf.fr (gallica.bnf.fr)... 194.199.8.11\n",
      "Connecting to gallica.bnf.fr (gallica.bnf.fr)|194.199.8.11|:443... connected.\n",
      "HTTP request sent, awaiting response... 200 200\n",
      "Length: 132153249 (126M) [image/png]\n",
      "Saving to: ‘btv1b53085257c_f1.png’\n",
      "\n",
      "btv1b53085257c_f1.p 100%[===================>] 126.03M  6.73MB/s    in 22s     \n",
      "\n",
      "2022-07-14 07:34:06 (5.63 MB/s) - ‘btv1b53085257c_f1.png’ saved [132153249/132153249]\n",
      "\n"
     ]
    },
    {
     "name": "stderr",
     "output_type": "stream",
     "text": [
      "368it [2:04:59, 63.08s/it]"
     ]
    },
    {
     "name": "stdout",
     "output_type": "stream",
     "text": [
      "--2022-07-14 07:34:06--  https://gallica.bnf.fr/iiif/ark:/12148/btv1b530855456/f1/full/full/0/native.png\n",
      "Resolving gallica.bnf.fr (gallica.bnf.fr)... 194.199.8.11\n",
      "Connecting to gallica.bnf.fr (gallica.bnf.fr)|194.199.8.11|:443... connected.\n",
      "HTTP request sent, awaiting response... 200 200\n",
      "Length: 106352945 (101M) [image/png]\n",
      "Saving to: ‘btv1b530855456_f1.png’\n",
      "\n",
      "btv1b530855456_f1.p 100%[===================>] 101.43M  6.84MB/s    in 16s     \n",
      "\n",
      "2022-07-14 07:34:55 (6.48 MB/s) - ‘btv1b530855456_f1.png’ saved [106352945/106352945]\n",
      "\n"
     ]
    },
    {
     "name": "stderr",
     "output_type": "stream",
     "text": [
      "369it [2:05:49, 59.35s/it]"
     ]
    },
    {
     "name": "stdout",
     "output_type": "stream",
     "text": [
      "--2022-07-14 07:34:55--  https://gallica.bnf.fr/iiif/ark:/12148/btv1b53121230f/f1/full/full/0/native.png\n",
      "Resolving gallica.bnf.fr (gallica.bnf.fr)... 194.199.8.11\n",
      "Connecting to gallica.bnf.fr (gallica.bnf.fr)|194.199.8.11|:443... connected.\n",
      "HTTP request sent, awaiting response... 200 200\n",
      "Length: 109528580 (104M) [image/png]\n",
      "Saving to: ‘btv1b53121230f_f1.png’\n",
      "\n",
      "btv1b53121230f_f1.p 100%[===================>] 104.45M  6.82MB/s    in 19s     \n",
      "\n",
      "2022-07-14 07:35:48 (5.64 MB/s) - ‘btv1b53121230f_f1.png’ saved [109528580/109528580]\n",
      "\n"
     ]
    },
    {
     "name": "stderr",
     "output_type": "stream",
     "text": [
      "370it [2:06:41, 57.46s/it]"
     ]
    },
    {
     "name": "stdout",
     "output_type": "stream",
     "text": [
      "--2022-07-14 07:35:48--  https://gallica.bnf.fr/iiif/ark:/12148/btv1b53121230f/f2/full/full/0/native.png\n",
      "Resolving gallica.bnf.fr (gallica.bnf.fr)... 194.199.8.11\n",
      "Connecting to gallica.bnf.fr (gallica.bnf.fr)|194.199.8.11|:443... connected.\n",
      "HTTP request sent, awaiting response... 200 200\n",
      "Length: 107630927 (103M) [image/png]\n",
      "Saving to: ‘btv1b53121230f_f2.png’\n",
      "\n",
      "btv1b53121230f_f2.p 100%[===================>] 102.64M  6.74MB/s    in 16s     \n",
      "\n",
      "2022-07-14 07:36:37 (6.52 MB/s) - ‘btv1b53121230f_f2.png’ saved [107630927/107630927]\n",
      "\n"
     ]
    },
    {
     "name": "stderr",
     "output_type": "stream",
     "text": [
      "371it [2:07:31, 55.14s/it]"
     ]
    },
    {
     "name": "stdout",
     "output_type": "stream",
     "text": [
      "--2022-07-14 07:36:37--  https://gallica.bnf.fr/iiif/ark:/12148/btv1b53029829t/f1/full/full/0/native.png\n",
      "Resolving gallica.bnf.fr (gallica.bnf.fr)... 194.199.8.11\n",
      "Connecting to gallica.bnf.fr (gallica.bnf.fr)|194.199.8.11|:443... connected.\n",
      "HTTP request sent, awaiting response... 200 200\n",
      "Length: 215874367 (206M) [image/png]\n",
      "Saving to: ‘btv1b53029829t_f1.png’\n",
      "\n",
      "btv1b53029829t_f1.p 100%[===================>] 205.87M  6.79MB/s    in 34s     \n",
      "\n",
      "2022-07-14 07:38:17 (6.01 MB/s) - ‘btv1b53029829t_f1.png’ saved [215874367/215874367]\n",
      "\n"
     ]
    },
    {
     "name": "stderr",
     "output_type": "stream",
     "text": [
      "372it [2:09:11, 68.21s/it]"
     ]
    },
    {
     "name": "stdout",
     "output_type": "stream",
     "text": [
      "--2022-07-14 07:38:17--  https://gallica.bnf.fr/iiif/ark:/12148/btv1b53010902t/f1/full/full/0/native.png\n",
      "Resolving gallica.bnf.fr (gallica.bnf.fr)... 194.199.8.11\n",
      "Connecting to gallica.bnf.fr (gallica.bnf.fr)|194.199.8.11|:443... connected.\n",
      "HTTP request sent, awaiting response... 200 200\n",
      "Length: 374455522 (357M) [image/png]\n",
      "Saving to: ‘btv1b53010902t_f1.png’\n",
      "\n",
      "btv1b53010902t_f1.p 100%[===================>] 357.11M  6.89MB/s    in 56s     \n",
      "\n",
      "2022-07-14 07:40:59 (6.36 MB/s) - ‘btv1b53010902t_f1.png’ saved [374455522/374455522]\n",
      "\n"
     ]
    },
    {
     "name": "stderr",
     "output_type": "stream",
     "text": [
      "373it [2:11:52, 95.62s/it]"
     ]
    },
    {
     "name": "stdout",
     "output_type": "stream",
     "text": [
      "--2022-07-14 07:40:59--  https://gallica.bnf.fr/iiif/ark:/12148/btv1b53085142b/f1/full/full/0/native.png\n",
      "Resolving gallica.bnf.fr (gallica.bnf.fr)... 194.199.8.11\n",
      "Connecting to gallica.bnf.fr (gallica.bnf.fr)|194.199.8.11|:443... connected.\n",
      "HTTP request sent, awaiting response... 200 200\n",
      "Length: 146536326 (140M) [image/png]\n",
      "Saving to: ‘btv1b53085142b_f1.png’\n",
      "\n",
      "btv1b53085142b_f1.p 100%[===================>] 139.75M  6.84MB/s    in 24s     \n",
      "\n",
      "2022-07-14 07:41:59 (5.70 MB/s) - ‘btv1b53085142b_f1.png’ saved [146536326/146536326]\n",
      "\n"
     ]
    },
    {
     "name": "stderr",
     "output_type": "stream",
     "text": [
      "374it [2:12:53, 85.15s/it]"
     ]
    },
    {
     "name": "stdout",
     "output_type": "stream",
     "text": [
      "--2022-07-14 07:41:59--  https://gallica.bnf.fr/iiif/ark:/12148/btv1b53062326d/f1/full/full/0/native.png\n",
      "Resolving gallica.bnf.fr (gallica.bnf.fr)... 194.199.8.11\n",
      "Connecting to gallica.bnf.fr (gallica.bnf.fr)|194.199.8.11|:443... connected.\n",
      "HTTP request sent, awaiting response... 200 200\n",
      "Length: 130817504 (125M) [image/png]\n",
      "Saving to: ‘btv1b53062326d_f1.png’\n",
      "\n",
      "btv1b53062326d_f1.p 100%[===================>] 124.76M  6.84MB/s    in 22s     \n",
      "\n",
      "2022-07-14 07:43:01 (5.56 MB/s) - ‘btv1b53062326d_f1.png’ saved [130817504/130817504]\n",
      "\n"
     ]
    },
    {
     "name": "stderr",
     "output_type": "stream",
     "text": [
      "375it [2:13:54, 78.25s/it]"
     ]
    },
    {
     "name": "stdout",
     "output_type": "stream",
     "text": [
      "--2022-07-14 07:43:01--  https://gallica.bnf.fr/iiif/ark:/12148/btv1b53029752j/f1/full/full/0/native.png\n",
      "Resolving gallica.bnf.fr (gallica.bnf.fr)... 194.199.8.11\n",
      "Connecting to gallica.bnf.fr (gallica.bnf.fr)|194.199.8.11|:443... connected.\n",
      "HTTP request sent, awaiting response... 200 200\n",
      "Length: 137027429 (131M) [image/png]\n",
      "Saving to: ‘btv1b53029752j_f1.png’\n",
      "\n",
      "btv1b53029752j_f1.p 100%[===================>] 130.68M  6.75MB/s    in 24s     \n",
      "\n",
      "2022-07-14 07:43:59 (5.56 MB/s) - ‘btv1b53029752j_f1.png’ saved [137027429/137027429]\n",
      "\n"
     ]
    },
    {
     "name": "stderr",
     "output_type": "stream",
     "text": [
      "376it [2:14:53, 72.33s/it]"
     ]
    },
    {
     "name": "stdout",
     "output_type": "stream",
     "text": [
      "--2022-07-14 07:43:59--  https://gallica.bnf.fr/iiif/ark:/12148/btv1b530292857/f1/full/full/0/native.png\n",
      "Resolving gallica.bnf.fr (gallica.bnf.fr)... 194.199.8.11\n",
      "Connecting to gallica.bnf.fr (gallica.bnf.fr)|194.199.8.11|:443... connected.\n",
      "HTTP request sent, awaiting response... 503 Service Unavailable\n",
      "2022-07-14 07:45:59 ERROR 503: Service Unavailable.\n",
      "\n"
     ]
    },
    {
     "name": "stderr",
     "output_type": "stream",
     "text": [
      "377it [2:16:53, 86.64s/it]"
     ]
    },
    {
     "name": "stdout",
     "output_type": "stream",
     "text": [
      "pass\n",
      "--2022-07-14 07:46:00--  https://gallica.bnf.fr/iiif/ark:/12148/btv1b8444513r/f1/full/full/0/native.png\n",
      "Resolving gallica.bnf.fr (gallica.bnf.fr)... 194.199.8.11\n",
      "Connecting to gallica.bnf.fr (gallica.bnf.fr)|194.199.8.11|:443... connected.\n",
      "HTTP request sent, awaiting response... 200 200\n",
      "Length: 80037863 (76M) [image/png]\n",
      "Saving to: ‘btv1b8444513r_f1.png’\n",
      "\n",
      "btv1b8444513r_f1.pn 100%[===================>]  76.33M  6.60MB/s    in 16s     \n",
      "\n",
      "2022-07-14 07:46:48 (4.90 MB/s) - ‘btv1b8444513r_f1.png’ saved [80037863/80037863]\n",
      "\n"
     ]
    },
    {
     "name": "stderr",
     "output_type": "stream",
     "text": [
      "379it [2:17:42, 57.95s/it]"
     ]
    },
    {
     "name": "stdout",
     "output_type": "stream",
     "text": [
      "--2022-07-14 07:46:48--  https://gallica.bnf.fr/iiif/ark:/12148/btv1b53085558z/f1/full/full/0/native.png\n",
      "Resolving gallica.bnf.fr (gallica.bnf.fr)... 194.199.8.11\n",
      "Connecting to gallica.bnf.fr (gallica.bnf.fr)|194.199.8.11|:443... connected.\n",
      "HTTP request sent, awaiting response... 200 200\n",
      "Length: 136095017 (130M) [image/png]\n",
      "Saving to: ‘btv1b53085558z_f1.png’\n",
      "\n",
      "btv1b53085558z_f1.p 100%[===================>] 129.79M  6.80MB/s    in 23s     \n",
      "\n",
      "2022-07-14 07:48:01 (5.55 MB/s) - ‘btv1b53085558z_f1.png’ saved [136095017/136095017]\n",
      "\n"
     ]
    },
    {
     "name": "stderr",
     "output_type": "stream",
     "text": [
      "380it [2:18:55, 61.71s/it]"
     ]
    },
    {
     "name": "stdout",
     "output_type": "stream",
     "text": [
      "--2022-07-14 07:48:01--  https://gallica.bnf.fr/iiif/ark:/12148/btv1b53025379m/f1/full/full/0/native.png\n",
      "Resolving gallica.bnf.fr (gallica.bnf.fr)... 194.199.8.11\n",
      "Connecting to gallica.bnf.fr (gallica.bnf.fr)|194.199.8.11|:443... connected.\n",
      "HTTP request sent, awaiting response... 200 200\n",
      "Length: 141882333 (135M) [image/png]\n",
      "Saving to: ‘btv1b53025379m_f1.png’\n",
      "\n",
      "btv1b53025379m_f1.p 100%[===================>] 135.31M  6.33MB/s    in 25s     \n",
      "\n",
      "2022-07-14 07:49:14 (5.50 MB/s) - ‘btv1b53025379m_f1.png’ saved [141882333/141882333]\n",
      "\n"
     ]
    },
    {
     "name": "stderr",
     "output_type": "stream",
     "text": [
      "381it [2:20:08, 64.65s/it]"
     ]
    },
    {
     "name": "stdout",
     "output_type": "stream",
     "text": [
      "pass\n",
      "pass\n",
      "--2022-07-14 07:49:14--  https://gallica.bnf.fr/iiif/ark:/12148/btv1b53085224s/f1/full/full/0/native.png\n",
      "Resolving gallica.bnf.fr (gallica.bnf.fr)... 194.199.8.11\n",
      "Connecting to gallica.bnf.fr (gallica.bnf.fr)|194.199.8.11|:443... connected.\n",
      "HTTP request sent, awaiting response... 200 200\n",
      "Length: 162785378 (155M) [image/png]\n",
      "Saving to: ‘btv1b53085224s_f1.png’\n",
      "\n",
      "btv1b53085224s_f1.p 100%[===================>] 155.24M  6.80MB/s    in 27s     \n",
      "\n",
      "2022-07-14 07:50:30 (5.73 MB/s) - ‘btv1b53085224s_f1.png’ saved [162785378/162785378]\n",
      "\n"
     ]
    },
    {
     "name": "stderr",
     "output_type": "stream",
     "text": [
      "384it [2:21:24, 43.83s/it]"
     ]
    },
    {
     "name": "stdout",
     "output_type": "stream",
     "text": [
      "--2022-07-14 07:50:30--  https://gallica.bnf.fr/iiif/ark:/12148/btv1b530297407/f1/full/full/0/native.png\n",
      "Resolving gallica.bnf.fr (gallica.bnf.fr)... 194.199.8.11\n",
      "Connecting to gallica.bnf.fr (gallica.bnf.fr)|194.199.8.11|:443... connected.\n",
      "HTTP request sent, awaiting response... 200 200\n",
      "Length: 135472568 (129M) [image/png]\n",
      "Saving to: ‘btv1b530297407_f1.png’\n",
      "\n",
      "btv1b530297407_f1.p 100%[===================>] 129.20M  6.78MB/s    in 25s     \n",
      "\n",
      "2022-07-14 07:51:38 (5.18 MB/s) - ‘btv1b530297407_f1.png’ saved [135472568/135472568]\n",
      "\n"
     ]
    },
    {
     "name": "stderr",
     "output_type": "stream",
     "text": [
      "385it [2:22:31, 48.68s/it]"
     ]
    },
    {
     "name": "stdout",
     "output_type": "stream",
     "text": [
      "pass\n",
      "--2022-07-14 07:51:38--  https://gallica.bnf.fr/iiif/ark:/12148/btv1b53085242q/f1/full/full/0/native.png\n",
      "Resolving gallica.bnf.fr (gallica.bnf.fr)... 194.199.8.11\n",
      "Connecting to gallica.bnf.fr (gallica.bnf.fr)|194.199.8.11|:443... connected.\n",
      "HTTP request sent, awaiting response... 200 200\n",
      "Length: 158256354 (151M) [image/png]\n",
      "Saving to: ‘btv1b53085242q_f1.png’\n",
      "\n",
      "btv1b53085242q_f1.p 100%[===================>] 150.92M  6.84MB/s    in 26s     \n",
      "\n",
      "2022-07-14 07:53:02 (5.77 MB/s) - ‘btv1b53085242q_f1.png’ saved [158256354/158256354]\n",
      "\n"
     ]
    },
    {
     "name": "stderr",
     "output_type": "stream",
     "text": [
      "387it [2:23:56, 46.28s/it]"
     ]
    },
    {
     "name": "stdout",
     "output_type": "stream",
     "text": [
      "--2022-07-14 07:53:02--  https://gallica.bnf.fr/iiif/ark:/12148/btv1b53062040d/f1/full/full/0/native.png\n",
      "Resolving gallica.bnf.fr (gallica.bnf.fr)... 194.199.8.11\n",
      "Connecting to gallica.bnf.fr (gallica.bnf.fr)|194.199.8.11|:443... connected.\n",
      "HTTP request sent, awaiting response... 200 200\n",
      "Length: 89368489 (85M) [image/png]\n",
      "Saving to: ‘btv1b53062040d_f1.png’\n",
      "\n",
      "btv1b53062040d_f1.p 100%[===================>]  85.23M  6.62MB/s    in 17s     \n",
      "\n",
      "2022-07-14 07:54:06 (5.06 MB/s) - ‘btv1b53062040d_f1.png’ saved [89368489/89368489]\n",
      "\n"
     ]
    },
    {
     "name": "stderr",
     "output_type": "stream",
     "text": [
      "388it [2:24:59, 49.89s/it]"
     ]
    },
    {
     "name": "stdout",
     "output_type": "stream",
     "text": [
      "--2022-07-14 07:54:06--  https://gallica.bnf.fr/iiif/ark:/12148/btv1b53025232f/f1/full/full/0/native.png\n",
      "Resolving gallica.bnf.fr (gallica.bnf.fr)... 194.199.8.11\n",
      "Connecting to gallica.bnf.fr (gallica.bnf.fr)|194.199.8.11|:443... connected.\n",
      "HTTP request sent, awaiting response... 200 200\n",
      "Length: 91831253 (88M) [image/png]\n",
      "Saving to: ‘btv1b53025232f_f1.png’\n",
      "\n",
      "btv1b53025232f_f1.p 100%[===================>]  87.58M  6.86MB/s    in 13s     \n",
      "\n",
      "2022-07-14 07:54:57 (6.77 MB/s) - ‘btv1b53025232f_f1.png’ saved [91831253/91831253]\n",
      "\n"
     ]
    },
    {
     "name": "stderr",
     "output_type": "stream",
     "text": [
      "389it [2:25:51, 50.25s/it]"
     ]
    },
    {
     "name": "stdout",
     "output_type": "stream",
     "text": [
      "pass\n",
      "--2022-07-14 07:54:57--  https://gallica.bnf.fr/iiif/ark:/12148/btv1b53065124s/f1/full/full/0/native.png\n",
      "Resolving gallica.bnf.fr (gallica.bnf.fr)... 194.199.8.11\n",
      "Connecting to gallica.bnf.fr (gallica.bnf.fr)|194.199.8.11|:443... connected.\n",
      "HTTP request sent, awaiting response... 200 200\n",
      "Length: 95305685 (91M) [image/png]\n",
      "Saving to: ‘btv1b53065124s_f1.png’\n",
      "\n",
      "btv1b53065124s_f1.p 100%[===================>]  90.89M  6.83MB/s    in 13s     \n",
      "\n",
      "2022-07-14 07:56:24 (6.79 MB/s) - ‘btv1b53065124s_f1.png’ saved [95305685/95305685]\n",
      "\n"
     ]
    },
    {
     "name": "stderr",
     "output_type": "stream",
     "text": [
      "391it [2:27:18, 47.53s/it]"
     ]
    },
    {
     "name": "stdout",
     "output_type": "stream",
     "text": [
      "pass\n",
      "pass\n",
      "--2022-07-14 07:56:24--  https://gallica.bnf.fr/iiif/ark:/12148/btv1b530622138/f1/full/full/0/native.png\n",
      "Resolving gallica.bnf.fr (gallica.bnf.fr)... 194.199.8.11\n",
      "Connecting to gallica.bnf.fr (gallica.bnf.fr)|194.199.8.11|:443... connected.\n",
      "HTTP request sent, awaiting response... 200 200\n",
      "Length: 198172412 (189M) [image/png]\n",
      "Saving to: ‘btv1b530622138_f1.png’\n",
      "\n",
      "btv1b530622138_f1.p 100%[===================>] 188.99M  6.78MB/s    in 31s     \n",
      "\n",
      "2022-07-14 07:57:51 (6.07 MB/s) - ‘btv1b530622138_f1.png’ saved [198172412/198172412]\n",
      "\n"
     ]
    },
    {
     "name": "stderr",
     "output_type": "stream",
     "text": [
      "394it [2:28:44, 39.01s/it]"
     ]
    },
    {
     "name": "stdout",
     "output_type": "stream",
     "text": [
      "--2022-07-14 07:57:51--  https://gallica.bnf.fr/iiif/ark:/12148/btv1b8439833t/f1/full/full/0/native.png\n",
      "Resolving gallica.bnf.fr (gallica.bnf.fr)... 194.199.8.11\n",
      "Connecting to gallica.bnf.fr (gallica.bnf.fr)|194.199.8.11|:443... connected.\n",
      "HTTP request sent, awaiting response... 200 200\n",
      "Length: 128975153 (123M) [image/png]\n",
      "Saving to: ‘btv1b8439833t_f1.png’\n",
      "\n",
      "btv1b8439833t_f1.pn 100%[===================>] 123.00M  6.79MB/s    in 23s     \n",
      "\n",
      "2022-07-14 07:59:30 (5.43 MB/s) - ‘btv1b8439833t_f1.png’ saved [128975153/128975153]\n",
      "\n"
     ]
    },
    {
     "name": "stderr",
     "output_type": "stream",
     "text": [
      "395it [2:30:24, 49.80s/it]"
     ]
    },
    {
     "name": "stdout",
     "output_type": "stream",
     "text": [
      "--2022-07-14 07:59:30--  https://gallica.bnf.fr/iiif/ark:/12148/btv1b53085133c/f1/full/full/0/native.png\n",
      "Resolving gallica.bnf.fr (gallica.bnf.fr)... 194.199.8.11\n",
      "Connecting to gallica.bnf.fr (gallica.bnf.fr)|194.199.8.11|:443... connected.\n",
      "HTTP request sent, awaiting response... 200 200\n",
      "Length: 136319172 (130M) [image/png]\n",
      "Saving to: ‘btv1b53085133c_f1.png’\n",
      "\n",
      "btv1b53085133c_f1.p 100%[===================>] 130.00M  6.78MB/s    in 22s     \n",
      "\n",
      "2022-07-14 08:00:31 (5.89 MB/s) - ‘btv1b53085133c_f1.png’ saved [136319172/136319172]\n",
      "\n"
     ]
    },
    {
     "name": "stderr",
     "output_type": "stream",
     "text": [
      "396it [2:31:24, 52.02s/it]"
     ]
    },
    {
     "name": "stdout",
     "output_type": "stream",
     "text": [
      "--2022-07-14 08:00:31--  https://gallica.bnf.fr/iiif/ark:/12148/btv1b53085266b/f1/full/full/0/native.png\n",
      "Resolving gallica.bnf.fr (gallica.bnf.fr)... 194.199.8.11\n",
      "Connecting to gallica.bnf.fr (gallica.bnf.fr)|194.199.8.11|:443... connected.\n",
      "HTTP request sent, awaiting response... 200 200\n",
      "Length: 154452777 (147M) [image/png]\n",
      "Saving to: ‘btv1b53085266b_f1.png’\n",
      "\n",
      "btv1b53085266b_f1.p 100%[===================>] 147.30M  6.76MB/s    in 25s     \n",
      "\n",
      "2022-07-14 08:01:48 (5.97 MB/s) - ‘btv1b53085266b_f1.png’ saved [154452777/154452777]\n",
      "\n"
     ]
    },
    {
     "name": "stderr",
     "output_type": "stream",
     "text": [
      "397it [2:32:42, 57.76s/it]"
     ]
    },
    {
     "name": "stdout",
     "output_type": "stream",
     "text": [
      "--2022-07-14 08:01:48--  https://gallica.bnf.fr/iiif/ark:/12148/btv1b530279695/f1/full/full/0/native.png\n",
      "Resolving gallica.bnf.fr (gallica.bnf.fr)... 194.199.8.11\n",
      "Connecting to gallica.bnf.fr (gallica.bnf.fr)|194.199.8.11|:443... connected.\n",
      "HTTP request sent, awaiting response... 200 200\n",
      "Length: 147625257 (141M) [image/png]\n",
      "Saving to: ‘btv1b530279695_f1.png’\n",
      "\n",
      "btv1b530279695_f1.p 100%[===================>] 140.79M  6.83MB/s    in 26s     \n",
      "\n",
      "2022-07-14 08:02:57 (5.50 MB/s) - ‘btv1b530279695_f1.png’ saved [147625257/147625257]\n",
      "\n"
     ]
    },
    {
     "name": "stderr",
     "output_type": "stream",
     "text": [
      "398it [2:33:50, 60.35s/it]"
     ]
    },
    {
     "name": "stdout",
     "output_type": "stream",
     "text": [
      "--2022-07-14 08:02:57--  https://gallica.bnf.fr/iiif/ark:/12148/btv1b53085134t/f1/full/full/0/native.png\n",
      "Resolving gallica.bnf.fr (gallica.bnf.fr)... 194.199.8.11\n",
      "Connecting to gallica.bnf.fr (gallica.bnf.fr)|194.199.8.11|:443... connected.\n",
      "HTTP request sent, awaiting response... 200 200\n",
      "Length: 133978764 (128M) [image/png]\n",
      "Saving to: ‘btv1b53085134t_f1.png’\n",
      "\n",
      "btv1b53085134t_f1.p 100%[===================>] 127.77M  6.77MB/s    in 23s     \n",
      "\n",
      "2022-07-14 08:04:03 (5.48 MB/s) - ‘btv1b53085134t_f1.png’ saved [133978764/133978764]\n",
      "\n"
     ]
    },
    {
     "name": "stderr",
     "output_type": "stream",
     "text": [
      "399it [2:34:56, 61.86s/it]"
     ]
    },
    {
     "name": "stdout",
     "output_type": "stream",
     "text": [
      "--2022-07-14 08:04:03--  https://gallica.bnf.fr/iiif/ark:/12148/btv1b530851447/f1/full/full/0/native.png\n",
      "Resolving gallica.bnf.fr (gallica.bnf.fr)... 194.199.8.11\n",
      "Connecting to gallica.bnf.fr (gallica.bnf.fr)|194.199.8.11|:443... connected.\n",
      "HTTP request sent, awaiting response... 200 200\n",
      "Length: 148145766 (141M) [image/png]\n",
      "Saving to: ‘btv1b530851447_f1.png’\n",
      "\n",
      "btv1b530851447_f1.p 100%[===================>] 141.28M  6.80MB/s    in 24s     \n",
      "\n",
      "2022-07-14 08:05:04 (5.98 MB/s) - ‘btv1b530851447_f1.png’ saved [148145766/148145766]\n",
      "\n"
     ]
    },
    {
     "name": "stderr",
     "output_type": "stream",
     "text": [
      "400it [2:35:58, 61.81s/it]"
     ]
    },
    {
     "name": "stdout",
     "output_type": "stream",
     "text": [
      "pass\n",
      "--2022-07-14 08:05:05--  https://gallica.bnf.fr/iiif/ark:/12148/btv1b8446031k/f1/full/full/0/native.png\n",
      "Resolving gallica.bnf.fr (gallica.bnf.fr)... 194.199.8.11\n",
      "Connecting to gallica.bnf.fr (gallica.bnf.fr)|194.199.8.11|:443... connected.\n",
      "HTTP request sent, awaiting response... 200 200\n",
      "Length: 48846552 (47M) [image/png]\n",
      "Saving to: ‘btv1b8446031k_f1.png’\n",
      "\n",
      "btv1b8446031k_f1.pn 100%[===================>]  46.58M  6.82MB/s    in 7.8s    \n",
      "\n",
      "2022-07-14 08:05:39 (5.98 MB/s) - ‘btv1b8446031k_f1.png’ saved [48846552/48846552]\n",
      "\n"
     ]
    },
    {
     "name": "stderr",
     "output_type": "stream",
     "text": [
      "402it [2:36:32, 42.36s/it]"
     ]
    },
    {
     "name": "stdout",
     "output_type": "stream",
     "text": [
      "--2022-07-14 08:05:39--  https://gallica.bnf.fr/iiif/ark:/12148/btv1b550044782/f1/full/full/0/native.png\n",
      "Resolving gallica.bnf.fr (gallica.bnf.fr)... 194.199.8.11\n",
      "Connecting to gallica.bnf.fr (gallica.bnf.fr)|194.199.8.11|:443... connected.\n",
      "HTTP request sent, awaiting response... 200 200\n",
      "Length: 70758630 (67M) [image/png]\n",
      "Saving to: ‘btv1b550044782_f1.png’\n",
      "\n",
      "btv1b550044782_f1.p 100%[===================>]  67.48M  6.78MB/s    in 10s     \n",
      "\n",
      "2022-07-14 08:06:42 (6.70 MB/s) - ‘btv1b550044782_f1.png’ saved [70758630/70758630]\n",
      "\n"
     ]
    },
    {
     "name": "stderr",
     "output_type": "stream",
     "text": [
      "403it [2:37:36, 47.31s/it]"
     ]
    },
    {
     "name": "stdout",
     "output_type": "stream",
     "text": [
      "--2022-07-14 08:06:42--  https://gallica.bnf.fr/iiif/ark:/12148/btv1b53030001k/f1/full/full/0/native.png\n",
      "Resolving gallica.bnf.fr (gallica.bnf.fr)... 194.199.8.11\n",
      "Connecting to gallica.bnf.fr (gallica.bnf.fr)|194.199.8.11|:443... connected.\n",
      "HTTP request sent, awaiting response... 200 200\n",
      "Length: 120412487 (115M) [image/png]\n",
      "Saving to: ‘btv1b53030001k_f1.png’\n",
      "\n",
      "btv1b53030001k_f1.p 100%[===================>] 114.83M  6.83MB/s    in 20s     \n",
      "\n",
      "2022-07-14 08:07:52 (5.81 MB/s) - ‘btv1b53030001k_f1.png’ saved [120412487/120412487]\n",
      "\n"
     ]
    },
    {
     "name": "stderr",
     "output_type": "stream",
     "text": [
      "404it [2:38:46, 53.18s/it]"
     ]
    },
    {
     "name": "stdout",
     "output_type": "stream",
     "text": [
      "--2022-07-14 08:07:53--  https://gallica.bnf.fr/iiif/ark:/12148/btv1b53025224x/f1/full/full/0/native.png\n",
      "Resolving gallica.bnf.fr (gallica.bnf.fr)... 194.199.8.11\n",
      "Connecting to gallica.bnf.fr (gallica.bnf.fr)|194.199.8.11|:443... connected.\n",
      "HTTP request sent, awaiting response... 200 200\n",
      "Length: 171577761 (164M) [image/png]\n",
      "Saving to: ‘btv1b53025224x_f1.png’\n",
      "\n",
      "btv1b53025224x_f1.p 100%[===================>] 163.63M  6.83MB/s    in 28s     \n",
      "\n",
      "2022-07-14 08:09:11 (5.87 MB/s) - ‘btv1b53025224x_f1.png’ saved [171577761/171577761]\n",
      "\n"
     ]
    },
    {
     "name": "stderr",
     "output_type": "stream",
     "text": [
      "405it [2:40:04, 59.84s/it]"
     ]
    },
    {
     "name": "stdout",
     "output_type": "stream",
     "text": [
      "pass\n",
      "--2022-07-14 08:09:11--  https://gallica.bnf.fr/iiif/ark:/12148/btv1b53085258t/f1/full/full/0/native.png\n",
      "Resolving gallica.bnf.fr (gallica.bnf.fr)... 194.199.8.11\n",
      "Connecting to gallica.bnf.fr (gallica.bnf.fr)|194.199.8.11|:443... connected.\n",
      "HTTP request sent, awaiting response... 200 200\n",
      "Length: 149054522 (142M) [image/png]\n",
      "Saving to: ‘btv1b53085258t_f1.png’\n",
      "\n",
      "btv1b53085258t_f1.p 100%[===================>] 142.15M  6.73MB/s    in 25s     \n",
      "\n",
      "2022-07-14 08:10:30 (5.65 MB/s) - ‘btv1b53085258t_f1.png’ saved [149054522/149054522]\n",
      "\n"
     ]
    },
    {
     "name": "stderr",
     "output_type": "stream",
     "text": [
      "407it [2:41:24, 51.12s/it]"
     ]
    },
    {
     "name": "stdout",
     "output_type": "stream",
     "text": [
      "pass\n",
      "--2022-07-14 08:10:30--  https://gallica.bnf.fr/iiif/ark:/12148/btv1b53085138m/f1/full/full/0/native.png\n",
      "Resolving gallica.bnf.fr (gallica.bnf.fr)... 194.199.8.11\n",
      "Connecting to gallica.bnf.fr (gallica.bnf.fr)|194.199.8.11|:443... connected.\n",
      "HTTP request sent, awaiting response... 200 200\n",
      "Length: 148030208 (141M) [image/png]\n",
      "Saving to: ‘btv1b53085138m_f1.png’\n",
      "\n",
      "btv1b53085138m_f1.p 100%[===================>] 141.17M  6.86MB/s    in 24s     \n",
      "\n",
      "2022-07-14 08:11:36 (5.84 MB/s) - ‘btv1b53085138m_f1.png’ saved [148030208/148030208]\n",
      "\n"
     ]
    },
    {
     "name": "stderr",
     "output_type": "stream",
     "text": [
      "409it [2:42:30, 44.27s/it]"
     ]
    },
    {
     "name": "stdout",
     "output_type": "stream",
     "text": [
      "--2022-07-14 08:11:36--  https://gallica.bnf.fr/iiif/ark:/12148/btv1b530851553/f1/full/full/0/native.png\n",
      "Resolving gallica.bnf.fr (gallica.bnf.fr)... 194.199.8.11\n",
      "Connecting to gallica.bnf.fr (gallica.bnf.fr)|194.199.8.11|:443... connected.\n",
      "HTTP request sent, awaiting response... 200 200\n",
      "Length: 136477212 (130M) [image/png]\n",
      "Saving to: ‘btv1b530851553_f1.png’\n",
      "\n",
      "btv1b530851553_f1.p 100%[===================>] 130.15M  6.80MB/s    in 23s     \n",
      "\n",
      "2022-07-14 08:12:58 (5.60 MB/s) - ‘btv1b530851553_f1.png’ saved [136477212/136477212]\n",
      "\n"
     ]
    },
    {
     "name": "stderr",
     "output_type": "stream",
     "text": [
      "410it [2:43:52, 52.38s/it]"
     ]
    },
    {
     "name": "stdout",
     "output_type": "stream",
     "text": [
      "--2022-07-14 08:12:58--  https://gallica.bnf.fr/iiif/ark:/12148/btv1b53085265w/f1/full/full/0/native.png\n",
      "Resolving gallica.bnf.fr (gallica.bnf.fr)... 194.199.8.11\n",
      "Connecting to gallica.bnf.fr (gallica.bnf.fr)|194.199.8.11|:443... connected.\n",
      "HTTP request sent, awaiting response... 200 200\n",
      "Length: 150712039 (144M) [image/png]\n",
      "Saving to: ‘btv1b53085265w_f1.png’\n",
      "\n",
      "btv1b53085265w_f1.p 100%[===================>] 143.73M  6.82MB/s    in 25s     \n",
      "\n",
      "2022-07-14 08:14:19 (5.65 MB/s) - ‘btv1b53085265w_f1.png’ saved [150712039/150712039]\n",
      "\n"
     ]
    },
    {
     "name": "stderr",
     "output_type": "stream",
     "text": [
      "411it [2:45:12, 58.95s/it]"
     ]
    },
    {
     "name": "stdout",
     "output_type": "stream",
     "text": [
      "--2022-07-14 08:14:19--  https://gallica.bnf.fr/iiif/ark:/12148/btv1b53062318w/f1/full/full/0/native.png\n",
      "Resolving gallica.bnf.fr (gallica.bnf.fr)... 194.199.8.11\n",
      "Connecting to gallica.bnf.fr (gallica.bnf.fr)|194.199.8.11|:443... connected.\n",
      "HTTP request sent, awaiting response... 200 200\n",
      "Length: 149604578 (143M) [image/png]\n",
      "Saving to: ‘btv1b53062318w_f1.png’\n",
      "\n",
      "btv1b53062318w_f1.p 100%[===================>] 142.67M  6.84MB/s    in 26s     \n",
      "\n",
      "2022-07-14 08:15:35 (5.59 MB/s) - ‘btv1b53062318w_f1.png’ saved [149604578/149604578]\n",
      "\n"
     ]
    },
    {
     "name": "stderr",
     "output_type": "stream",
     "text": [
      "412it [2:46:28, 63.19s/it]"
     ]
    },
    {
     "name": "stdout",
     "output_type": "stream",
     "text": [
      "--2022-07-14 08:15:35--  https://gallica.bnf.fr/iiif/ark:/12148/btv1b530706443/f1/full/full/0/native.png\n",
      "Resolving gallica.bnf.fr (gallica.bnf.fr)... 194.199.8.11\n",
      "Connecting to gallica.bnf.fr (gallica.bnf.fr)|194.199.8.11|:443... connected.\n",
      "HTTP request sent, awaiting response... 200 200\n",
      "Length: 60051799 (57M) [image/png]\n",
      "Saving to: ‘btv1b530706443_f1.png’\n",
      "\n",
      "btv1b530706443_f1.p 100%[===================>]  57.27M  6.79MB/s    in 9.3s    \n",
      "\n",
      "2022-07-14 08:16:24 (6.14 MB/s) - ‘btv1b530706443_f1.png’ saved [60051799/60051799]\n",
      "\n"
     ]
    },
    {
     "name": "stderr",
     "output_type": "stream",
     "text": [
      "413it [2:47:17, 59.44s/it]"
     ]
    },
    {
     "name": "stdout",
     "output_type": "stream",
     "text": [
      "pass\n",
      "--2022-07-14 08:16:24--  https://gallica.bnf.fr/iiif/ark:/12148/btv1b530851714/f1/full/full/0/native.png\n",
      "Resolving gallica.bnf.fr (gallica.bnf.fr)... 194.199.8.11\n",
      "Connecting to gallica.bnf.fr (gallica.bnf.fr)|194.199.8.11|:443... connected.\n",
      "HTTP request sent, awaiting response... 200 200\n",
      "Length: 138785816 (132M) [image/png]\n",
      "Saving to: ‘btv1b530851714_f1.png’\n",
      "\n",
      "btv1b530851714_f1.p 100%[===================>] 132.36M  6.80MB/s    in 23s     \n",
      "\n",
      "2022-07-14 08:17:46 (5.78 MB/s) - ‘btv1b530851714_f1.png’ saved [138785816/138785816]\n",
      "\n"
     ]
    },
    {
     "name": "stderr",
     "output_type": "stream",
     "text": [
      "415it [2:48:40, 51.62s/it]"
     ]
    },
    {
     "name": "stdout",
     "output_type": "stream",
     "text": [
      "--2022-07-14 08:17:46--  https://gallica.bnf.fr/iiif/ark:/12148/btv1b84599574/f1/full/full/0/native.png\n",
      "Resolving gallica.bnf.fr (gallica.bnf.fr)... 194.199.8.11\n",
      "Connecting to gallica.bnf.fr (gallica.bnf.fr)|194.199.8.11|:443... connected.\n",
      "HTTP request sent, awaiting response... 200 200\n",
      "Length: 62845469 (60M) [image/png]\n",
      "Saving to: ‘btv1b84599574_f1.png’\n",
      "\n",
      "btv1b84599574_f1.pn 100%[===================>]  59.93M  6.77MB/s    in 9.7s    \n",
      "\n",
      "2022-07-14 08:18:30 (6.18 MB/s) - ‘btv1b84599574_f1.png’ saved [62845469/62845469]\n",
      "\n"
     ]
    },
    {
     "name": "stderr",
     "output_type": "stream",
     "text": [
      "416it [2:49:24, 49.90s/it]"
     ]
    },
    {
     "name": "stdout",
     "output_type": "stream",
     "text": [
      "pass\n",
      "--2022-07-14 08:18:31--  https://gallica.bnf.fr/iiif/ark:/12148/btv1b8459960m/f1/full/full/0/native.png\n",
      "Resolving gallica.bnf.fr (gallica.bnf.fr)... 194.199.8.11\n",
      "Connecting to gallica.bnf.fr (gallica.bnf.fr)|194.199.8.11|:443... connected.\n",
      "HTTP request sent, awaiting response... 200 200\n",
      "Length: 49247761 (47M) [image/png]\n",
      "Saving to: ‘btv1b8459960m_f1.png’\n",
      "\n",
      "btv1b8459960m_f1.pn 100%[===================>]  46.97M  6.83MB/s    in 7.0s    \n",
      "\n",
      "2022-07-14 08:19:07 (6.69 MB/s) - ‘btv1b8459960m_f1.png’ saved [49247761/49247761]\n",
      "\n"
     ]
    },
    {
     "name": "stderr",
     "output_type": "stream",
     "text": [
      "418it [2:50:00, 37.17s/it]"
     ]
    },
    {
     "name": "stdout",
     "output_type": "stream",
     "text": [
      "--2022-07-14 08:19:07--  https://gallica.bnf.fr/iiif/ark:/12148/btv1b53079190k/f1/full/full/0/native.png\n",
      "Resolving gallica.bnf.fr (gallica.bnf.fr)... 194.199.8.11\n",
      "Connecting to gallica.bnf.fr (gallica.bnf.fr)|194.199.8.11|:443... connected.\n",
      "HTTP request sent, awaiting response... 200 200\n",
      "Length: 14443561 (14M) [image/png]\n",
      "Saving to: ‘btv1b53079190k_f1.png’\n",
      "\n",
      "btv1b53079190k_f1.p 100%[===================>]  13.77M  6.47MB/s    in 2.1s    \n",
      "\n",
      "2022-07-14 08:19:16 (6.47 MB/s) - ‘btv1b53079190k_f1.png’ saved [14443561/14443561]\n",
      "\n"
     ]
    },
    {
     "name": "stderr",
     "output_type": "stream",
     "text": [
      "419it [2:50:09, 30.87s/it]"
     ]
    },
    {
     "name": "stdout",
     "output_type": "stream",
     "text": [
      "--2022-07-14 08:19:16--  https://gallica.bnf.fr/iiif/ark:/12148/btv1b530280280/f1/full/full/0/native.png\n",
      "Resolving gallica.bnf.fr (gallica.bnf.fr)... 194.199.8.11\n",
      "Connecting to gallica.bnf.fr (gallica.bnf.fr)|194.199.8.11|:443... connected.\n",
      "HTTP request sent, awaiting response... 200 200\n",
      "Length: 86405036 (82M) [image/png]\n",
      "Saving to: ‘btv1b530280280_f1.png’\n",
      "\n",
      "btv1b530280280_f1.p 100%[===================>]  82.40M  6.77MB/s    in 15s     \n",
      "\n",
      "2022-07-14 08:20:04 (5.47 MB/s) - ‘btv1b530280280_f1.png’ saved [86405036/86405036]\n",
      "\n"
     ]
    },
    {
     "name": "stderr",
     "output_type": "stream",
     "text": [
      "420it [2:50:58, 35.11s/it]"
     ]
    },
    {
     "name": "stdout",
     "output_type": "stream",
     "text": [
      "pass\n",
      "pass\n",
      "--2022-07-14 08:20:04--  https://gallica.bnf.fr/iiif/ark:/12148/btv1b530852630/f1/full/full/0/native.png\n",
      "Resolving gallica.bnf.fr (gallica.bnf.fr)... 194.199.8.11\n",
      "Connecting to gallica.bnf.fr (gallica.bnf.fr)|194.199.8.11|:443... connected.\n",
      "HTTP request sent, awaiting response... 200 200\n",
      "Length: 149642193 (143M) [image/png]\n",
      "Saving to: ‘btv1b530852630_f1.png’\n",
      "\n",
      "btv1b530852630_f1.p 100%[===================>] 142.71M  6.82MB/s    in 25s     \n",
      "\n",
      "2022-07-14 08:21:25 (5.63 MB/s) - ‘btv1b530852630_f1.png’ saved [149642193/149642193]\n",
      "\n"
     ]
    },
    {
     "name": "stderr",
     "output_type": "stream",
     "text": [
      "423it [2:52:19, 30.99s/it]"
     ]
    },
    {
     "name": "stdout",
     "output_type": "stream",
     "text": [
      "--2022-07-14 08:21:25--  https://gallica.bnf.fr/iiif/ark:/12148/btv1b8494158b/f1/full/full/0/native.png\n",
      "Resolving gallica.bnf.fr (gallica.bnf.fr)... 194.199.8.11\n",
      "Connecting to gallica.bnf.fr (gallica.bnf.fr)|194.199.8.11|:443... connected.\n",
      "HTTP request sent, awaiting response... 200 200\n",
      "Length: 124036055 (118M) [image/png]\n",
      "Saving to: ‘btv1b8494158b_f1.png’\n",
      "\n",
      "btv1b8494158b_f1.pn 100%[===================>] 118.29M  6.82MB/s    in 20s     \n",
      "\n",
      "2022-07-14 08:23:01 (5.79 MB/s) - ‘btv1b8494158b_f1.png’ saved [124036055/124036055]\n",
      "\n"
     ]
    },
    {
     "name": "stderr",
     "output_type": "stream",
     "text": [
      "424it [2:53:54, 43.55s/it]"
     ]
    },
    {
     "name": "stdout",
     "output_type": "stream",
     "text": [
      "--2022-07-14 08:23:01--  https://gallica.bnf.fr/iiif/ark:/12148/btv1b53062015d/f1/full/full/0/native.png\n",
      "Resolving gallica.bnf.fr (gallica.bnf.fr)... 194.199.8.11\n",
      "Connecting to gallica.bnf.fr (gallica.bnf.fr)|194.199.8.11|:443... connected.\n",
      "HTTP request sent, awaiting response... 200 200\n",
      "Length: 98815762 (94M) [image/png]\n",
      "Saving to: ‘btv1b53062015d_f1.png’\n",
      "\n",
      "btv1b53062015d_f1.p 100%[===================>]  94.24M  6.78MB/s    in 18s     \n",
      "\n",
      "2022-07-14 08:24:08 (5.18 MB/s) - ‘btv1b53062015d_f1.png’ saved [98815762/98815762]\n",
      "\n"
     ]
    },
    {
     "name": "stderr",
     "output_type": "stream",
     "text": [
      "425it [2:55:02, 48.78s/it]"
     ]
    },
    {
     "name": "stdout",
     "output_type": "stream",
     "text": [
      "--2022-07-14 08:24:08--  https://gallica.bnf.fr/iiif/ark:/12148/btv1b530855797/f1/full/full/0/native.png\n",
      "Resolving gallica.bnf.fr (gallica.bnf.fr)... 194.199.8.11\n",
      "Connecting to gallica.bnf.fr (gallica.bnf.fr)|194.199.8.11|:443... connected.\n",
      "HTTP request sent, awaiting response... 200 200\n",
      "Length: 96769114 (92M) [image/png]\n",
      "Saving to: ‘btv1b530855797_f1.png’\n",
      "\n",
      "btv1b530855797_f1.p 100%[===================>]  92.29M  6.81MB/s    in 18s     \n",
      "\n",
      "2022-07-14 08:25:24 (5.15 MB/s) - ‘btv1b530855797_f1.png’ saved [96769114/96769114]\n",
      "\n"
     ]
    },
    {
     "name": "stderr",
     "output_type": "stream",
     "text": [
      "426it [2:56:18, 55.22s/it]"
     ]
    },
    {
     "name": "stdout",
     "output_type": "stream",
     "text": [
      "pass\n",
      "pass\n",
      "--2022-07-14 08:25:24--  https://gallica.bnf.fr/iiif/ark:/12148/btv1b84587878/f1/full/full/0/native.png\n",
      "Resolving gallica.bnf.fr (gallica.bnf.fr)... 194.199.8.11\n",
      "Connecting to gallica.bnf.fr (gallica.bnf.fr)|194.199.8.11|:443... connected.\n",
      "HTTP request sent, awaiting response... 200 200\n",
      "Length: 72454379 (69M) [image/png]\n",
      "Saving to: ‘btv1b84587878_f1.png’\n",
      "\n",
      "btv1b84587878_f1.pn 100%[===================>]  69.10M  6.73MB/s    in 11s     \n",
      "\n",
      "2022-07-14 08:26:10 (6.34 MB/s) - ‘btv1b84587878_f1.png’ saved [72454379/72454379]\n",
      "\n"
     ]
    },
    {
     "name": "stderr",
     "output_type": "stream",
     "text": [
      "429it [2:57:03, 35.04s/it]"
     ]
    },
    {
     "name": "stdout",
     "output_type": "stream",
     "text": [
      "--2022-07-14 08:26:10--  https://gallica.bnf.fr/iiif/ark:/12148/btv1b53021164t/f1/full/full/0/native.png\n",
      "Resolving gallica.bnf.fr (gallica.bnf.fr)... 194.199.8.11\n",
      "Connecting to gallica.bnf.fr (gallica.bnf.fr)|194.199.8.11|:443... connected.\n",
      "HTTP request sent, awaiting response... 200 200\n",
      "Length: 171790122 (164M) [image/png]\n",
      "Saving to: ‘btv1b53021164t_f1.png’\n",
      "\n",
      "btv1b53021164t_f1.p 100%[===================>] 163.83M  6.85MB/s    in 28s     \n",
      "\n",
      "2022-07-14 08:27:23 (5.90 MB/s) - ‘btv1b53021164t_f1.png’ saved [171790122/171790122]\n",
      "\n"
     ]
    },
    {
     "name": "stderr",
     "output_type": "stream",
     "text": [
      "430it [2:58:16, 42.40s/it]"
     ]
    },
    {
     "name": "stdout",
     "output_type": "stream",
     "text": [
      "pass\n",
      "--2022-07-14 08:27:23--  https://gallica.bnf.fr/iiif/ark:/12148/btv1b53085179q/f1/full/full/0/native.png\n",
      "Resolving gallica.bnf.fr (gallica.bnf.fr)... 194.199.8.11\n",
      "Connecting to gallica.bnf.fr (gallica.bnf.fr)|194.199.8.11|:443... connected.\n",
      "HTTP request sent, awaiting response... 200 200\n",
      "Length: 141266756 (135M) [image/png]\n",
      "Saving to: ‘btv1b53085179q_f1.png’\n",
      "\n",
      "btv1b53085179q_f1.p 100%[===================>] 134.72M  6.82MB/s    in 23s     \n",
      "\n",
      "2022-07-14 08:28:34 (5.89 MB/s) - ‘btv1b53085179q_f1.png’ saved [141266756/141266756]\n",
      "\n"
     ]
    },
    {
     "name": "stderr",
     "output_type": "stream",
     "text": [
      "432it [2:59:27, 39.94s/it]"
     ]
    },
    {
     "name": "stdout",
     "output_type": "stream",
     "text": [
      "--2022-07-14 08:28:34--  https://gallica.bnf.fr/iiif/ark:/12148/btv1b8445860r/f1/full/full/0/native.png\n",
      "Resolving gallica.bnf.fr (gallica.bnf.fr)... 194.199.8.11\n",
      "Connecting to gallica.bnf.fr (gallica.bnf.fr)|194.199.8.11|:443... connected.\n",
      "HTTP request sent, awaiting response... 200 200\n",
      "Length: 120889005 (115M) [image/png]\n",
      "Saving to: ‘btv1b8445860r_f1.png’\n",
      "\n",
      "btv1b8445860r_f1.pn 100%[===================>] 115.29M  6.74MB/s    in 18s     \n",
      "\n",
      "2022-07-14 08:30:14 (6.47 MB/s) - ‘btv1b8445860r_f1.png’ saved [120889005/120889005]\n",
      "\n"
     ]
    },
    {
     "name": "stderr",
     "output_type": "stream",
     "text": [
      "433it [3:01:08, 52.28s/it]"
     ]
    },
    {
     "name": "stdout",
     "output_type": "stream",
     "text": [
      "--2022-07-14 08:30:15--  https://gallica.bnf.fr/iiif/ark:/12148/btv1b53085212g/f1/full/full/0/native.png\n",
      "Resolving gallica.bnf.fr (gallica.bnf.fr)... 194.199.8.11\n",
      "Connecting to gallica.bnf.fr (gallica.bnf.fr)|194.199.8.11|:443... connected.\n",
      "HTTP request sent, awaiting response... 200 200\n",
      "Length: 240152304 (229M) [image/png]\n",
      "Saving to: ‘btv1b53085212g_f1.png’\n",
      "\n",
      "btv1b53085212g_f1.p 100%[===================>] 229.03M  6.86MB/s    in 36s     \n",
      "\n",
      "2022-07-14 08:32:19 (6.28 MB/s) - ‘btv1b53085212g_f1.png’ saved [240152304/240152304]\n",
      "\n"
     ]
    },
    {
     "name": "stderr",
     "output_type": "stream",
     "text": [
      "434it [3:03:13, 68.59s/it]"
     ]
    },
    {
     "name": "stdout",
     "output_type": "stream",
     "text": [
      "pass\n",
      "--2022-07-14 08:32:19--  https://gallica.bnf.fr/iiif/ark:/12148/btv1b53023140w/f1/full/full/0/native.png\n",
      "Resolving gallica.bnf.fr (gallica.bnf.fr)... 194.199.8.11\n",
      "Connecting to gallica.bnf.fr (gallica.bnf.fr)|194.199.8.11|:443... connected.\n",
      "HTTP request sent, awaiting response... 200 200\n",
      "Length: 98012210 (93M) [image/png]\n",
      "Saving to: ‘btv1b53023140w_f1.png’\n",
      "\n",
      "btv1b53023140w_f1.p 100%[===================>]  93.47M  6.83MB/s    in 19s     \n",
      "\n",
      "2022-07-14 08:33:18 (4.84 MB/s) - ‘btv1b53023140w_f1.png’ saved [98012210/98012210]\n",
      "\n"
     ]
    },
    {
     "name": "stderr",
     "output_type": "stream",
     "text": [
      "436it [3:04:12, 53.21s/it]"
     ]
    },
    {
     "name": "stdout",
     "output_type": "stream",
     "text": [
      "--2022-07-14 08:33:18--  https://gallica.bnf.fr/iiif/ark:/12148/btv1b53102824t/f1/full/full/0/native.png\n",
      "Resolving gallica.bnf.fr (gallica.bnf.fr)... 194.199.8.11\n",
      "Connecting to gallica.bnf.fr (gallica.bnf.fr)|194.199.8.11|:443... connected.\n",
      "HTTP request sent, awaiting response... 200 200\n",
      "Length: 102466433 (98M) [image/png]\n",
      "Saving to: ‘btv1b53102824t_f1.png’\n",
      "\n",
      "btv1b53102824t_f1.p 100%[===================>]  97.72M  6.61MB/s    in 16s     \n",
      "\n",
      "2022-07-14 08:34:21 (6.24 MB/s) - ‘btv1b53102824t_f1.png’ saved [102466433/102466433]\n",
      "\n"
     ]
    },
    {
     "name": "stderr",
     "output_type": "stream",
     "text": [
      "437it [3:05:15, 55.39s/it]"
     ]
    },
    {
     "name": "stdout",
     "output_type": "stream",
     "text": [
      "pass\n",
      "pass\n",
      "--2022-07-14 08:34:21--  https://gallica.bnf.fr/iiif/ark:/12148/btv1b53027745s/f1/full/full/0/native.png\n",
      "Resolving gallica.bnf.fr (gallica.bnf.fr)... 194.199.8.11\n",
      "Connecting to gallica.bnf.fr (gallica.bnf.fr)|194.199.8.11|:443... connected.\n",
      "HTTP request sent, awaiting response... 200 200\n",
      "Length: 100007453 (95M) [image/png]\n",
      "Saving to: ‘btv1b53027745s_f1.png’\n",
      "\n",
      "btv1b53027745s_f1.p 100%[===================>]  95.37M  6.74MB/s    in 17s     \n",
      "\n",
      "2022-07-14 08:35:05 (5.60 MB/s) - ‘btv1b53027745s_f1.png’ saved [100007453/100007453]\n",
      "\n"
     ]
    },
    {
     "name": "stderr",
     "output_type": "stream",
     "text": [
      "440it [3:05:58, 35.62s/it]"
     ]
    },
    {
     "name": "stdout",
     "output_type": "stream",
     "text": [
      "pass\n",
      "--2022-07-14 08:35:05--  https://gallica.bnf.fr/iiif/ark:/12148/btv1b530987832/f1/full/full/0/native.png\n",
      "Resolving gallica.bnf.fr (gallica.bnf.fr)... 194.199.8.11\n",
      "Connecting to gallica.bnf.fr (gallica.bnf.fr)|194.199.8.11|:443... connected.\n",
      "HTTP request sent, awaiting response... 200 200\n",
      "Length: 114134557 (109M) [image/png]\n",
      "Saving to: ‘btv1b530987832_f1.png’\n",
      "\n",
      "btv1b530987832_f1.p 100%[===================>] 108.85M  6.68MB/s    in 21s     \n",
      "\n",
      "2022-07-14 08:36:06 (5.23 MB/s) - ‘btv1b530987832_f1.png’ saved [114134557/114134557]\n",
      "\n"
     ]
    },
    {
     "name": "stderr",
     "output_type": "stream",
     "text": [
      "442it [3:06:59, 34.05s/it]"
     ]
    },
    {
     "name": "stdout",
     "output_type": "stream",
     "text": [
      "--2022-07-14 08:36:06--  https://gallica.bnf.fr/iiif/ark:/12148/btv1b53085521k/f1/full/full/0/native.png\n",
      "Resolving gallica.bnf.fr (gallica.bnf.fr)... 194.199.8.11\n",
      "Connecting to gallica.bnf.fr (gallica.bnf.fr)|194.199.8.11|:443... connected.\n",
      "HTTP request sent, awaiting response... 200 200\n",
      "Length: 143682462 (137M) [image/png]\n",
      "Saving to: ‘btv1b53085521k_f1.png’\n",
      "\n",
      "btv1b53085521k_f1.p 100%[===================>] 137.03M  6.83MB/s    in 25s     \n",
      "\n",
      "2022-07-14 08:37:24 (5.58 MB/s) - ‘btv1b53085521k_f1.png’ saved [143682462/143682462]\n",
      "\n"
     ]
    },
    {
     "name": "stderr",
     "output_type": "stream",
     "text": [
      "443it [3:08:18, 42.22s/it]"
     ]
    },
    {
     "name": "stdout",
     "output_type": "stream",
     "text": [
      "--2022-07-14 08:37:24--  https://gallica.bnf.fr/iiif/ark:/12148/btv1b530851788/f1/full/full/0/native.png\n",
      "Resolving gallica.bnf.fr (gallica.bnf.fr)... 194.199.8.11\n",
      "Connecting to gallica.bnf.fr (gallica.bnf.fr)|194.199.8.11|:443... connected.\n",
      "HTTP request sent, awaiting response... 200 200\n",
      "Length: 155853800 (149M) [image/png]\n",
      "Saving to: ‘btv1b530851788_f1.png’\n",
      "\n",
      "btv1b530851788_f1.p 100%[===================>] 148.63M  6.85MB/s    in 26s     \n",
      "\n",
      "2022-07-14 08:38:39 (5.63 MB/s) - ‘btv1b530851788_f1.png’ saved [155853800/155853800]\n",
      "\n"
     ]
    },
    {
     "name": "stderr",
     "output_type": "stream",
     "text": [
      "444it [3:09:32, 48.92s/it]"
     ]
    },
    {
     "name": "stdout",
     "output_type": "stream",
     "text": [
      "--2022-07-14 08:38:39--  https://gallica.bnf.fr/iiif/ark:/12148/btv1b530852200/f1/full/full/0/native.png\n",
      "Resolving gallica.bnf.fr (gallica.bnf.fr)... 194.199.8.11\n",
      "Connecting to gallica.bnf.fr (gallica.bnf.fr)|194.199.8.11|:443... connected.\n",
      "HTTP request sent, awaiting response... 200 200\n",
      "Length: 159991930 (153M) [image/png]\n",
      "Saving to: ‘btv1b530852200_f1.png’\n",
      "\n",
      "btv1b530852200_f1.p 100%[===================>] 152.58M  6.84MB/s    in 25s     \n",
      "\n",
      "2022-07-14 08:39:51 (6.01 MB/s) - ‘btv1b530852200_f1.png’ saved [159991930/159991930]\n",
      "\n"
     ]
    },
    {
     "name": "stderr",
     "output_type": "stream",
     "text": [
      "445it [3:10:45, 54.38s/it]"
     ]
    },
    {
     "name": "stdout",
     "output_type": "stream",
     "text": [
      "--2022-07-14 08:39:52--  https://gallica.bnf.fr/iiif/ark:/12148/btv1b53085557h/f1/full/full/0/native.png\n",
      "Resolving gallica.bnf.fr (gallica.bnf.fr)... 194.199.8.11\n",
      "Connecting to gallica.bnf.fr (gallica.bnf.fr)|194.199.8.11|:443... connected.\n",
      "HTTP request sent, awaiting response... 503 Service Unavailable\n",
      "2022-07-14 08:41:52 ERROR 503: Service Unavailable.\n",
      "\n"
     ]
    },
    {
     "name": "stderr",
     "output_type": "stream",
     "text": [
      "446it [3:12:45, 70.63s/it]"
     ]
    },
    {
     "name": "stdout",
     "output_type": "stream",
     "text": [
      "--2022-07-14 08:41:52--  https://gallica.bnf.fr/iiif/ark:/12148/btv1b53085192d/f1/full/full/0/native.png\n",
      "Resolving gallica.bnf.fr (gallica.bnf.fr)... 194.199.8.11\n",
      "Connecting to gallica.bnf.fr (gallica.bnf.fr)|194.199.8.11|:443... connected.\n",
      "HTTP request sent, awaiting response... 200 200\n",
      "Length: 154258712 (147M) [image/png]\n",
      "Saving to: ‘btv1b53085192d_f1.png’\n",
      "\n",
      "btv1b53085192d_f1.p 100%[===================>] 147.11M  6.74MB/s    in 22s     \n",
      "\n",
      "2022-07-14 08:43:14 (6.57 MB/s) - ‘btv1b53085192d_f1.png’ saved [154258712/154258712]\n",
      "\n"
     ]
    },
    {
     "name": "stderr",
     "output_type": "stream",
     "text": [
      "447it [3:14:08, 73.72s/it]"
     ]
    },
    {
     "name": "stdout",
     "output_type": "stream",
     "text": [
      "--2022-07-14 08:43:14--  https://gallica.bnf.fr/iiif/ark:/12148/btv1b84442285/f1/full/full/0/native.png\n",
      "Resolving gallica.bnf.fr (gallica.bnf.fr)... 194.199.8.11\n",
      "Connecting to gallica.bnf.fr (gallica.bnf.fr)|194.199.8.11|:443... connected.\n",
      "HTTP request sent, awaiting response... 200 200\n",
      "Length: 88839231 (85M) [image/png]\n",
      "Saving to: ‘btv1b84442285_f1.png’\n",
      "\n",
      "btv1b84442285_f1.pn 100%[===================>]  84.72M  6.87MB/s    in 12s     \n",
      "\n",
      "2022-07-14 08:44:18 (6.80 MB/s) - ‘btv1b84442285_f1.png’ saved [88839231/88839231]\n",
      "\n"
     ]
    },
    {
     "name": "stderr",
     "output_type": "stream",
     "text": [
      "448it [3:15:12, 70.96s/it]"
     ]
    },
    {
     "name": "stdout",
     "output_type": "stream",
     "text": [
      "pass\n",
      "pass\n",
      "--2022-07-14 08:44:18--  https://gallica.bnf.fr/iiif/ark:/12148/btv1b530851877/f1/full/full/0/native.png\n",
      "Resolving gallica.bnf.fr (gallica.bnf.fr)... 194.199.8.11\n",
      "Connecting to gallica.bnf.fr (gallica.bnf.fr)|194.199.8.11|:443... connected.\n",
      "HTTP request sent, awaiting response... 200 200\n",
      "Length: 146543947 (140M) [image/png]\n",
      "Saving to: ‘btv1b530851877_f1.png’\n",
      "\n",
      "btv1b530851877_f1.p 100%[===================>] 139.75M  6.75MB/s    in 25s     \n",
      "\n",
      "2022-07-14 08:45:38 (5.53 MB/s) - ‘btv1b530851877_f1.png’ saved [146543947/146543947]\n",
      "\n"
     ]
    },
    {
     "name": "stderr",
     "output_type": "stream",
     "text": [
      "451it [3:16:31, 47.11s/it]"
     ]
    },
    {
     "name": "stdout",
     "output_type": "stream",
     "text": [
      "pass\n",
      "--2022-07-14 08:45:38--  https://gallica.bnf.fr/iiif/ark:/12148/btv1b530851392/f1/full/full/0/native.png\n",
      "Resolving gallica.bnf.fr (gallica.bnf.fr)... 194.199.8.11\n",
      "Connecting to gallica.bnf.fr (gallica.bnf.fr)|194.199.8.11|:443... connected.\n",
      "HTTP request sent, awaiting response... 200 200\n",
      "Length: 137654438 (131M) [image/png]\n",
      "Saving to: ‘btv1b530851392_f1.png’\n",
      "\n",
      "btv1b530851392_f1.p 100%[===================>] 131.28M  6.80MB/s    in 24s     \n",
      "\n",
      "2022-07-14 08:46:46 (5.50 MB/s) - ‘btv1b530851392_f1.png’ saved [137654438/137654438]\n",
      "\n"
     ]
    },
    {
     "name": "stderr",
     "output_type": "stream",
     "text": [
      "453it [3:17:40, 42.74s/it]"
     ]
    },
    {
     "name": "stdout",
     "output_type": "stream",
     "text": [
      "--2022-07-14 08:46:46--  https://gallica.bnf.fr/iiif/ark:/12148/btv1b530851536/f1/full/full/0/native.png\n",
      "Resolving gallica.bnf.fr (gallica.bnf.fr)... 194.199.8.11\n",
      "Connecting to gallica.bnf.fr (gallica.bnf.fr)|194.199.8.11|:443... connected.\n",
      "HTTP request sent, awaiting response... 200 200\n",
      "Length: 147475209 (141M) [image/png]\n",
      "Saving to: ‘btv1b530851536_f1.png’\n",
      "\n",
      "btv1b530851536_f1.p 100%[===================>] 140.64M  6.85MB/s    in 25s     \n",
      "\n",
      "2022-07-14 08:47:53 (5.54 MB/s) - ‘btv1b530851536_f1.png’ saved [147475209/147475209]\n",
      "\n"
     ]
    },
    {
     "name": "stderr",
     "output_type": "stream",
     "text": [
      "454it [3:18:47, 47.44s/it]"
     ]
    },
    {
     "name": "stdout",
     "output_type": "stream",
     "text": [
      "--2022-07-14 08:47:53--  https://gallica.bnf.fr/iiif/ark:/12148/btv1b53085219m/f1/full/full/0/native.png\n",
      "Resolving gallica.bnf.fr (gallica.bnf.fr)... 194.199.8.11\n",
      "Connecting to gallica.bnf.fr (gallica.bnf.fr)|194.199.8.11|:443... connected.\n",
      "HTTP request sent, awaiting response... 200 200\n",
      "Length: 150088220 (143M) [image/png]\n",
      "Saving to: ‘btv1b53085219m_f1.png’\n",
      "\n",
      "btv1b53085219m_f1.p 100%[===================>] 143.13M  6.87MB/s    in 25s     \n",
      "\n",
      "2022-07-14 08:49:06 (5.76 MB/s) - ‘btv1b53085219m_f1.png’ saved [150088220/150088220]\n",
      "\n"
     ]
    },
    {
     "name": "stderr",
     "output_type": "stream",
     "text": [
      "455it [3:20:00, 53.01s/it]"
     ]
    },
    {
     "name": "stdout",
     "output_type": "stream",
     "text": [
      "pass\n",
      "pass\n",
      "--2022-07-14 08:49:06--  https://gallica.bnf.fr/iiif/ark:/12148/btv1b8459958j/f1/full/full/0/native.png\n",
      "Resolving gallica.bnf.fr (gallica.bnf.fr)... 194.199.8.11\n",
      "Connecting to gallica.bnf.fr (gallica.bnf.fr)|194.199.8.11|:443... connected.\n",
      "HTTP request sent, awaiting response... 200 200\n",
      "Length: 41425093 (40M) [image/png]\n",
      "Saving to: ‘btv1b8459958j_f1.png’\n",
      "\n",
      "btv1b8459958j_f1.pn 100%[===================>]  39.51M  6.85MB/s    in 6.6s    \n",
      "\n",
      "2022-07-14 08:49:34 (6.02 MB/s) - ‘btv1b8459958j_f1.png’ saved [41425093/41425093]\n",
      "\n"
     ]
    },
    {
     "name": "stderr",
     "output_type": "stream",
     "text": [
      "458it [3:20:28, 31.92s/it]"
     ]
    },
    {
     "name": "stdout",
     "output_type": "stream",
     "text": [
      "pass\n",
      "--2022-07-14 08:49:34--  https://gallica.bnf.fr/iiif/ark:/12148/btv1b53085156j/f1/full/full/0/native.png\n",
      "Resolving gallica.bnf.fr (gallica.bnf.fr)... 194.199.8.11\n",
      "Connecting to gallica.bnf.fr (gallica.bnf.fr)|194.199.8.11|:443... connected.\n",
      "HTTP request sent, awaiting response... 200 200\n",
      "Length: 187680100 (179M) [image/png]\n",
      "Saving to: ‘btv1b53085156j_f1.png’\n",
      "\n",
      "btv1b53085156j_f1.p 100%[===================>] 178.99M  6.89MB/s    in 29s     \n",
      "\n",
      "2022-07-14 08:50:56 (6.14 MB/s) - ‘btv1b53085156j_f1.png’ saved [187680100/187680100]\n",
      "\n"
     ]
    },
    {
     "name": "stderr",
     "output_type": "stream",
     "text": [
      "460it [3:21:50, 34.84s/it]"
     ]
    },
    {
     "name": "stdout",
     "output_type": "stream",
     "text": [
      "pass\n",
      "--2022-07-14 08:50:56--  https://gallica.bnf.fr/iiif/ark:/12148/btv1b53085514h/f1/full/full/0/native.png\n",
      "Resolving gallica.bnf.fr (gallica.bnf.fr)... 194.199.8.11\n",
      "Connecting to gallica.bnf.fr (gallica.bnf.fr)|194.199.8.11|:443... connected.\n",
      "HTTP request sent, awaiting response... 200 200\n",
      "Length: 149669264 (143M) [image/png]\n",
      "Saving to: ‘btv1b53085514h_f1.png’\n",
      "\n",
      "btv1b53085514h_f1.p 100%[===================>] 142.74M  6.78MB/s    in 25s     \n",
      "\n",
      "2022-07-14 08:52:15 (5.66 MB/s) - ‘btv1b53085514h_f1.png’ saved [149669264/149669264]\n",
      "\n"
     ]
    },
    {
     "name": "stderr",
     "output_type": "stream",
     "text": [
      "462it [3:23:09, 36.28s/it]"
     ]
    },
    {
     "name": "stdout",
     "output_type": "stream",
     "text": [
      "--2022-07-14 08:52:15--  https://gallica.bnf.fr/iiif/ark:/12148/btv1b53085555m/f1/full/full/0/native.png\n",
      "Resolving gallica.bnf.fr (gallica.bnf.fr)... 194.199.8.11\n",
      "Connecting to gallica.bnf.fr (gallica.bnf.fr)|194.199.8.11|:443... connected.\n",
      "HTTP request sent, awaiting response... 200 200\n",
      "Length: 142039670 (135M) [image/png]\n",
      "Saving to: ‘btv1b53085555m_f1.png’\n",
      "\n",
      "btv1b53085555m_f1.p 100%[===================>] 135.46M  6.85MB/s    in 23s     \n",
      "\n",
      "2022-07-14 08:53:18 (5.97 MB/s) - ‘btv1b53085555m_f1.png’ saved [142039670/142039670]\n",
      "\n"
     ]
    },
    {
     "name": "stderr",
     "output_type": "stream",
     "text": [
      "463it [3:24:11, 41.04s/it]"
     ]
    },
    {
     "name": "stdout",
     "output_type": "stream",
     "text": [
      "--2022-07-14 08:53:18--  https://gallica.bnf.fr/iiif/ark:/12148/btv1b84407863/f1/full/full/0/native.png\n",
      "Resolving gallica.bnf.fr (gallica.bnf.fr)... 194.199.8.11\n",
      "Connecting to gallica.bnf.fr (gallica.bnf.fr)|194.199.8.11|:443... connected.\n",
      "HTTP request sent, awaiting response... 200 200\n",
      "Length: 96180930 (92M) [image/png]\n",
      "Saving to: ‘btv1b84407863_f1.png’\n",
      "\n",
      "btv1b84407863_f1.pn 100%[===================>]  91.72M  3.41MB/s    in 17s     \n",
      "\n",
      "2022-07-14 08:54:22 (5.53 MB/s) - ‘btv1b84407863_f1.png’ saved [96180930/96180930]\n",
      "\n"
     ]
    },
    {
     "name": "stderr",
     "output_type": "stream",
     "text": [
      "464it [3:25:15, 45.73s/it]"
     ]
    },
    {
     "name": "stdout",
     "output_type": "stream",
     "text": [
      "--2022-07-14 08:54:22--  https://gallica.bnf.fr/iiif/ark:/12148/btv1b530851570/f1/full/full/0/native.png\n",
      "Resolving gallica.bnf.fr (gallica.bnf.fr)... 194.199.8.11\n",
      "Connecting to gallica.bnf.fr (gallica.bnf.fr)|194.199.8.11|:443... connected.\n",
      "HTTP request sent, awaiting response... 200 200\n",
      "Length: 160413327 (153M) [image/png]\n",
      "Saving to: ‘btv1b530851570_f1.png’\n",
      "\n",
      "btv1b530851570_f1.p 100%[===================>] 152.98M  6.82MB/s    in 27s     \n",
      "\n",
      "2022-07-14 08:55:41 (5.67 MB/s) - ‘btv1b530851570_f1.png’ saved [160413327/160413327]\n",
      "\n"
     ]
    },
    {
     "name": "stderr",
     "output_type": "stream",
     "text": [
      "465it [3:26:35, 53.47s/it]"
     ]
    },
    {
     "name": "stdout",
     "output_type": "stream",
     "text": [
      "--2022-07-14 08:55:41--  https://gallica.bnf.fr/iiif/ark:/12148/btv1b53099779p/f1/full/full/0/native.png\n",
      "Resolving gallica.bnf.fr (gallica.bnf.fr)... 194.199.8.11\n",
      "Connecting to gallica.bnf.fr (gallica.bnf.fr)|194.199.8.11|:443... connected.\n",
      "HTTP request sent, awaiting response... 200 200\n",
      "Length: 201562265 (192M) [image/png]\n",
      "Saving to: ‘btv1b53099779p_f1.png’\n",
      "\n",
      "btv1b53099779p_f1.p 100%[===================>] 192.22M  6.85MB/s    in 32s     \n",
      "\n",
      "2022-07-14 08:58:03 (5.92 MB/s) - ‘btv1b53099779p_f1.png’ saved [201562265/201562265]\n",
      "\n"
     ]
    },
    {
     "name": "stderr",
     "output_type": "stream",
     "text": [
      "466it [3:28:56, 75.03s/it]"
     ]
    },
    {
     "name": "stdout",
     "output_type": "stream",
     "text": [
      "--2022-07-14 08:58:03--  https://gallica.bnf.fr/iiif/ark:/12148/btv1b8458883z/f1/full/full/0/native.png\n",
      "Resolving gallica.bnf.fr (gallica.bnf.fr)... 194.199.8.11\n",
      "Connecting to gallica.bnf.fr (gallica.bnf.fr)|194.199.8.11|:443... connected.\n",
      "HTTP request sent, awaiting response... 200 200\n",
      "Length: 66608955 (64M) [image/png]\n",
      "Saving to: ‘btv1b8458883z_f1.png’\n",
      "\n",
      "btv1b8458883z_f1.pn 100%[===================>]  63.52M  6.85MB/s    in 10s     \n",
      "\n",
      "2022-07-14 08:58:51 (6.36 MB/s) - ‘btv1b8458883z_f1.png’ saved [66608955/66608955]\n",
      "\n"
     ]
    },
    {
     "name": "stderr",
     "output_type": "stream",
     "text": [
      "467it [3:29:45, 68.09s/it]"
     ]
    },
    {
     "name": "stdout",
     "output_type": "stream",
     "text": [
      "pass\n",
      "pass\n",
      "--2022-07-14 08:58:51--  https://gallica.bnf.fr/iiif/ark:/12148/btv1b53029529p/f1/full/full/0/native.png\n",
      "Resolving gallica.bnf.fr (gallica.bnf.fr)... 194.199.8.11\n",
      "Connecting to gallica.bnf.fr (gallica.bnf.fr)|194.199.8.11|:443... connected.\n",
      "HTTP request sent, awaiting response... 200 200\n",
      "Length: 135320947 (129M) [image/png]\n",
      "Saving to: ‘btv1b53029529p_f1.png’\n",
      "\n",
      "btv1b53029529p_f1.p 100%[===================>] 129.05M  6.86MB/s    in 24s     \n",
      "\n",
      "2022-07-14 08:59:58 (5.48 MB/s) - ‘btv1b53029529p_f1.png’ saved [135320947/135320947]\n",
      "\n"
     ]
    },
    {
     "name": "stderr",
     "output_type": "stream",
     "text": [
      "470it [3:30:51, 43.94s/it]"
     ]
    },
    {
     "name": "stdout",
     "output_type": "stream",
     "text": [
      "--2022-07-14 08:59:58--  https://gallica.bnf.fr/iiif/ark:/12148/btv1b53085239f/f1/full/full/0/native.png\n",
      "Resolving gallica.bnf.fr (gallica.bnf.fr)... 194.199.8.11\n",
      "Connecting to gallica.bnf.fr (gallica.bnf.fr)|194.199.8.11|:443... connected.\n",
      "HTTP request sent, awaiting response... 200 200\n",
      "Length: 150232029 (143M) [image/png]\n",
      "Saving to: ‘btv1b53085239f_f1.png’\n",
      "\n",
      "btv1b53085239f_f1.p 100%[===================>] 143.27M  6.90MB/s    in 24s     \n",
      "\n",
      "2022-07-14 09:01:09 (6.01 MB/s) - ‘btv1b53085239f_f1.png’ saved [150232029/150232029]\n",
      "\n"
     ]
    },
    {
     "name": "stderr",
     "output_type": "stream",
     "text": [
      "471it [3:32:03, 49.53s/it]"
     ]
    },
    {
     "name": "stdout",
     "output_type": "stream",
     "text": [
      "--2022-07-14 09:01:10--  https://gallica.bnf.fr/iiif/ark:/12148/btv1b53022891q/f1/full/full/0/native.png\n",
      "Resolving gallica.bnf.fr (gallica.bnf.fr)... 194.199.8.11\n",
      "Connecting to gallica.bnf.fr (gallica.bnf.fr)|194.199.8.11|:443... connected.\n",
      "HTTP request sent, awaiting response... 200 200\n",
      "Length: 90311542 (86M) [image/png]\n",
      "Saving to: ‘btv1b53022891q_f1.png’\n",
      "\n",
      "btv1b53022891q_f1.p 100%[===================>]  86.13M  6.71MB/s    in 14s     \n",
      "\n",
      "2022-07-14 09:02:01 (6.17 MB/s) - ‘btv1b53022891q_f1.png’ saved [90311542/90311542]\n",
      "\n"
     ]
    },
    {
     "name": "stderr",
     "output_type": "stream",
     "text": [
      "472it [3:32:55, 50.00s/it]"
     ]
    },
    {
     "name": "stdout",
     "output_type": "stream",
     "text": [
      "--2022-07-14 09:02:01--  https://gallica.bnf.fr/iiif/ark:/12148/btv1b53087758d/f1/full/full/0/native.png\n",
      "Resolving gallica.bnf.fr (gallica.bnf.fr)... 194.199.8.11\n",
      "Connecting to gallica.bnf.fr (gallica.bnf.fr)|194.199.8.11|:443... connected.\n",
      "HTTP request sent, awaiting response... 200 200\n",
      "Length: 86117381 (82M) [image/png]\n",
      "Saving to: ‘btv1b53087758d_f1.png’\n",
      "\n",
      "btv1b53087758d_f1.p 100%[===================>]  82.13M  6.74MB/s    in 15s     \n",
      "\n",
      "2022-07-14 09:02:51 (5.39 MB/s) - ‘btv1b53087758d_f1.png’ saved [86117381/86117381]\n",
      "\n"
     ]
    },
    {
     "name": "stderr",
     "output_type": "stream",
     "text": [
      "473it [3:33:45, 49.96s/it]"
     ]
    },
    {
     "name": "stdout",
     "output_type": "stream",
     "text": [
      "--2022-07-14 09:02:51--  https://gallica.bnf.fr/iiif/ark:/12148/btv1b530367214/f1/full/full/0/native.png\n",
      "Resolving gallica.bnf.fr (gallica.bnf.fr)... 194.199.8.11\n",
      "Connecting to gallica.bnf.fr (gallica.bnf.fr)|194.199.8.11|:443... connected.\n",
      "HTTP request sent, awaiting response... 200 200\n",
      "Length: 23575245 (22M) [image/png]\n",
      "Saving to: ‘btv1b530367214_f1.png’\n",
      "\n",
      "btv1b530367214_f1.p 100%[===================>]  22.48M  6.73MB/s    in 4.2s    \n",
      "\n",
      "2022-07-14 09:03:07 (5.41 MB/s) - ‘btv1b530367214_f1.png’ saved [23575245/23575245]\n",
      "\n"
     ]
    },
    {
     "name": "stderr",
     "output_type": "stream",
     "text": [
      "474it [3:34:00, 41.16s/it]"
     ]
    },
    {
     "name": "stdout",
     "output_type": "stream",
     "text": [
      "--2022-07-14 09:03:07--  https://gallica.bnf.fr/iiif/ark:/12148/btv1b53087860m/f1/full/full/0/native.png\n",
      "Resolving gallica.bnf.fr (gallica.bnf.fr)... 194.199.8.11\n",
      "Connecting to gallica.bnf.fr (gallica.bnf.fr)|194.199.8.11|:443... connected.\n",
      "HTTP request sent, awaiting response... 200 200\n",
      "Length: 44150794 (42M) [image/png]\n",
      "Saving to: ‘btv1b53087860m_f1.png’\n",
      "\n",
      "btv1b53087860m_f1.p 100%[===================>]  42.11M  6.81MB/s    in 6.3s    \n",
      "\n",
      "2022-07-14 09:03:42 (6.65 MB/s) - ‘btv1b53087860m_f1.png’ saved [44150794/44150794]\n",
      "\n"
     ]
    },
    {
     "name": "stderr",
     "output_type": "stream",
     "text": [
      "475it [3:34:36, 39.65s/it]"
     ]
    },
    {
     "name": "stdout",
     "output_type": "stream",
     "text": [
      "--2022-07-14 09:03:42--  https://gallica.bnf.fr/iiif/ark:/12148/btv1b530851464/f1/full/full/0/native.png\n",
      "Resolving gallica.bnf.fr (gallica.bnf.fr)... 194.199.8.11\n",
      "Connecting to gallica.bnf.fr (gallica.bnf.fr)|194.199.8.11|:443... connected.\n",
      "HTTP request sent, awaiting response... 200 200\n",
      "Length: 136971449 (131M) [image/png]\n",
      "Saving to: ‘btv1b530851464_f1.png’\n",
      "\n",
      "btv1b530851464_f1.p 100%[===================>] 130.63M  6.87MB/s    in 23s     \n",
      "\n",
      "2022-07-14 09:04:43 (5.74 MB/s) - ‘btv1b530851464_f1.png’ saved [136971449/136971449]\n",
      "\n"
     ]
    },
    {
     "name": "stderr",
     "output_type": "stream",
     "text": [
      "476it [3:35:37, 45.62s/it]"
     ]
    },
    {
     "name": "stdout",
     "output_type": "stream",
     "text": [
      "pass\n",
      "--2022-07-14 09:04:43--  https://gallica.bnf.fr/iiif/ark:/12148/btv1b84942682/f1/full/full/0/native.png\n",
      "Resolving gallica.bnf.fr (gallica.bnf.fr)... 194.199.8.11\n",
      "Connecting to gallica.bnf.fr (gallica.bnf.fr)|194.199.8.11|:443... connected.\n",
      "HTTP request sent, awaiting response... 200 200\n",
      "Length: 122600836 (117M) [image/png]\n",
      "Saving to: ‘btv1b84942682_f1.png’\n",
      "\n",
      "btv1b84942682_f1.pn 100%[===================>] 116.92M  6.86MB/s    in 17s     \n",
      "\n",
      "2022-07-14 09:05:59 (6.78 MB/s) - ‘btv1b84942682_f1.png’ saved [122600836/122600836]\n",
      "\n"
     ]
    },
    {
     "name": "stderr",
     "output_type": "stream",
     "text": [
      "478it [3:36:52, 42.14s/it]"
     ]
    },
    {
     "name": "stdout",
     "output_type": "stream",
     "text": [
      "pass\n",
      "--2022-07-14 09:05:59--  https://gallica.bnf.fr/iiif/ark:/12148/btv1b530851358/f1/full/full/0/native.png\n",
      "Resolving gallica.bnf.fr (gallica.bnf.fr)... 194.199.8.11\n",
      "Connecting to gallica.bnf.fr (gallica.bnf.fr)|194.199.8.11|:443... connected.\n",
      "HTTP request sent, awaiting response... 200 200\n",
      "Length: 258996853 (247M) [image/png]\n",
      "Saving to: ‘btv1b530851358_f1.png’\n",
      "\n",
      "btv1b530851358_f1.p 100%[===================>] 247.00M  6.82MB/s    in 39s     \n",
      "\n",
      "2022-07-14 09:07:49 (6.26 MB/s) - ‘btv1b530851358_f1.png’ saved [258996853/258996853]\n",
      "\n"
     ]
    },
    {
     "name": "stderr",
     "output_type": "stream",
     "text": [
      "480it [3:38:43, 47.18s/it]"
     ]
    },
    {
     "name": "stdout",
     "output_type": "stream",
     "text": [
      "--2022-07-14 09:07:49--  https://gallica.bnf.fr/iiif/ark:/12148/btv1b53085512m/f1/full/full/0/native.png\n",
      "Resolving gallica.bnf.fr (gallica.bnf.fr)... 194.199.8.11\n",
      "Connecting to gallica.bnf.fr (gallica.bnf.fr)|194.199.8.11|:443... connected.\n",
      "HTTP request sent, awaiting response... 200 200\n",
      "Length: 191172507 (182M) [image/png]\n",
      "Saving to: ‘btv1b53085512m_f1.png’\n",
      "\n",
      "btv1b53085512m_f1.p 100%[===================>] 182.32M  6.84MB/s    in 31s     \n",
      "\n",
      "2022-07-14 09:09:30 (5.91 MB/s) - ‘btv1b53085512m_f1.png’ saved [191172507/191172507]\n",
      "\n"
     ]
    },
    {
     "name": "stderr",
     "output_type": "stream",
     "text": [
      "481it [3:40:24, 58.86s/it]"
     ]
    },
    {
     "name": "stdout",
     "output_type": "stream",
     "text": [
      "--2022-07-14 09:09:30--  https://gallica.bnf.fr/iiif/ark:/12148/btv1b530300506/f1/full/full/0/native.png\n",
      "Resolving gallica.bnf.fr (gallica.bnf.fr)... 194.199.8.11\n",
      "Connecting to gallica.bnf.fr (gallica.bnf.fr)|194.199.8.11|:443... connected.\n",
      "HTTP request sent, awaiting response... 200 200\n",
      "Length: 127193206 (121M) [image/png]\n",
      "Saving to: ‘btv1b530300506_f1.png’\n",
      "\n",
      "btv1b530300506_f1.p 100%[===================>] 121.30M  6.83MB/s    in 19s     \n",
      "\n",
      "2022-07-14 09:10:37 (6.54 MB/s) - ‘btv1b530300506_f1.png’ saved [127193206/127193206]\n",
      "\n"
     ]
    },
    {
     "name": "stderr",
     "output_type": "stream",
     "text": [
      "482it [3:41:31, 60.71s/it]"
     ]
    },
    {
     "name": "stdout",
     "output_type": "stream",
     "text": [
      "--2022-07-14 09:10:37--  https://gallica.bnf.fr/iiif/ark:/12148/btv1b530851608/f1/full/full/0/native.png\n",
      "Resolving gallica.bnf.fr (gallica.bnf.fr)... 194.199.8.11\n",
      "Connecting to gallica.bnf.fr (gallica.bnf.fr)|194.199.8.11|:443... connected.\n",
      "HTTP request sent, awaiting response... 200 200\n",
      "Length: 117010546 (112M) [image/png]\n",
      "Saving to: ‘btv1b530851608_f1.png’\n",
      "\n",
      "btv1b530851608_f1.p 100%[===================>] 111.59M  6.82MB/s    in 20s     \n",
      "\n",
      "2022-07-14 09:11:32 (5.57 MB/s) - ‘btv1b530851608_f1.png’ saved [117010546/117010546]\n",
      "\n"
     ]
    },
    {
     "name": "stderr",
     "output_type": "stream",
     "text": [
      "483it [3:42:25, 59.20s/it]"
     ]
    },
    {
     "name": "stdout",
     "output_type": "stream",
     "text": [
      "--2022-07-14 09:11:32--  https://gallica.bnf.fr/iiif/ark:/12148/btv1b530851625/f1/full/full/0/native.png\n",
      "Resolving gallica.bnf.fr (gallica.bnf.fr)... 194.199.8.11\n",
      "Connecting to gallica.bnf.fr (gallica.bnf.fr)|194.199.8.11|:443... connected.\n",
      "HTTP request sent, awaiting response... 200 200\n",
      "Length: 126234007 (120M) [image/png]\n",
      "Saving to: ‘btv1b530851625_f1.png’\n",
      "\n",
      "btv1b530851625_f1.p 100%[===================>] 120.39M  6.78MB/s    in 18s     \n",
      "\n",
      "2022-07-14 09:12:26 (6.73 MB/s) - ‘btv1b530851625_f1.png’ saved [126234007/126234007]\n",
      "\n"
     ]
    },
    {
     "name": "stderr",
     "output_type": "stream",
     "text": [
      "484it [3:43:20, 57.99s/it]"
     ]
    },
    {
     "name": "stdout",
     "output_type": "stream",
     "text": [
      "--2022-07-14 09:12:27--  https://gallica.bnf.fr/iiif/ark:/12148/btv1b530852435/f1/full/full/0/native.png\n",
      "Resolving gallica.bnf.fr (gallica.bnf.fr)... 194.199.8.11\n",
      "Connecting to gallica.bnf.fr (gallica.bnf.fr)|194.199.8.11|:443... connected.\n",
      "HTTP request sent, awaiting response... 200 200\n",
      "Length: 138670541 (132M) [image/png]\n",
      "Saving to: ‘btv1b530852435_f1.png’\n",
      "\n",
      "btv1b530852435_f1.p 100%[===================>] 132.25M  6.64MB/s    in 24s     \n",
      "\n",
      "2022-07-14 09:13:41 (5.54 MB/s) - ‘btv1b530852435_f1.png’ saved [138670541/138670541]\n",
      "\n"
     ]
    },
    {
     "name": "stderr",
     "output_type": "stream",
     "text": [
      "485it [3:44:34, 62.51s/it]"
     ]
    },
    {
     "name": "stdout",
     "output_type": "stream",
     "text": [
      "pass\n",
      "pass\n",
      "--2022-07-14 09:13:41--  https://gallica.bnf.fr/iiif/ark:/12148/btv1b53085575f/f1/full/full/0/native.png\n",
      "Resolving gallica.bnf.fr (gallica.bnf.fr)... 194.199.8.11\n",
      "Connecting to gallica.bnf.fr (gallica.bnf.fr)|194.199.8.11|:443... connected.\n",
      "HTTP request sent, awaiting response... 200 200\n",
      "Length: 110431535 (105M) [image/png]\n",
      "Saving to: ‘btv1b53085575f_f1.png’\n",
      "\n",
      "btv1b53085575f_f1.p 100%[===================>] 105.32M  6.80MB/s    in 16s     \n",
      "\n",
      "2022-07-14 09:14:47 (6.52 MB/s) - ‘btv1b53085575f_f1.png’ saved [110431535/110431535]\n",
      "\n"
     ]
    },
    {
     "name": "stderr",
     "output_type": "stream",
     "text": [
      "488it [3:45:41, 40.69s/it]"
     ]
    },
    {
     "name": "stdout",
     "output_type": "stream",
     "text": [
      "--2022-07-14 09:14:47--  https://gallica.bnf.fr/iiif/ark:/12148/btv1b53085131g/f1/full/full/0/native.png\n",
      "Resolving gallica.bnf.fr (gallica.bnf.fr)... 194.199.8.11\n",
      "Connecting to gallica.bnf.fr (gallica.bnf.fr)|194.199.8.11|:443... connected.\n",
      "HTTP request sent, awaiting response... 200 200\n",
      "Length: 214999743 (205M) [image/png]\n",
      "Saving to: ‘btv1b53085131g_f1.png’\n",
      "\n",
      "btv1b53085131g_f1.p 100%[===================>] 205.04M  6.81MB/s    in 35s     \n",
      "\n",
      "2022-07-14 09:16:21 (5.92 MB/s) - ‘btv1b53085131g_f1.png’ saved [214999743/214999743]\n",
      "\n"
     ]
    },
    {
     "name": "stderr",
     "output_type": "stream",
     "text": [
      "489it [3:47:14, 51.48s/it]"
     ]
    },
    {
     "name": "stdout",
     "output_type": "stream",
     "text": [
      "--2022-07-14 09:16:21--  https://gallica.bnf.fr/iiif/ark:/12148/btv1b530855221/f1/full/full/0/native.png\n",
      "Resolving gallica.bnf.fr (gallica.bnf.fr)... 194.199.8.11\n",
      "Connecting to gallica.bnf.fr (gallica.bnf.fr)|194.199.8.11|:443... connected.\n",
      "HTTP request sent, awaiting response... 200 200\n",
      "Length: 206433687 (197M) [image/png]\n",
      "Saving to: ‘btv1b530855221_f1.png’\n",
      "\n",
      "btv1b530855221_f1.p 100%[===================>] 196.87M  6.64MB/s    in 33s     \n",
      "\n",
      "2022-07-14 09:18:18 (6.02 MB/s) - ‘btv1b530855221_f1.png’ saved [206433687/206433687]\n",
      "\n"
     ]
    },
    {
     "name": "stderr",
     "output_type": "stream",
     "text": [
      "490it [3:49:12, 66.47s/it]"
     ]
    },
    {
     "name": "stdout",
     "output_type": "stream",
     "text": [
      "pass\n",
      "--2022-07-14 09:18:18--  https://gallica.bnf.fr/iiif/ark:/12148/btv1b530855026/f1/full/full/0/native.png\n",
      "Resolving gallica.bnf.fr (gallica.bnf.fr)... 194.199.8.11\n",
      "Connecting to gallica.bnf.fr (gallica.bnf.fr)|194.199.8.11|:443... connected.\n",
      "HTTP request sent, awaiting response... 200 200\n",
      "Length: 133174070 (127M) [image/png]\n",
      "Saving to: ‘btv1b530855026_f1.png’\n",
      "\n",
      "btv1b530855026_f1.p 100%[===================>] 127.00M  6.84MB/s    in 23s     \n",
      "\n",
      "2022-07-14 09:19:24 (5.46 MB/s) - ‘btv1b530855026_f1.png’ saved [133174070/133174070]\n",
      "\n"
     ]
    },
    {
     "name": "stderr",
     "output_type": "stream",
     "text": [
      "492it [3:50:18, 53.24s/it]"
     ]
    },
    {
     "name": "stdout",
     "output_type": "stream",
     "text": [
      "--2022-07-14 09:19:24--  https://gallica.bnf.fr/iiif/ark:/12148/btv1b8439572w/f1/full/full/0/native.png\n",
      "Resolving gallica.bnf.fr (gallica.bnf.fr)... 194.199.8.11\n",
      "Connecting to gallica.bnf.fr (gallica.bnf.fr)|194.199.8.11|:443... connected.\n",
      "HTTP request sent, awaiting response... 200 200\n",
      "Length: 49240253 (47M) [image/png]\n",
      "Saving to: ‘btv1b8439572w_f1.png’\n",
      "\n",
      "btv1b8439572w_f1.pn 100%[===================>]  46.96M  6.82MB/s    in 8.0s    \n",
      "\n",
      "2022-07-14 09:19:50 (5.88 MB/s) - ‘btv1b8439572w_f1.png’ saved [49240253/49240253]\n",
      "\n"
     ]
    },
    {
     "name": "stderr",
     "output_type": "stream",
     "text": [
      "493it [3:50:43, 47.19s/it]"
     ]
    },
    {
     "name": "stdout",
     "output_type": "stream",
     "text": [
      "--2022-07-14 09:19:50--  https://gallica.bnf.fr/iiif/ark:/12148/btv1b53029482n/f1/full/full/0/native.png\n",
      "Resolving gallica.bnf.fr (gallica.bnf.fr)... 194.199.8.11\n",
      "Connecting to gallica.bnf.fr (gallica.bnf.fr)|194.199.8.11|:443... connected.\n",
      "HTTP request sent, awaiting response... 200 200\n",
      "Length: 130615083 (125M) [image/png]\n",
      "Saving to: ‘btv1b53029482n_f1.png’\n",
      "\n",
      "btv1b53029482n_f1.p 100%[===================>] 124.56M  6.66MB/s    in 19s     \n",
      "\n",
      "2022-07-14 09:20:44 (6.40 MB/s) - ‘btv1b53029482n_f1.png’ saved [130615083/130615083]\n",
      "\n"
     ]
    },
    {
     "name": "stderr",
     "output_type": "stream",
     "text": [
      "494it [3:51:38, 48.94s/it]"
     ]
    },
    {
     "name": "stdout",
     "output_type": "stream",
     "text": [
      "--2022-07-14 09:20:44--  https://gallica.bnf.fr/iiif/ark:/12148/btv1b53085190h/f1/full/full/0/native.png\n",
      "Resolving gallica.bnf.fr (gallica.bnf.fr)... 194.199.8.11\n",
      "Connecting to gallica.bnf.fr (gallica.bnf.fr)|194.199.8.11|:443... connected.\n",
      "HTTP request sent, awaiting response... 200 200\n",
      "Length: 131048529 (125M) [image/png]\n",
      "Saving to: ‘btv1b53085190h_f1.png’\n",
      "\n",
      "btv1b53085190h_f1.p 100%[===================>] 124.98M  6.84MB/s    in 22s     \n",
      "\n",
      "2022-07-14 09:22:02 (5.56 MB/s) - ‘btv1b53085190h_f1.png’ saved [131048529/131048529]\n",
      "\n"
     ]
    },
    {
     "name": "stderr",
     "output_type": "stream",
     "text": [
      "495it [3:52:56, 56.41s/it]"
     ]
    },
    {
     "name": "stdout",
     "output_type": "stream",
     "text": [
      "--2022-07-14 09:22:03--  https://gallica.bnf.fr/iiif/ark:/12148/btv1b8458984q/f1/full/full/0/native.png\n",
      "Resolving gallica.bnf.fr (gallica.bnf.fr)... 194.199.8.11\n",
      "Connecting to gallica.bnf.fr (gallica.bnf.fr)|194.199.8.11|:443... connected.\n",
      "HTTP request sent, awaiting response... 200 200\n",
      "Length: 59808874 (57M) [image/png]\n",
      "Saving to: ‘btv1b8458984q_f1.png’\n",
      "\n",
      "btv1b8458984q_f1.pn 100%[===================>]  57.04M  6.83MB/s    in 8.6s    \n",
      "\n",
      "2022-07-14 09:22:45 (6.65 MB/s) - ‘btv1b8458984q_f1.png’ saved [59808874/59808874]\n",
      "\n"
     ]
    },
    {
     "name": "stderr",
     "output_type": "stream",
     "text": [
      "496it [3:53:39, 52.86s/it]"
     ]
    },
    {
     "name": "stdout",
     "output_type": "stream",
     "text": [
      "--2022-07-14 09:22:46--  https://gallica.bnf.fr/iiif/ark:/12148/btv1b8494305w/f1/full/full/0/native.png\n",
      "Resolving gallica.bnf.fr (gallica.bnf.fr)... 194.199.8.11\n",
      "Connecting to gallica.bnf.fr (gallica.bnf.fr)|194.199.8.11|:443... connected.\n",
      "HTTP request sent, awaiting response... 200 200\n",
      "Length: 141981340 (135M) [image/png]\n",
      "Saving to: ‘btv1b8494305w_f1.png’\n",
      "\n",
      "btv1b8494305w_f1.pn 100%[===================>] 135.40M  6.75MB/s    in 25s     \n",
      "\n",
      "2022-07-14 09:24:18 (5.52 MB/s) - ‘btv1b8494305w_f1.png’ saved [141981340/141981340]\n",
      "\n"
     ]
    },
    {
     "name": "stderr",
     "output_type": "stream",
     "text": [
      "497it [3:55:12, 63.90s/it]"
     ]
    },
    {
     "name": "stdout",
     "output_type": "stream",
     "text": [
      "--2022-07-14 09:24:19--  https://gallica.bnf.fr/iiif/ark:/12148/btv1b53085213x/f1/full/full/0/native.png\n",
      "Resolving gallica.bnf.fr (gallica.bnf.fr)... 194.199.8.11\n",
      "Connecting to gallica.bnf.fr (gallica.bnf.fr)|194.199.8.11|:443... connected.\n",
      "HTTP request sent, awaiting response... 200 200\n",
      "Length: 151348517 (144M) [image/png]\n",
      "Saving to: ‘btv1b53085213x_f1.png’\n",
      "\n",
      "btv1b53085213x_f1.p 100%[===================>] 144.34M  6.80MB/s    in 26s     \n",
      "\n",
      "2022-07-14 09:25:27 (5.56 MB/s) - ‘btv1b53085213x_f1.png’ saved [151348517/151348517]\n",
      "\n"
     ]
    },
    {
     "name": "stderr",
     "output_type": "stream",
     "text": [
      "498it [3:56:21, 65.33s/it]"
     ]
    },
    {
     "name": "stdout",
     "output_type": "stream",
     "text": [
      "--2022-07-14 09:25:28--  https://gallica.bnf.fr/iiif/ark:/12148/btv1b8441466m/f1/full/full/0/native.png\n",
      "Resolving gallica.bnf.fr (gallica.bnf.fr)... 194.199.8.11\n",
      "Connecting to gallica.bnf.fr (gallica.bnf.fr)|194.199.8.11|:443... connected.\n",
      "HTTP request sent, awaiting response... 200 200\n",
      "Length: 124054843 (118M) [image/png]\n",
      "Saving to: ‘btv1b8441466m_f1.png’\n",
      "\n",
      "btv1b8441466m_f1.pn 100%[===================>] 118.31M  6.81MB/s    in 18s     \n",
      "\n",
      "2022-07-14 09:26:53 (6.54 MB/s) - ‘btv1b8441466m_f1.png’ saved [124054843/124054843]\n",
      "\n"
     ]
    },
    {
     "name": "stderr",
     "output_type": "stream",
     "text": [
      "499it [3:57:47, 71.26s/it]"
     ]
    },
    {
     "name": "stdout",
     "output_type": "stream",
     "text": [
      "--2022-07-14 09:26:53--  https://gallica.bnf.fr/iiif/ark:/12148/btv1b53025021t/f1/full/full/0/native.png\n",
      "Resolving gallica.bnf.fr (gallica.bnf.fr)... 194.199.8.11\n",
      "Connecting to gallica.bnf.fr (gallica.bnf.fr)|194.199.8.11|:443... connected.\n",
      "HTTP request sent, awaiting response... 200 200\n",
      "Length: 165473612 (158M) [image/png]\n",
      "Saving to: ‘btv1b53025021t_f1.png’\n",
      "\n",
      "btv1b53025021t_f1.p 100%[===================>] 157.81M  6.83MB/s    in 28s     \n",
      "\n",
      "2022-07-14 09:28:16 (5.74 MB/s) - ‘btv1b53025021t_f1.png’ saved [165473612/165473612]\n",
      "\n"
     ]
    },
    {
     "name": "stderr",
     "output_type": "stream",
     "text": [
      "500it [3:59:09, 74.52s/it]"
     ]
    },
    {
     "name": "stdout",
     "output_type": "stream",
     "text": [
      "pass\n",
      "--2022-07-14 09:28:16--  https://gallica.bnf.fr/iiif/ark:/12148/btv1b530851301/f1/full/full/0/native.png\n",
      "Resolving gallica.bnf.fr (gallica.bnf.fr)... 194.199.8.11\n",
      "Connecting to gallica.bnf.fr (gallica.bnf.fr)|194.199.8.11|:443... connected.\n",
      "HTTP request sent, awaiting response... 200 200\n",
      "Length: 116621033 (111M) [image/png]\n",
      "Saving to: ‘btv1b530851301_f1.png’\n",
      "\n",
      "btv1b530851301_f1.p 100%[===================>] 111.22M  6.71MB/s    in 20s     \n",
      "\n",
      "2022-07-14 09:29:08 (5.62 MB/s) - ‘btv1b530851301_f1.png’ saved [116621033/116621033]\n",
      "\n"
     ]
    },
    {
     "name": "stderr",
     "output_type": "stream",
     "text": [
      "502it [4:00:02, 52.65s/it]"
     ]
    },
    {
     "name": "stdout",
     "output_type": "stream",
     "text": [
      "--2022-07-14 09:29:09--  https://gallica.bnf.fr/iiif/ark:/12148/btv1b53192585d/f1/full/full/0/native.png\n",
      "Resolving gallica.bnf.fr (gallica.bnf.fr)... 194.199.8.11\n",
      "Connecting to gallica.bnf.fr (gallica.bnf.fr)|194.199.8.11|:443... connected.\n",
      "HTTP request sent, awaiting response... 200 200\n",
      "Length: 113147972 (108M) [image/png]\n",
      "Saving to: ‘btv1b53192585d_f1.png’\n",
      "\n",
      "btv1b53192585d_f1.p 100%[===================>] 107.91M  6.71MB/s    in 17s     \n",
      "\n",
      "2022-07-14 09:29:59 (6.42 MB/s) - ‘btv1b53192585d_f1.png’ saved [113147972/113147972]\n",
      "\n"
     ]
    },
    {
     "name": "stderr",
     "output_type": "stream",
     "text": [
      "503it [4:00:52, 52.01s/it]"
     ]
    },
    {
     "name": "stdout",
     "output_type": "stream",
     "text": [
      "--2022-07-14 09:29:59--  https://gallica.bnf.fr/iiif/ark:/12148/btv1b84426923/f1/full/full/0/native.png\n",
      "Resolving gallica.bnf.fr (gallica.bnf.fr)... 194.199.8.11\n",
      "Connecting to gallica.bnf.fr (gallica.bnf.fr)|194.199.8.11|:443... connected.\n",
      "HTTP request sent, awaiting response... 200 200\n",
      "Length: 47114533 (45M) [image/png]\n",
      "Saving to: ‘btv1b84426923_f1.png’\n",
      "\n",
      "btv1b84426923_f1.pn 100%[===================>]  44.93M  6.81MB/s    in 7.3s    \n",
      "\n",
      "2022-07-14 09:30:29 (6.14 MB/s) - ‘btv1b84426923_f1.png’ saved [47114533/47114533]\n",
      "\n"
     ]
    },
    {
     "name": "stderr",
     "output_type": "stream",
     "text": [
      "504it [4:01:23, 46.44s/it]"
     ]
    },
    {
     "name": "stdout",
     "output_type": "stream",
     "text": [
      "--2022-07-14 09:30:29--  https://gallica.bnf.fr/iiif/ark:/12148/btv1b530300847/f1/full/full/0/native.png\n",
      "Resolving gallica.bnf.fr (gallica.bnf.fr)... 194.199.8.11\n",
      "Connecting to gallica.bnf.fr (gallica.bnf.fr)|194.199.8.11|:443... connected.\n",
      "HTTP request sent, awaiting response... 200 200\n",
      "Length: 123506781 (118M) [image/png]\n",
      "Saving to: ‘btv1b530300847_f1.png’\n",
      "\n",
      "btv1b530300847_f1.p 100%[===================>] 117.79M  6.82MB/s    in 22s     \n",
      "\n",
      "2022-07-14 09:31:34 (5.46 MB/s) - ‘btv1b530300847_f1.png’ saved [123506781/123506781]\n",
      "\n"
     ]
    },
    {
     "name": "stderr",
     "output_type": "stream",
     "text": [
      "505it [4:02:27, 51.32s/it]"
     ]
    },
    {
     "name": "stdout",
     "output_type": "stream",
     "text": [
      "--2022-07-14 09:31:34--  https://gallica.bnf.fr/iiif/ark:/12148/btv1b53085551t/f1/full/full/0/native.png\n",
      "Resolving gallica.bnf.fr (gallica.bnf.fr)... 194.199.8.11\n",
      "Connecting to gallica.bnf.fr (gallica.bnf.fr)|194.199.8.11|:443... connected.\n",
      "HTTP request sent, awaiting response... 200 200\n",
      "Length: 293852893 (280M) [image/png]\n",
      "Saving to: ‘btv1b53085551t_f1.png’\n",
      "\n",
      "btv1b53085551t_f1.p 100%[===================>] 280.24M  6.83MB/s    in 45s     \n",
      "\n",
      "2022-07-14 09:33:47 (6.20 MB/s) - ‘btv1b53085551t_f1.png’ saved [293852893/293852893]\n",
      "\n"
     ]
    },
    {
     "name": "stderr",
     "output_type": "stream",
     "text": [
      "506it [4:04:40, 74.13s/it]"
     ]
    },
    {
     "name": "stdout",
     "output_type": "stream",
     "text": [
      "--2022-07-14 09:33:47--  https://gallica.bnf.fr/iiif/ark:/12148/btv1b8441518w/f2/full/full/0/native.png\n",
      "Resolving gallica.bnf.fr (gallica.bnf.fr)... 194.199.8.11\n",
      "Connecting to gallica.bnf.fr (gallica.bnf.fr)|194.199.8.11|:443... connected.\n",
      "HTTP request sent, awaiting response... 200 200\n",
      "Length: 118125777 (113M) [image/png]\n",
      "Saving to: ‘btv1b8441518w_f2.png’\n",
      "\n",
      "btv1b8441518w_f2.pn 100%[===================>] 112.65M  6.80MB/s    in 22s     \n",
      "\n",
      "2022-07-14 09:35:12 (5.10 MB/s) - ‘btv1b8441518w_f2.png’ saved [118125777/118125777]\n",
      "\n"
     ]
    },
    {
     "name": "stderr",
     "output_type": "stream",
     "text": [
      "507it [4:06:06, 77.35s/it]"
     ]
    },
    {
     "name": "stdout",
     "output_type": "stream",
     "text": [
      "--2022-07-14 09:35:12--  https://gallica.bnf.fr/iiif/ark:/12148/btv1b8442733k/f1/full/full/0/native.png\n",
      "Resolving gallica.bnf.fr (gallica.bnf.fr)... 194.199.8.11\n",
      "Connecting to gallica.bnf.fr (gallica.bnf.fr)|194.199.8.11|:443... connected.\n",
      "HTTP request sent, awaiting response... 200 200\n",
      "Length: 64742447 (62M) [image/png]\n",
      "Saving to: ‘btv1b8442733k_f1.png’\n",
      "\n",
      "btv1b8442733k_f1.pn 100%[===================>]  61.74M  6.72MB/s    in 10s     \n",
      "\n",
      "2022-07-14 09:35:47 (6.16 MB/s) - ‘btv1b8442733k_f1.png’ saved [64742447/64742447]\n",
      "\n"
     ]
    },
    {
     "name": "stderr",
     "output_type": "stream",
     "text": [
      "508it [4:06:41, 65.12s/it]"
     ]
    },
    {
     "name": "stdout",
     "output_type": "stream",
     "text": [
      "--2022-07-14 09:35:47--  https://gallica.bnf.fr/iiif/ark:/12148/btv1b8439571g/f1/full/full/0/native.png\n",
      "Resolving gallica.bnf.fr (gallica.bnf.fr)... 194.199.8.11\n",
      "Connecting to gallica.bnf.fr (gallica.bnf.fr)|194.199.8.11|:443... connected.\n",
      "HTTP request sent, awaiting response... 200 200\n",
      "Length: 135863899 (130M) [image/png]\n",
      "Saving to: ‘btv1b8439571g_f1.png’\n",
      "\n",
      "btv1b8439571g_f1.pn 100%[===================>] 129.57M  6.71MB/s    in 23s     \n",
      "\n",
      "2022-07-14 09:37:20 (5.52 MB/s) - ‘btv1b8439571g_f1.png’ saved [135863899/135863899]\n",
      "\n"
     ]
    },
    {
     "name": "stderr",
     "output_type": "stream",
     "text": [
      "509it [4:08:14, 73.31s/it]"
     ]
    },
    {
     "name": "stdout",
     "output_type": "stream",
     "text": [
      "--2022-07-14 09:37:21--  https://gallica.bnf.fr/iiif/ark:/12148/btv1b84414441/f1/full/full/0/native.png\n",
      "Resolving gallica.bnf.fr (gallica.bnf.fr)... 194.199.8.11\n",
      "Connecting to gallica.bnf.fr (gallica.bnf.fr)|194.199.8.11|:443... connected.\n",
      "HTTP request sent, awaiting response... 200 200\n",
      "Length: 111957171 (107M) [image/png]\n",
      "Saving to: ‘btv1b84414441_f1.png’\n",
      "\n",
      "btv1b84414441_f1.pn 100%[===================>] 106.77M  6.70MB/s    in 16s     \n",
      "\n",
      "2022-07-14 09:38:44 (6.75 MB/s) - ‘btv1b84414441_f1.png’ saved [111957171/111957171]\n",
      "\n"
     ]
    },
    {
     "name": "stderr",
     "output_type": "stream",
     "text": [
      "510it [4:09:38, 76.43s/it]"
     ]
    },
    {
     "name": "stdout",
     "output_type": "stream",
     "text": [
      "--2022-07-14 09:38:44--  https://gallica.bnf.fr/iiif/ark:/12148/btv1b8443183q/f1/full/full/0/native.png\n",
      "Resolving gallica.bnf.fr (gallica.bnf.fr)... 194.199.8.11\n",
      "Connecting to gallica.bnf.fr (gallica.bnf.fr)|194.199.8.11|:443... connected.\n",
      "HTTP request sent, awaiting response... 200 200\n",
      "Length: 50983380 (49M) [image/png]\n",
      "Saving to: ‘btv1b8443183q_f1.png’\n",
      "\n",
      "btv1b8443183q_f1.pn 100%[===================>]  48.62M  6.75MB/s    in 7.9s    \n",
      "\n",
      "2022-07-14 09:39:14 (6.14 MB/s) - ‘btv1b8443183q_f1.png’ saved [50983380/50983380]\n",
      "\n"
     ]
    },
    {
     "name": "stderr",
     "output_type": "stream",
     "text": [
      "511it [4:10:08, 62.59s/it]"
     ]
    },
    {
     "name": "stdout",
     "output_type": "stream",
     "text": [
      "--2022-07-14 09:39:14--  https://gallica.bnf.fr/iiif/ark:/12148/btv1b8444572m/f1/full/full/0/native.png\n",
      "Resolving gallica.bnf.fr (gallica.bnf.fr)... 194.199.8.11\n",
      "Connecting to gallica.bnf.fr (gallica.bnf.fr)|194.199.8.11|:443... connected.\n",
      "HTTP request sent, awaiting response... 200 200\n",
      "Length: 84092176 (80M) [image/png]\n",
      "Saving to: ‘btv1b8444572m_f1.png’\n",
      "\n",
      "btv1b8444572m_f1.pn 100%[===================>]  80.20M  6.83MB/s    in 13s     \n",
      "\n",
      "2022-07-14 09:40:04 (6.32 MB/s) - ‘btv1b8444572m_f1.png’ saved [84092176/84092176]\n",
      "\n"
     ]
    },
    {
     "name": "stderr",
     "output_type": "stream",
     "text": [
      "512it [4:10:58, 58.89s/it]"
     ]
    },
    {
     "name": "stdout",
     "output_type": "stream",
     "text": [
      "--2022-07-14 09:40:04--  https://gallica.bnf.fr/iiif/ark:/12148/btv1b84464131/f1/full/full/0/native.png\n",
      "Resolving gallica.bnf.fr (gallica.bnf.fr)... 194.199.8.11\n",
      "Connecting to gallica.bnf.fr (gallica.bnf.fr)|194.199.8.11|:443... connected.\n",
      "HTTP request sent, awaiting response... 200 200\n",
      "Length: 71353759 (68M) [image/png]\n",
      "Saving to: ‘btv1b84464131_f1.png’\n",
      "\n",
      "btv1b84464131_f1.pn 100%[===================>]  68.05M  6.81MB/s    in 11s     \n",
      "\n",
      "2022-07-14 09:40:49 (6.05 MB/s) - ‘btv1b84464131_f1.png’ saved [71353759/71353759]\n",
      "\n"
     ]
    },
    {
     "name": "stderr",
     "output_type": "stream",
     "text": [
      "513it [4:11:43, 54.77s/it]"
     ]
    },
    {
     "name": "stdout",
     "output_type": "stream",
     "text": [
      "--2022-07-14 09:40:49--  https://gallica.bnf.fr/iiif/ark:/12148/btv1b53085206v/f1/full/full/0/native.png\n",
      "Resolving gallica.bnf.fr (gallica.bnf.fr)... 194.199.8.11\n",
      "Connecting to gallica.bnf.fr (gallica.bnf.fr)|194.199.8.11|:443... connected.\n",
      "HTTP request sent, awaiting response... 200 200\n",
      "Length: 331014325 (316M) [image/png]\n",
      "Saving to: ‘btv1b53085206v_f1.png’\n",
      "\n",
      "btv1b53085206v_f1.p 100%[===================>] 315.68M  6.79MB/s    in 51s     \n",
      "\n",
      "2022-07-14 09:43:04 (6.17 MB/s) - ‘btv1b53085206v_f1.png’ saved [331014325/331014325]\n",
      "\n"
     ]
    },
    {
     "name": "stderr",
     "output_type": "stream",
     "text": [
      "514it [4:13:58, 78.73s/it]"
     ]
    },
    {
     "name": "stdout",
     "output_type": "stream",
     "text": [
      "--2022-07-14 09:43:04--  https://gallica.bnf.fr/iiif/ark:/12148/btv1b8444496p/f1/full/full/0/native.png\n",
      "Resolving gallica.bnf.fr (gallica.bnf.fr)... 194.199.8.11\n",
      "Connecting to gallica.bnf.fr (gallica.bnf.fr)|194.199.8.11|:443... connected.\n",
      "HTTP request sent, awaiting response... 200 200\n",
      "Length: 20957020 (20M) [image/png]\n",
      "Saving to: ‘btv1b8444496p_f1.png’\n",
      "\n",
      "btv1b8444496p_f1.pn 100%[===================>]  19.99M  5.96MB/s    in 4.3s    \n",
      "\n",
      "2022-07-14 09:43:20 (4.67 MB/s) - ‘btv1b8444496p_f1.png’ saved [20957020/20957020]\n",
      "\n"
     ]
    },
    {
     "name": "stderr",
     "output_type": "stream",
     "text": [
      "515it [4:14:14, 59.97s/it]"
     ]
    },
    {
     "name": "stdout",
     "output_type": "stream",
     "text": [
      "--2022-07-14 09:43:20--  https://gallica.bnf.fr/iiif/ark:/12148/btv1b8442619z/f1/full/full/0/native.png\n",
      "Resolving gallica.bnf.fr (gallica.bnf.fr)... 194.199.8.11\n",
      "Connecting to gallica.bnf.fr (gallica.bnf.fr)|194.199.8.11|:443... connected.\n",
      "HTTP request sent, awaiting response... 200 200\n",
      "Length: 119483639 (114M) [image/png]\n",
      "Saving to: ‘btv1b8442619z_f1.png’\n",
      "\n",
      "btv1b8442619z_f1.pn 100%[===================>] 113.95M  6.83MB/s    in 21s     \n",
      "\n",
      "2022-07-14 09:44:39 (5.49 MB/s) - ‘btv1b8442619z_f1.png’ saved [119483639/119483639]\n",
      "\n"
     ]
    },
    {
     "name": "stderr",
     "output_type": "stream",
     "text": [
      "516it [4:15:32, 65.50s/it]"
     ]
    },
    {
     "name": "stdout",
     "output_type": "stream",
     "text": [
      "--2022-07-14 09:44:39--  https://gallica.bnf.fr/iiif/ark:/12148/btv1b53006720r/f1/full/full/0/native.png\n",
      "Resolving gallica.bnf.fr (gallica.bnf.fr)... 194.199.8.11\n",
      "Connecting to gallica.bnf.fr (gallica.bnf.fr)|194.199.8.11|:443... connected.\n",
      "HTTP request sent, awaiting response... 200 200\n",
      "Length: 77214674 (74M) [image/png]\n",
      "Saving to: ‘btv1b53006720r_f1.png’\n",
      "\n",
      "btv1b53006720r_f1.p 100%[===================>]  73.64M  6.79MB/s    in 11s     \n",
      "\n",
      "2022-07-14 09:45:26 (6.76 MB/s) - ‘btv1b53006720r_f1.png’ saved [77214674/77214674]\n",
      "\n"
     ]
    },
    {
     "name": "stderr",
     "output_type": "stream",
     "text": [
      "517it [4:16:19, 59.99s/it]"
     ]
    },
    {
     "name": "stdout",
     "output_type": "stream",
     "text": [
      "--2022-07-14 09:45:26--  https://gallica.bnf.fr/iiif/ark:/12148/btv1b530852452/f1/full/full/0/native.png\n",
      "Resolving gallica.bnf.fr (gallica.bnf.fr)... 194.199.8.11\n",
      "Connecting to gallica.bnf.fr (gallica.bnf.fr)|194.199.8.11|:443... connected.\n",
      "HTTP request sent, awaiting response... 200 200\n",
      "Length: 141669750 (135M) [image/png]\n",
      "Saving to: ‘btv1b530852452_f1.png’\n",
      "\n",
      "btv1b530852452_f1.p 100%[===================>] 135.11M  6.84MB/s    in 24s     \n",
      "\n",
      "2022-07-14 09:46:37 (5.66 MB/s) - ‘btv1b530852452_f1.png’ saved [141669750/141669750]\n",
      "\n"
     ]
    },
    {
     "name": "stderr",
     "output_type": "stream",
     "text": [
      "518it [4:17:30, 63.30s/it]"
     ]
    },
    {
     "name": "stdout",
     "output_type": "stream",
     "text": [
      "--2022-07-14 09:46:37--  https://gallica.bnf.fr/iiif/ark:/12148/btv1b53087970d/f1/full/full/0/native.png\n",
      "Resolving gallica.bnf.fr (gallica.bnf.fr)... 194.199.8.11\n",
      "Connecting to gallica.bnf.fr (gallica.bnf.fr)|194.199.8.11|:443... connected.\n",
      "HTTP request sent, awaiting response... 200 200\n",
      "Length: 80381414 (77M) [image/png]\n",
      "Saving to: ‘btv1b53087970d_f1.png’\n",
      "\n",
      "btv1b53087970d_f1.p 100%[===================>]  76.66M  6.83MB/s    in 11s     \n",
      "\n",
      "2022-07-14 09:47:13 (6.69 MB/s) - ‘btv1b53087970d_f1.png’ saved [80381414/80381414]\n",
      "\n"
     ]
    },
    {
     "name": "stderr",
     "output_type": "stream",
     "text": [
      "519it [4:18:06, 55.07s/it]"
     ]
    },
    {
     "name": "stdout",
     "output_type": "stream",
     "text": [
      "pass\n",
      "--2022-07-14 09:47:13--  https://gallica.bnf.fr/iiif/ark:/12148/btv1b8445864d/f1/full/full/0/native.png\n",
      "Resolving gallica.bnf.fr (gallica.bnf.fr)... 194.199.8.11\n",
      "Connecting to gallica.bnf.fr (gallica.bnf.fr)|194.199.8.11|:443... connected.\n",
      "HTTP request sent, awaiting response... 200 200\n",
      "Length: 124701717 (119M) [image/png]\n",
      "Saving to: ‘btv1b8445864d_f1.png’\n",
      "\n",
      "btv1b8445864d_f1.pn 100%[===================>] 118.92M  6.78MB/s    in 21s     \n",
      "\n",
      "2022-07-14 09:48:47 (5.73 MB/s) - ‘btv1b8445864d_f1.png’ saved [124701717/124701717]\n",
      "\n"
     ]
    },
    {
     "name": "stderr",
     "output_type": "stream",
     "text": [
      "521it [4:19:41, 51.41s/it]"
     ]
    },
    {
     "name": "stdout",
     "output_type": "stream",
     "text": [
      "pass\n",
      "--2022-07-14 09:48:47--  https://gallica.bnf.fr/iiif/ark:/12148/btv1b53062149t/f1/full/full/0/native.png\n",
      "Resolving gallica.bnf.fr (gallica.bnf.fr)... 194.199.8.11\n",
      "Connecting to gallica.bnf.fr (gallica.bnf.fr)|194.199.8.11|:443... connected.\n",
      "HTTP request sent, awaiting response... 200 200\n",
      "Length: 125026690 (119M) [image/png]\n",
      "Saving to: ‘btv1b53062149t_f1.png’\n",
      "\n",
      "btv1b53062149t_f1.p 100%[===================>] 119.23M  6.84MB/s    in 18s     \n",
      "\n",
      "2022-07-14 09:50:01 (6.47 MB/s) - ‘btv1b53062149t_f1.png’ saved [125026690/125026690]\n",
      "\n"
     ]
    },
    {
     "name": "stderr",
     "output_type": "stream",
     "text": [
      "523it [4:20:55, 45.80s/it]"
     ]
    },
    {
     "name": "stdout",
     "output_type": "stream",
     "text": [
      "pass\n",
      "--2022-07-14 09:50:02--  https://gallica.bnf.fr/iiif/ark:/12148/btv1b530855439/f1/full/full/0/native.png\n",
      "Resolving gallica.bnf.fr (gallica.bnf.fr)... 194.199.8.11\n",
      "Connecting to gallica.bnf.fr (gallica.bnf.fr)|194.199.8.11|:443... connected.\n",
      "HTTP request sent, awaiting response... 200 200\n",
      "Length: 148929376 (142M) [image/png]\n",
      "Saving to: ‘btv1b530855439_f1.png’\n",
      "\n",
      "btv1b530855439_f1.p 100%[===================>] 142.03M  6.78MB/s    in 25s     \n",
      "\n",
      "2022-07-14 09:51:00 (5.67 MB/s) - ‘btv1b530855439_f1.png’ saved [148929376/148929376]\n",
      "\n"
     ]
    },
    {
     "name": "stderr",
     "output_type": "stream",
     "text": [
      "525it [4:21:53, 39.77s/it]"
     ]
    },
    {
     "name": "stdout",
     "output_type": "stream",
     "text": [
      "--2022-07-14 09:51:00--  https://gallica.bnf.fr/iiif/ark:/12148/btv1b84927225/f1/full/full/0/native.png\n",
      "Resolving gallica.bnf.fr (gallica.bnf.fr)... 194.199.8.11\n",
      "Connecting to gallica.bnf.fr (gallica.bnf.fr)|194.199.8.11|:443... connected.\n",
      "HTTP request sent, awaiting response... 200 200\n",
      "Length: 41570807 (40M) [image/png]\n",
      "Saving to: ‘btv1b84927225_f1.png’\n",
      "\n",
      "btv1b84927225_f1.pn 100%[===================>]  39.64M  6.82MB/s    in 6.6s    \n",
      "\n",
      "2022-07-14 09:51:35 (6.01 MB/s) - ‘btv1b84927225_f1.png’ saved [41570807/41570807]\n",
      "\n"
     ]
    },
    {
     "name": "stderr",
     "output_type": "stream",
     "text": [
      "526it [4:22:29, 38.93s/it]"
     ]
    },
    {
     "name": "stdout",
     "output_type": "stream",
     "text": [
      "--2022-07-14 09:51:36--  https://gallica.bnf.fr/iiif/ark:/12148/btv1b53060678t/f1/full/full/0/native.png\n",
      "Resolving gallica.bnf.fr (gallica.bnf.fr)... 194.199.8.11\n",
      "Connecting to gallica.bnf.fr (gallica.bnf.fr)|194.199.8.11|:443... connected.\n",
      "HTTP request sent, awaiting response... 200 200\n",
      "Length: 144688679 (138M) [image/png]\n",
      "Saving to: ‘btv1b53060678t_f1.png’\n",
      "\n",
      "btv1b53060678t_f1.p 100%[===================>] 137.99M  6.84MB/s    in 25s     \n",
      "\n",
      "2022-07-14 09:52:45 (5.56 MB/s) - ‘btv1b53060678t_f1.png’ saved [144688679/144688679]\n",
      "\n"
     ]
    },
    {
     "name": "stderr",
     "output_type": "stream",
     "text": [
      "527it [4:23:38, 45.83s/it]"
     ]
    },
    {
     "name": "stdout",
     "output_type": "stream",
     "text": [
      "--2022-07-14 09:52:45--  https://gallica.bnf.fr/iiif/ark:/12148/btv1b53085591g/f1/full/full/0/native.png\n",
      "Resolving gallica.bnf.fr (gallica.bnf.fr)... 194.199.8.11\n",
      "Connecting to gallica.bnf.fr (gallica.bnf.fr)|194.199.8.11|:443... connected.\n",
      "HTTP request sent, awaiting response... 503 Service Unavailable\n",
      "2022-07-14 09:54:45 ERROR 503: Service Unavailable.\n",
      "\n"
     ]
    },
    {
     "name": "stderr",
     "output_type": "stream",
     "text": [
      "528it [4:25:39, 64.05s/it]"
     ]
    },
    {
     "name": "stdout",
     "output_type": "stream",
     "text": [
      "pass\n",
      "--2022-07-14 09:54:45--  https://gallica.bnf.fr/iiif/ark:/12148/btv1b530603292/f1/full/full/0/native.png\n",
      "Resolving gallica.bnf.fr (gallica.bnf.fr)... 194.199.8.11\n",
      "Connecting to gallica.bnf.fr (gallica.bnf.fr)|194.199.8.11|:443... connected.\n",
      "HTTP request sent, awaiting response... 200 200\n",
      "Length: 111155874 (106M) [image/png]\n",
      "Saving to: ‘btv1b530603292_f1.png’\n",
      "\n",
      "btv1b530603292_f1.p 100%[===================>] 106.01M  6.82MB/s    in 28s     \n",
      "\n",
      "2022-07-14 09:56:01 (3.85 MB/s) - ‘btv1b530603292_f1.png’ saved [111155874/111155874]\n",
      "\n"
     ]
    },
    {
     "name": "stderr",
     "output_type": "stream",
     "text": [
      "530it [4:26:54, 53.23s/it]"
     ]
    },
    {
     "name": "stdout",
     "output_type": "stream",
     "text": [
      "--2022-07-14 09:56:01--  https://gallica.bnf.fr/iiif/ark:/12148/btv1b8458730g/f1/full/full/0/native.png\n",
      "Resolving gallica.bnf.fr (gallica.bnf.fr)... 194.199.8.11\n",
      "Connecting to gallica.bnf.fr (gallica.bnf.fr)|194.199.8.11|:443... connected.\n",
      "HTTP request sent, awaiting response... 200 200\n",
      "Length: 80137430 (76M) [image/png]\n",
      "Saving to: ‘btv1b8458730g_f1.png’\n",
      "\n",
      "btv1b8458730g_f1.pn 100%[===================>]  76.42M  6.77MB/s    in 16s     \n",
      "\n",
      "2022-07-14 09:56:56 (4.92 MB/s) - ‘btv1b8458730g_f1.png’ saved [80137430/80137430]\n",
      "\n"
     ]
    },
    {
     "name": "stderr",
     "output_type": "stream",
     "text": [
      "531it [4:27:50, 53.82s/it]"
     ]
    },
    {
     "name": "stdout",
     "output_type": "stream",
     "text": [
      "pass\n",
      "--2022-07-14 09:56:56--  https://gallica.bnf.fr/iiif/ark:/12148/btv1b53085199j/f1/full/full/0/native.png\n",
      "Resolving gallica.bnf.fr (gallica.bnf.fr)... 194.199.8.11\n",
      "Connecting to gallica.bnf.fr (gallica.bnf.fr)|194.199.8.11|:443... connected.\n",
      "HTTP request sent, awaiting response... 200 200\n",
      "Length: 146560382 (140M) [image/png]\n",
      "Saving to: ‘btv1b53085199j_f1.png’\n",
      "\n",
      "btv1b53085199j_f1.p 100%[===================>] 139.77M  6.84MB/s    in 26s     \n",
      "\n",
      "2022-07-14 09:58:13 (5.41 MB/s) - ‘btv1b53085199j_f1.png’ saved [146560382/146560382]\n",
      "\n"
     ]
    },
    {
     "name": "stderr",
     "output_type": "stream",
     "text": [
      "533it [4:29:07, 47.81s/it]"
     ]
    },
    {
     "name": "stdout",
     "output_type": "stream",
     "text": [
      "pass\n",
      "--2022-07-14 09:58:14--  https://gallica.bnf.fr/iiif/ark:/12148/btv1b53022922n/f1/full/full/0/native.png\n",
      "Resolving gallica.bnf.fr (gallica.bnf.fr)... 194.199.8.11\n",
      "Connecting to gallica.bnf.fr (gallica.bnf.fr)|194.199.8.11|:443... connected.\n",
      "HTTP request sent, awaiting response... 200 200\n",
      "Length: 147478735 (141M) [image/png]\n",
      "Saving to: ‘btv1b53022922n_f1.png’\n",
      "\n",
      "btv1b53022922n_f1.p 100%[===================>] 140.65M  6.82MB/s    in 26s     \n",
      "\n",
      "2022-07-14 09:59:30 (5.51 MB/s) - ‘btv1b53022922n_f1.png’ saved [147478735/147478735]\n",
      "\n"
     ]
    },
    {
     "name": "stderr",
     "output_type": "stream",
     "text": [
      "535it [4:30:24, 44.42s/it]"
     ]
    },
    {
     "name": "stdout",
     "output_type": "stream",
     "text": [
      "--2022-07-14 09:59:30--  https://gallica.bnf.fr/iiif/ark:/12148/btv1b53088016j/f1/full/full/0/native.png\n",
      "Resolving gallica.bnf.fr (gallica.bnf.fr)... 194.199.8.11\n",
      "Connecting to gallica.bnf.fr (gallica.bnf.fr)|194.199.8.11|:443... connected.\n",
      "HTTP request sent, awaiting response... 200 200\n",
      "Length: 82225999 (78M) [image/png]\n",
      "Saving to: ‘btv1b53088016j_f1.png’\n",
      "\n",
      "btv1b53088016j_f1.p 100%[===================>]  78.42M  6.82MB/s    in 13s     \n",
      "\n",
      "2022-07-14 10:00:10 (6.25 MB/s) - ‘btv1b53088016j_f1.png’ saved [82225999/82225999]\n",
      "\n"
     ]
    },
    {
     "name": "stderr",
     "output_type": "stream",
     "text": [
      "536it [4:31:03, 43.41s/it]"
     ]
    },
    {
     "name": "stdout",
     "output_type": "stream",
     "text": [
      "--2022-07-14 10:00:10--  https://gallica.bnf.fr/iiif/ark:/12148/btv1b84424005/f1/full/full/0/native.png\n",
      "Resolving gallica.bnf.fr (gallica.bnf.fr)... 194.199.8.11\n",
      "Connecting to gallica.bnf.fr (gallica.bnf.fr)|194.199.8.11|:443... connected.\n",
      "HTTP request sent, awaiting response... 200 200\n",
      "Length: 94479042 (90M) [image/png]\n",
      "Saving to: ‘btv1b84424005_f1.png’\n",
      "\n",
      "btv1b84424005_f1.pn 100%[===================>]  90.10M  6.76MB/s    in 18s     \n",
      "\n",
      "2022-07-14 10:01:18 (5.04 MB/s) - ‘btv1b84424005_f1.png’ saved [94479042/94479042]\n",
      "\n"
     ]
    },
    {
     "name": "stderr",
     "output_type": "stream",
     "text": [
      "537it [4:32:11, 48.92s/it]"
     ]
    },
    {
     "name": "stdout",
     "output_type": "stream",
     "text": [
      "--2022-07-14 10:01:18--  https://gallica.bnf.fr/iiif/ark:/12148/btv1b84424005/f2/full/full/0/native.png\n",
      "Resolving gallica.bnf.fr (gallica.bnf.fr)... 194.199.8.11\n",
      "Connecting to gallica.bnf.fr (gallica.bnf.fr)|194.199.8.11|:443... connected.\n",
      "HTTP request sent, awaiting response... 200 200\n",
      "Length: 109515515 (104M) [image/png]\n",
      "Saving to: ‘btv1b84424005_f2.png’\n",
      "\n",
      "btv1b84424005_f2.pn 100%[===================>] 104.44M  6.72MB/s    in 20s     \n",
      "\n",
      "2022-07-14 10:02:21 (5.27 MB/s) - ‘btv1b84424005_f2.png’ saved [109515515/109515515]\n",
      "\n"
     ]
    },
    {
     "name": "stderr",
     "output_type": "stream",
     "text": [
      "538it [4:33:15, 52.52s/it]"
     ]
    },
    {
     "name": "stdout",
     "output_type": "stream",
     "text": [
      "--2022-07-14 10:02:21--  https://gallica.bnf.fr/iiif/ark:/12148/btv1b53085136q/f1/full/full/0/native.png\n",
      "Resolving gallica.bnf.fr (gallica.bnf.fr)... 194.199.8.11\n",
      "Connecting to gallica.bnf.fr (gallica.bnf.fr)|194.199.8.11|:443... connected.\n",
      "HTTP request sent, awaiting response... 503 Service Unavailable\n",
      "2022-07-14 10:04:21 ERROR 503: Service Unavailable.\n",
      "\n"
     ]
    },
    {
     "name": "stderr",
     "output_type": "stream",
     "text": [
      "539it [4:35:15, 70.05s/it]"
     ]
    },
    {
     "name": "stdout",
     "output_type": "stream",
     "text": [
      "--2022-07-14 10:04:22--  https://gallica.bnf.fr/iiif/ark:/12148/btv1b53025305x/f1/full/full/0/native.png\n",
      "Resolving gallica.bnf.fr (gallica.bnf.fr)... 194.199.8.11\n",
      "Connecting to gallica.bnf.fr (gallica.bnf.fr)|194.199.8.11|:443... connected.\n",
      "HTTP request sent, awaiting response... 200 200\n",
      "Length: 97246764 (93M) [image/png]\n",
      "Saving to: ‘btv1b53025305x_f1.png’\n",
      "\n",
      "btv1b53025305x_f1.p 100%[===================>]  92.74M  6.76MB/s    in 14s     \n",
      "\n",
      "2022-07-14 10:05:17 (6.69 MB/s) - ‘btv1b53025305x_f1.png’ saved [97246764/97246764]\n",
      "\n"
     ]
    },
    {
     "name": "stderr",
     "output_type": "stream",
     "text": [
      "540it [4:36:10, 66.02s/it]"
     ]
    },
    {
     "name": "stdout",
     "output_type": "stream",
     "text": [
      "pass\n",
      "--2022-07-14 10:05:17--  https://gallica.bnf.fr/iiif/ark:/12148/btv1b53085210k/f1/full/full/0/native.png\n",
      "Resolving gallica.bnf.fr (gallica.bnf.fr)... 194.199.8.11\n",
      "Connecting to gallica.bnf.fr (gallica.bnf.fr)|194.199.8.11|:443... connected.\n",
      "HTTP request sent, awaiting response... 200 200\n",
      "Length: 138995744 (133M) [image/png]\n",
      "Saving to: ‘btv1b53085210k_f1.png’\n",
      "\n",
      "btv1b53085210k_f1.p 100%[===================>] 132.56M  6.83MB/s    in 24s     \n",
      "\n",
      "2022-07-14 10:06:36 (5.63 MB/s) - ‘btv1b53085210k_f1.png’ saved [138995744/138995744]\n",
      "\n"
     ]
    },
    {
     "name": "stderr",
     "output_type": "stream",
     "text": [
      "542it [4:37:30, 54.67s/it]"
     ]
    },
    {
     "name": "stdout",
     "output_type": "stream",
     "text": [
      "--2022-07-14 10:06:37--  https://gallica.bnf.fr/iiif/ark:/12148/btv1b53066750v/f1/full/full/0/native.png\n",
      "Resolving gallica.bnf.fr (gallica.bnf.fr)... 194.199.8.11\n",
      "Connecting to gallica.bnf.fr (gallica.bnf.fr)|194.199.8.11|:443... connected.\n",
      "HTTP request sent, awaiting response... 200 200\n",
      "Length: 109860509 (105M) [image/png]\n",
      "Saving to: ‘btv1b53066750v_f1.png’\n",
      "\n",
      "btv1b53066750v_f1.p 100%[===================>] 104.77M  6.30MB/s    in 19s     \n",
      "\n",
      "2022-07-14 10:07:42 (5.63 MB/s) - ‘btv1b53066750v_f1.png’ saved [109860509/109860509]\n",
      "\n"
     ]
    },
    {
     "name": "stderr",
     "output_type": "stream",
     "text": [
      "543it [4:38:35, 57.16s/it]"
     ]
    },
    {
     "name": "stdout",
     "output_type": "stream",
     "text": [
      "--2022-07-14 10:07:42--  https://gallica.bnf.fr/iiif/ark:/12148/btv1b53085149g/f1/full/full/0/native.png\n",
      "Resolving gallica.bnf.fr (gallica.bnf.fr)... 194.199.8.11\n",
      "Connecting to gallica.bnf.fr (gallica.bnf.fr)|194.199.8.11|:443... connected.\n",
      "HTTP request sent, awaiting response... 200 200\n",
      "Length: 352662270 (336M) [image/png]\n",
      "Saving to: ‘btv1b53085149g_f1.png’\n",
      "\n",
      "btv1b53085149g_f1.p 100%[===================>] 336.32M  6.79MB/s    in 50s     \n",
      "\n",
      "2022-07-14 10:10:09 (6.76 MB/s) - ‘btv1b53085149g_f1.png’ saved [352662270/352662270]\n",
      "\n"
     ]
    },
    {
     "name": "stderr",
     "output_type": "stream",
     "text": [
      "544it [4:41:03, 80.07s/it]"
     ]
    },
    {
     "name": "stdout",
     "output_type": "stream",
     "text": [
      "pass\n",
      "--2022-07-14 10:10:09--  https://gallica.bnf.fr/iiif/ark:/12148/btv1b8490853f/f1/full/full/0/native.png\n",
      "Resolving gallica.bnf.fr (gallica.bnf.fr)... 194.199.8.11\n",
      "Connecting to gallica.bnf.fr (gallica.bnf.fr)|194.199.8.11|:443... connected.\n",
      "HTTP request sent, awaiting response... 200 200\n",
      "Length: 140810026 (134M) [image/png]\n",
      "Saving to: ‘btv1b8490853f_f1.png’\n",
      "\n",
      "btv1b8490853f_f1.pn 100%[===================>] 134.29M  6.82MB/s    in 24s     \n",
      "\n",
      "2022-07-14 10:11:21 (5.61 MB/s) - ‘btv1b8490853f_f1.png’ saved [140810026/140810026]\n",
      "\n"
     ]
    },
    {
     "name": "stderr",
     "output_type": "stream",
     "text": [
      "546it [4:42:15, 61.56s/it]"
     ]
    },
    {
     "name": "stdout",
     "output_type": "stream",
     "text": [
      "--2022-07-14 10:11:21--  https://gallica.bnf.fr/iiif/ark:/12148/btv1b53085158f/f1/full/full/0/native.png\n",
      "Resolving gallica.bnf.fr (gallica.bnf.fr)... 194.199.8.11\n",
      "Connecting to gallica.bnf.fr (gallica.bnf.fr)|194.199.8.11|:443... connected.\n",
      "HTTP request sent, awaiting response... 200 200\n",
      "Length: 107412467 (102M) [image/png]\n",
      "Saving to: ‘btv1b53085158f_f1.png’\n",
      "\n",
      "btv1b53085158f_f1.p 100%[===================>] 102.44M  6.74MB/s    in 20s     \n",
      "\n",
      "2022-07-14 10:12:16 (5.23 MB/s) - ‘btv1b53085158f_f1.png’ saved [107412467/107412467]\n",
      "\n"
     ]
    },
    {
     "name": "stderr",
     "output_type": "stream",
     "text": [
      "547it [4:43:10, 59.97s/it]"
     ]
    },
    {
     "name": "stdout",
     "output_type": "stream",
     "text": [
      "pass\n",
      "pass\n",
      "pass\n",
      "pass\n",
      "--2022-07-14 10:12:16--  https://gallica.bnf.fr/iiif/ark:/12148/btv1b84927188/f4/full/full/0/native.png\n",
      "Resolving gallica.bnf.fr (gallica.bnf.fr)... 194.199.8.11\n",
      "Connecting to gallica.bnf.fr (gallica.bnf.fr)|194.199.8.11|:443... connected.\n",
      "HTTP request sent, awaiting response... 200 200\n",
      "Length: 64147496 (61M) [image/png]\n",
      "Saving to: ‘btv1b84927188_f4.png’\n",
      "\n",
      "btv1b84927188_f4.pn 100%[===================>]  61.18M  6.81MB/s    in 9.8s    \n",
      "\n",
      "2022-07-14 10:12:50 (6.25 MB/s) - ‘btv1b84927188_f4.png’ saved [64147496/64147496]\n",
      "\n"
     ]
    },
    {
     "name": "stderr",
     "output_type": "stream",
     "text": [
      "552it [4:43:43, 26.84s/it]"
     ]
    },
    {
     "name": "stdout",
     "output_type": "stream",
     "text": [
      "--2022-07-14 10:12:50--  https://gallica.bnf.fr/iiif/ark:/12148/btv1b530294850/f1/full/full/0/native.png\n",
      "Resolving gallica.bnf.fr (gallica.bnf.fr)... 194.199.8.11\n",
      "Connecting to gallica.bnf.fr (gallica.bnf.fr)|194.199.8.11|:443... connected.\n",
      "HTTP request sent, awaiting response... 200 200\n",
      "Length: 182875978 (174M) [image/png]\n",
      "Saving to: ‘btv1b530294850_f1.png’\n",
      "\n",
      "btv1b530294850_f1.p 100%[===================>] 174.40M  6.72MB/s    in 31s     \n",
      "\n",
      "2022-07-14 10:14:16 (5.70 MB/s) - ‘btv1b530294850_f1.png’ saved [182875978/182875978]\n",
      "\n"
     ]
    },
    {
     "name": "stderr",
     "output_type": "stream",
     "text": [
      "553it [4:45:10, 35.86s/it]"
     ]
    },
    {
     "name": "stdout",
     "output_type": "stream",
     "text": [
      "--2022-07-14 10:14:16--  https://gallica.bnf.fr/iiif/ark:/12148/btv1b530294850/f2/full/full/0/native.png\n",
      "Resolving gallica.bnf.fr (gallica.bnf.fr)... 194.199.8.11\n",
      "Connecting to gallica.bnf.fr (gallica.bnf.fr)|194.199.8.11|:443... connected.\n",
      "HTTP request sent, awaiting response... 200 200\n",
      "Length: 184057286 (176M) [image/png]\n",
      "Saving to: ‘btv1b530294850_f2.png’\n",
      "\n",
      "btv1b530294850_f2.p 100%[===================>] 175.53M  6.81MB/s    in 30s     \n",
      "\n",
      "2022-07-14 10:15:39 (5.87 MB/s) - ‘btv1b530294850_f2.png’ saved [184057286/184057286]\n",
      "\n"
     ]
    },
    {
     "name": "stderr",
     "output_type": "stream",
     "text": [
      "554it [4:46:32, 44.12s/it]"
     ]
    },
    {
     "name": "stdout",
     "output_type": "stream",
     "text": [
      "--2022-07-14 10:15:39--  https://gallica.bnf.fr/iiif/ark:/12148/btv1b530852005/f1/full/full/0/native.png\n",
      "Resolving gallica.bnf.fr (gallica.bnf.fr)... 194.199.8.11\n",
      "Connecting to gallica.bnf.fr (gallica.bnf.fr)|194.199.8.11|:443... connected.\n",
      "HTTP request sent, awaiting response... 200 200\n",
      "Length: 139231988 (133M) [image/png]\n",
      "Saving to: ‘btv1b530852005_f1.png’\n",
      "\n",
      "btv1b530852005_f1.p 100%[===================>] 132.78M  6.79MB/s    in 23s     \n",
      "\n",
      "2022-07-14 10:16:58 (5.84 MB/s) - ‘btv1b530852005_f1.png’ saved [139231988/139231988]\n",
      "\n"
     ]
    },
    {
     "name": "stderr",
     "output_type": "stream",
     "text": [
      "555it [4:47:51, 51.18s/it]"
     ]
    },
    {
     "name": "stdout",
     "output_type": "stream",
     "text": [
      "pass\n",
      "--2022-07-14 10:16:58--  https://gallica.bnf.fr/iiif/ark:/12148/btv1b53070643n/f1/full/full/0/native.png\n",
      "Resolving gallica.bnf.fr (gallica.bnf.fr)... 194.199.8.11\n",
      "Connecting to gallica.bnf.fr (gallica.bnf.fr)|194.199.8.11|:443... connected.\n",
      "HTTP request sent, awaiting response... 200 200\n",
      "Length: 62200521 (59M) [image/png]\n",
      "Saving to: ‘btv1b53070643n_f1.png’\n",
      "\n",
      "btv1b53070643n_f1.p 100%[===================>]  59.32M  6.81MB/s    in 9.6s    \n",
      "\n",
      "2022-07-14 10:17:46 (6.16 MB/s) - ‘btv1b53070643n_f1.png’ saved [62200521/62200521]\n",
      "\n"
     ]
    },
    {
     "name": "stderr",
     "output_type": "stream",
     "text": [
      "557it [4:48:39, 41.21s/it]"
     ]
    },
    {
     "name": "stdout",
     "output_type": "stream",
     "text": [
      "pass\n",
      "pass\n",
      "--2022-07-14 10:17:46--  https://gallica.bnf.fr/iiif/ark:/12148/btv1b84424732/f1/full/full/0/native.png\n",
      "Resolving gallica.bnf.fr (gallica.bnf.fr)... 194.199.8.11\n",
      "Connecting to gallica.bnf.fr (gallica.bnf.fr)|194.199.8.11|:443... connected.\n",
      "HTTP request sent, awaiting response... 200 200\n",
      "Length: 117924662 (112M) [image/png]\n",
      "Saving to: ‘btv1b84424732_f1.png’\n",
      "\n",
      "btv1b84424732_f1.pn 100%[===================>] 112.46M  6.74MB/s    in 21s     \n",
      "\n",
      "2022-07-14 10:19:28 (5.31 MB/s) - ‘btv1b84424732_f1.png’ saved [117924662/117924662]\n",
      "\n"
     ]
    },
    {
     "name": "stderr",
     "output_type": "stream",
     "text": [
      "560it [4:50:21, 38.06s/it]"
     ]
    },
    {
     "name": "stdout",
     "output_type": "stream",
     "text": [
      "pass\n",
      "--2022-07-14 10:19:28--  https://gallica.bnf.fr/iiif/ark:/12148/btv1b53069826q/f1/full/full/0/native.png\n",
      "Resolving gallica.bnf.fr (gallica.bnf.fr)... 194.199.8.11\n",
      "Connecting to gallica.bnf.fr (gallica.bnf.fr)|194.199.8.11|:443... connected.\n",
      "HTTP request sent, awaiting response... 200 200\n",
      "Length: 61657665 (59M) [image/png]\n",
      "Saving to: ‘btv1b53069826q_f1.png’\n",
      "\n",
      "btv1b53069826q_f1.p 100%[===================>]  58.80M  6.83MB/s    in 8.7s    \n",
      "\n",
      "2022-07-14 10:20:15 (6.72 MB/s) - ‘btv1b53069826q_f1.png’ saved [61657665/61657665]\n",
      "\n"
     ]
    },
    {
     "name": "stderr",
     "output_type": "stream",
     "text": [
      "562it [4:51:08, 33.77s/it]"
     ]
    },
    {
     "name": "stdout",
     "output_type": "stream",
     "text": [
      "--2022-07-14 10:20:15--  https://gallica.bnf.fr/iiif/ark:/12148/btv1b530619107/f1/full/full/0/native.png\n",
      "Resolving gallica.bnf.fr (gallica.bnf.fr)... 194.199.8.11\n",
      "Connecting to gallica.bnf.fr (gallica.bnf.fr)|194.199.8.11|:443... connected.\n",
      "HTTP request sent, awaiting response... 200 200\n",
      "Length: 143304029 (137M) [image/png]\n",
      "Saving to: ‘btv1b530619107_f1.png’\n",
      "\n",
      "btv1b530619107_f1.p 100%[===================>] 136.67M  6.74MB/s    in 24s     \n",
      "\n",
      "2022-07-14 10:21:37 (5.62 MB/s) - ‘btv1b530619107_f1.png’ saved [143304029/143304029]\n",
      "\n"
     ]
    },
    {
     "name": "stderr",
     "output_type": "stream",
     "text": [
      "563it [4:52:31, 42.19s/it]"
     ]
    },
    {
     "name": "stdout",
     "output_type": "stream",
     "text": [
      "pass\n",
      "pass\n",
      "--2022-07-14 10:21:37--  https://gallica.bnf.fr/iiif/ark:/12148/btv1b8441989b/f1/full/full/0/native.png\n",
      "Resolving gallica.bnf.fr (gallica.bnf.fr)... 194.199.8.11\n",
      "Connecting to gallica.bnf.fr (gallica.bnf.fr)|194.199.8.11|:443... connected.\n",
      "HTTP request sent, awaiting response... 200 200\n",
      "Length: 105717928 (101M) [image/png]\n",
      "Saving to: ‘btv1b8441989b_f1.png’\n",
      "\n",
      "btv1b8441989b_f1.pn 100%[===================>] 100.82M  6.82MB/s    in 18s     \n",
      "\n",
      "2022-07-14 10:22:45 (5.65 MB/s) - ‘btv1b8441989b_f1.png’ saved [105717928/105717928]\n",
      "\n"
     ]
    },
    {
     "name": "stderr",
     "output_type": "stream",
     "text": [
      "566it [4:53:38, 33.83s/it]"
     ]
    },
    {
     "name": "stdout",
     "output_type": "stream",
     "text": [
      "--2022-07-14 10:22:45--  https://gallica.bnf.fr/iiif/ark:/12148/btv1b8444094g/f1/full/full/0/native.png\n",
      "Resolving gallica.bnf.fr (gallica.bnf.fr)... 194.199.8.11\n",
      "Connecting to gallica.bnf.fr (gallica.bnf.fr)|194.199.8.11|:443... connected.\n",
      "HTTP request sent, awaiting response... 200 200\n",
      "Length: 77648617 (74M) [image/png]\n",
      "Saving to: ‘btv1b8444094g_f1.png’\n",
      "\n",
      "btv1b8444094g_f1.pn 100%[===================>]  74.05M  6.80MB/s    in 12s     \n",
      "\n",
      "2022-07-14 10:23:27 (6.37 MB/s) - ‘btv1b8444094g_f1.png’ saved [77648617/77648617]\n",
      "\n"
     ]
    },
    {
     "name": "stderr",
     "output_type": "stream",
     "text": [
      "567it [4:54:20, 35.21s/it]"
     ]
    },
    {
     "name": "stdout",
     "output_type": "stream",
     "text": [
      "pass\n",
      "pass\n",
      "--2022-07-14 10:23:27--  https://gallica.bnf.fr/iiif/ark:/12148/btv1b84417175/f1/full/full/0/native.png\n",
      "Resolving gallica.bnf.fr (gallica.bnf.fr)... 194.199.8.11\n",
      "Connecting to gallica.bnf.fr (gallica.bnf.fr)|194.199.8.11|:443... connected.\n",
      "HTTP request sent, awaiting response... 200 200\n",
      "Length: 52933414 (50M) [image/png]\n",
      "Saving to: ‘btv1b84417175_f1.png’\n",
      "\n",
      "btv1b84417175_f1.pn 100%[===================>]  50.48M  6.57MB/s    in 8.3s    \n",
      "\n",
      "2022-07-14 10:23:56 (6.07 MB/s) - ‘btv1b84417175_f1.png’ saved [52933414/52933414]\n",
      "\n"
     ]
    },
    {
     "name": "stderr",
     "output_type": "stream",
     "text": [
      "570it [4:54:50, 24.58s/it]"
     ]
    },
    {
     "name": "stdout",
     "output_type": "stream",
     "text": [
      "pass\n",
      "--2022-07-14 10:23:57--  https://gallica.bnf.fr/iiif/ark:/12148/btv1b8442726f/f1/full/full/0/native.png\n",
      "Resolving gallica.bnf.fr (gallica.bnf.fr)... 194.199.8.11\n",
      "Connecting to gallica.bnf.fr (gallica.bnf.fr)|194.199.8.11|:443... connected.\n",
      "HTTP request sent, awaiting response... 200 200\n",
      "Length: 116836547 (111M) [image/png]\n",
      "Saving to: ‘btv1b8442726f_f1.png’\n",
      "\n",
      "btv1b8442726f_f1.pn 100%[===================>] 111.42M  6.80MB/s    in 17s     \n",
      "\n",
      "2022-07-14 10:24:54 (6.46 MB/s) - ‘btv1b8442726f_f1.png’ saved [116836547/116836547]\n",
      "\n"
     ]
    },
    {
     "name": "stderr",
     "output_type": "stream",
     "text": [
      "572it [4:55:47, 25.75s/it]"
     ]
    },
    {
     "name": "stdout",
     "output_type": "stream",
     "text": [
      "--2022-07-14 10:24:54--  https://gallica.bnf.fr/iiif/ark:/12148/btv1b8442525b/f1/full/full/0/native.png\n",
      "Resolving gallica.bnf.fr (gallica.bnf.fr)... 194.199.8.11\n",
      "Connecting to gallica.bnf.fr (gallica.bnf.fr)|194.199.8.11|:443... connected.\n",
      "HTTP request sent, awaiting response... 200 200\n",
      "Length: 50301584 (48M) [image/png]\n",
      "Saving to: ‘btv1b8442525b_f1.png’\n",
      "\n",
      "btv1b8442525b_f1.pn 100%[===================>]  47.97M  6.82MB/s    in 7.7s    \n",
      "\n",
      "2022-07-14 10:25:34 (6.19 MB/s) - ‘btv1b8442525b_f1.png’ saved [50301584/50301584]\n",
      "\n"
     ]
    },
    {
     "name": "stderr",
     "output_type": "stream",
     "text": [
      "573it [4:56:28, 28.23s/it]"
     ]
    },
    {
     "name": "stdout",
     "output_type": "stream",
     "text": [
      "pass\n",
      "--2022-07-14 10:25:34--  https://gallica.bnf.fr/iiif/ark:/12148/btv1b53070458j/f1/full/full/0/native.png\n",
      "Resolving gallica.bnf.fr (gallica.bnf.fr)... 194.199.8.11\n",
      "Connecting to gallica.bnf.fr (gallica.bnf.fr)|194.199.8.11|:443... connected.\n",
      "HTTP request sent, awaiting response... 200 200\n",
      "Length: 63325912 (60M) [image/png]\n",
      "Saving to: ‘btv1b53070458j_f1.png’\n",
      "\n",
      "btv1b53070458j_f1.p 100%[===================>]  60.39M  6.80MB/s    in 8.9s    \n",
      "\n",
      "2022-07-14 10:26:16 (6.75 MB/s) - ‘btv1b53070458j_f1.png’ saved [63325912/63325912]\n",
      "\n"
     ]
    },
    {
     "name": "stderr",
     "output_type": "stream",
     "text": [
      "575it [4:57:10, 25.81s/it]"
     ]
    },
    {
     "name": "stdout",
     "output_type": "stream",
     "text": [
      "--2022-07-14 10:26:16--  https://gallica.bnf.fr/iiif/ark:/12148/btv1b53085237j/f1/full/full/0/native.png\n",
      "Resolving gallica.bnf.fr (gallica.bnf.fr)... 194.199.8.11\n",
      "Connecting to gallica.bnf.fr (gallica.bnf.fr)|194.199.8.11|:443... connected.\n",
      "HTTP request sent, awaiting response... 200 200\n",
      "Length: 161039778 (154M) [image/png]\n",
      "Saving to: ‘btv1b53085237j_f1.png’\n",
      "\n",
      "btv1b53085237j_f1.p 100%[===================>] 153.58M  6.81MB/s    in 27s     \n",
      "\n",
      "2022-07-14 10:27:29 (5.71 MB/s) - ‘btv1b53085237j_f1.png’ saved [161039778/161039778]\n",
      "\n"
     ]
    },
    {
     "name": "stderr",
     "output_type": "stream",
     "text": [
      "576it [4:58:22, 34.67s/it]"
     ]
    },
    {
     "name": "stdout",
     "output_type": "stream",
     "text": [
      "pass\n",
      "--2022-07-14 10:27:29--  https://gallica.bnf.fr/iiif/ark:/12148/btv1b53061526t/f1/full/full/0/native.png\n",
      "Resolving gallica.bnf.fr (gallica.bnf.fr)... 194.199.8.11\n",
      "Connecting to gallica.bnf.fr (gallica.bnf.fr)|194.199.8.11|:443... connected.\n",
      "HTTP request sent, awaiting response... 200 200\n",
      "Length: 65896005 (63M) [image/png]\n",
      "Saving to: ‘btv1b53061526t_f1.png’\n",
      "\n",
      "btv1b53061526t_f1.p 100%[===================>]  62.84M  6.84MB/s    in 9.3s    \n",
      "\n",
      "2022-07-14 10:28:08 (6.74 MB/s) - ‘btv1b53061526t_f1.png’ saved [65896005/65896005]\n",
      "\n"
     ]
    },
    {
     "name": "stderr",
     "output_type": "stream",
     "text": [
      "578it [4:59:01, 29.39s/it]"
     ]
    },
    {
     "name": "stdout",
     "output_type": "stream",
     "text": [
      "--2022-07-14 10:28:08--  https://gallica.bnf.fr/iiif/ark:/12148/btv1b8444236q/f1/full/full/0/native.png\n",
      "Resolving gallica.bnf.fr (gallica.bnf.fr)... 194.199.8.11\n",
      "Connecting to gallica.bnf.fr (gallica.bnf.fr)|194.199.8.11|:443... connected.\n",
      "HTTP request sent, awaiting response... 200 200\n",
      "Length: 31904219 (30M) [image/png]\n",
      "Saving to: ‘btv1b8444236q_f1.png’\n",
      "\n",
      "btv1b8444236q_f1.pn 100%[===================>]  30.43M  6.79MB/s    in 4.6s    \n",
      "\n",
      "2022-07-14 10:28:26 (6.66 MB/s) - ‘btv1b8444236q_f1.png’ saved [31904219/31904219]\n",
      "\n"
     ]
    },
    {
     "name": "stderr",
     "output_type": "stream",
     "text": [
      "579it [4:59:20, 27.21s/it]"
     ]
    },
    {
     "name": "stdout",
     "output_type": "stream",
     "text": [
      "pass\n",
      "--2022-07-14 10:28:26--  https://gallica.bnf.fr/iiif/ark:/12148/btv1b53085226p/f1/full/full/0/native.png\n",
      "Resolving gallica.bnf.fr (gallica.bnf.fr)... 194.199.8.11\n",
      "Connecting to gallica.bnf.fr (gallica.bnf.fr)|194.199.8.11|:443... connected.\n",
      "HTTP request sent, awaiting response... 200 200\n",
      "Length: 151683844 (145M) [image/png]\n",
      "Saving to: ‘btv1b53085226p_f1.png’\n",
      "\n",
      "btv1b53085226p_f1.p 100%[===================>] 144.66M  6.71MB/s    in 26s     \n",
      "\n",
      "2022-07-14 10:29:35 (5.59 MB/s) - ‘btv1b53085226p_f1.png’ saved [151683844/151683844]\n",
      "\n"
     ]
    },
    {
     "name": "stderr",
     "output_type": "stream",
     "text": [
      "581it [5:00:28, 29.76s/it]"
     ]
    },
    {
     "name": "stdout",
     "output_type": "stream",
     "text": [
      "--2022-07-14 10:29:35--  https://gallica.bnf.fr/iiif/ark:/12148/btv1b84390547/f1/full/full/0/native.png\n",
      "Resolving gallica.bnf.fr (gallica.bnf.fr)... 194.199.8.11\n",
      "Connecting to gallica.bnf.fr (gallica.bnf.fr)|194.199.8.11|:443... connected.\n",
      "HTTP request sent, awaiting response... 200 200\n",
      "Length: 139829772 (133M) [image/png]\n",
      "Saving to: ‘btv1b84390547_f1.png’\n",
      "\n",
      "btv1b84390547_f1.pn 100%[===================>] 133.35M  6.76MB/s    in 24s     \n",
      "\n",
      "2022-07-14 10:31:14 (5.60 MB/s) - ‘btv1b84390547_f1.png’ saved [139829772/139829772]\n",
      "\n"
     ]
    },
    {
     "name": "stderr",
     "output_type": "stream",
     "text": [
      "582it [5:02:08, 44.16s/it]"
     ]
    },
    {
     "name": "stdout",
     "output_type": "stream",
     "text": [
      "pass\n",
      "--2022-07-14 10:31:14--  https://gallica.bnf.fr/iiif/ark:/12148/btv1b84586608/f2/full/full/0/native.png\n",
      "Resolving gallica.bnf.fr (gallica.bnf.fr)... 194.199.8.11\n",
      "Connecting to gallica.bnf.fr (gallica.bnf.fr)|194.199.8.11|:443... connected.\n",
      "HTTP request sent, awaiting response... 200 200\n",
      "Length: 122848867 (117M) [image/png]\n",
      "Saving to: ‘btv1b84586608_f2.png’\n",
      "\n",
      "btv1b84586608_f2.pn 100%[===================>] 117.16M  6.83MB/s    in 22s     \n",
      "\n",
      "2022-07-14 10:32:43 (5.37 MB/s) - ‘btv1b84586608_f2.png’ saved [122848867/122848867]\n",
      "\n"
     ]
    },
    {
     "name": "stderr",
     "output_type": "stream",
     "text": [
      "584it [5:03:36, 44.20s/it]"
     ]
    },
    {
     "name": "stdout",
     "output_type": "stream",
     "text": [
      "--2022-07-14 10:32:43--  https://gallica.bnf.fr/iiif/ark:/12148/btv1b53085221f/f1/full/full/0/native.png\n",
      "Resolving gallica.bnf.fr (gallica.bnf.fr)... 194.199.8.11\n",
      "Connecting to gallica.bnf.fr (gallica.bnf.fr)|194.199.8.11|:443... connected.\n",
      "HTTP request sent, awaiting response... 200 200\n",
      "Length: 150735351 (144M) [image/png]\n",
      "Saving to: ‘btv1b53085221f_f1.png’\n",
      "\n",
      "btv1b53085221f_f1.p 100%[===================>] 143.75M  6.78MB/s    in 25s     \n",
      "\n",
      "2022-07-14 10:33:55 (5.73 MB/s) - ‘btv1b53085221f_f1.png’ saved [150735351/150735351]\n",
      "\n"
     ]
    },
    {
     "name": "stderr",
     "output_type": "stream",
     "text": [
      "585it [5:04:48, 49.98s/it]"
     ]
    },
    {
     "name": "stdout",
     "output_type": "stream",
     "text": [
      "--2022-07-14 10:33:55--  https://gallica.bnf.fr/iiif/ark:/12148/btv1b53087536x/f1/full/full/0/native.png\n",
      "Resolving gallica.bnf.fr (gallica.bnf.fr)... 194.199.8.11\n",
      "Connecting to gallica.bnf.fr (gallica.bnf.fr)|194.199.8.11|:443... connected.\n",
      "HTTP request sent, awaiting response... 200 200\n",
      "Length: 76151969 (73M) [image/png]\n",
      "Saving to: ‘btv1b53087536x_f1.png’\n",
      "\n",
      "btv1b53087536x_f1.p 100%[===================>]  72.62M  6.78MB/s    in 12s     \n",
      "\n",
      "2022-07-14 10:34:37 (6.23 MB/s) - ‘btv1b53087536x_f1.png’ saved [76151969/76151969]\n",
      "\n"
     ]
    },
    {
     "name": "stderr",
     "output_type": "stream",
     "text": [
      "586it [5:05:31, 48.26s/it]"
     ]
    },
    {
     "name": "stdout",
     "output_type": "stream",
     "text": [
      "--2022-07-14 10:34:37--  https://gallica.bnf.fr/iiif/ark:/12148/btv1b530876814/f1/full/full/0/native.png\n",
      "Resolving gallica.bnf.fr (gallica.bnf.fr)... 194.199.8.11\n",
      "Connecting to gallica.bnf.fr (gallica.bnf.fr)|194.199.8.11|:443... connected.\n",
      "HTTP request sent, awaiting response... 200 200\n",
      "Length: 62474466 (60M) [image/png]\n",
      "Saving to: ‘btv1b530876814_f1.png’\n",
      "\n",
      "btv1b530876814_f1.p 100%[===================>]  59.58M  6.72MB/s    in 13s     \n",
      "\n",
      "2022-07-14 10:35:14 (4.58 MB/s) - ‘btv1b530876814_f1.png’ saved [62474466/62474466]\n",
      "\n"
     ]
    },
    {
     "name": "stderr",
     "output_type": "stream",
     "text": [
      "587it [5:06:08, 45.42s/it]"
     ]
    },
    {
     "name": "stdout",
     "output_type": "stream",
     "text": [
      "--2022-07-14 10:35:14--  https://gallica.bnf.fr/iiif/ark:/12148/btv1b53025203n/f1/full/full/0/native.png\n",
      "Resolving gallica.bnf.fr (gallica.bnf.fr)... 194.199.8.11\n",
      "Connecting to gallica.bnf.fr (gallica.bnf.fr)|194.199.8.11|:443... connected.\n",
      "HTTP request sent, awaiting response... 200 200\n",
      "Length: 151590156 (145M) [image/png]\n",
      "Saving to: ‘btv1b53025203n_f1.png’\n",
      "\n",
      "btv1b53025203n_f1.p 100%[===================>] 144.57M  6.80MB/s    in 27s     \n",
      "\n",
      "2022-07-14 10:36:29 (5.35 MB/s) - ‘btv1b53025203n_f1.png’ saved [151590156/151590156]\n",
      "\n"
     ]
    },
    {
     "name": "stderr",
     "output_type": "stream",
     "text": [
      "588it [5:07:23, 53.24s/it]"
     ]
    },
    {
     "name": "stdout",
     "output_type": "stream",
     "text": [
      "--2022-07-14 10:36:29--  https://gallica.bnf.fr/iiif/ark:/12148/btv1b53085167d/f1/full/full/0/native.png\n",
      "Resolving gallica.bnf.fr (gallica.bnf.fr)... 194.199.8.11\n",
      "Connecting to gallica.bnf.fr (gallica.bnf.fr)|194.199.8.11|:443... connected.\n",
      "HTTP request sent, awaiting response... 200 200\n",
      "Length: 208640495 (199M) [image/png]\n",
      "Saving to: ‘btv1b53085167d_f1.png’\n",
      "\n",
      "btv1b53085167d_f1.p 100%[===================>] 198.97M  6.81MB/s    in 34s     \n",
      "\n",
      "2022-07-14 10:37:43 (5.90 MB/s) - ‘btv1b53085167d_f1.png’ saved [208640495/208640495]\n",
      "\n"
     ]
    },
    {
     "name": "stderr",
     "output_type": "stream",
     "text": [
      "589it [5:08:37, 58.92s/it]"
     ]
    },
    {
     "name": "stdout",
     "output_type": "stream",
     "text": [
      "--2022-07-14 10:37:43--  https://gallica.bnf.fr/iiif/ark:/12148/btv1b53022999p/f1/full/full/0/native.png\n",
      "Resolving gallica.bnf.fr (gallica.bnf.fr)... 194.199.8.11\n",
      "Connecting to gallica.bnf.fr (gallica.bnf.fr)|194.199.8.11|:443... connected.\n",
      "HTTP request sent, awaiting response... 200 200\n",
      "Length: 157931005 (151M) [image/png]\n",
      "Saving to: ‘btv1b53022999p_f1.png’\n",
      "\n",
      "btv1b53022999p_f1.p 100%[===================>] 150.61M  6.83MB/s    in 27s     \n",
      "\n",
      "2022-07-14 10:38:49 (5.67 MB/s) - ‘btv1b53022999p_f1.png’ saved [157931005/157931005]\n",
      "\n"
     ]
    },
    {
     "name": "stderr",
     "output_type": "stream",
     "text": [
      "590it [5:09:42, 60.67s/it]"
     ]
    },
    {
     "name": "stdout",
     "output_type": "stream",
     "text": [
      "pass\n",
      "pass\n",
      "pass\n",
      "--2022-07-14 10:38:49--  https://gallica.bnf.fr/iiif/ark:/12148/btv1b53085228k/f1/full/full/0/native.png\n",
      "Resolving gallica.bnf.fr (gallica.bnf.fr)... 194.199.8.11\n",
      "Connecting to gallica.bnf.fr (gallica.bnf.fr)|194.199.8.11|:443... connected.\n",
      "HTTP request sent, awaiting response... 200 200\n",
      "Length: 194525823 (186M) [image/png]\n",
      "Saving to: ‘btv1b53085228k_f1.png’\n",
      "\n",
      "btv1b53085228k_f1.p 100%[===================>] 185.51M  6.82MB/s    in 31s     \n",
      "\n",
      "2022-07-14 10:40:02 (5.97 MB/s) - ‘btv1b53085228k_f1.png’ saved [194525823/194525823]\n",
      "\n"
     ]
    },
    {
     "name": "stderr",
     "output_type": "stream",
     "text": [
      "594it [5:10:55, 34.62s/it]"
     ]
    },
    {
     "name": "stdout",
     "output_type": "stream",
     "text": [
      "--2022-07-14 10:40:02--  https://gallica.bnf.fr/iiif/ark:/12148/btv1b53030144z/f1/full/full/0/native.png\n",
      "Resolving gallica.bnf.fr (gallica.bnf.fr)... 194.199.8.11\n",
      "Connecting to gallica.bnf.fr (gallica.bnf.fr)|194.199.8.11|:443... connected.\n",
      "HTTP request sent, awaiting response... 200 200\n",
      "Length: 305581982 (291M) [image/png]\n",
      "Saving to: ‘btv1b53030144z_f1.png’\n",
      "\n",
      "btv1b53030144z_f1.p 100%[===================>] 291.42M  6.79MB/s    in 43s     \n",
      "\n",
      "2022-07-14 10:42:24 (6.77 MB/s) - ‘btv1b53030144z_f1.png’ saved [305581982/305581982]\n",
      "\n"
     ]
    },
    {
     "name": "stderr",
     "output_type": "stream",
     "text": [
      "595it [5:13:18, 54.01s/it]"
     ]
    },
    {
     "name": "stdout",
     "output_type": "stream",
     "text": [
      "--2022-07-14 10:42:24--  https://gallica.bnf.fr/iiif/ark:/12148/btv1b53192691d/f1/full/full/0/native.png\n",
      "Resolving gallica.bnf.fr (gallica.bnf.fr)... 194.199.8.11\n",
      "Connecting to gallica.bnf.fr (gallica.bnf.fr)|194.199.8.11|:443... connected.\n",
      "HTTP request sent, awaiting response... 200 200\n",
      "Length: 113950088 (109M) [image/png]\n",
      "Saving to: ‘btv1b53192691d_f1.png’\n",
      "\n",
      "btv1b53192691d_f1.p 100%[===================>] 108.67M  6.84MB/s    in 20s     \n",
      "\n",
      "2022-07-14 10:43:20 (5.31 MB/s) - ‘btv1b53192691d_f1.png’ saved [113950088/113950088]\n",
      "\n"
     ]
    },
    {
     "name": "stderr",
     "output_type": "stream",
     "text": [
      "596it [5:14:13, 54.30s/it]"
     ]
    },
    {
     "name": "stdout",
     "output_type": "stream",
     "text": [
      "--2022-07-14 10:43:20--  https://gallica.bnf.fr/iiif/ark:/12148/btv1b84916532/f1/full/full/0/native.png\n",
      "Resolving gallica.bnf.fr (gallica.bnf.fr)... 194.199.8.11\n",
      "Connecting to gallica.bnf.fr (gallica.bnf.fr)|194.199.8.11|:443... connected.\n",
      "HTTP request sent, awaiting response... 200 200\n",
      "Length: 105137285 (100M) [image/png]\n",
      "Saving to: ‘btv1b84916532_f1.png’\n",
      "\n",
      "btv1b84916532_f1.pn 100%[===================>] 100.27M  6.81MB/s    in 16s     \n",
      "\n",
      "2022-07-14 10:44:16 (6.42 MB/s) - ‘btv1b84916532_f1.png’ saved [105137285/105137285]\n",
      "\n"
     ]
    },
    {
     "name": "stderr",
     "output_type": "stream",
     "text": [
      "597it [5:15:10, 54.85s/it]"
     ]
    },
    {
     "name": "stdout",
     "output_type": "stream",
     "text": [
      "--2022-07-14 10:44:16--  https://gallica.bnf.fr/iiif/ark:/12148/btv1b530229216/f1/full/full/0/native.png\n",
      "Resolving gallica.bnf.fr (gallica.bnf.fr)... 194.199.8.11\n",
      "Connecting to gallica.bnf.fr (gallica.bnf.fr)|194.199.8.11|:443... connected.\n",
      "HTTP request sent, awaiting response... 200 200\n",
      "Length: 155222575 (148M) [image/png]\n",
      "Saving to: ‘btv1b530229216_f1.png’\n",
      "\n",
      "btv1b530229216_f1.p 100%[===================>] 148.03M  6.80MB/s    in 25s     \n",
      "\n",
      "2022-07-14 10:45:34 (5.89 MB/s) - ‘btv1b530229216_f1.png’ saved [155222575/155222575]\n",
      "\n"
     ]
    },
    {
     "name": "stderr",
     "output_type": "stream",
     "text": [
      "598it [5:16:27, 60.34s/it]"
     ]
    },
    {
     "name": "stdout",
     "output_type": "stream",
     "text": [
      "--2022-07-14 10:45:34--  https://gallica.bnf.fr/iiif/ark:/12148/btv1b53010929s/f1/full/full/0/native.png\n",
      "Resolving gallica.bnf.fr (gallica.bnf.fr)... 194.199.8.11\n",
      "Connecting to gallica.bnf.fr (gallica.bnf.fr)|194.199.8.11|:443... connected.\n",
      "HTTP request sent, awaiting response... 503 Service Unavailable\n",
      "2022-07-14 10:47:34 ERROR 503: Service Unavailable.\n",
      "\n"
     ]
    },
    {
     "name": "stderr",
     "output_type": "stream",
     "text": [
      "599it [5:18:28, 75.85s/it]"
     ]
    },
    {
     "name": "stdout",
     "output_type": "stream",
     "text": [
      "pass\n",
      "--2022-07-14 10:47:34--  https://gallica.bnf.fr/iiif/ark:/12148/btv1b53085174g/f1/full/full/0/native.png\n",
      "Resolving gallica.bnf.fr (gallica.bnf.fr)... 194.199.8.11\n",
      "Connecting to gallica.bnf.fr (gallica.bnf.fr)|194.199.8.11|:443... connected.\n",
      "HTTP request sent, awaiting response... 200 200\n",
      "Length: 149167152 (142M) [image/png]\n",
      "Saving to: ‘btv1b53085174g_f1.png’\n",
      "\n",
      "btv1b53085174g_f1.p 100%[===================>] 142.26M  6.77MB/s    in 25s     \n",
      "\n",
      "2022-07-14 10:48:48 (5.65 MB/s) - ‘btv1b53085174g_f1.png’ saved [149167152/149167152]\n",
      "\n"
     ]
    },
    {
     "name": "stderr",
     "output_type": "stream",
     "text": [
      "601it [5:19:41, 59.30s/it]"
     ]
    },
    {
     "name": "stdout",
     "output_type": "stream",
     "text": [
      "pass\n",
      "--2022-07-14 10:48:48--  https://gallica.bnf.fr/iiif/ark:/12148/btv1b530851983/f1/full/full/0/native.png\n",
      "Resolving gallica.bnf.fr (gallica.bnf.fr)... 194.199.8.11\n",
      "Connecting to gallica.bnf.fr (gallica.bnf.fr)|194.199.8.11|:443... connected.\n",
      "HTTP request sent, awaiting response... 200 200\n",
      "Length: 204801146 (195M) [image/png]\n",
      "Saving to: ‘btv1b530851983_f1.png’\n",
      "\n",
      "btv1b530851983_f1.p 100%[===================>] 195.31M  6.82MB/s    in 33s     \n",
      "\n",
      "2022-07-14 10:50:12 (5.99 MB/s) - ‘btv1b530851983_f1.png’ saved [204801146/204801146]\n",
      "\n"
     ]
    },
    {
     "name": "stderr",
     "output_type": "stream",
     "text": [
      "603it [5:21:06, 52.90s/it]"
     ]
    },
    {
     "name": "stdout",
     "output_type": "stream",
     "text": [
      "--2022-07-14 10:50:13--  https://gallica.bnf.fr/iiif/ark:/12148/btv1b53099776b/f1/full/full/0/native.png\n",
      "Resolving gallica.bnf.fr (gallica.bnf.fr)... 194.199.8.11\n",
      "Connecting to gallica.bnf.fr (gallica.bnf.fr)|194.199.8.11|:443... connected.\n",
      "HTTP request sent, awaiting response... 200 200\n",
      "Length: 130640446 (125M) [image/png]\n",
      "Saving to: ‘btv1b53099776b_f1.png’\n",
      "\n",
      "btv1b53099776b_f1.p 100%[===================>] 124.59M  6.85MB/s    in 21s     \n",
      "\n",
      "2022-07-14 10:51:24 (5.82 MB/s) - ‘btv1b53099776b_f1.png’ saved [130640446/130640446]\n",
      "\n"
     ]
    },
    {
     "name": "stderr",
     "output_type": "stream",
     "text": [
      "604it [5:22:17, 56.81s/it]"
     ]
    },
    {
     "name": "stdout",
     "output_type": "stream",
     "text": [
      "pass\n",
      "--2022-07-14 10:51:24--  https://gallica.bnf.fr/iiif/ark:/12148/btv1b53085508w/f1/full/full/0/native.png\n",
      "Resolving gallica.bnf.fr (gallica.bnf.fr)... 194.199.8.11\n",
      "Connecting to gallica.bnf.fr (gallica.bnf.fr)|194.199.8.11|:443... connected.\n",
      "HTTP request sent, awaiting response... 200 200\n",
      "Length: 169233247 (161M) [image/png]\n",
      "Saving to: ‘btv1b53085508w_f1.png’\n",
      "\n",
      "btv1b53085508w_f1.p 100%[===================>] 161.39M  6.79MB/s    in 28s     \n",
      "\n",
      "2022-07-14 10:53:00 (5.75 MB/s) - ‘btv1b53085508w_f1.png’ saved [169233247/169233247]\n",
      "\n"
     ]
    },
    {
     "name": "stderr",
     "output_type": "stream",
     "text": [
      "606it [5:23:54, 53.53s/it]"
     ]
    },
    {
     "name": "stdout",
     "output_type": "stream",
     "text": [
      "--2022-07-14 10:53:00--  https://gallica.bnf.fr/iiif/ark:/12148/btv1b53085240t/f1/full/full/0/native.png\n",
      "Resolving gallica.bnf.fr (gallica.bnf.fr)... 194.199.8.11\n",
      "Connecting to gallica.bnf.fr (gallica.bnf.fr)|194.199.8.11|:443... connected.\n",
      "HTTP request sent, awaiting response... 200 200\n",
      "Length: 147881142 (141M) [image/png]\n",
      "Saving to: ‘btv1b53085240t_f1.png’\n",
      "\n",
      "btv1b53085240t_f1.p 100%[===================>] 141.03M  6.71MB/s    in 26s     \n",
      "\n",
      "2022-07-14 10:54:19 (5.41 MB/s) - ‘btv1b53085240t_f1.png’ saved [147881142/147881142]\n",
      "\n"
     ]
    },
    {
     "name": "stderr",
     "output_type": "stream",
     "text": [
      "607it [5:25:12, 58.87s/it]"
     ]
    },
    {
     "name": "stdout",
     "output_type": "stream",
     "text": [
      "pass\n",
      "--2022-07-14 10:54:19--  https://gallica.bnf.fr/iiif/ark:/12148/btv1b530622172/f1/full/full/0/native.png\n",
      "Resolving gallica.bnf.fr (gallica.bnf.fr)... 194.199.8.11\n",
      "Connecting to gallica.bnf.fr (gallica.bnf.fr)|194.199.8.11|:443... connected.\n",
      "HTTP request sent, awaiting response... 200 200\n",
      "Length: 160947122 (153M) [image/png]\n",
      "Saving to: ‘btv1b530622172_f1.png’\n",
      "\n",
      "btv1b530622172_f1.p 100%[===================>] 153.49M  6.84MB/s    in 27s     \n",
      "\n",
      "2022-07-14 10:55:51 (5.62 MB/s) - ‘btv1b530622172_f1.png’ saved [160947122/160947122]\n",
      "\n"
     ]
    },
    {
     "name": "stderr",
     "output_type": "stream",
     "text": [
      "609it [5:26:45, 54.17s/it]"
     ]
    },
    {
     "name": "stdout",
     "output_type": "stream",
     "text": [
      "--2022-07-14 10:55:52--  https://gallica.bnf.fr/iiif/ark:/12148/btv1b53085629j/f1/full/full/0/native.png\n",
      "Resolving gallica.bnf.fr (gallica.bnf.fr)... 194.199.8.11\n",
      "Connecting to gallica.bnf.fr (gallica.bnf.fr)|194.199.8.11|:443... connected.\n",
      "HTTP request sent, awaiting response... 200 200\n",
      "Length: 106298003 (101M) [image/png]\n",
      "Saving to: ‘btv1b53085629j_f1.png’\n",
      "\n",
      "btv1b53085629j_f1.p 100%[===================>] 101.37M  6.83MB/s    in 19s     \n",
      "\n",
      "2022-07-14 10:57:20 (5.32 MB/s) - ‘btv1b53085629j_f1.png’ saved [106298003/106298003]\n",
      "\n"
     ]
    },
    {
     "name": "stderr",
     "output_type": "stream",
     "text": [
      "610it [5:28:14, 61.56s/it]"
     ]
    },
    {
     "name": "stdout",
     "output_type": "stream",
     "text": [
      "--2022-07-14 10:57:21--  https://gallica.bnf.fr/iiif/ark:/12148/btv1b530279030/f1/full/full/0/native.png\n",
      "Resolving gallica.bnf.fr (gallica.bnf.fr)... 194.199.8.11\n",
      "Connecting to gallica.bnf.fr (gallica.bnf.fr)|194.199.8.11|:443... connected.\n",
      "HTTP request sent, awaiting response... 200 200\n",
      "Length: 52668472 (50M) [image/png]\n",
      "Saving to: ‘btv1b530279030_f1.png’\n",
      "\n",
      "btv1b530279030_f1.p 100%[===================>]  50.23M  6.78MB/s    in 7.5s    \n",
      "\n",
      "2022-07-14 10:57:55 (6.69 MB/s) - ‘btv1b530279030_f1.png’ saved [52668472/52668472]\n",
      "\n"
     ]
    },
    {
     "name": "stderr",
     "output_type": "stream",
     "text": [
      "611it [5:28:49, 55.38s/it]"
     ]
    },
    {
     "name": "stdout",
     "output_type": "stream",
     "text": [
      "--2022-07-14 10:57:56--  https://gallica.bnf.fr/iiif/ark:/12148/btv1b530851949/f1/full/full/0/native.png\n",
      "Resolving gallica.bnf.fr (gallica.bnf.fr)... 194.199.8.11\n",
      "Connecting to gallica.bnf.fr (gallica.bnf.fr)|194.199.8.11|:443... connected.\n",
      "HTTP request sent, awaiting response... 200 200\n",
      "Length: 153824874 (147M) [image/png]\n",
      "Saving to: ‘btv1b530851949_f1.png’\n",
      "\n",
      "btv1b530851949_f1.p 100%[===================>] 146.70M  6.79MB/s    in 26s     \n",
      "\n",
      "2022-07-14 10:59:02 (5.66 MB/s) - ‘btv1b530851949_f1.png’ saved [153824874/153824874]\n",
      "\n"
     ]
    },
    {
     "name": "stderr",
     "output_type": "stream",
     "text": [
      "612it [5:29:55, 58.09s/it]"
     ]
    },
    {
     "name": "stdout",
     "output_type": "stream",
     "text": [
      "--2022-07-14 10:59:02--  https://gallica.bnf.fr/iiif/ark:/12148/btv1b530851375/f1/full/full/0/native.png\n",
      "Resolving gallica.bnf.fr (gallica.bnf.fr)... 194.199.8.11\n",
      "Connecting to gallica.bnf.fr (gallica.bnf.fr)|194.199.8.11|:443... connected.\n",
      "HTTP request sent, awaiting response... 200 200\n",
      "Length: 343112572 (327M) [image/png]\n",
      "Saving to: ‘btv1b530851375_f1.png’\n",
      "\n",
      "btv1b530851375_f1.p 100%[===================>] 327.22M  6.75MB/s    in 49s     \n",
      "\n",
      "2022-07-14 11:01:23 (6.67 MB/s) - ‘btv1b530851375_f1.png’ saved [343112572/343112572]\n",
      "\n"
     ]
    },
    {
     "name": "stderr",
     "output_type": "stream",
     "text": [
      "613it [5:32:17, 79.98s/it]"
     ]
    },
    {
     "name": "stdout",
     "output_type": "stream",
     "text": [
      "--2022-07-14 11:01:23--  https://gallica.bnf.fr/iiif/ark:/12148/btv1b530852380/f1/full/full/0/native.png\n",
      "Resolving gallica.bnf.fr (gallica.bnf.fr)... 194.199.8.11\n",
      "Connecting to gallica.bnf.fr (gallica.bnf.fr)|194.199.8.11|:443... connected.\n",
      "HTTP request sent, awaiting response... 200 200\n",
      "Length: 147014688 (140M) [image/png]\n",
      "Saving to: ‘btv1b530852380_f1.png’\n",
      "\n",
      "btv1b530852380_f1.p 100%[===================>] 140.20M  6.73MB/s    in 25s     \n",
      "\n",
      "2022-07-14 11:02:35 (5.57 MB/s) - ‘btv1b530852380_f1.png’ saved [147014688/147014688]\n",
      "\n"
     ]
    },
    {
     "name": "stderr",
     "output_type": "stream",
     "text": [
      "614it [5:33:28, 77.66s/it]"
     ]
    },
    {
     "name": "stdout",
     "output_type": "stream",
     "text": [
      "--2022-07-14 11:02:35--  https://gallica.bnf.fr/iiif/ark:/12148/btv1b53085235n/f1/full/full/0/native.png\n",
      "Resolving gallica.bnf.fr (gallica.bnf.fr)... 194.199.8.11\n",
      "Connecting to gallica.bnf.fr (gallica.bnf.fr)|194.199.8.11|:443... connected.\n",
      "HTTP request sent, awaiting response... 200 200\n",
      "Length: 150109473 (143M) [image/png]\n",
      "Saving to: ‘btv1b53085235n_f1.png’\n",
      "\n",
      "btv1b53085235n_f1.p 100%[===================>] 143.16M  6.71MB/s    in 26s     \n",
      "\n",
      "2022-07-14 11:03:46 (5.55 MB/s) - ‘btv1b53085235n_f1.png’ saved [150109473/150109473]\n",
      "\n"
     ]
    },
    {
     "name": "stderr",
     "output_type": "stream",
     "text": [
      "615it [5:34:39, 75.86s/it]"
     ]
    },
    {
     "name": "stdout",
     "output_type": "stream",
     "text": [
      "--2022-07-14 11:03:46--  https://gallica.bnf.fr/iiif/ark:/12148/btv1b53027601z/f1/full/full/0/native.png\n",
      "Resolving gallica.bnf.fr (gallica.bnf.fr)... 194.199.8.11\n",
      "Connecting to gallica.bnf.fr (gallica.bnf.fr)|194.199.8.11|:443... connected.\n",
      "HTTP request sent, awaiting response... 200 200\n",
      "Length: 106671167 (102M) [image/png]\n",
      "Saving to: ‘btv1b53027601z_f1.png’\n",
      "\n",
      "btv1b53027601z_f1.p 100%[===================>] 101.73M  6.77MB/s    in 20s     \n",
      "\n",
      "2022-07-14 11:04:34 (5.09 MB/s) - ‘btv1b53027601z_f1.png’ saved [106671167/106671167]\n",
      "\n"
     ]
    },
    {
     "name": "stderr",
     "output_type": "stream",
     "text": [
      "616it [5:35:28, 67.98s/it]"
     ]
    },
    {
     "name": "stdout",
     "output_type": "stream",
     "text": [
      "--2022-07-14 11:04:34--  https://gallica.bnf.fr/iiif/ark:/12148/btv1b530851820/f1/full/full/0/native.png\n",
      "Resolving gallica.bnf.fr (gallica.bnf.fr)... 194.199.8.11\n",
      "Connecting to gallica.bnf.fr (gallica.bnf.fr)|194.199.8.11|:443... connected.\n",
      "HTTP request sent, awaiting response... 200 200\n",
      "Length: 205583049 (196M) [image/png]\n",
      "Saving to: ‘btv1b530851820_f1.png’\n",
      "\n",
      "btv1b530851820_f1.p 100%[===================>] 196.06M  6.76MB/s    in 33s     \n",
      "\n",
      "2022-07-14 11:05:56 (5.92 MB/s) - ‘btv1b530851820_f1.png’ saved [205583049/205583049]\n",
      "\n"
     ]
    },
    {
     "name": "stderr",
     "output_type": "stream",
     "text": [
      "617it [5:36:50, 72.09s/it]"
     ]
    },
    {
     "name": "stdout",
     "output_type": "stream",
     "text": [
      "--2022-07-14 11:05:56--  https://gallica.bnf.fr/iiif/ark:/12148/btv1b53136127t/f1/full/full/0/native.png\n",
      "Resolving gallica.bnf.fr (gallica.bnf.fr)... 194.199.8.11\n",
      "Connecting to gallica.bnf.fr (gallica.bnf.fr)|194.199.8.11|:443... connected.\n",
      "HTTP request sent, awaiting response... 200 200\n",
      "Length: 80335139 (77M) [image/png]\n",
      "Saving to: ‘btv1b53136127t_f1.png’\n",
      "\n",
      "btv1b53136127t_f1.p 100%[===================>]  76.61M  6.76MB/s    in 16s     \n",
      "\n",
      "2022-07-14 11:06:43 (4.72 MB/s) - ‘btv1b53136127t_f1.png’ saved [80335139/80335139]\n",
      "\n"
     ]
    },
    {
     "name": "stderr",
     "output_type": "stream",
     "text": [
      "618it [5:37:37, 64.67s/it]"
     ]
    },
    {
     "name": "stdout",
     "output_type": "stream",
     "text": [
      "--2022-07-14 11:06:43--  https://gallica.bnf.fr/iiif/ark:/12148/btv1b53136140h/f1/full/full/0/native.png\n",
      "Resolving gallica.bnf.fr (gallica.bnf.fr)... 194.199.8.11\n",
      "Connecting to gallica.bnf.fr (gallica.bnf.fr)|194.199.8.11|:443... connected.\n",
      "HTTP request sent, awaiting response... 200 200\n",
      "Length: 83739510 (80M) [image/png]\n",
      "Saving to: ‘btv1b53136140h_f1.png’\n",
      "\n",
      "btv1b53136140h_f1.p 100%[===================>]  79.86M  6.76MB/s    in 16s     \n",
      "\n",
      "2022-07-14 11:07:22 (4.92 MB/s) - ‘btv1b53136140h_f1.png’ saved [83739510/83739510]\n",
      "\n"
     ]
    },
    {
     "name": "stderr",
     "output_type": "stream",
     "text": [
      "619it [5:38:16, 57.14s/it]"
     ]
    },
    {
     "name": "stdout",
     "output_type": "stream",
     "text": [
      "pass\n",
      "--2022-07-14 11:07:22--  https://gallica.bnf.fr/iiif/ark:/12148/btv1b53087693f/f1/full/full/0/native.png\n",
      "Resolving gallica.bnf.fr (gallica.bnf.fr)... 194.199.8.11\n",
      "Connecting to gallica.bnf.fr (gallica.bnf.fr)|194.199.8.11|:443... connected.\n",
      "HTTP request sent, awaiting response... 200 200\n",
      "Length: 70264980 (67M) [image/png]\n",
      "Saving to: ‘btv1b53087693f_f1.png’\n",
      "\n",
      "btv1b53087693f_f1.p 100%[===================>]  67.01M  6.81MB/s    in 15s     \n",
      "\n",
      "2022-07-14 11:08:10 (4.38 MB/s) - ‘btv1b53087693f_f1.png’ saved [70264980/70264980]\n",
      "\n"
     ]
    },
    {
     "name": "stderr",
     "output_type": "stream",
     "text": [
      "621it [5:39:04, 41.97s/it]"
     ]
    },
    {
     "name": "stdout",
     "output_type": "stream",
     "text": [
      "pass\n",
      "pass\n",
      "pass\n",
      "--2022-07-14 11:08:10--  https://gallica.bnf.fr/iiif/ark:/12148/btv1b53061553q/f1/full/full/0/native.png\n",
      "Resolving gallica.bnf.fr (gallica.bnf.fr)... 194.199.8.11\n",
      "Connecting to gallica.bnf.fr (gallica.bnf.fr)|194.199.8.11|:443... connected.\n",
      "HTTP request sent, awaiting response... 200 200\n",
      "Length: 68876867 (66M) [image/png]\n",
      "Saving to: ‘btv1b53061553q_f1.png’\n",
      "\n",
      "btv1b53061553q_f1.p 100%[===================>]  65.69M  2.63MB/s    in 14s     \n",
      "\n",
      "2022-07-14 11:08:52 (4.70 MB/s) - ‘btv1b53061553q_f1.png’ saved [68876867/68876867]\n",
      "\n"
     ]
    },
    {
     "name": "stderr",
     "output_type": "stream",
     "text": [
      "625it [5:39:46, 24.13s/it]"
     ]
    },
    {
     "name": "stdout",
     "output_type": "stream",
     "text": [
      "--2022-07-14 11:08:52--  https://gallica.bnf.fr/iiif/ark:/12148/btv1b84442693/f1/full/full/0/native.png\n",
      "Resolving gallica.bnf.fr (gallica.bnf.fr)... 194.199.8.11\n",
      "Connecting to gallica.bnf.fr (gallica.bnf.fr)|194.199.8.11|:443... connected.\n",
      "HTTP request sent, awaiting response... 200 200\n",
      "Length: 62383912 (59M) [image/png]\n",
      "Saving to: ‘btv1b84442693_f1.png’\n",
      "\n",
      "btv1b84442693_f1.pn 100%[===================>]  59.49M  6.77MB/s    in 13s     \n",
      "\n",
      "2022-07-14 11:09:48 (4.53 MB/s) - ‘btv1b84442693_f1.png’ saved [62383912/62383912]\n",
      "\n"
     ]
    },
    {
     "name": "stderr",
     "output_type": "stream",
     "text": [
      "626it [5:40:41, 29.45s/it]"
     ]
    },
    {
     "name": "stdout",
     "output_type": "stream",
     "text": [
      "--2022-07-14 11:09:48--  https://gallica.bnf.fr/iiif/ark:/12148/btv1b530636492/f1/full/full/0/native.png\n",
      "Resolving gallica.bnf.fr (gallica.bnf.fr)... 194.199.8.11\n",
      "Connecting to gallica.bnf.fr (gallica.bnf.fr)|194.199.8.11|:443... connected.\n",
      "HTTP request sent, awaiting response... 200 200\n",
      "Length: 138194754 (132M) [image/png]\n",
      "Saving to: ‘btv1b530636492_f1.png’\n",
      "\n",
      "btv1b530636492_f1.p 100%[===================>] 131.79M  6.84MB/s    in 23s     \n",
      "\n",
      "2022-07-14 11:11:01 (5.65 MB/s) - ‘btv1b530636492_f1.png’ saved [138194754/138194754]\n",
      "\n"
     ]
    },
    {
     "name": "stderr",
     "output_type": "stream",
     "text": [
      "627it [5:41:55, 37.99s/it]"
     ]
    },
    {
     "name": "stdout",
     "output_type": "stream",
     "text": [
      "--2022-07-14 11:11:01--  https://gallica.bnf.fr/iiif/ark:/12148/btv1b530277395/f1/full/full/0/native.png\n",
      "Resolving gallica.bnf.fr (gallica.bnf.fr)... 194.199.8.11\n",
      "Connecting to gallica.bnf.fr (gallica.bnf.fr)|194.199.8.11|:443... connected.\n",
      "HTTP request sent, awaiting response... 200 200\n",
      "Length: 129540440 (124M) [image/png]\n",
      "Saving to: ‘btv1b530277395_f1.png’\n",
      "\n",
      "btv1b530277395_f1.p 100%[===================>] 123.54M  6.82MB/s    in 23s     \n",
      "\n",
      "2022-07-14 11:12:12 (5.47 MB/s) - ‘btv1b530277395_f1.png’ saved [129540440/129540440]\n",
      "\n"
     ]
    },
    {
     "name": "stderr",
     "output_type": "stream",
     "text": [
      "628it [5:43:06, 45.14s/it]"
     ]
    },
    {
     "name": "stdout",
     "output_type": "stream",
     "text": [
      "--2022-07-14 11:12:12--  https://gallica.bnf.fr/iiif/ark:/12148/btv1b8458830t/f1/full/full/0/native.png\n",
      "Resolving gallica.bnf.fr (gallica.bnf.fr)... 194.199.8.11\n",
      "Connecting to gallica.bnf.fr (gallica.bnf.fr)|194.199.8.11|:443... connected.\n",
      "HTTP request sent, awaiting response... 200 200\n",
      "Length: 120505004 (115M) [image/png]\n",
      "Saving to: ‘btv1b8458830t_f1.png’\n",
      "\n",
      "btv1b8458830t_f1.pn 100%[===================>] 114.92M  6.77MB/s    in 21s     \n",
      "\n",
      "2022-07-14 11:13:46 (5.39 MB/s) - ‘btv1b8458830t_f1.png’ saved [120505004/120505004]\n",
      "\n"
     ]
    },
    {
     "name": "stderr",
     "output_type": "stream",
     "text": [
      "629it [5:44:39, 56.53s/it]"
     ]
    },
    {
     "name": "stdout",
     "output_type": "stream",
     "text": [
      "pass\n",
      "--2022-07-14 11:13:46--  https://gallica.bnf.fr/iiif/ark:/12148/btv1b53121233s/f2/full/full/0/native.png\n",
      "Resolving gallica.bnf.fr (gallica.bnf.fr)... 194.199.8.11\n",
      "Connecting to gallica.bnf.fr (gallica.bnf.fr)|194.199.8.11|:443... connected.\n",
      "HTTP request sent, awaiting response... 200 200\n",
      "Length: 116663083 (111M) [image/png]\n",
      "Saving to: ‘btv1b53121233s_f2.png’\n",
      "\n",
      "btv1b53121233s_f2.p 100%[===================>] 111.26M  6.85MB/s    in 21s     \n",
      "\n",
      "2022-07-14 11:14:45 (5.31 MB/s) - ‘btv1b53121233s_f2.png’ saved [116663083/116663083]\n",
      "\n"
     ]
    },
    {
     "name": "stderr",
     "output_type": "stream",
     "text": [
      "631it [5:45:39, 45.79s/it]"
     ]
    },
    {
     "name": "stdout",
     "output_type": "stream",
     "text": [
      "--2022-07-14 11:14:46--  https://gallica.bnf.fr/iiif/ark:/12148/btv1b530852363/f1/full/full/0/native.png\n",
      "Resolving gallica.bnf.fr (gallica.bnf.fr)... 194.199.8.11\n",
      "Connecting to gallica.bnf.fr (gallica.bnf.fr)|194.199.8.11|:443... connected.\n",
      "HTTP request sent, awaiting response... 200 200\n",
      "Length: 127132364 (121M) [image/png]\n",
      "Saving to: ‘btv1b530852363_f1.png’\n",
      "\n",
      "btv1b530852363_f1.p 100%[===================>] 121.24M  6.75MB/s    in 23s     \n",
      "\n",
      "2022-07-14 11:16:06 (5.37 MB/s) - ‘btv1b530852363_f1.png’ saved [127132364/127132364]\n",
      "\n"
     ]
    },
    {
     "name": "stderr",
     "output_type": "stream",
     "text": [
      "632it [5:47:00, 53.60s/it]"
     ]
    },
    {
     "name": "stdout",
     "output_type": "stream",
     "text": [
      "--2022-07-14 11:16:06--  https://gallica.bnf.fr/iiif/ark:/12148/btv1b525109756/f1/full/full/0/native.png\n",
      "Resolving gallica.bnf.fr (gallica.bnf.fr)... 194.199.8.11\n",
      "Connecting to gallica.bnf.fr (gallica.bnf.fr)|194.199.8.11|:443... connected.\n",
      "HTTP request sent, awaiting response... 503 Service Unavailable\n",
      "2022-07-14 11:18:06 ERROR 503: Service Unavailable.\n",
      "\n"
     ]
    },
    {
     "name": "stderr",
     "output_type": "stream",
     "text": [
      "633it [5:49:00, 69.76s/it]"
     ]
    },
    {
     "name": "stdout",
     "output_type": "stream",
     "text": [
      "pass\n",
      "pass\n",
      "pass\n",
      "--2022-07-14 11:18:07--  https://gallica.bnf.fr/iiif/ark:/12148/btv1b53021096k/f1/full/full/0/native.png\n",
      "Resolving gallica.bnf.fr (gallica.bnf.fr)... 194.199.8.11\n",
      "Connecting to gallica.bnf.fr (gallica.bnf.fr)|194.199.8.11|:443... connected.\n",
      "HTTP request sent, awaiting response... 200 200\n",
      "Length: 140111307 (134M) [image/png]\n",
      "Saving to: ‘btv1b53021096k_f1.png’\n",
      "\n",
      "btv1b53021096k_f1.p 100%[===================>] 133.62M  6.82MB/s    in 24s     \n",
      "\n",
      "2022-07-14 11:19:39 (5.51 MB/s) - ‘btv1b53021096k_f1.png’ saved [140111307/140111307]\n",
      "\n"
     ]
    },
    {
     "name": "stderr",
     "output_type": "stream",
     "text": [
      "637it [5:50:33, 42.70s/it]"
     ]
    },
    {
     "name": "stdout",
     "output_type": "stream",
     "text": [
      "pass\n",
      "--2022-07-14 11:19:39--  https://gallica.bnf.fr/iiif/ark:/12148/btv1b53085147k/f1/full/full/0/native.png\n",
      "Resolving gallica.bnf.fr (gallica.bnf.fr)... 194.199.8.11\n",
      "Connecting to gallica.bnf.fr (gallica.bnf.fr)|194.199.8.11|:443... connected.\n",
      "HTTP request sent, awaiting response... 200 200\n",
      "Length: 360451989 (344M) [image/png]\n",
      "Saving to: ‘btv1b53085147k_f1.png’\n",
      "\n",
      "btv1b53085147k_f1.p 100%[===================>] 343.75M   529KB/s    in 9m 43s  \n",
      "\n",
      "2022-07-14 11:31:07 (603 KB/s) - ‘btv1b53085147k_f1.png’ saved [360451989/360451989]\n",
      "\n"
     ]
    },
    {
     "name": "stderr",
     "output_type": "stream",
     "text": [
      "639it [6:02:00, 130.98s/it]"
     ]
    },
    {
     "name": "stdout",
     "output_type": "stream",
     "text": [
      "--2022-07-14 11:31:07--  https://gallica.bnf.fr/iiif/ark:/12148/btv1b84945579/f1/full/full/0/native.png\n",
      "Resolving gallica.bnf.fr (gallica.bnf.fr)... 194.199.8.11\n",
      "Connecting to gallica.bnf.fr (gallica.bnf.fr)|194.199.8.11|:443... connected.\n",
      "HTTP request sent, awaiting response... 200 200\n",
      "Length: 67398233 (64M) [image/png]\n",
      "Saving to: ‘btv1b84945579_f1.png’\n",
      "\n",
      "btv1b84945579_f1.pn 100%[===================>]  64.28M  6.81MB/s    in 10s     \n",
      "\n",
      "2022-07-14 11:31:58 (6.27 MB/s) - ‘btv1b84945579_f1.png’ saved [67398233/67398233]\n",
      "\n"
     ]
    },
    {
     "name": "stderr",
     "output_type": "stream",
     "text": [
      "640it [6:02:51, 117.11s/it]"
     ]
    },
    {
     "name": "stdout",
     "output_type": "stream",
     "text": [
      "--2022-07-14 11:31:58--  https://gallica.bnf.fr/iiif/ark:/12148/btv1b53029502q/f1/full/full/0/native.png\n",
      "Resolving gallica.bnf.fr (gallica.bnf.fr)... 194.199.8.11\n",
      "Connecting to gallica.bnf.fr (gallica.bnf.fr)|194.199.8.11|:443... connected.\n",
      "HTTP request sent, awaiting response... 200 200\n",
      "Length: 117803941 (112M) [image/png]\n",
      "Saving to: ‘btv1b53029502q_f1.png’\n",
      "\n",
      "btv1b53029502q_f1.p 100%[===================>] 112.35M  6.66MB/s    in 21s     \n",
      "\n",
      "2022-07-14 11:32:58 (5.24 MB/s) - ‘btv1b53029502q_f1.png’ saved [117803941/117803941]\n",
      "\n"
     ]
    },
    {
     "name": "stderr",
     "output_type": "stream",
     "text": [
      "641it [6:03:51, 105.82s/it]"
     ]
    },
    {
     "name": "stdout",
     "output_type": "stream",
     "text": [
      "--2022-07-14 11:32:58--  https://gallica.bnf.fr/iiif/ark:/12148/btv1b530297854/f1/full/full/0/native.png\n",
      "Resolving gallica.bnf.fr (gallica.bnf.fr)... 194.199.8.11\n",
      "Connecting to gallica.bnf.fr (gallica.bnf.fr)|194.199.8.11|:443... connected.\n",
      "HTTP request sent, awaiting response... 200 200\n",
      "Length: 138078115 (132M) [image/png]\n",
      "Saving to: ‘btv1b530297854_f1.png’\n",
      "\n",
      "btv1b530297854_f1.p 100%[===================>] 131.68M  6.79MB/s    in 24s     \n",
      "\n",
      "2022-07-14 11:34:35 (5.51 MB/s) - ‘btv1b530297854_f1.png’ saved [138078115/138078115]\n",
      "\n"
     ]
    },
    {
     "name": "stderr",
     "output_type": "stream",
     "text": [
      "642it [6:05:28, 103.82s/it]"
     ]
    },
    {
     "name": "stdout",
     "output_type": "stream",
     "text": [
      "pass\n",
      "--2022-07-14 11:34:35--  https://gallica.bnf.fr/iiif/ark:/12148/btv1b53060314d/f1/full/full/0/native.png\n",
      "Resolving gallica.bnf.fr (gallica.bnf.fr)... 194.199.8.11\n",
      "Connecting to gallica.bnf.fr (gallica.bnf.fr)|194.199.8.11|:443... connected.\n",
      "HTTP request sent, awaiting response... 200 200\n",
      "Length: 105945838 (101M) [image/png]\n",
      "Saving to: ‘btv1b53060314d_f1.png’\n",
      "\n",
      "btv1b53060314d_f1.p 100%[===================>] 101.04M  6.83MB/s    in 20s     \n",
      "\n",
      "2022-07-14 11:36:11 (5.03 MB/s) - ‘btv1b53060314d_f1.png’ saved [105945838/105945838]\n",
      "\n"
     ]
    },
    {
     "name": "stderr",
     "output_type": "stream",
     "text": [
      "644it [6:07:05, 82.37s/it] "
     ]
    },
    {
     "name": "stdout",
     "output_type": "stream",
     "text": [
      "pass\n",
      "pass\n",
      "--2022-07-14 11:36:11--  https://gallica.bnf.fr/iiif/ark:/12148/btv1b53029452d/f1/full/full/0/native.png\n",
      "Resolving gallica.bnf.fr (gallica.bnf.fr)... 194.199.8.11\n",
      "Connecting to gallica.bnf.fr (gallica.bnf.fr)|194.199.8.11|:443... connected.\n",
      "HTTP request sent, awaiting response... 200 200\n",
      "Length: 86969825 (83M) [image/png]\n",
      "Saving to: ‘btv1b53029452d_f1.png’\n",
      "\n",
      "btv1b53029452d_f1.p 100%[===================>]  82.94M  6.68MB/s    in 17s     \n",
      "\n",
      "2022-07-14 11:37:15 (5.03 MB/s) - ‘btv1b53029452d_f1.png’ saved [86969825/86969825]\n",
      "\n"
     ]
    },
    {
     "name": "stderr",
     "output_type": "stream",
     "text": [
      "647it [6:08:09, 54.73s/it]"
     ]
    },
    {
     "name": "stdout",
     "output_type": "stream",
     "text": [
      "--2022-07-14 11:37:16--  https://gallica.bnf.fr/iiif/ark:/12148/btv1b530855367/f1/full/full/0/native.png\n",
      "Resolving gallica.bnf.fr (gallica.bnf.fr)... 194.199.8.11\n",
      "Connecting to gallica.bnf.fr (gallica.bnf.fr)|194.199.8.11|:443... connected.\n",
      "HTTP request sent, awaiting response... 200 200\n",
      "Length: 136813924 (130M) [image/png]\n",
      "Saving to: ‘btv1b530855367_f1.png’\n",
      "\n",
      "btv1b530855367_f1.p 100%[===================>] 130.48M  6.75MB/s    in 24s     \n",
      "\n",
      "2022-07-14 11:38:32 (5.46 MB/s) - ‘btv1b530855367_f1.png’ saved [136813924/136813924]\n",
      "\n"
     ]
    },
    {
     "name": "stderr",
     "output_type": "stream",
     "text": [
      "648it [6:09:26, 58.60s/it]"
     ]
    },
    {
     "name": "stdout",
     "output_type": "stream",
     "text": [
      "--2022-07-14 11:38:32--  https://gallica.bnf.fr/iiif/ark:/12148/btv1b53010953b/f1/full/full/0/native.png\n",
      "Resolving gallica.bnf.fr (gallica.bnf.fr)... 194.199.8.11\n",
      "Connecting to gallica.bnf.fr (gallica.bnf.fr)|194.199.8.11|:443... connected.\n",
      "HTTP request sent, awaiting response... 200 200\n",
      "Length: 215330933 (205M) [image/png]\n",
      "Saving to: ‘btv1b53010953b_f1.png’\n",
      "\n",
      "btv1b53010953b_f1.p 100%[===================>] 205.36M  6.84MB/s    in 34s     \n",
      "\n",
      "2022-07-14 11:40:33 (5.95 MB/s) - ‘btv1b53010953b_f1.png’ saved [215330933/215330933]\n",
      "\n"
     ]
    },
    {
     "name": "stderr",
     "output_type": "stream",
     "text": [
      "649it [6:11:27, 71.22s/it]"
     ]
    },
    {
     "name": "stdout",
     "output_type": "stream",
     "text": [
      "--2022-07-14 11:40:33--  https://gallica.bnf.fr/iiif/ark:/12148/btv1b8444499x/f1/full/full/0/native.png\n",
      "Resolving gallica.bnf.fr (gallica.bnf.fr)... 194.199.8.11\n",
      "Connecting to gallica.bnf.fr (gallica.bnf.fr)|194.199.8.11|:443... connected.\n",
      "HTTP request sent, awaiting response... 200 200\n",
      "Length: 44189651 (42M) [image/png]\n",
      "Saving to: ‘btv1b8444499x_f1.png’\n",
      "\n",
      "btv1b8444499x_f1.pn 100%[===================>]  42.14M  6.67MB/s    in 7.1s    \n",
      "\n",
      "2022-07-14 11:41:10 (5.97 MB/s) - ‘btv1b8444499x_f1.png’ saved [44189651/44189651]\n",
      "\n"
     ]
    },
    {
     "name": "stderr",
     "output_type": "stream",
     "text": [
      "650it [6:12:04, 63.65s/it]"
     ]
    },
    {
     "name": "stdout",
     "output_type": "stream",
     "text": [
      "pass\n",
      "pass\n",
      "--2022-07-14 11:41:11--  https://gallica.bnf.fr/iiif/ark:/12148/btv1b53088149h/f1/full/full/0/native.png\n",
      "Resolving gallica.bnf.fr (gallica.bnf.fr)... 194.199.8.11\n",
      "Connecting to gallica.bnf.fr (gallica.bnf.fr)|194.199.8.11|:443... connected.\n",
      "HTTP request sent, awaiting response... 200 200\n",
      "Length: 71461745 (68M) [image/png]\n",
      "Saving to: ‘btv1b53088149h_f1.png’\n",
      "\n",
      "btv1b53088149h_f1.p 100%[===================>]  68.15M  6.82MB/s    in 14s     \n",
      "\n",
      "2022-07-14 11:41:54 (4.86 MB/s) - ‘btv1b53088149h_f1.png’ saved [71461745/71461745]\n",
      "\n"
     ]
    },
    {
     "name": "stderr",
     "output_type": "stream",
     "text": [
      "653it [6:12:48, 39.58s/it]"
     ]
    },
    {
     "name": "stdout",
     "output_type": "stream",
     "text": [
      "--2022-07-14 11:41:54--  https://gallica.bnf.fr/iiif/ark:/12148/btv1b53085166z/f1/full/full/0/native.png\n",
      "Resolving gallica.bnf.fr (gallica.bnf.fr)... 194.199.8.11\n",
      "Connecting to gallica.bnf.fr (gallica.bnf.fr)|194.199.8.11|:443... connected.\n",
      "HTTP request sent, awaiting response... 200 200\n",
      "Length: 218294163 (208M) [image/png]\n",
      "Saving to: ‘btv1b53085166z_f1.png’\n",
      "\n",
      "btv1b53085166z_f1.p 100%[===================>] 208.18M  6.80MB/s    in 35s     \n",
      "\n",
      "2022-07-14 11:43:42 (5.90 MB/s) - ‘btv1b53085166z_f1.png’ saved [218294163/218294163]\n",
      "\n"
     ]
    },
    {
     "name": "stderr",
     "output_type": "stream",
     "text": [
      "654it [6:14:36, 52.60s/it]"
     ]
    },
    {
     "name": "stdout",
     "output_type": "stream",
     "text": [
      "--2022-07-14 11:43:43--  https://gallica.bnf.fr/iiif/ark:/12148/btv1b53085163m/f1/full/full/0/native.png\n",
      "Resolving gallica.bnf.fr (gallica.bnf.fr)... 194.199.8.11\n",
      "Connecting to gallica.bnf.fr (gallica.bnf.fr)|194.199.8.11|:443... connected.\n",
      "HTTP request sent, awaiting response... 200 200\n",
      "Length: 116271665 (111M) [image/png]\n",
      "Saving to: ‘btv1b53085163m_f1.png’\n",
      "\n",
      "btv1b53085163m_f1.p 100%[===================>] 110.88M  6.75MB/s    in 21s     \n",
      "\n",
      "2022-07-14 11:44:54 (5.20 MB/s) - ‘btv1b53085163m_f1.png’ saved [116271665/116271665]\n",
      "\n"
     ]
    },
    {
     "name": "stderr",
     "output_type": "stream",
     "text": [
      "655it [6:15:48, 56.65s/it]"
     ]
    },
    {
     "name": "stdout",
     "output_type": "stream",
     "text": [
      "--2022-07-14 11:44:54--  https://gallica.bnf.fr/iiif/ark:/12148/btv1b530291490/f1/full/full/0/native.png\n",
      "Resolving gallica.bnf.fr (gallica.bnf.fr)... 194.199.8.11\n",
      "Connecting to gallica.bnf.fr (gallica.bnf.fr)|194.199.8.11|:443... connected.\n",
      "HTTP request sent, awaiting response... 200 200\n",
      "Length: 116195334 (111M) [image/png]\n",
      "Saving to: ‘btv1b530291490_f1.png’\n",
      "\n",
      "btv1b530291490_f1.p 100%[===================>] 110.81M  6.80MB/s    in 20s     \n",
      "\n",
      "2022-07-14 11:45:55 (5.68 MB/s) - ‘btv1b530291490_f1.png’ saved [116195334/116195334]\n",
      "\n"
     ]
    },
    {
     "name": "stderr",
     "output_type": "stream",
     "text": [
      "656it [6:16:48, 57.59s/it]"
     ]
    },
    {
     "name": "stdout",
     "output_type": "stream",
     "text": [
      "--2022-07-14 11:45:55--  https://gallica.bnf.fr/iiif/ark:/12148/btv1b53029489s/f1/full/full/0/native.png\n",
      "Resolving gallica.bnf.fr (gallica.bnf.fr)... 194.199.8.11\n",
      "Connecting to gallica.bnf.fr (gallica.bnf.fr)|194.199.8.11|:443... connected.\n",
      "HTTP request sent, awaiting response... 200 200\n",
      "Length: 124053791 (118M) [image/png]\n",
      "Saving to: ‘btv1b53029489s_f1.png’\n",
      "\n",
      "btv1b53029489s_f1.p 100%[===================>] 118.31M  6.84MB/s    in 22s     \n",
      "\n",
      "2022-07-14 11:46:51 (5.39 MB/s) - ‘btv1b53029489s_f1.png’ saved [124053791/124053791]\n",
      "\n"
     ]
    },
    {
     "name": "stderr",
     "output_type": "stream",
     "text": [
      "657it [6:17:45, 57.35s/it]"
     ]
    },
    {
     "name": "stdout",
     "output_type": "stream",
     "text": [
      "--2022-07-14 11:46:51--  https://gallica.bnf.fr/iiif/ark:/12148/btv1b530622227/f1/full/full/0/native.png\n",
      "Resolving gallica.bnf.fr (gallica.bnf.fr)... 194.199.8.11\n",
      "Connecting to gallica.bnf.fr (gallica.bnf.fr)|194.199.8.11|:443... connected.\n",
      "HTTP request sent, awaiting response... 200 200\n",
      "Length: 190031498 (181M) [image/png]\n",
      "Saving to: ‘btv1b530622227_f1.png’\n",
      "\n",
      "btv1b530622227_f1.p 100%[===================>] 181.23M  6.81MB/s    in 32s     \n",
      "\n",
      "2022-07-14 11:48:52 (5.71 MB/s) - ‘btv1b530622227_f1.png’ saved [190031498/190031498]\n",
      "\n"
     ]
    },
    {
     "name": "stderr",
     "output_type": "stream",
     "text": [
      "658it [6:19:46, 73.96s/it]"
     ]
    },
    {
     "name": "stdout",
     "output_type": "stream",
     "text": [
      "--2022-07-14 11:48:52--  https://gallica.bnf.fr/iiif/ark:/12148/btv1b53070263z/f1/full/full/0/native.png\n",
      "Resolving gallica.bnf.fr (gallica.bnf.fr)... 194.199.8.11\n",
      "Connecting to gallica.bnf.fr (gallica.bnf.fr)|194.199.8.11|:443... connected.\n",
      "HTTP request sent, awaiting response... 200 200\n",
      "Length: 61456337 (59M) [image/png]\n",
      "Saving to: ‘btv1b53070263z_f1.png’\n",
      "\n",
      "btv1b53070263z_f1.p 100%[===================>]  58.61M  6.79MB/s    in 9.4s    \n",
      "\n",
      "2022-07-14 11:49:39 (6.22 MB/s) - ‘btv1b53070263z_f1.png’ saved [61456337/61456337]\n",
      "\n"
     ]
    },
    {
     "name": "stderr",
     "output_type": "stream",
     "text": [
      "659it [6:20:33, 66.70s/it]"
     ]
    },
    {
     "name": "stdout",
     "output_type": "stream",
     "text": [
      "--2022-07-14 11:49:39--  https://gallica.bnf.fr/iiif/ark:/12148/btv1b53028002g/f1/full/full/0/native.png\n",
      "Resolving gallica.bnf.fr (gallica.bnf.fr)... 194.199.8.11\n",
      "Connecting to gallica.bnf.fr (gallica.bnf.fr)|194.199.8.11|:443... connected.\n",
      "HTTP request sent, awaiting response... 200 200\n",
      "Length: 167870138 (160M) [image/png]\n",
      "Saving to: ‘btv1b53028002g_f1.png’\n",
      "\n",
      "btv1b53028002g_f1.p 100%[===================>] 160.09M  6.80MB/s    in 28s     \n",
      "\n",
      "2022-07-14 11:51:01 (5.72 MB/s) - ‘btv1b53028002g_f1.png’ saved [167870138/167870138]\n",
      "\n"
     ]
    },
    {
     "name": "stderr",
     "output_type": "stream",
     "text": [
      "660it [6:21:54, 70.86s/it]"
     ]
    },
    {
     "name": "stdout",
     "output_type": "stream",
     "text": [
      "pass\n",
      "--2022-07-14 11:51:01--  https://gallica.bnf.fr/iiif/ark:/12148/btv1b8444457k/f1/full/full/0/native.png\n",
      "Resolving gallica.bnf.fr (gallica.bnf.fr)... 194.199.8.11\n",
      "Connecting to gallica.bnf.fr (gallica.bnf.fr)|194.199.8.11|:443... connected.\n",
      "HTTP request sent, awaiting response... 200 200\n",
      "Length: 58139804 (55M) [image/png]\n",
      "Saving to: ‘btv1b8444457k_f1.png’\n",
      "\n",
      "btv1b8444457k_f1.pn 100%[===================>]  55.45M  6.85MB/s    in 8.3s    \n",
      "\n",
      "2022-07-14 11:51:57 (6.71 MB/s) - ‘btv1b8444457k_f1.png’ saved [58139804/58139804]\n",
      "\n"
     ]
    },
    {
     "name": "stderr",
     "output_type": "stream",
     "text": [
      "662it [6:22:51, 51.85s/it]"
     ]
    },
    {
     "name": "stdout",
     "output_type": "stream",
     "text": [
      "--2022-07-14 11:51:57--  https://gallica.bnf.fr/iiif/ark:/12148/btv1b530856266/f1/full/full/0/native.png\n",
      "Resolving gallica.bnf.fr (gallica.bnf.fr)... 194.199.8.11\n",
      "Connecting to gallica.bnf.fr (gallica.bnf.fr)|194.199.8.11|:443... connected.\n",
      "HTTP request sent, awaiting response... 200 200\n",
      "Length: 102261693 (98M) [image/png]\n",
      "Saving to: ‘btv1b530856266_f1.png’\n",
      "\n",
      "btv1b530856266_f1.p 100%[===================>]  97.52M  6.83MB/s    in 19s     \n",
      "\n",
      "2022-07-14 11:53:24 (5.01 MB/s) - ‘btv1b530856266_f1.png’ saved [102261693/102261693]\n",
      "\n"
     ]
    },
    {
     "name": "stderr",
     "output_type": "stream",
     "text": [
      "663it [6:24:17, 60.26s/it]"
     ]
    },
    {
     "name": "stdout",
     "output_type": "stream",
     "text": [
      "pass\n",
      "--2022-07-14 11:53:24--  https://gallica.bnf.fr/iiif/ark:/12148/btv1b53064632v/f1/full/full/0/native.png\n",
      "Resolving gallica.bnf.fr (gallica.bnf.fr)... 194.199.8.11\n",
      "Connecting to gallica.bnf.fr (gallica.bnf.fr)|194.199.8.11|:443... connected.\n",
      "HTTP request sent, awaiting response... 200 200\n",
      "Length: 80680679 (77M) [image/png]\n",
      "Saving to: ‘btv1b53064632v_f1.png’\n",
      "\n",
      "btv1b53064632v_f1.p 100%[===================>]  76.94M  6.65MB/s    in 12s     \n",
      "\n",
      "2022-07-14 11:54:05 (6.36 MB/s) - ‘btv1b53064632v_f1.png’ saved [80680679/80680679]\n",
      "\n"
     ]
    },
    {
     "name": "stderr",
     "output_type": "stream",
     "text": [
      "665it [6:24:58, 44.05s/it]"
     ]
    },
    {
     "name": "stdout",
     "output_type": "stream",
     "text": [
      "--2022-07-14 11:54:05--  https://gallica.bnf.fr/iiif/ark:/12148/btv1b53064632v/f2/full/full/0/native.png\n",
      "Resolving gallica.bnf.fr (gallica.bnf.fr)... 194.199.8.11\n",
      "Connecting to gallica.bnf.fr (gallica.bnf.fr)|194.199.8.11|:443... connected.\n",
      "HTTP request sent, awaiting response... 200 200\n",
      "Length: 76332523 (73M) [image/png]\n",
      "Saving to: ‘btv1b53064632v_f2.png’\n",
      "\n",
      "btv1b53064632v_f2.p 100%[===================>]  72.80M  6.86MB/s    in 11s     \n",
      "\n",
      "2022-07-14 11:54:46 (6.78 MB/s) - ‘btv1b53064632v_f2.png’ saved [76332523/76332523]\n",
      "\n"
     ]
    },
    {
     "name": "stderr",
     "output_type": "stream",
     "text": [
      "666it [6:25:40, 43.52s/it]"
     ]
    },
    {
     "name": "stdout",
     "output_type": "stream",
     "text": [
      "pass\n",
      "--2022-07-14 11:54:47--  https://gallica.bnf.fr/iiif/ark:/12148/btv1b84406252/f1/full/full/0/native.png\n",
      "Resolving gallica.bnf.fr (gallica.bnf.fr)... 194.199.8.11\n",
      "Connecting to gallica.bnf.fr (gallica.bnf.fr)|194.199.8.11|:443... connected.\n",
      "HTTP request sent, awaiting response... 200 200\n",
      "Length: 143232111 (137M) [image/png]\n",
      "Saving to: ‘btv1b84406252_f1.png’\n",
      "\n",
      "btv1b84406252_f1.pn 100%[===================>] 136.60M  6.78MB/s    in 24s     \n",
      "\n",
      "2022-07-14 11:56:11 (5.80 MB/s) - ‘btv1b84406252_f1.png’ saved [143232111/143232111]\n",
      "\n"
     ]
    },
    {
     "name": "stderr",
     "output_type": "stream",
     "text": [
      "668it [6:27:05, 43.08s/it]"
     ]
    },
    {
     "name": "stdout",
     "output_type": "stream",
     "text": [
      "--2022-07-14 11:56:11--  https://gallica.bnf.fr/iiif/ark:/12148/btv1b84942860/f1/full/full/0/native.png\n",
      "Resolving gallica.bnf.fr (gallica.bnf.fr)... 194.199.8.11\n",
      "Connecting to gallica.bnf.fr (gallica.bnf.fr)|194.199.8.11|:443... connected.\n",
      "HTTP request sent, awaiting response... 200 200\n",
      "Length: 120443777 (115M) [image/png]\n",
      "Saving to: ‘btv1b84942860_f1.png’\n",
      "\n",
      "btv1b84942860_f1.pn 100%[===================>] 114.86M  6.84MB/s    in 20s     \n",
      "\n",
      "2022-07-14 11:57:46 (5.77 MB/s) - ‘btv1b84942860_f1.png’ saved [120443777/120443777]\n",
      "\n"
     ]
    },
    {
     "name": "stderr",
     "output_type": "stream",
     "text": [
      "669it [6:28:40, 54.37s/it]"
     ]
    },
    {
     "name": "stdout",
     "output_type": "stream",
     "text": [
      "--2022-07-14 11:57:46--  https://gallica.bnf.fr/iiif/ark:/12148/btv1b53085544r/f1/full/full/0/native.png\n",
      "Resolving gallica.bnf.fr (gallica.bnf.fr)... 194.199.8.11\n",
      "Connecting to gallica.bnf.fr (gallica.bnf.fr)|194.199.8.11|:443... connected.\n",
      "HTTP request sent, awaiting response... 200 200\n",
      "Length: 132553202 (126M) [image/png]\n",
      "Saving to: ‘btv1b53085544r_f1.png’\n",
      "\n",
      "btv1b53085544r_f1.p 100%[===================>] 126.41M  6.85MB/s    in 23s     \n",
      "\n",
      "2022-07-14 11:59:04 (5.42 MB/s) - ‘btv1b53085544r_f1.png’ saved [132553202/132553202]\n",
      "\n"
     ]
    },
    {
     "name": "stderr",
     "output_type": "stream",
     "text": [
      "670it [6:29:58, 60.10s/it]"
     ]
    },
    {
     "name": "stdout",
     "output_type": "stream",
     "text": [
      "--2022-07-14 11:59:05--  https://gallica.bnf.fr/iiif/ark:/12148/btv1b530619359/f1/full/full/0/native.png\n",
      "Resolving gallica.bnf.fr (gallica.bnf.fr)... 194.199.8.11\n",
      "Connecting to gallica.bnf.fr (gallica.bnf.fr)|194.199.8.11|:443... connected.\n",
      "HTTP request sent, awaiting response... 200 200\n",
      "Length: 160379003 (153M) [image/png]\n",
      "Saving to: ‘btv1b530619359_f1.png’\n",
      "\n",
      "btv1b530619359_f1.p 100%[===================>] 152.95M  6.80MB/s    in 26s     \n",
      "\n",
      "2022-07-14 12:00:38 (5.94 MB/s) - ‘btv1b530619359_f1.png’ saved [160379003/160379003]\n",
      "\n"
     ]
    },
    {
     "name": "stderr",
     "output_type": "stream",
     "text": [
      "671it [6:31:31, 68.52s/it]"
     ]
    },
    {
     "name": "stdout",
     "output_type": "stream",
     "text": [
      "pass\n",
      "pass\n",
      "--2022-07-14 12:00:38--  https://gallica.bnf.fr/iiif/ark:/12148/btv1b530622941/f1/full/full/0/native.png\n",
      "Resolving gallica.bnf.fr (gallica.bnf.fr)... 194.199.8.11\n",
      "Connecting to gallica.bnf.fr (gallica.bnf.fr)|194.199.8.11|:443... connected.\n",
      "HTTP request sent, awaiting response... 200 200\n",
      "Length: 157648221 (150M) [image/png]\n",
      "Saving to: ‘btv1b530622941_f1.png’\n",
      "\n",
      "btv1b530622941_f1.p 100%[===================>] 150.34M  6.81MB/s    in 27s     \n",
      "\n",
      "2022-07-14 12:02:57 (5.61 MB/s) - ‘btv1b530622941_f1.png’ saved [157648221/157648221]\n",
      "\n"
     ]
    },
    {
     "name": "stderr",
     "output_type": "stream",
     "text": [
      "674it [6:33:51, 57.09s/it]"
     ]
    },
    {
     "name": "stdout",
     "output_type": "stream",
     "text": [
      "--2022-07-14 12:02:58--  https://gallica.bnf.fr/iiif/ark:/12148/btv1b530336549/f1/full/full/0/native.png\n",
      "Resolving gallica.bnf.fr (gallica.bnf.fr)... 194.199.8.11\n",
      "Connecting to gallica.bnf.fr (gallica.bnf.fr)|194.199.8.11|:443... connected.\n",
      "HTTP request sent, awaiting response... 200 200\n",
      "Length: 61058987 (58M) [image/png]\n",
      "Saving to: ‘btv1b530336549_f1.png’\n",
      "\n",
      "btv1b530336549_f1.p 100%[===================>]  58.23M  6.83MB/s    in 9.5s    \n",
      "\n",
      "2022-07-14 12:03:50 (6.10 MB/s) - ‘btv1b530336549_f1.png’ saved [61058987/61058987]\n",
      "\n"
     ]
    },
    {
     "name": "stderr",
     "output_type": "stream",
     "text": [
      "675it [6:34:44, 56.20s/it]"
     ]
    },
    {
     "name": "stdout",
     "output_type": "stream",
     "text": [
      "--2022-07-14 12:03:50--  https://gallica.bnf.fr/iiif/ark:/12148/btv1b8442009h/f1/full/full/0/native.png\n",
      "Resolving gallica.bnf.fr (gallica.bnf.fr)... 194.199.8.11\n",
      "Connecting to gallica.bnf.fr (gallica.bnf.fr)|194.199.8.11|:443... connected.\n",
      "HTTP request sent, awaiting response... 200 200\n",
      "Length: 46324752 (44M) [image/png]\n",
      "Saving to: ‘btv1b8442009h_f1.png’\n",
      "\n",
      "btv1b8442009h_f1.pn 100%[===================>]  44.18M  6.79MB/s    in 7.3s    \n",
      "\n",
      "2022-07-14 12:04:21 (6.03 MB/s) - ‘btv1b8442009h_f1.png’ saved [46324752/46324752]\n",
      "\n"
     ]
    },
    {
     "name": "stderr",
     "output_type": "stream",
     "text": [
      "676it [6:35:15, 50.70s/it]"
     ]
    },
    {
     "name": "stdout",
     "output_type": "stream",
     "text": [
      "pass\n",
      "--2022-07-14 12:04:21--  https://gallica.bnf.fr/iiif/ark:/12148/btv1b8441388v/f1/full/full/0/native.png\n",
      "Resolving gallica.bnf.fr (gallica.bnf.fr)... 194.199.8.11\n",
      "Connecting to gallica.bnf.fr (gallica.bnf.fr)|194.199.8.11|:443... connected.\n",
      "HTTP request sent, awaiting response... 200 200\n",
      "Length: 42975512 (41M) [image/png]\n",
      "Saving to: ‘btv1b8441388v_f1.png’\n",
      "\n",
      "btv1b8441388v_f1.pn 100%[===================>]  40.98M  6.81MB/s    in 7.1s    \n",
      "\n",
      "2022-07-14 12:04:55 (5.78 MB/s) - ‘btv1b8441388v_f1.png’ saved [42975512/42975512]\n",
      "\n"
     ]
    },
    {
     "name": "stderr",
     "output_type": "stream",
     "text": [
      "678it [6:35:49, 37.61s/it]"
     ]
    },
    {
     "name": "stdout",
     "output_type": "stream",
     "text": [
      "--2022-07-14 12:04:55--  https://gallica.bnf.fr/iiif/ark:/12148/btv1b53061933d/f1/full/full/0/native.png\n",
      "Resolving gallica.bnf.fr (gallica.bnf.fr)... 194.199.8.11\n",
      "Connecting to gallica.bnf.fr (gallica.bnf.fr)|194.199.8.11|:443... connected.\n",
      "HTTP request sent, awaiting response... 200 200\n",
      "Length: 163356819 (156M) [image/png]\n",
      "Saving to: ‘btv1b53061933d_f1.png’\n",
      "\n",
      "btv1b53061933d_f1.p 100%[===================>] 155.79M  6.80MB/s    in 28s     \n",
      "\n",
      "2022-07-14 12:06:33 (5.64 MB/s) - ‘btv1b53061933d_f1.png’ saved [163356819/163356819]\n",
      "\n"
     ]
    },
    {
     "name": "stderr",
     "output_type": "stream",
     "text": [
      "679it [6:37:26, 50.56s/it]"
     ]
    },
    {
     "name": "stdout",
     "output_type": "stream",
     "text": [
      "--2022-07-14 12:06:33--  https://gallica.bnf.fr/iiif/ark:/12148/btv1b53085515z/f1/full/full/0/native.png\n",
      "Resolving gallica.bnf.fr (gallica.bnf.fr)... 194.199.8.11\n",
      "Connecting to gallica.bnf.fr (gallica.bnf.fr)|194.199.8.11|:443... connected.\n",
      "HTTP request sent, awaiting response... 200 200\n",
      "Length: 133684621 (127M) [image/png]\n",
      "Saving to: ‘btv1b53085515z_f1.png’\n",
      "\n",
      "btv1b53085515z_f1.p 100%[===================>] 127.49M  6.76MB/s    in 24s     \n",
      "\n",
      "2022-07-14 12:07:51 (5.40 MB/s) - ‘btv1b53085515z_f1.png’ saved [133684621/133684621]\n",
      "\n"
     ]
    },
    {
     "name": "stderr",
     "output_type": "stream",
     "text": [
      "680it [6:38:44, 57.11s/it]"
     ]
    },
    {
     "name": "stdout",
     "output_type": "stream",
     "text": [
      "--2022-07-14 12:07:51--  https://gallica.bnf.fr/iiif/ark:/12148/btv1b53060651v/f1/full/full/0/native.png\n",
      "Resolving gallica.bnf.fr (gallica.bnf.fr)... 194.199.8.11\n",
      "Connecting to gallica.bnf.fr (gallica.bnf.fr)|194.199.8.11|:443... connected.\n",
      "HTTP request sent, awaiting response... 200 200\n",
      "Length: 142004940 (135M) [image/png]\n",
      "Saving to: ‘btv1b53060651v_f1.png’\n",
      "\n",
      "btv1b53060651v_f1.p 100%[===================>] 135.43M  6.81MB/s    in 24s     \n",
      "\n",
      "2022-07-14 12:09:17 (5.62 MB/s) - ‘btv1b53060651v_f1.png’ saved [142004940/142004940]\n",
      "\n"
     ]
    },
    {
     "name": "stderr",
     "output_type": "stream",
     "text": [
      "681it [6:40:11, 64.46s/it]"
     ]
    },
    {
     "name": "stdout",
     "output_type": "stream",
     "text": [
      "--2022-07-14 12:09:17--  https://gallica.bnf.fr/iiif/ark:/12148/btv1b8444270r/f1/full/full/0/native.png\n",
      "Resolving gallica.bnf.fr (gallica.bnf.fr)... 194.199.8.11\n",
      "Connecting to gallica.bnf.fr (gallica.bnf.fr)|194.199.8.11|:443... connected.\n",
      "HTTP request sent, awaiting response... 200 200\n",
      "Length: 46704882 (45M) [image/png]\n",
      "Saving to: ‘btv1b8444270r_f1.png’\n",
      "\n",
      "btv1b8444270r_f1.pn 100%[===================>]  44.54M  6.81MB/s    in 6.7s    \n",
      "\n",
      "2022-07-14 12:09:48 (6.66 MB/s) - ‘btv1b8444270r_f1.png’ saved [46704882/46704882]\n",
      "\n"
     ]
    },
    {
     "name": "stderr",
     "output_type": "stream",
     "text": [
      "682it [6:40:41, 55.46s/it]"
     ]
    },
    {
     "name": "stdout",
     "output_type": "stream",
     "text": [
      "--2022-07-14 12:09:48--  https://gallica.bnf.fr/iiif/ark:/12148/btv1b53085230d/f1/full/full/0/native.png\n",
      "Resolving gallica.bnf.fr (gallica.bnf.fr)... 194.199.8.11\n",
      "Connecting to gallica.bnf.fr (gallica.bnf.fr)|194.199.8.11|:443... connected.\n",
      "HTTP request sent, awaiting response... 200 200\n",
      "Length: 108657860 (104M) [image/png]\n",
      "Saving to: ‘btv1b53085230d_f1.png’\n",
      "\n",
      "btv1b53085230d_f1.p 100%[===================>] 103.62M  6.76MB/s    in 20s     \n",
      "\n",
      "2022-07-14 12:10:51 (5.21 MB/s) - ‘btv1b53085230d_f1.png’ saved [108657860/108657860]\n",
      "\n"
     ]
    },
    {
     "name": "stderr",
     "output_type": "stream",
     "text": [
      "683it [6:41:45, 57.73s/it]"
     ]
    },
    {
     "name": "stdout",
     "output_type": "stream",
     "text": [
      "--2022-07-14 12:10:51--  https://gallica.bnf.fr/iiif/ark:/12148/btv1b530879261/f1/full/full/0/native.png\n",
      "Resolving gallica.bnf.fr (gallica.bnf.fr)... 194.199.8.11\n",
      "Connecting to gallica.bnf.fr (gallica.bnf.fr)|194.199.8.11|:443... connected.\n",
      "HTTP request sent, awaiting response... 200 200\n",
      "Length: 71785347 (68M) [image/png]\n",
      "Saving to: ‘btv1b530879261_f1.png’\n",
      "\n",
      "btv1b530879261_f1.p 100%[===================>]  68.46M  6.75MB/s    in 11s     \n",
      "\n",
      "2022-07-14 12:11:31 (6.34 MB/s) - ‘btv1b530879261_f1.png’ saved [71785347/71785347]\n",
      "\n"
     ]
    },
    {
     "name": "stderr",
     "output_type": "stream",
     "text": [
      "684it [6:42:25, 52.63s/it]"
     ]
    },
    {
     "name": "stdout",
     "output_type": "stream",
     "text": [
      "pass\n",
      "--2022-07-14 12:11:31--  https://gallica.bnf.fr/iiif/ark:/12148/btv1b53085197n/f1/full/full/0/native.png\n",
      "Resolving gallica.bnf.fr (gallica.bnf.fr)... 194.199.8.11\n",
      "Connecting to gallica.bnf.fr (gallica.bnf.fr)|194.199.8.11|:443... connected.\n",
      "HTTP request sent, awaiting response... 200 200\n",
      "Length: 157586039 (150M) [image/png]\n",
      "Saving to: ‘btv1b53085197n_f1.png’\n",
      "\n",
      "btv1b53085197n_f1.p 100%[===================>] 150.29M  6.79MB/s    in 26s     \n",
      "\n",
      "2022-07-14 12:12:49 (5.73 MB/s) - ‘btv1b53085197n_f1.png’ saved [157586039/157586039]\n",
      "\n"
     ]
    },
    {
     "name": "stderr",
     "output_type": "stream",
     "text": [
      "686it [6:43:42, 46.48s/it]"
     ]
    },
    {
     "name": "stdout",
     "output_type": "stream",
     "text": [
      "pass\n",
      "--2022-07-14 12:12:49--  https://gallica.bnf.fr/iiif/ark:/12148/btv1b530294761/f1/full/full/0/native.png\n",
      "Resolving gallica.bnf.fr (gallica.bnf.fr)... 194.199.8.11\n",
      "Connecting to gallica.bnf.fr (gallica.bnf.fr)|194.199.8.11|:443... connected.\n",
      "HTTP request sent, awaiting response... 200 200\n",
      "Length: 133646828 (127M) [image/png]\n",
      "Saving to: ‘btv1b530294761_f1.png’\n",
      "\n",
      "btv1b530294761_f1.p 100%[===================>] 127.46M  6.73MB/s    in 22s     \n",
      "\n",
      "2022-07-14 12:13:51 (5.82 MB/s) - ‘btv1b530294761_f1.png’ saved [133646828/133646828]\n",
      "\n"
     ]
    },
    {
     "name": "stderr",
     "output_type": "stream",
     "text": [
      "688it [6:44:45, 40.59s/it]"
     ]
    },
    {
     "name": "stdout",
     "output_type": "stream",
     "text": [
      "--2022-07-14 12:13:51--  https://gallica.bnf.fr/iiif/ark:/12148/btv1b53085248d/f1/full/full/0/native.png\n",
      "Resolving gallica.bnf.fr (gallica.bnf.fr)... 194.199.8.11\n",
      "Connecting to gallica.bnf.fr (gallica.bnf.fr)|194.199.8.11|:443... connected.\n",
      "HTTP request sent, awaiting response... 200 200\n",
      "Length: 161205360 (154M) [image/png]\n",
      "Saving to: ‘btv1b53085248d_f1.png’\n",
      "\n",
      "btv1b53085248d_f1.p 100%[===================>] 153.74M  6.75MB/s    in 27s     \n",
      "\n",
      "2022-07-14 12:15:09 (5.77 MB/s) - ‘btv1b53085248d_f1.png’ saved [161205360/161205360]\n",
      "\n"
     ]
    },
    {
     "name": "stderr",
     "output_type": "stream",
     "text": [
      "689it [6:46:02, 48.58s/it]"
     ]
    },
    {
     "name": "stdout",
     "output_type": "stream",
     "text": [
      "pass\n",
      "--2022-07-14 12:15:09--  https://gallica.bnf.fr/iiif/ark:/12148/btv1b530855545/f1/full/full/0/native.png\n",
      "Resolving gallica.bnf.fr (gallica.bnf.fr)... 194.199.8.11\n",
      "Connecting to gallica.bnf.fr (gallica.bnf.fr)|194.199.8.11|:443... connected.\n",
      "HTTP request sent, awaiting response... 200 200\n",
      "Length: 152529712 (145M) [image/png]\n",
      "Saving to: ‘btv1b530855545_f1.png’\n",
      "\n",
      "btv1b530855545_f1.p 100%[===================>] 145.46M  6.81MB/s    in 26s     \n",
      "\n",
      "2022-07-14 12:16:27 (5.61 MB/s) - ‘btv1b530855545_f1.png’ saved [152529712/152529712]\n",
      "\n"
     ]
    },
    {
     "name": "stderr",
     "output_type": "stream",
     "text": [
      "691it [6:47:20, 44.94s/it]"
     ]
    },
    {
     "name": "stdout",
     "output_type": "stream",
     "text": [
      "--2022-07-14 12:16:27--  https://gallica.bnf.fr/iiif/ark:/12148/btv1b53025100x/f1/full/full/0/native.png\n",
      "Resolving gallica.bnf.fr (gallica.bnf.fr)... 194.199.8.11\n",
      "Connecting to gallica.bnf.fr (gallica.bnf.fr)|194.199.8.11|:443... connected.\n",
      "HTTP request sent, awaiting response... 200 200\n",
      "Length: 141716555 (135M) [image/png]\n",
      "Saving to: ‘btv1b53025100x_f1.png’\n",
      "\n",
      "btv1b53025100x_f1.p 100%[===================>] 135.15M  6.82MB/s    in 24s     \n",
      "\n",
      "2022-07-14 12:17:55 (5.61 MB/s) - ‘btv1b53025100x_f1.png’ saved [141716555/141716555]\n",
      "\n"
     ]
    },
    {
     "name": "stderr",
     "output_type": "stream",
     "text": [
      "692it [6:48:49, 54.32s/it]"
     ]
    },
    {
     "name": "stdout",
     "output_type": "stream",
     "text": [
      "pass\n",
      "--2022-07-14 12:17:56--  https://gallica.bnf.fr/iiif/ark:/12148/btv1b530856249/f1/full/full/0/native.png\n",
      "Resolving gallica.bnf.fr (gallica.bnf.fr)... 194.199.8.11\n",
      "Connecting to gallica.bnf.fr (gallica.bnf.fr)|194.199.8.11|:443... connected.\n",
      "HTTP request sent, awaiting response... 200 200\n",
      "Length: 109702292 (105M) [image/png]\n",
      "Saving to: ‘btv1b530856249_f1.png’\n",
      "\n",
      "btv1b530856249_f1.p 100%[===================>] 104.62M  6.83MB/s    in 19s     \n",
      "\n",
      "2022-07-14 12:19:18 (5.52 MB/s) - ‘btv1b530856249_f1.png’ saved [109702292/109702292]\n",
      "\n"
     ]
    },
    {
     "name": "stderr",
     "output_type": "stream",
     "text": [
      "694it [6:50:12, 49.38s/it]"
     ]
    },
    {
     "name": "stdout",
     "output_type": "stream",
     "text": [
      "pass\n",
      "--2022-07-14 12:19:18--  https://gallica.bnf.fr/iiif/ark:/12148/btv1b531361627/f1/full/full/0/native.png\n",
      "Resolving gallica.bnf.fr (gallica.bnf.fr)... 194.199.8.11\n",
      "Connecting to gallica.bnf.fr (gallica.bnf.fr)|194.199.8.11|:443... connected.\n",
      "HTTP request sent, awaiting response... 200 200\n",
      "Length: 71223837 (68M) [image/png]\n",
      "Saving to: ‘btv1b531361627_f1.png’\n",
      "\n",
      "btv1b531361627_f1.p 100%[===================>]  67.92M  6.83MB/s    in 11s     \n",
      "\n",
      "2022-07-14 12:19:53 (6.31 MB/s) - ‘btv1b531361627_f1.png’ saved [71223837/71223837]\n",
      "\n"
     ]
    },
    {
     "name": "stderr",
     "output_type": "stream",
     "text": [
      "696it [6:50:47, 38.14s/it]"
     ]
    },
    {
     "name": "stdout",
     "output_type": "stream",
     "text": [
      "--2022-07-14 12:19:53--  https://gallica.bnf.fr/iiif/ark:/12148/btv1b53063404d/f1/full/full/0/native.png\n",
      "Resolving gallica.bnf.fr (gallica.bnf.fr)... 194.199.8.11\n",
      "Connecting to gallica.bnf.fr (gallica.bnf.fr)|194.199.8.11|:443... connected.\n",
      "HTTP request sent, awaiting response... 200 200\n",
      "Length: 134519794 (128M) [image/png]\n",
      "Saving to: ‘btv1b53063404d_f1.png’\n",
      "\n",
      "btv1b53063404d_f1.p 100%[===================>] 128.29M  6.83MB/s    in 25s     \n",
      "\n",
      "2022-07-14 12:21:13 (5.20 MB/s) - ‘btv1b53063404d_f1.png’ saved [134519794/134519794]\n",
      "\n"
     ]
    },
    {
     "name": "stderr",
     "output_type": "stream",
     "text": [
      "697it [6:52:07, 46.57s/it]"
     ]
    },
    {
     "name": "stdout",
     "output_type": "stream",
     "text": [
      "--2022-07-14 12:21:13--  https://gallica.bnf.fr/iiif/ark:/12148/btv1b530579602/f1/full/full/0/native.png\n",
      "Resolving gallica.bnf.fr (gallica.bnf.fr)... 194.199.8.11\n",
      "Connecting to gallica.bnf.fr (gallica.bnf.fr)|194.199.8.11|:443... connected.\n",
      "HTTP request sent, awaiting response... 200 200\n",
      "Length: 29371944 (28M) [image/png]\n",
      "Saving to: ‘btv1b530579602_f1.png’\n",
      "\n",
      "btv1b530579602_f1.p 100%[===================>]  28.01M  6.78MB/s    in 5.2s    \n",
      "\n",
      "2022-07-14 12:21:39 (5.43 MB/s) - ‘btv1b530579602_f1.png’ saved [29371944/29371944]\n",
      "\n"
     ]
    },
    {
     "name": "stderr",
     "output_type": "stream",
     "text": [
      "698it [6:52:33, 42.05s/it]"
     ]
    },
    {
     "name": "stdout",
     "output_type": "stream",
     "text": [
      "pass\n",
      "--2022-07-14 12:21:39--  https://gallica.bnf.fr/iiif/ark:/12148/btv1b53192687p/f1/full/full/0/native.png\n",
      "Resolving gallica.bnf.fr (gallica.bnf.fr)... 194.199.8.11\n",
      "Connecting to gallica.bnf.fr (gallica.bnf.fr)|194.199.8.11|:443... connected.\n",
      "HTTP request sent, awaiting response... 200 200\n",
      "Length: 101902623 (97M) [image/png]\n",
      "Saving to: ‘btv1b53192687p_f1.png’\n",
      "\n",
      "btv1b53192687p_f1.p 100%[===================>]  97.18M  6.82MB/s    in 19s     \n",
      "\n",
      "2022-07-14 12:22:40 (5.22 MB/s) - ‘btv1b53192687p_f1.png’ saved [101902623/101902623]\n",
      "\n"
     ]
    },
    {
     "name": "stderr",
     "output_type": "stream",
     "text": [
      "700it [6:53:33, 37.42s/it]"
     ]
    },
    {
     "name": "stdout",
     "output_type": "stream",
     "text": [
      "--2022-07-14 12:22:40--  https://gallica.bnf.fr/iiif/ark:/12148/btv1b53085592x/f1/full/full/0/native.png\n",
      "Resolving gallica.bnf.fr (gallica.bnf.fr)... 194.199.8.11\n",
      "Connecting to gallica.bnf.fr (gallica.bnf.fr)|194.199.8.11|:443... connected.\n",
      "HTTP request sent, awaiting response... 200 200\n",
      "Length: 154677873 (148M) [image/png]\n",
      "Saving to: ‘btv1b53085592x_f1.png’\n",
      "\n",
      "btv1b53085592x_f1.p 100%[===================>] 147.51M  6.70MB/s    in 27s     \n",
      "\n",
      "2022-07-14 12:24:34 (5.55 MB/s) - ‘btv1b53085592x_f1.png’ saved [154677873/154677873]\n",
      "\n"
     ]
    },
    {
     "name": "stderr",
     "output_type": "stream",
     "text": [
      "701it [6:55:28, 54.21s/it]"
     ]
    },
    {
     "name": "stdout",
     "output_type": "stream",
     "text": [
      "--2022-07-14 12:24:34--  https://gallica.bnf.fr/iiif/ark:/12148/btv1b53085592x/f2/full/full/0/native.png\n",
      "Resolving gallica.bnf.fr (gallica.bnf.fr)... 194.199.8.11\n",
      "Connecting to gallica.bnf.fr (gallica.bnf.fr)|194.199.8.11|:443... connected.\n",
      "HTTP request sent, awaiting response... 200 200\n",
      "Length: 153869408 (147M) [image/png]\n",
      "Saving to: ‘btv1b53085592x_f2.png’\n",
      "\n",
      "btv1b53085592x_f2.p 100%[===================>] 146.74M  6.80MB/s    in 26s     \n",
      "\n",
      "2022-07-14 12:26:31 (5.59 MB/s) - ‘btv1b53085592x_f2.png’ saved [153869408/153869408]\n",
      "\n"
     ]
    },
    {
     "name": "stderr",
     "output_type": "stream",
     "text": [
      "702it [6:57:25, 69.08s/it]"
     ]
    },
    {
     "name": "stdout",
     "output_type": "stream",
     "text": [
      "--2022-07-14 12:26:31--  https://gallica.bnf.fr/iiif/ark:/12148/btv1b84587114/f1/full/full/0/native.png\n",
      "Resolving gallica.bnf.fr (gallica.bnf.fr)... 194.199.8.11\n",
      "Connecting to gallica.bnf.fr (gallica.bnf.fr)|194.199.8.11|:443... connected.\n",
      "HTTP request sent, awaiting response... 200 200\n",
      "Length: 115898717 (111M) [image/png]\n",
      "Saving to: ‘btv1b84587114_f1.png’\n",
      "\n",
      "btv1b84587114_f1.pn 100%[===================>] 110.53M  6.83MB/s    in 21s     \n",
      "\n",
      "2022-07-14 12:27:55 (5.34 MB/s) - ‘btv1b84587114_f1.png’ saved [115898717/115898717]\n",
      "\n"
     ]
    },
    {
     "name": "stderr",
     "output_type": "stream",
     "text": [
      "703it [6:58:49, 72.80s/it]"
     ]
    },
    {
     "name": "stdout",
     "output_type": "stream",
     "text": [
      "--2022-07-14 12:27:55--  https://gallica.bnf.fr/iiif/ark:/12148/btv1b530852274/f1/full/full/0/native.png\n",
      "Resolving gallica.bnf.fr (gallica.bnf.fr)... 194.199.8.11\n",
      "Connecting to gallica.bnf.fr (gallica.bnf.fr)|194.199.8.11|:443... connected.\n",
      "HTTP request sent, awaiting response... 200 200\n",
      "Length: 151208299 (144M) [image/png]\n",
      "Saving to: ‘btv1b530852274_f1.png’\n",
      "\n",
      "btv1b530852274_f1.p 100%[===================>] 144.20M  6.63MB/s    in 26s     \n",
      "\n",
      "2022-07-14 12:29:10 (5.59 MB/s) - ‘btv1b530852274_f1.png’ saved [151208299/151208299]\n",
      "\n"
     ]
    },
    {
     "name": "stderr",
     "output_type": "stream",
     "text": [
      "704it [7:00:03, 73.33s/it]"
     ]
    },
    {
     "name": "stdout",
     "output_type": "stream",
     "text": [
      "--2022-07-14 12:29:10--  https://gallica.bnf.fr/iiif/ark:/12148/btv1b53052708p/f1/full/full/0/native.png\n",
      "Resolving gallica.bnf.fr (gallica.bnf.fr)... 194.199.8.11\n",
      "Connecting to gallica.bnf.fr (gallica.bnf.fr)|194.199.8.11|:443... connected.\n",
      "HTTP request sent, awaiting response... 200 200\n",
      "Length: 132058227 (126M) [image/png]\n",
      "Saving to: ‘btv1b53052708p_f1.png’\n",
      "\n",
      "btv1b53052708p_f1.p 100%[===================>] 125.94M  6.76MB/s    in 24s     \n",
      "\n",
      "2022-07-14 12:30:14 (5.28 MB/s) - ‘btv1b53052708p_f1.png’ saved [132058227/132058227]\n",
      "\n"
     ]
    },
    {
     "name": "stderr",
     "output_type": "stream",
     "text": [
      "705it [7:01:07, 70.76s/it]"
     ]
    },
    {
     "name": "stdout",
     "output_type": "stream",
     "text": [
      "--2022-07-14 12:30:14--  https://gallica.bnf.fr/iiif/ark:/12148/btv1b53085195r/f1/full/full/0/native.png\n",
      "Resolving gallica.bnf.fr (gallica.bnf.fr)... 194.199.8.11\n",
      "Connecting to gallica.bnf.fr (gallica.bnf.fr)|194.199.8.11|:443... connected.\n",
      "HTTP request sent, awaiting response... 200 200\n",
      "Length: 149500370 (143M) [image/png]\n",
      "Saving to: ‘btv1b53085195r_f1.png’\n",
      "\n",
      "btv1b53085195r_f1.p 100%[===================>] 142.57M  6.82MB/s    in 25s     \n",
      "\n",
      "2022-07-14 12:31:27 (5.68 MB/s) - ‘btv1b53085195r_f1.png’ saved [149500370/149500370]\n",
      "\n"
     ]
    },
    {
     "name": "stderr",
     "output_type": "stream",
     "text": [
      "706it [7:02:21, 71.50s/it]"
     ]
    },
    {
     "name": "stdout",
     "output_type": "stream",
     "text": [
      "--2022-07-14 12:31:27--  https://gallica.bnf.fr/iiif/ark:/12148/btv1b530852111/f1/full/full/0/native.png\n",
      "Resolving gallica.bnf.fr (gallica.bnf.fr)... 194.199.8.11\n",
      "Connecting to gallica.bnf.fr (gallica.bnf.fr)|194.199.8.11|:443... connected.\n",
      "HTTP request sent, awaiting response... 200 200\n",
      "Length: 142598706 (136M) [image/png]\n",
      "Saving to: ‘btv1b530852111_f1.png’\n",
      "\n",
      "btv1b530852111_f1.p 100%[===================>] 135.99M  6.67MB/s    in 25s     \n",
      "\n",
      "2022-07-14 12:32:32 (5.49 MB/s) - ‘btv1b530852111_f1.png’ saved [142598706/142598706]\n",
      "\n"
     ]
    },
    {
     "name": "stderr",
     "output_type": "stream",
     "text": [
      "707it [7:03:26, 69.62s/it]"
     ]
    },
    {
     "name": "stdout",
     "output_type": "stream",
     "text": [
      "pass\n",
      "--2022-07-14 12:32:32--  https://gallica.bnf.fr/iiif/ark:/12148/btv1b84437364/f1/full/full/0/native.png\n",
      "Resolving gallica.bnf.fr (gallica.bnf.fr)... 194.199.8.11\n",
      "Connecting to gallica.bnf.fr (gallica.bnf.fr)|194.199.8.11|:443... connected.\n",
      "HTTP request sent, awaiting response... 200 200\n",
      "Length: 86985127 (83M) [image/png]\n",
      "Saving to: ‘btv1b84437364_f1.png’\n",
      "\n",
      "btv1b84437364_f1.pn 100%[===================>]  82.96M  6.81MB/s    in 13s     \n",
      "\n",
      "2022-07-14 12:34:02 (6.43 MB/s) - ‘btv1b84437364_f1.png’ saved [86985127/86985127]\n",
      "\n"
     ]
    },
    {
     "name": "stderr",
     "output_type": "stream",
     "text": [
      "709it [7:04:55, 58.44s/it]"
     ]
    },
    {
     "name": "stdout",
     "output_type": "stream",
     "text": [
      "pass\n",
      "--2022-07-14 12:34:02--  https://gallica.bnf.fr/iiif/ark:/12148/btv1b530706426/f1/full/full/0/native.png\n",
      "Resolving gallica.bnf.fr (gallica.bnf.fr)... 194.199.8.11\n",
      "Connecting to gallica.bnf.fr (gallica.bnf.fr)|194.199.8.11|:443... connected.\n",
      "HTTP request sent, awaiting response... 200 200\n",
      "Length: 60315848 (58M) [image/png]\n",
      "Saving to: ‘btv1b530706426_f1.png’\n",
      "\n",
      "btv1b530706426_f1.p 100%[===================>]  57.52M  2.35MB/s    in 13s     \n",
      "\n",
      "2022-07-14 12:34:53 (4.34 MB/s) - ‘btv1b530706426_f1.png’ saved [60315848/60315848]\n",
      "\n"
     ]
    },
    {
     "name": "stderr",
     "output_type": "stream",
     "text": [
      "711it [7:05:47, 45.58s/it]"
     ]
    },
    {
     "name": "stdout",
     "output_type": "stream",
     "text": [
      "pass\n",
      "pass\n",
      "--2022-07-14 12:34:53--  https://gallica.bnf.fr/iiif/ark:/12148/btv1b530855562/f1/full/full/0/native.png\n",
      "Resolving gallica.bnf.fr (gallica.bnf.fr)... 194.199.8.11\n",
      "Connecting to gallica.bnf.fr (gallica.bnf.fr)|194.199.8.11|:443... connected.\n",
      "HTTP request sent, awaiting response... 200 200\n",
      "Length: 142213692 (136M) [image/png]\n",
      "Saving to: ‘btv1b530855562_f1.png’\n",
      "\n",
      "btv1b530855562_f1.p 100%[===================>] 135.62M  6.80MB/s    in 24s     \n",
      "\n",
      "2022-07-14 12:36:13 (5.69 MB/s) - ‘btv1b530855562_f1.png’ saved [142213692/142213692]\n",
      "\n"
     ]
    },
    {
     "name": "stderr",
     "output_type": "stream",
     "text": [
      "714it [7:07:07, 37.00s/it]"
     ]
    },
    {
     "name": "stdout",
     "output_type": "stream",
     "text": [
      "pass\n",
      "pass\n",
      "pass\n",
      "--2022-07-14 12:36:13--  https://gallica.bnf.fr/iiif/ark:/12148/btv1b53085140f/f1/full/full/0/native.png\n",
      "Resolving gallica.bnf.fr (gallica.bnf.fr)... 194.199.8.11\n",
      "Connecting to gallica.bnf.fr (gallica.bnf.fr)|194.199.8.11|:443... connected.\n",
      "HTTP request sent, awaiting response... 200 200\n",
      "Length: 128220042 (122M) [image/png]\n",
      "Saving to: ‘btv1b53085140f_f1.png’\n",
      "\n",
      "btv1b53085140f_f1.p 100%[===================>] 122.28M  6.78MB/s    in 23s     \n",
      "\n",
      "2022-07-14 12:37:24 (5.40 MB/s) - ‘btv1b53085140f_f1.png’ saved [128220042/128220042]\n",
      "\n"
     ]
    },
    {
     "name": "stderr",
     "output_type": "stream",
     "text": [
      "718it [7:08:18, 28.04s/it]"
     ]
    },
    {
     "name": "stdout",
     "output_type": "stream",
     "text": [
      "--2022-07-14 12:37:24--  https://gallica.bnf.fr/iiif/ark:/12148/btv1b53027844q/f1/full/full/0/native.png\n",
      "Resolving gallica.bnf.fr (gallica.bnf.fr)... 194.199.8.11\n",
      "Connecting to gallica.bnf.fr (gallica.bnf.fr)|194.199.8.11|:443... connected.\n",
      "HTTP request sent, awaiting response... 200 200\n",
      "Length: 121819885 (116M) [image/png]\n",
      "Saving to: ‘btv1b53027844q_f1.png’\n",
      "\n",
      "btv1b53027844q_f1.p 100%[===================>] 116.18M  6.86MB/s    in 17s     \n",
      "\n",
      "2022-07-14 12:38:21 (6.74 MB/s) - ‘btv1b53027844q_f1.png’ saved [121819885/121819885]\n",
      "\n"
     ]
    },
    {
     "name": "stderr",
     "output_type": "stream",
     "text": [
      "719it [7:09:15, 32.14s/it]"
     ]
    },
    {
     "name": "stdout",
     "output_type": "stream",
     "text": [
      "pass\n",
      "--2022-07-14 12:38:21--  https://gallica.bnf.fr/iiif/ark:/12148/btv1b53035180j/f1/full/full/0/native.png\n",
      "Resolving gallica.bnf.fr (gallica.bnf.fr)... 194.199.8.11\n",
      "Connecting to gallica.bnf.fr (gallica.bnf.fr)|194.199.8.11|:443... connected.\n",
      "HTTP request sent, awaiting response... 200 200\n",
      "Length: 201781542 (192M) [image/png]\n",
      "Saving to: ‘btv1b53035180j_f1.png’\n",
      "\n",
      "btv1b53035180j_f1.p 100%[===================>] 192.43M  6.82MB/s    in 32s     \n",
      "\n",
      "2022-07-14 12:39:52 (5.94 MB/s) - ‘btv1b53035180j_f1.png’ saved [201781542/201781542]\n",
      "\n"
     ]
    },
    {
     "name": "stderr",
     "output_type": "stream",
     "text": [
      "721it [7:10:46, 36.04s/it]"
     ]
    },
    {
     "name": "stdout",
     "output_type": "stream",
     "text": [
      "--2022-07-14 12:39:52--  https://gallica.bnf.fr/iiif/ark:/12148/btv1b8492287s/f1/full/full/0/native.png\n",
      "Resolving gallica.bnf.fr (gallica.bnf.fr)... 194.199.8.11\n",
      "Connecting to gallica.bnf.fr (gallica.bnf.fr)|194.199.8.11|:443... connected.\n",
      "HTTP request sent, awaiting response... 200 200\n",
      "Length: 134015635 (128M) [image/png]\n",
      "Saving to: ‘btv1b8492287s_f1.png’\n",
      "\n",
      "btv1b8492287s_f1.pn 100%[===================>] 127.81M  6.80MB/s    in 24s     \n",
      "\n",
      "2022-07-14 12:41:03 (5.39 MB/s) - ‘btv1b8492287s_f1.png’ saved [134015635/134015635]\n",
      "\n"
     ]
    },
    {
     "name": "stderr",
     "output_type": "stream",
     "text": [
      "722it [7:11:56, 41.94s/it]"
     ]
    },
    {
     "name": "stdout",
     "output_type": "stream",
     "text": [
      "--2022-07-14 12:41:03--  https://gallica.bnf.fr/iiif/ark:/12148/btv1b530623071/f1/full/full/0/native.png\n",
      "Resolving gallica.bnf.fr (gallica.bnf.fr)... 194.199.8.11\n",
      "Connecting to gallica.bnf.fr (gallica.bnf.fr)|194.199.8.11|:443... connected.\n",
      "HTTP request sent, awaiting response... 200 200\n",
      "Length: 156953687 (150M) [image/png]\n",
      "Saving to: ‘btv1b530623071_f1.png’\n",
      "\n",
      "btv1b530623071_f1.p 100%[===================>] 149.68M  6.81MB/s    in 26s     \n",
      "\n",
      "2022-07-14 12:42:36 (5.75 MB/s) - ‘btv1b530623071_f1.png’ saved [156953687/156953687]\n",
      "\n"
     ]
    },
    {
     "name": "stderr",
     "output_type": "stream",
     "text": [
      "723it [7:13:29, 51.95s/it]"
     ]
    },
    {
     "name": "stdout",
     "output_type": "stream",
     "text": [
      "pass\n",
      "--2022-07-14 12:42:36--  https://gallica.bnf.fr/iiif/ark:/12148/btv1b53029027w/f1/full/full/0/native.png\n",
      "Resolving gallica.bnf.fr (gallica.bnf.fr)... 194.199.8.11\n",
      "Connecting to gallica.bnf.fr (gallica.bnf.fr)|194.199.8.11|:443... connected.\n",
      "HTTP request sent, awaiting response... 200 200\n",
      "Length: 139739780 (133M) [image/png]\n",
      "Saving to: ‘btv1b53029027w_f1.png’\n",
      "\n",
      "btv1b53029027w_f1.p 100%[===================>] 133.27M  6.80MB/s    in 23s     \n",
      "\n",
      "2022-07-14 12:43:45 (5.82 MB/s) - ‘btv1b53029027w_f1.png’ saved [139739780/139739780]\n",
      "\n"
     ]
    },
    {
     "name": "stderr",
     "output_type": "stream",
     "text": [
      "725it [7:14:39, 45.83s/it]"
     ]
    },
    {
     "name": "stdout",
     "output_type": "stream",
     "text": [
      "pass\n",
      "--2022-07-14 12:43:46--  https://gallica.bnf.fr/iiif/ark:/12148/btv1b84445538/f1/full/full/0/native.png\n",
      "Resolving gallica.bnf.fr (gallica.bnf.fr)... 194.199.8.11\n",
      "Connecting to gallica.bnf.fr (gallica.bnf.fr)|194.199.8.11|:443... connected.\n",
      "HTTP request sent, awaiting response... 200 200\n",
      "Length: 107913086 (103M) [image/png]\n",
      "Saving to: ‘btv1b84445538_f1.png’\n",
      "\n",
      "btv1b84445538_f1.pn 100%[===================>] 102.91M  6.83MB/s    in 21s     \n",
      "\n",
      "2022-07-14 12:44:37 (4.91 MB/s) - ‘btv1b84445538_f1.png’ saved [107913086/107913086]\n",
      "\n"
     ]
    },
    {
     "name": "stderr",
     "output_type": "stream",
     "text": [
      "727it [7:15:31, 39.01s/it]"
     ]
    },
    {
     "name": "stdout",
     "output_type": "stream",
     "text": [
      "--2022-07-14 12:44:37--  https://gallica.bnf.fr/iiif/ark:/12148/btv1b53062351d/f1/full/full/0/native.png\n",
      "Resolving gallica.bnf.fr (gallica.bnf.fr)... 194.199.8.11\n",
      "Connecting to gallica.bnf.fr (gallica.bnf.fr)|194.199.8.11|:443... connected.\n",
      "HTTP request sent, awaiting response... 503 Service Unavailable\n",
      "2022-07-14 12:46:37 ERROR 503: Service Unavailable.\n",
      "\n"
     ]
    },
    {
     "name": "stderr",
     "output_type": "stream",
     "text": [
      "728it [7:17:31, 54.88s/it]"
     ]
    },
    {
     "name": "stdout",
     "output_type": "stream",
     "text": [
      "pass\n",
      "pass\n",
      "--2022-07-14 12:46:37--  https://gallica.bnf.fr/iiif/ark:/12148/btv1b8494201w/f1/full/full/0/native.png\n",
      "Resolving gallica.bnf.fr (gallica.bnf.fr)... 194.199.8.11\n",
      "Connecting to gallica.bnf.fr (gallica.bnf.fr)|194.199.8.11|:443... connected.\n",
      "HTTP request sent, awaiting response... 200 200\n",
      "Length: 79102134 (75M) [image/png]\n",
      "Saving to: ‘btv1b8494201w_f1.png’\n",
      "\n",
      "btv1b8494201w_f1.pn 100%[===================>]  75.44M  6.78MB/s    in 16s     \n",
      "\n",
      "2022-07-14 12:47:45 (4.72 MB/s) - ‘btv1b8494201w_f1.png’ saved [79102134/79102134]\n",
      "\n"
     ]
    },
    {
     "name": "stderr",
     "output_type": "stream",
     "text": [
      "731it [7:18:38, 40.10s/it]"
     ]
    },
    {
     "name": "stdout",
     "output_type": "stream",
     "text": [
      "pass\n",
      "--2022-07-14 12:47:45--  https://gallica.bnf.fr/iiif/ark:/12148/btv1b84926912/f1/full/full/0/native.png\n",
      "Resolving gallica.bnf.fr (gallica.bnf.fr)... 194.199.8.11\n",
      "Connecting to gallica.bnf.fr (gallica.bnf.fr)|194.199.8.11|:443... connected.\n",
      "HTTP request sent, awaiting response... 200 200\n",
      "Length: 138109273 (132M) [image/png]\n",
      "Saving to: ‘btv1b84926912_f1.png’\n",
      "\n",
      "btv1b84926912_f1.pn 100%[===================>] 131.71M  1.45MB/s    in 62s     \n",
      "\n",
      "2022-07-14 12:49:54 (2.13 MB/s) - ‘btv1b84926912_f1.png’ saved [138109273/138109273]\n",
      "\n"
     ]
    },
    {
     "name": "stderr",
     "output_type": "stream",
     "text": [
      "733it [7:20:47, 47.49s/it]"
     ]
    },
    {
     "name": "stdout",
     "output_type": "stream",
     "text": [
      "pass\n",
      "pass\n",
      "pass\n",
      "pass\n",
      "pass\n",
      "pass\n",
      "--2022-07-14 12:49:54--  https://gallica.bnf.fr/iiif/ark:/12148/btv1b84427251/f1/full/full/0/native.png\n",
      "Resolving gallica.bnf.fr (gallica.bnf.fr)... 194.199.8.11\n",
      "Connecting to gallica.bnf.fr (gallica.bnf.fr)|194.199.8.11|:443... connected.\n",
      "HTTP request sent, awaiting response... 200 200\n",
      "Length: 74053353 (71M) [image/png]\n",
      "Saving to: ‘btv1b84427251_f1.png’\n",
      "\n",
      "btv1b84427251_f1.pn 100%[===================>]  70.62M  2.79MB/s    in 15s     \n",
      "\n",
      "2022-07-14 12:50:34 (4.78 MB/s) - ‘btv1b84427251_f1.png’ saved [74053353/74053353]\n",
      "\n"
     ]
    },
    {
     "name": "stderr",
     "output_type": "stream",
     "text": [
      "740it [7:21:28, 22.40s/it]"
     ]
    },
    {
     "name": "stdout",
     "output_type": "stream",
     "text": [
      "--2022-07-14 12:50:34--  https://gallica.bnf.fr/iiif/ark:/12148/btv1b530290161/f1/full/full/0/native.png\n",
      "Resolving gallica.bnf.fr (gallica.bnf.fr)... 194.199.8.11\n",
      "Connecting to gallica.bnf.fr (gallica.bnf.fr)|194.199.8.11|:443... connected.\n",
      "HTTP request sent, awaiting response... 200 200\n",
      "Length: 155141185 (148M) [image/png]\n",
      "Saving to: ‘btv1b530290161_f1.png’\n",
      "\n",
      "btv1b530290161_f1.p 100%[===================>] 147.95M  6.75MB/s    in 26s     \n",
      "\n",
      "2022-07-14 12:51:30 (5.61 MB/s) - ‘btv1b530290161_f1.png’ saved [155141185/155141185]\n",
      "\n"
     ]
    },
    {
     "name": "stderr",
     "output_type": "stream",
     "text": [
      "741it [7:22:24, 26.07s/it]"
     ]
    },
    {
     "name": "stdout",
     "output_type": "stream",
     "text": [
      "--2022-07-14 12:51:30--  https://gallica.bnf.fr/iiif/ark:/12148/btv1b53121030p/f1/full/full/0/native.png\n",
      "Resolving gallica.bnf.fr (gallica.bnf.fr)... 194.199.8.11\n",
      "Connecting to gallica.bnf.fr (gallica.bnf.fr)|194.199.8.11|:443... connected.\n",
      "HTTP request sent, awaiting response... 200 200\n",
      "Length: 111294083 (106M) [image/png]\n",
      "Saving to: ‘btv1b53121030p_f1.png’\n",
      "\n",
      "btv1b53121030p_f1.p 100%[===================>] 106.14M  6.81MB/s    in 19s     \n",
      "\n",
      "2022-07-14 12:52:23 (5.61 MB/s) - ‘btv1b53121030p_f1.png’ saved [111294083/111294083]\n",
      "\n"
     ]
    },
    {
     "name": "stderr",
     "output_type": "stream",
     "text": [
      "742it [7:23:17, 29.68s/it]"
     ]
    },
    {
     "name": "stdout",
     "output_type": "stream",
     "text": [
      "--2022-07-14 12:52:23--  https://gallica.bnf.fr/iiif/ark:/12148/btv1b53032865k/f1/full/full/0/native.png\n",
      "Resolving gallica.bnf.fr (gallica.bnf.fr)... 194.199.8.11\n",
      "Connecting to gallica.bnf.fr (gallica.bnf.fr)|194.199.8.11|:443... connected.\n",
      "HTTP request sent, awaiting response... 503 Service Unavailable\n",
      "2022-07-14 12:54:23 ERROR 503: Service Unavailable.\n",
      "\n"
     ]
    },
    {
     "name": "stderr",
     "output_type": "stream",
     "text": [
      "743it [7:25:17, 44.35s/it]"
     ]
    },
    {
     "name": "stdout",
     "output_type": "stream",
     "text": [
      "pass\n",
      "--2022-07-14 12:54:23--  https://gallica.bnf.fr/iiif/ark:/12148/btv1b84926890/f1/full/full/0/native.png\n",
      "Resolving gallica.bnf.fr (gallica.bnf.fr)... 194.199.8.11\n",
      "Connecting to gallica.bnf.fr (gallica.bnf.fr)|194.199.8.11|:443... connected.\n",
      "HTTP request sent, awaiting response... 200 200\n",
      "Length: 88531928 (84M) [image/png]\n",
      "Saving to: ‘btv1b84926890_f1.png’\n",
      "\n",
      "btv1b84926890_f1.pn 100%[===================>]  84.43M  6.79MB/s    in 16s     \n",
      "\n",
      "2022-07-14 12:55:25 (5.37 MB/s) - ‘btv1b84926890_f1.png’ saved [88531928/88531928]\n",
      "\n"
     ]
    },
    {
     "name": "stderr",
     "output_type": "stream",
     "text": [
      "745it [7:26:19, 40.15s/it]"
     ]
    },
    {
     "name": "stdout",
     "output_type": "stream",
     "text": [
      "--2022-07-14 12:55:26--  https://gallica.bnf.fr/iiif/ark:/12148/btv1b53025216d/f1/full/full/0/native.png\n",
      "Resolving gallica.bnf.fr (gallica.bnf.fr)... 194.199.8.11\n",
      "Connecting to gallica.bnf.fr (gallica.bnf.fr)|194.199.8.11|:443... connected.\n",
      "HTTP request sent, awaiting response... 200 200\n",
      "Length: 98850063 (94M) [image/png]\n",
      "Saving to: ‘btv1b53025216d_f1.png’\n",
      "\n",
      "btv1b53025216d_f1.p 100%[===================>]  94.27M  6.35MB/s    in 18s     \n",
      "\n",
      "2022-07-14 12:56:08 (5.13 MB/s) - ‘btv1b53025216d_f1.png’ saved [98850063/98850063]\n",
      "\n"
     ]
    },
    {
     "name": "stderr",
     "output_type": "stream",
     "text": [
      "746it [7:27:02, 40.66s/it]"
     ]
    },
    {
     "name": "stdout",
     "output_type": "stream",
     "text": [
      "pass\n",
      "--2022-07-14 12:56:09--  https://gallica.bnf.fr/iiif/ark:/12148/btv1b8440516r/f1/full/full/0/native.png\n",
      "Resolving gallica.bnf.fr (gallica.bnf.fr)... 194.199.8.11\n",
      "Connecting to gallica.bnf.fr (gallica.bnf.fr)|194.199.8.11|:443... connected.\n",
      "HTTP request sent, awaiting response... 200 200\n",
      "Length: 66597503 (64M) [image/png]\n",
      "Saving to: ‘btv1b8440516r_f1.png’\n",
      "\n",
      "btv1b8440516r_f1.pn 100%[===================>]  63.51M  2.47MB/s    in 14s     \n",
      "\n",
      "2022-07-14 12:57:08 (4.56 MB/s) - ‘btv1b8440516r_f1.png’ saved [66597503/66597503]\n",
      "\n"
     ]
    },
    {
     "name": "stderr",
     "output_type": "stream",
     "text": [
      "748it [7:28:02, 36.98s/it]"
     ]
    },
    {
     "name": "stdout",
     "output_type": "stream",
     "text": [
      "--2022-07-14 12:57:09--  https://gallica.bnf.fr/iiif/ark:/12148/btv1b530852702/f1/full/full/0/native.png\n",
      "Resolving gallica.bnf.fr (gallica.bnf.fr)... 194.199.8.11\n",
      "Connecting to gallica.bnf.fr (gallica.bnf.fr)|194.199.8.11|:443... connected.\n",
      "HTTP request sent, awaiting response... 200 200\n",
      "Length: 167038367 (159M) [image/png]\n",
      "Saving to: ‘btv1b530852702_f1.png’\n",
      "\n",
      "btv1b530852702_f1.p 100%[===================>] 159.30M  6.83MB/s    in 28s     \n",
      "\n",
      "2022-07-14 12:58:41 (5.63 MB/s) - ‘btv1b530852702_f1.png’ saved [167038367/167038367]\n",
      "\n"
     ]
    },
    {
     "name": "stderr",
     "output_type": "stream",
     "text": [
      "749it [7:29:34, 47.89s/it]"
     ]
    },
    {
     "name": "stdout",
     "output_type": "stream",
     "text": [
      "--2022-07-14 12:58:41--  https://gallica.bnf.fr/iiif/ark:/12148/btv1b530620624/f1/full/full/0/native.png\n",
      "Resolving gallica.bnf.fr (gallica.bnf.fr)... 194.199.8.11\n",
      "Connecting to gallica.bnf.fr (gallica.bnf.fr)|194.199.8.11|:443... connected.\n",
      "HTTP request sent, awaiting response... 200 200\n",
      "Length: 223813880 (213M) [image/png]\n",
      "Saving to: ‘btv1b530620624_f1.png’\n",
      "\n",
      "btv1b530620624_f1.p 100%[===================>] 213.45M  6.82MB/s    in 35s     \n",
      "\n",
      "2022-07-14 13:00:27 (6.02 MB/s) - ‘btv1b530620624_f1.png’ saved [223813880/223813880]\n",
      "\n"
     ]
    },
    {
     "name": "stderr",
     "output_type": "stream",
     "text": [
      "750it [7:31:21, 60.81s/it]"
     ]
    },
    {
     "name": "stdout",
     "output_type": "stream",
     "text": [
      "pass\n",
      "--2022-07-14 13:00:27--  https://gallica.bnf.fr/iiif/ark:/12148/btv1b53028000k/f1/full/full/0/native.png\n",
      "Resolving gallica.bnf.fr (gallica.bnf.fr)... 194.199.8.11\n",
      "Connecting to gallica.bnf.fr (gallica.bnf.fr)|194.199.8.11|:443... connected.\n",
      "HTTP request sent, awaiting response... 200 200\n",
      "Length: 62001739 (59M) [image/png]\n",
      "Saving to: ‘btv1b53028000k_f1.png’\n",
      "\n",
      "btv1b53028000k_f1.p 100%[===================>]  59.13M  6.81MB/s    in 13s     \n",
      "\n",
      "2022-07-14 13:01:24 (4.70 MB/s) - ‘btv1b53028000k_f1.png’ saved [62001739/62001739]\n",
      "\n"
     ]
    },
    {
     "name": "stderr",
     "output_type": "stream",
     "text": [
      "752it [7:32:18, 48.29s/it]"
     ]
    },
    {
     "name": "stdout",
     "output_type": "stream",
     "text": [
      "--2022-07-14 13:01:24--  https://gallica.bnf.fr/iiif/ark:/12148/btv1b8439814g/f1/full/full/0/native.png\n",
      "Resolving gallica.bnf.fr (gallica.bnf.fr)... 194.199.8.11\n",
      "Connecting to gallica.bnf.fr (gallica.bnf.fr)|194.199.8.11|:443... connected.\n",
      "HTTP request sent, awaiting response... 200 200\n",
      "Length: 58949496 (56M) [image/png]\n",
      "Saving to: ‘btv1b8439814g_f1.png’\n",
      "\n",
      "btv1b8439814g_f1.pn 100%[===================>]  56.22M  6.80MB/s    in 8.5s    \n",
      "\n",
      "2022-07-14 13:01:56 (6.65 MB/s) - ‘btv1b8439814g_f1.png’ saved [58949496/58949496]\n",
      "\n"
     ]
    },
    {
     "name": "stderr",
     "output_type": "stream",
     "text": [
      "753it [7:32:49, 44.73s/it]"
     ]
    },
    {
     "name": "stdout",
     "output_type": "stream",
     "text": [
      "--2022-07-14 13:01:56--  https://gallica.bnf.fr/iiif/ark:/12148/btv1b53066698q/f1/full/full/0/native.png\n",
      "Resolving gallica.bnf.fr (gallica.bnf.fr)... 194.199.8.11\n",
      "Connecting to gallica.bnf.fr (gallica.bnf.fr)|194.199.8.11|:443... connected.\n",
      "HTTP request sent, awaiting response... 200 200\n",
      "Length: 144977575 (138M) [image/png]\n",
      "Saving to: ‘btv1b53066698q_f1.png’\n",
      "\n",
      "btv1b53066698q_f1.p 100%[===================>] 138.26M  6.77MB/s    in 25s     \n",
      "\n",
      "2022-07-14 13:03:33 (5.64 MB/s) - ‘btv1b53066698q_f1.png’ saved [144977575/144977575]\n",
      "\n"
     ]
    },
    {
     "name": "stderr",
     "output_type": "stream",
     "text": [
      "754it [7:34:27, 57.16s/it]"
     ]
    },
    {
     "name": "stdout",
     "output_type": "stream",
     "text": [
      "--2022-07-14 13:03:33--  https://gallica.bnf.fr/iiif/ark:/12148/btv1b53085560s/f1/full/full/0/native.png\n",
      "Resolving gallica.bnf.fr (gallica.bnf.fr)... 194.199.8.11\n",
      "Connecting to gallica.bnf.fr (gallica.bnf.fr)|194.199.8.11|:443... connected.\n",
      "HTTP request sent, awaiting response... 200 200\n",
      "Length: 140221894 (134M) [image/png]\n",
      "Saving to: ‘btv1b53085560s_f1.png’\n",
      "\n",
      "btv1b53085560s_f1.p 100%[===================>] 133.73M  6.77MB/s    in 25s     \n",
      "\n",
      "2022-07-14 13:04:59 (5.45 MB/s) - ‘btv1b53085560s_f1.png’ saved [140221894/140221894]\n",
      "\n"
     ]
    },
    {
     "name": "stderr",
     "output_type": "stream",
     "text": [
      "755it [7:35:53, 64.48s/it]"
     ]
    },
    {
     "name": "stdout",
     "output_type": "stream",
     "text": [
      "--2022-07-14 13:04:59--  https://gallica.bnf.fr/iiif/ark:/12148/btv1b53085510q/f1/full/full/0/native.png\n",
      "Resolving gallica.bnf.fr (gallica.bnf.fr)... 194.199.8.11\n",
      "Connecting to gallica.bnf.fr (gallica.bnf.fr)|194.199.8.11|:443... connected.\n",
      "HTTP request sent, awaiting response... 200 200\n",
      "Length: 155733138 (149M) [image/png]\n",
      "Saving to: ‘btv1b53085510q_f1.png’\n",
      "\n",
      "btv1b53085510q_f1.p 100%[===================>] 148.52M  6.84MB/s    in 27s     \n",
      "\n",
      "2022-07-14 13:06:10 (5.55 MB/s) - ‘btv1b53085510q_f1.png’ saved [155733138/155733138]\n",
      "\n"
     ]
    },
    {
     "name": "stderr",
     "output_type": "stream",
     "text": [
      "756it [7:37:03, 66.06s/it]"
     ]
    },
    {
     "name": "stdout",
     "output_type": "stream",
     "text": [
      "--2022-07-14 13:06:10--  https://gallica.bnf.fr/iiif/ark:/12148/btv1b53060600b/f1/full/full/0/native.png\n",
      "Resolving gallica.bnf.fr (gallica.bnf.fr)... 194.199.8.11\n",
      "Connecting to gallica.bnf.fr (gallica.bnf.fr)|194.199.8.11|:443... connected.\n",
      "HTTP request sent, awaiting response... 200 200\n",
      "Length: 143431957 (137M) [image/png]\n",
      "Saving to: ‘btv1b53060600b_f1.png’\n",
      "\n",
      "btv1b53060600b_f1.p 100%[===================>] 136.79M  6.65MB/s    in 25s     \n",
      "\n",
      "2022-07-14 13:07:30 (5.52 MB/s) - ‘btv1b53060600b_f1.png’ saved [143431957/143431957]\n",
      "\n"
     ]
    },
    {
     "name": "stderr",
     "output_type": "stream",
     "text": [
      "757it [7:38:24, 69.96s/it]"
     ]
    },
    {
     "name": "stdout",
     "output_type": "stream",
     "text": [
      "--2022-07-14 13:07:30--  https://gallica.bnf.fr/iiif/ark:/12148/btv1b8445685w/f1/full/full/0/native.png\n",
      "Resolving gallica.bnf.fr (gallica.bnf.fr)... 194.199.8.11\n",
      "Connecting to gallica.bnf.fr (gallica.bnf.fr)|194.199.8.11|:443... connected.\n",
      "HTTP request sent, awaiting response... 200 200\n",
      "Length: 83934064 (80M) [image/png]\n",
      "Saving to: ‘btv1b8445685w_f1.png’\n",
      "\n",
      "btv1b8445685w_f1.pn 100%[===================>]  80.04M  3.52MB/s    in 15s     \n",
      "\n",
      "2022-07-14 13:08:38 (5.49 MB/s) - ‘btv1b8445685w_f1.png’ saved [83934064/83934064]\n",
      "\n"
     ]
    },
    {
     "name": "stderr",
     "output_type": "stream",
     "text": [
      "758it [7:39:32, 69.54s/it]"
     ]
    },
    {
     "name": "stdout",
     "output_type": "stream",
     "text": [
      "--2022-07-14 13:08:39--  https://gallica.bnf.fr/iiif/ark:/12148/btv1b84460498/f1/full/full/0/native.png\n",
      "Resolving gallica.bnf.fr (gallica.bnf.fr)... 194.199.8.11\n",
      "Connecting to gallica.bnf.fr (gallica.bnf.fr)|194.199.8.11|:443... connected.\n",
      "HTTP request sent, awaiting response... 200 200\n",
      "Length: 129304052 (123M) [image/png]\n",
      "Saving to: ‘btv1b84460498_f1.png’\n",
      "\n",
      "btv1b84460498_f1.pn 100%[===================>] 123.31M  6.83MB/s    in 23s     \n",
      "\n",
      "2022-07-14 13:09:56 (5.34 MB/s) - ‘btv1b84460498_f1.png’ saved [129304052/129304052]\n",
      "\n"
     ]
    },
    {
     "name": "stderr",
     "output_type": "stream",
     "text": [
      "759it [7:40:50, 71.87s/it]"
     ]
    },
    {
     "name": "stdout",
     "output_type": "stream",
     "text": [
      "--2022-07-14 13:09:56--  https://gallica.bnf.fr/iiif/ark:/12148/btv1b84460498/f2/full/full/0/native.png\n",
      "Resolving gallica.bnf.fr (gallica.bnf.fr)... 194.199.8.11\n",
      "Connecting to gallica.bnf.fr (gallica.bnf.fr)|194.199.8.11|:443... connected.\n",
      "HTTP request sent, awaiting response... 200 200\n",
      "Length: 122734115 (117M) [image/png]\n",
      "Saving to: ‘btv1b84460498_f2.png’\n",
      "\n",
      "btv1b84460498_f2.pn 100%[===================>] 117.05M  6.76MB/s    in 21s     \n",
      "\n",
      "2022-07-14 13:11:19 (5.69 MB/s) - ‘btv1b84460498_f2.png’ saved [122734115/122734115]\n",
      "\n"
     ]
    },
    {
     "name": "stderr",
     "output_type": "stream",
     "text": [
      "760it [7:42:12, 75.00s/it]"
     ]
    },
    {
     "name": "stdout",
     "output_type": "stream",
     "text": [
      "pass\n",
      "--2022-07-14 13:11:19--  https://gallica.bnf.fr/iiif/ark:/12148/btv1b530855634/f1/full/full/0/native.png\n",
      "Resolving gallica.bnf.fr (gallica.bnf.fr)... 194.199.8.11\n",
      "Connecting to gallica.bnf.fr (gallica.bnf.fr)|194.199.8.11|:443... connected.\n",
      "HTTP request sent, awaiting response... 200 200\n",
      "Length: 246328749 (235M) [image/png]\n",
      "Saving to: ‘btv1b530855634_f1.png’\n",
      "\n",
      "btv1b530855634_f1.p 100%[===================>] 234.92M  6.83MB/s    in 38s     \n",
      "\n",
      "2022-07-14 13:13:44 (6.26 MB/s) - ‘btv1b530855634_f1.png’ saved [246328749/246328749]\n",
      "\n"
     ]
    },
    {
     "name": "stderr",
     "output_type": "stream",
     "text": [
      "762it [7:44:38, 73.92s/it]"
     ]
    },
    {
     "name": "stdout",
     "output_type": "stream",
     "text": [
      "pass\n",
      "--2022-07-14 13:13:44--  https://gallica.bnf.fr/iiif/ark:/12148/btv1b530253283/f1/full/full/0/native.png\n",
      "Resolving gallica.bnf.fr (gallica.bnf.fr)... 194.199.8.11\n",
      "Connecting to gallica.bnf.fr (gallica.bnf.fr)|194.199.8.11|:443... connected.\n",
      "HTTP request sent, awaiting response... 200 200\n",
      "Length: 150095188 (143M) [image/png]\n",
      "Saving to: ‘btv1b530253283_f1.png’\n",
      "\n",
      "btv1b530253283_f1.p 100%[===================>] 143.14M  6.79MB/s    in 24s     \n",
      "\n",
      "2022-07-14 13:15:10 (5.86 MB/s) - ‘btv1b530253283_f1.png’ saved [150095188/150095188]\n",
      "\n"
     ]
    },
    {
     "name": "stderr",
     "output_type": "stream",
     "text": [
      "764it [7:46:04, 61.73s/it]"
     ]
    },
    {
     "name": "stdout",
     "output_type": "stream",
     "text": [
      "pass\n",
      "--2022-07-14 13:15:10--  https://gallica.bnf.fr/iiif/ark:/12148/btv1b53025070f/f1/full/full/0/native.png\n",
      "Resolving gallica.bnf.fr (gallica.bnf.fr)... 194.199.8.11\n",
      "Connecting to gallica.bnf.fr (gallica.bnf.fr)|194.199.8.11|:443... connected.\n",
      "HTTP request sent, awaiting response... 200 200\n",
      "Length: 150477186 (144M) [image/png]\n",
      "Saving to: ‘btv1b53025070f_f1.png’\n",
      "\n",
      "btv1b53025070f_f1.p 100%[===================>] 143.51M  6.80MB/s    in 26s     \n",
      "\n",
      "2022-07-14 13:16:43 (5.46 MB/s) - ‘btv1b53025070f_f1.png’ saved [150477186/150477186]\n",
      "\n"
     ]
    },
    {
     "name": "stderr",
     "output_type": "stream",
     "text": [
      "766it [7:47:37, 56.27s/it]"
     ]
    },
    {
     "name": "stdout",
     "output_type": "stream",
     "text": [
      "pass\n",
      "--2022-07-14 13:16:43--  https://gallica.bnf.fr/iiif/ark:/12148/btv1b530252706/f1/full/full/0/native.png\n",
      "Resolving gallica.bnf.fr (gallica.bnf.fr)... 194.199.8.11\n",
      "Connecting to gallica.bnf.fr (gallica.bnf.fr)|194.199.8.11|:443... connected.\n",
      "HTTP request sent, awaiting response... 200 200\n",
      "Length: 145464410 (139M) [image/png]\n",
      "Saving to: ‘btv1b530252706_f1.png’\n",
      "\n",
      "btv1b530252706_f1.p 100%[===================>] 138.73M  6.73MB/s    in 24s     \n",
      "\n",
      "2022-07-14 13:18:07 (5.86 MB/s) - ‘btv1b530252706_f1.png’ saved [145464410/145464410]\n",
      "\n"
     ]
    },
    {
     "name": "stderr",
     "output_type": "stream",
     "text": [
      "768it [7:49:01, 51.49s/it]"
     ]
    },
    {
     "name": "stdout",
     "output_type": "stream",
     "text": [
      "--2022-07-14 13:18:08--  https://gallica.bnf.fr/iiif/ark:/12148/btv1b84406200/f1/full/full/0/native.png\n",
      "Resolving gallica.bnf.fr (gallica.bnf.fr)... 194.199.8.11\n",
      "Connecting to gallica.bnf.fr (gallica.bnf.fr)|194.199.8.11|:443... connected.\n",
      "HTTP request sent, awaiting response... 200 200\n",
      "Length: 129317832 (123M) [image/png]\n",
      "Saving to: ‘btv1b84406200_f1.png’\n",
      "\n",
      "btv1b84406200_f1.pn 100%[===================>] 123.33M  6.79MB/s    in 21s     \n",
      "\n",
      "2022-07-14 13:19:24 (5.88 MB/s) - ‘btv1b84406200_f1.png’ saved [129317832/129317832]\n",
      "\n"
     ]
    },
    {
     "name": "stderr",
     "output_type": "stream",
     "text": [
      "769it [7:50:17, 56.31s/it]"
     ]
    },
    {
     "name": "stdout",
     "output_type": "stream",
     "text": [
      "--2022-07-14 13:19:24--  https://gallica.bnf.fr/iiif/ark:/12148/btv1b8444584t/f1/full/full/0/native.png\n",
      "Resolving gallica.bnf.fr (gallica.bnf.fr)... 194.199.8.11\n",
      "Connecting to gallica.bnf.fr (gallica.bnf.fr)|194.199.8.11|:443... connected.\n",
      "HTTP request sent, awaiting response... 200 200\n",
      "Length: 164219746 (157M) [image/png]\n",
      "Saving to: ‘btv1b8444584t_f1.png’\n",
      "\n",
      "btv1b8444584t_f1.pn 100%[===================>] 156.61M  6.55MB/s    in 27s     \n",
      "\n",
      "2022-07-14 13:20:33 (5.91 MB/s) - ‘btv1b8444584t_f1.png’ saved [164219746/164219746]\n",
      "\n"
     ]
    },
    {
     "name": "stderr",
     "output_type": "stream",
     "text": [
      "770it [7:51:27, 59.26s/it]"
     ]
    },
    {
     "name": "stdout",
     "output_type": "stream",
     "text": [
      "--2022-07-14 13:20:34--  https://gallica.bnf.fr/iiif/ark:/12148/btv1b53057644w/f1/full/full/0/native.png\n",
      "Resolving gallica.bnf.fr (gallica.bnf.fr)... 194.199.8.11\n",
      "Connecting to gallica.bnf.fr (gallica.bnf.fr)|194.199.8.11|:443... connected.\n",
      "HTTP request sent, awaiting response... 200 200\n",
      "Length: 56829780 (54M) [image/png]\n",
      "Saving to: ‘btv1b53057644w_f1.png’\n",
      "\n",
      "btv1b53057644w_f1.p 100%[===================>]  54.20M  2.75MB/s    in 12s     \n",
      "\n",
      "2022-07-14 13:21:04 (4.45 MB/s) - ‘btv1b53057644w_f1.png’ saved [56829780/56829780]\n",
      "\n"
     ]
    },
    {
     "name": "stderr",
     "output_type": "stream",
     "text": [
      "771it [7:51:58, 52.55s/it]"
     ]
    },
    {
     "name": "stdout",
     "output_type": "stream",
     "text": [
      "--2022-07-14 13:21:05--  https://gallica.bnf.fr/iiif/ark:/12148/btv1b8440555v/f1/full/full/0/native.png\n",
      "Resolving gallica.bnf.fr (gallica.bnf.fr)... 194.199.8.11\n",
      "Connecting to gallica.bnf.fr (gallica.bnf.fr)|194.199.8.11|:443... connected.\n",
      "HTTP request sent, awaiting response... 200 200\n",
      "Length: 131819036 (126M) [image/png]\n",
      "Saving to: ‘btv1b8440555v_f1.png’\n",
      "\n",
      "btv1b8440555v_f1.pn 100%[===================>] 125.71M  6.83MB/s    in 23s     \n",
      "\n",
      "2022-07-14 13:22:10 (5.55 MB/s) - ‘btv1b8440555v_f1.png’ saved [131819036/131819036]\n",
      "\n"
     ]
    },
    {
     "name": "stderr",
     "output_type": "stream",
     "text": [
      "772it [7:53:04, 36.77s/it]\n"
     ]
    }
   ],
   "source": [
    "for index, row in tqdm.tqdm(data.iterrows()):\n",
    "    ark = row[\"ark\"]\n",
    "    leaflet = row[\"leaflet\"]\n",
    "    url = f\"https://gallica.bnf.fr/iiif/ark:/12148/{ark}/f{leaflet}/full/full/0/native.png\"\n",
    "\n",
    "    filename = f\"{ark}_f{leaflet}.png\"\n",
    "    if not os.path.exists(os.path.join(\"maps\", filename)):\n",
    "        !wget -c $url -O $filename\n",
    "    else:\n",
    "        print(\"pass\")\n",
    "        pass"
   ]
  },
  {
   "cell_type": "code",
   "execution_count": 5,
   "id": "ecada770-9e95-4189-83a4-aadd5b9cdd85",
   "metadata": {},
   "outputs": [
    {
     "name": "stdout",
     "output_type": "stream",
     "text": [
      "--2022-07-20 01:07:11--  https://gallica.bnf.fr/iiif/ark:/12148/btv1b531213926/f1/full/full/0/native.png\n",
      "Resolving gallica.bnf.fr (gallica.bnf.fr)... 194.199.8.11\n",
      "Connecting to gallica.bnf.fr (gallica.bnf.fr)|194.199.8.11|:443... connected.\n",
      "HTTP request sent, awaiting response... 200 200\n",
      "Length: 90091761 (86M) [image/png]\n",
      "Saving to: ‘btv1b531213926_f1.png’\n",
      "\n",
      "btv1b531213926_f1.p 100%[===================>]  85.92M  6.69MB/s    in 17s     \n",
      "\n",
      "2022-07-20 01:08:02 (4.99 MB/s) - ‘btv1b531213926_f1.png’ saved [90091761/90091761]\n",
      "\n",
      "--2022-07-20 01:08:02--  https://gallica.bnf.fr/iiif/ark:/12148/btv1b531213909/f1/full/full/0/native.png\n",
      "Resolving gallica.bnf.fr (gallica.bnf.fr)... 194.199.8.11\n",
      "Connecting to gallica.bnf.fr (gallica.bnf.fr)|194.199.8.11|:443... connected.\n",
      "HTTP request sent, awaiting response... 200 200\n",
      "Length: 114594818 (109M) [image/png]\n",
      "Saving to: ‘btv1b531213909_f1.png’\n",
      "\n",
      "btv1b531213909_f1.p 100%[===================>] 109.29M  6.48MB/s    in 20s     \n",
      "\n",
      "2022-07-20 01:09:02 (5.34 MB/s) - ‘btv1b531213909_f1.png’ saved [114594818/114594818]\n",
      "\n",
      "--2022-07-20 01:09:02--  https://gallica.bnf.fr/iiif/ark:/12148/btv1b532454454/f1/full/full/0/native.png\n",
      "Resolving gallica.bnf.fr (gallica.bnf.fr)... 194.199.8.11\n",
      "Connecting to gallica.bnf.fr (gallica.bnf.fr)|194.199.8.11|:443... connected.\n",
      "HTTP request sent, awaiting response... 200 200\n",
      "Length: 192401540 (183M) [image/png]\n",
      "Saving to: ‘btv1b532454454_f1.png’\n",
      "\n",
      "btv1b532454454_f1.p 100%[===================>] 183.49M  6.57MB/s    in 32s     \n",
      "\n",
      "2022-07-20 01:10:35 (5.78 MB/s) - ‘btv1b532454454_f1.png’ saved [192401540/192401540]\n",
      "\n",
      "--2022-07-20 01:10:35--  https://gallica.bnf.fr/iiif/ark:/12148/btv1b53176832w/f1/full/full/0/native.png\n",
      "Resolving gallica.bnf.fr (gallica.bnf.fr)... 194.199.8.11\n",
      "Connecting to gallica.bnf.fr (gallica.bnf.fr)|194.199.8.11|:443... connected.\n",
      "HTTP request sent, awaiting response... 200 200\n",
      "Length: 123392596 (118M) [image/png]\n",
      "Saving to: ‘btv1b53176832w_f1.png’\n",
      "\n",
      "btv1b53176832w_f1.p 100%[===================>] 117.68M  5.35MB/s    in 22s     \n",
      "\n",
      "2022-07-20 01:11:38 (5.26 MB/s) - ‘btv1b53176832w_f1.png’ saved [123392596/123392596]\n",
      "\n"
     ]
    }
   ],
   "source": [
    "for ark, leaflet in [(\"btv1b530583087\",1), (\"btv1b53060495j\",1), (\"btv1b532454454\", 1), (\"btv1b53176832w\",1)]:\n",
    "    url = f\"https://gallica.bnf.fr/iiif/ark:/12148/{ark}/f{leaflet}/full/full/0/native.png\"\n",
    "\n",
    "    filename = f\"{ark}_f{leaflet}.png\"\n",
    "    if not os.path.exists(os.path.join(\"lyon\", filename)):\n",
    "        !wget -c $url -O $filename\n",
    "    else:\n",
    "        print(\"pass\")\n",
    "        pass"
   ]
  },
  {
   "cell_type": "code",
   "execution_count": null,
   "id": "47e54ce0-ee71-49df-abc3-457380e6fa52",
   "metadata": {},
   "outputs": [],
   "source": []
  }
 ],
 "metadata": {
  "kernelspec": {
   "display_name": "Python 3 (ipykernel)",
   "language": "python",
   "name": "python3"
  },
  "language_info": {
   "codemirror_mode": {
    "name": "ipython",
    "version": 3
   },
   "file_extension": ".py",
   "mimetype": "text/x-python",
   "name": "python",
   "nbconvert_exporter": "python",
   "pygments_lexer": "ipython3",
   "version": "3.10.4"
  }
 },
 "nbformat": 4,
 "nbformat_minor": 5
}

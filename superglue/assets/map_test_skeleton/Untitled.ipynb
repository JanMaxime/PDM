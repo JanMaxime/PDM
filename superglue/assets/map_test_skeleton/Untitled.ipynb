{
 "cells": [
  {
   "cell_type": "code",
   "execution_count": 2,
   "id": "c38e318d-0759-41d1-838d-8bc7f0d52315",
   "metadata": {},
   "outputs": [],
   "source": [
    "import os\n",
    "import glob"
   ]
  },
  {
   "cell_type": "code",
   "execution_count": 3,
   "id": "3c40f396-e31f-4bb5-8ebe-04c3ce69d9ed",
   "metadata": {},
   "outputs": [],
   "source": [
    "string = \"\"\n",
    "for a in glob.glob(\"*.png\"):\n",
    "    if \"baseline\" in a:\n",
    "        continue\n",
    "    string += a + \" baseline.png\\n\""
   ]
  },
  {
   "cell_type": "code",
   "execution_count": 5,
   "id": "4a831156-3177-45b7-b619-c6ac0475cd71",
   "metadata": {},
   "outputs": [],
   "source": [
    "with open(\"val_map.txt\", \"w\") as file:\n",
    "    file.write(string)"
   ]
  },
  {
   "cell_type": "code",
   "execution_count": null,
   "id": "649914b3-eecd-48db-8106-77eb8cd12abc",
   "metadata": {},
   "outputs": [],
   "source": []
  }
 ],
 "metadata": {
  "kernelspec": {
   "display_name": "Python 3 (ipykernel)",
   "language": "python",
   "name": "python3"
  },
  "language_info": {
   "codemirror_mode": {
    "name": "ipython",
    "version": 3
   },
   "file_extension": ".py",
   "mimetype": "text/x-python",
   "name": "python",
   "nbconvert_exporter": "python",
   "pygments_lexer": "ipython3",
   "version": "3.10.4"
  }
 },
 "nbformat": 4,
 "nbformat_minor": 5
}

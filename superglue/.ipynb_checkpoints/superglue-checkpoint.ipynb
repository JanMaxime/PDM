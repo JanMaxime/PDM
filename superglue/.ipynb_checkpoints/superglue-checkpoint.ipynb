{
 "cells": [
  {
   "cell_type": "code",
   "execution_count": 1,
   "id": "bcef026b-ef21-432a-ada0-0037c9184494",
   "metadata": {},
   "outputs": [],
   "source": [
    "import numpy as np\n",
    "import glob\n",
    "import cv2 as cv\n",
    "import json\n",
    "import math\n",
    "import matplotlib.pyplot as plt\n",
    "from skimage.morphology import skeletonize\n",
    "import pickle"
   ]
  },
  {
   "cell_type": "code",
   "execution_count": 2,
   "id": "6d203630-8fbc-4c86-87f6-2e93f478b0ec",
   "metadata": {},
   "outputs": [],
   "source": [
    "baseline_height = 7748\n",
    "baseline_width = 9877"
   ]
  },
  {
   "cell_type": "code",
   "execution_count": null,
   "id": "75d82494-ea70-4d04-b705-572606227fc6",
   "metadata": {},
   "outputs": [],
   "source": [
    "def do_superglue(resize, nms_radius):\n",
    "    max_keypoints = -1\n",
    "    baseline_scale =  max(baseline_width, baseline_height) /  resize\n",
    "    !python ./match_pairs.py --superglue outdoor --resize $resize --max_keypoints $max_keypoints --nms_radius $nms_radius  --resize_float --input_dir assets/map_test/ --input_pairs assets/map.txt --output_dir superglue_output\n",
    "    distances = []\n",
    "    well_referenced = 0\n",
    "    badly_referenced = 0\n",
    "    good_maps = []\n",
    "    for npz_file in glob.glob(\"a/*.npz\"):\n",
    "        map_name = npz_file[npz_file.find(\"/\")+1:-21]\n",
    "        with open(f\"assets/points_transformed/{map_name}.json\", \"r\") as test_points_json:\n",
    "            test_points = json.load(test_points_json)\n",
    "            image_scale = max(test_points[\"image_height\"], test_points[\"image_width\"])/resize\n",
    "            npz = np.load(npz_file)\n",
    "\n",
    "            src_pts = []\n",
    "            dst_pts = []\n",
    "            for i in range(len(npz[\"matches\"])):\n",
    "                if npz[\"matches\"][i] != -1 :\n",
    "                    src_pts.append(npz[\"keypoints0\"][i]*(image_scale))\n",
    "                    dst_pts.append(npz[\"keypoints1\"][npz[\"matches\"][i]]*(baseline_scale))\n",
    "            src_pts = np.array(src_pts).reshape(-1,1,2)\n",
    "            dst_pts = np.array(dst_pts).reshape(-1,1,2)\n",
    "\n",
    "            try:\n",
    "                M, mask = cv.findHomography(src_pts, dst_pts, cv.RANSAC,5.0)\n",
    "            except:\n",
    "                badly_referenced += 1\n",
    "                continue\n",
    "            '''\n",
    "            scaling_matrix = np.zeros((3,3))\n",
    "            scaling_matrix[0][0] = baseline_scale\n",
    "            scaling_matrix[1][1] = baseline_scale\n",
    "            scaling_matrix[2][2] = 1\n",
    "\n",
    "            M = scaling_matrix @ M @ np.linalg.inv(scaling_matrix) \n",
    "            '''\n",
    "            pts = np.float32([[x,y] for x,y in zip(test_points[\"x\"], test_points[\"y\"])]).reshape(-1,1,2)\n",
    "            targets = np.float32([[x,y] for x,y in zip(test_points[\"x_\"], test_points[\"y_\"])])\n",
    "            try:\n",
    "                p_transformed = cv.perspectiveTransform(pts,M).reshape(-1,2)\n",
    "            except:\n",
    "                badly_referenced +=1\n",
    "                continue\n",
    "            distance = np.mean([math.sqrt((target_x - p_transformed_x)**2 + (target_y - p_transformed_y)**2) for ((target_x, target_y), (p_transformed_x, p_transformed_y)) in zip (targets, p_transformed)])\n",
    "            distances.append(distance)\n",
    "            \n",
    "            if distance < 150:\n",
    "                well_referenced += 1\n",
    "                good_maps.append((map_name,M,distance))\n",
    "            else:\n",
    "                badly_referenced += 1\n",
    "\n",
    "            '''\n",
    "            saved_baseline = cv.imread(\"assets/map_test/baseline.png\")\n",
    "            #saved_baseline = cv.resize(saved_baseline, (0,0), fx=1/baseline_scale, fy=1/baseline_scale)\n",
    "            test_image = cv.imread(f\"assets/map_test/{map_name}.png\")\n",
    "            #test_image = cv.resize(test_image, (0,0), fx=1/image_scale, fy=1/image_scale)\n",
    "            \n",
    "            for i in range(len(targets)):\n",
    "                saved_baseline = cv.circle(saved_baseline, (int(round((targets[i][0]))), int(round((targets[i][1])))), 50, (255,0,0), thickness=-1)\n",
    "                saved_baseline = cv.circle(saved_baseline, (int(round((p_transformed[i][0]))), int(round((p_transformed[i][1])))), 50, (0,255,0), thickness=-1)\n",
    "                #test_image = cv.circle(test_image, (int(round((pts[i][0][0]))), int(round((pts[i][0][1])))), 50, (255,0,0),-1)\n",
    "            plt.imsave(f\"test/{map_name}.png\", saved_baseline)\n",
    "            '''\n",
    "    return well_referenced, good_maps "
   ]
  },
  {
   "cell_type": "code",
   "execution_count": 3,
   "id": "d47350fb-2eac-4a7e-a92e-2d8e1e350a1a",
   "metadata": {},
   "outputs": [],
   "source": [
    "def do_superglue_with_validation(resize, nms_radius):\n",
    "    max_keypoints = -1\n",
    "    baseline_scale =  max(baseline_width, baseline_height) /  resize\n",
    "    #!python ./match_pairs.py --superglue outdoor --resize $resize --max_keypoints $max_keypoints --nms_radius $nms_radius  --resize_float --input_dir assets/map_test/ --input_pairs assets/map.txt --output_dir --output_dir superglue_output\n",
    "    distances = []\n",
    "    well_referenced = 0\n",
    "    badly_referenced = 0\n",
    "    good_maps = []\n",
    "    for npz_file in glob.glob(\"a/*.npz\"):\n",
    "        map_name = npz_file[npz_file.find(\"/\")+1:-21]\n",
    "        with open(f\"assets/points_transformed/{map_name}.json\", \"r\") as test_points_json:\n",
    "            test_points = json.load(test_points_json)\n",
    "            image_scale = max(test_points[\"image_height\"], test_points[\"image_width\"])/resize\n",
    "            npz = np.load(npz_file)\n",
    "\n",
    "            src_pts = []\n",
    "            dst_pts = []\n",
    "            for i in range(len(npz[\"matches\"])):\n",
    "                if npz[\"matches\"][i] != -1 :\n",
    "                    src_pts.append(npz[\"keypoints0\"][i]*(image_scale))\n",
    "                    dst_pts.append(npz[\"keypoints1\"][npz[\"matches\"][i]]*(baseline_scale))\n",
    "            src_pts = np.array(src_pts).reshape(-1,1,2)\n",
    "            dst_pts = np.array(dst_pts).reshape(-1,1,2)\n",
    "\n",
    "            try:\n",
    "                M, mask = cv.findHomography(src_pts, dst_pts, cv.RANSAC,5.0)\n",
    "            except:\n",
    "                badly_referenced += 1\n",
    "                continue\n",
    "            '''\n",
    "            scaling_matrix = np.zeros((3,3))\n",
    "            scaling_matrix[0][0] = baseline_scale\n",
    "            scaling_matrix[1][1] = baseline_scale\n",
    "            scaling_matrix[2][2] = 1\n",
    "\n",
    "            M = scaling_matrix @ M @ np.linalg.inv(scaling_matrix) \n",
    "            '''\n",
    "            pts = np.float32([[x,y] for x,y in zip(test_points[\"x\"], test_points[\"y\"])]).reshape(-1,1,2)\n",
    "            targets = np.float32([[x,y] for x,y in zip(test_points[\"x_\"], test_points[\"y_\"])])\n",
    "            try:\n",
    "                p_transformed = cv.perspectiveTransform(pts,M).reshape(-1,2)\n",
    "            except:\n",
    "                badly_referenced +=1\n",
    "                continue\n",
    "            distance = np.mean([math.sqrt((target_x - p_transformed_x)**2 + (target_y - p_transformed_y)**2) for ((target_x, target_y), (p_transformed_x, p_transformed_y)) in zip (targets, p_transformed)])\n",
    "            distances.append(distance)\n",
    "            \n",
    "            if distance < 150:\n",
    "                well_referenced += 1\n",
    "                good_maps.append((map_name,M,distance))\n",
    "            else:\n",
    "                badly_referenced += 1\n",
    "\n",
    "            '''\n",
    "            saved_baseline = cv.imread(\"assets/map_test/baseline.png\")\n",
    "            #saved_baseline = cv.resize(saved_baseline, (0,0), fx=1/baseline_scale, fy=1/baseline_scale)\n",
    "            test_image = cv.imread(f\"assets/map_test/{map_name}.png\")\n",
    "            #test_image = cv.resize(test_image, (0,0), fx=1/image_scale, fy=1/image_scale)\n",
    "            \n",
    "            for i in range(len(targets)):\n",
    "                saved_baseline = cv.circle(saved_baseline, (int(round((targets[i][0]))), int(round((targets[i][1])))), 50, (255,0,0), thickness=-1)\n",
    "                saved_baseline = cv.circle(saved_baseline, (int(round((p_transformed[i][0]))), int(round((p_transformed[i][1])))), 50, (0,255,0), thickness=-1)\n",
    "                #test_image = cv.circle(test_image, (int(round((pts[i][0][0]))), int(round((pts[i][0][1])))), 50, (255,0,0),-1)\n",
    "            plt.imsave(f\"test/{map_name}.png\", saved_baseline)\n",
    "            '''\n",
    "    return well_referenced, good_maps "
   ]
  },
  {
   "cell_type": "code",
   "execution_count": 4,
   "id": "db9d95c1-5cbe-4887-bdd6-2074e77f2357",
   "metadata": {},
   "outputs": [],
   "source": [
    "superglue_results = do_superglue(1400,5)"
   ]
  },
  {
   "cell_type": "code",
   "execution_count": 5,
   "id": "8824d59d-7463-4ee1-81c8-10be47bbecd7",
   "metadata": {},
   "outputs": [],
   "source": [
    "with open('maps_data.pickle', 'wb') as handle:\n",
    "    pickle.dump(superglue_results[1], handle, protocol=pickle.HIGHEST_PROTOCOL)"
   ]
  },
  {
   "cell_type": "code",
   "execution_count": 9,
   "id": "aa6e4d6a-c23b-41a9-8827-68ad4daa9f49",
   "metadata": {},
   "outputs": [],
   "source": [
    "baseline = cv.imread(\"assets/map_test/baseline.png\", cv.IMREAD_GRAYSCALE)\n",
    "for map_name, M, _ in superglue_results[1]:\n",
    "    map_image = cv.imread(f\"assets/map_test/{map_name}.png\", cv.IMREAD_GRAYSCALE)\n",
    "    map_image = cv.warpPerspective(map_image,M,(baseline.shape[1], baseline.shape[0]))\n",
    "    map_image = skeletonize(map_image/255).astype(np.uint8)*255\n",
    "    cv.imwrite(f\"assets/warped_maps/{map_name}.png\", map_image)\n",
    "    \n"
   ]
  },
  {
   "cell_type": "code",
   "execution_count": 5,
   "id": "0c15bf23-5c8c-4631-a430-cc34963ab0d3",
   "metadata": {},
   "outputs": [
    {
     "data": {
      "text/plain": [
       "True"
      ]
     },
     "execution_count": 5,
     "metadata": {},
     "output_type": "execute_result"
    }
   ],
   "source": [
    "baseline = cv.imread(\"assets/map_test/baseline.png\", cv.IMREAD_GRAYSCALE)\n",
    "baseline = skeletonize(baseline/255).astype(np.uint8)*255\n",
    "cv.imwrite(f\"assets/warped_maps/baseline.png\", baseline)"
   ]
  },
  {
   "cell_type": "code",
   "execution_count": null,
   "id": "45c13d9b-fcb4-4f47-8142-df63204a182e",
   "metadata": {},
   "outputs": [],
   "source": []
  }
 ],
 "metadata": {
  "kernelspec": {
   "display_name": "Python 3 (ipykernel)",
   "language": "python",
   "name": "python3"
  },
  "language_info": {
   "codemirror_mode": {
    "name": "ipython",
    "version": 3
   },
   "file_extension": ".py",
   "mimetype": "text/x-python",
   "name": "python",
   "nbconvert_exporter": "python",
   "pygments_lexer": "ipython3",
   "version": "3.10.4"
  }
 },
 "nbformat": 4,
 "nbformat_minor": 5
}

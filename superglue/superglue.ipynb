{
 "cells": [
  {
   "cell_type": "code",
   "execution_count": 1,
   "id": "bcef026b-ef21-432a-ada0-0037c9184494",
   "metadata": {},
   "outputs": [],
   "source": [
    "import numpy as np\n",
    "import glob\n",
    "import cv2 as cv\n",
    "import json\n",
    "import math\n",
    "import matplotlib.pyplot as plt\n",
    "from skimage.morphology import skeletonize\n",
    "import pickle\n",
    "import glob\n",
    "import tqdm\n",
    "import os\n",
    "import seaborn as sns"
   ]
  },
  {
   "cell_type": "raw",
   "id": "e7e5dd6b-31da-4700-9da4-ca8005ecbe8a",
   "metadata": {},
   "source": [
    "text = \"\"\n",
    "for file in sorted(tqdm.tqdm(glob.glob(\"../segmentation/full_maps/other_full_predictions/*.png\"))):\n",
    "    file = file[len(\"../segmentation/full_maps/other_full_predictions/\"):]\n",
    "    text+=(file + \" \" + \"baseline.png\\n\")\n",
    "with open(\"assets/map.txt\", \"w\") as map_txt:\n",
    "    map_txt.write(text)"
   ]
  },
  {
   "cell_type": "code",
   "execution_count": 6,
   "id": "3344c4c4-59d9-4d25-a743-850c006aecdd",
   "metadata": {},
   "outputs": [
    {
     "name": "stderr",
     "output_type": "stream",
     "text": [
      "100%|██████████████████████████████████████████████████████████████████████████████████| 30/30 [00:27<00:00,  1.08it/s]\n"
     ]
    }
   ],
   "source": [
    "name_to_resize = dict()\n",
    "for file in tqdm.tqdm(sorted(glob.glob(\"../segmentation/full_maps/other_full_predictions/*.png\"))):\n",
    "    image = cv.imread(file)\n",
    "    image_width, image_height = image.shape[1], image.shape[0]\n",
    "    image_scale = max(image_height, image_width)/1400\n",
    "    small = cv.resize(image, (0,0), fx=1/image_scale, fy=1/image_scale)\n",
    "    file = file[len(\"../segmentation/full_maps/other_full_predictions/\"):-4]\n",
    "    name_to_resize[file] = image_scale\n",
    "    skeleton = skeletonize(small)\n",
    "    cv.imwrite(f\"assets/other_map_skeleton/{file}.png\", skeleton)"
   ]
  },
  {
   "cell_type": "code",
   "execution_count": 7,
   "id": "6d203630-8fbc-4c86-87f6-2e93f478b0ec",
   "metadata": {},
   "outputs": [],
   "source": [
    "baseline_height = 7748\n",
    "baseline_width = 9877"
   ]
  },
  {
   "cell_type": "code",
   "execution_count": 15,
   "id": "75d82494-ea70-4d04-b705-572606227fc6",
   "metadata": {
    "tags": []
   },
   "outputs": [],
   "source": [
    "def do_superglue(resize, nms_radius):\n",
    "    max_keypoints = -1\n",
    "    \n",
    "    #!python ./match_pairs.py --superglue outdoor --resize $resize --max_keypoints $max_keypoints --nms_radius $nms_radius  --resize_float --input_dir assets/other_map_skeleton --input_pairs assets/other_map.txt --output_dir other_superglue_output --viz\n",
    "    good_maps = []\n",
    "    for npz_file in tqdm.tqdm(sorted(glob.glob(\"other_superglue_output/*.npz\"))):\n",
    "        map_name = npz_file[npz_file.find(\"\\\\\")+1:npz_file.find(\"baseline\")-1]\n",
    "        baseline_name = npz_file[npz_file.find(\"baseline\"):-12]\n",
    "        image_scale = name_to_resize[map_name]\n",
    "        baseline_scale =  name_to_resize[baseline_name]\n",
    "        npz = np.load(npz_file)\n",
    "\n",
    "        src_pts = []\n",
    "        dst_pts = []\n",
    "        for i in range(len(npz[\"matches\"])):\n",
    "            if npz[\"matches\"][i] != -1 :\n",
    "                src_pts.append(npz[\"keypoints0\"][i]*(image_scale))\n",
    "                dst_pts.append(npz[\"keypoints1\"][npz[\"matches\"][i]]*(baseline_scale))\n",
    "        src_pts = np.array(src_pts).reshape(-1,1,2)\n",
    "        dst_pts = np.array(dst_pts).reshape(-1,1,2)\n",
    "\n",
    "        try:\n",
    "            M, mask = cv.findHomography(src_pts, dst_pts, cv.RANSAC,5.0)\n",
    "            good_maps.append((map_name, baseline_name, M))\n",
    "        except:\n",
    "            continue\n",
    "\n",
    "    return good_maps "
   ]
  },
  {
   "cell_type": "code",
   "execution_count": 3,
   "id": "d47350fb-2eac-4a7e-a92e-2d8e1e350a1a",
   "metadata": {
    "tags": []
   },
   "outputs": [],
   "source": [
    "def do_superglue_with_validation(resize, nms_radius):\n",
    "    max_keypoints = -1\n",
    "    baseline_scale =  max(baseline_width, baseline_height) /  resize\n",
    "    #!python ./match_pairs.py --superglue outdoor --resize $resize --max_keypoints $max_keypoints --nms_radius $nms_radius  --resize_float --input_dir assets/map_test_skeleton/ --input_pairs assets/map_test_skeleton/val_map.txt --output_dir superglue_output\n",
    "    distances = []\n",
    "    well_referenced = 0\n",
    "    badly_referenced = 0\n",
    "    good_maps = []\n",
    "    baseline = cv.imread('assets/map_test_skeleton/baseline.png')\n",
    "    print(baseline.shape)\n",
    "    for npz_file in glob.glob(\"superglue_output/*.npz\"):\n",
    "        map_name = npz_file[npz_file.find(\"/\")+1:-21]\n",
    "        with open(f\"assets/points_transformed/{map_name}.json\", \"r\") as test_points_json:\n",
    "            test_points = json.load(test_points_json)\n",
    "            image_scale = max(test_points[\"image_height\"], test_points[\"image_width\"])/resize\n",
    "            npz = np.load(npz_file)\n",
    "\n",
    "            src_pts = []\n",
    "            dst_pts = []\n",
    "            for i in range(len(npz[\"matches\"])):\n",
    "                if npz[\"matches\"][i] != -1 :\n",
    "                    src_pts.append(npz[\"keypoints0\"][i]*(image_scale))\n",
    "                    dst_pts.append(npz[\"keypoints1\"][npz[\"matches\"][i]]*(baseline_scale))\n",
    "            src_pts = np.array(src_pts).reshape(-1,1,2)\n",
    "            dst_pts = np.array(dst_pts).reshape(-1,1,2)\n",
    "\n",
    "            try:\n",
    "                M, mask = cv.findHomography(src_pts, dst_pts, cv.RANSAC,5.0)\n",
    "            except:\n",
    "                badly_referenced += 1\n",
    "                continue\n",
    "\n",
    "            pts = np.float32([[x,y] for x,y in zip(test_points[\"x\"], test_points[\"y\"])]).reshape(-1,1,2)\n",
    "            targets = np.float32([[x,y] for x,y in zip(test_points[\"x_\"], test_points[\"y_\"])])\n",
    "            try:\n",
    "                p_transformed = cv.perspectiveTransform(pts,M).reshape(-1,2)\n",
    "            except:\n",
    "                badly_referenced +=1\n",
    "                continue\n",
    "            \n",
    "\n",
    "            dst = [math.sqrt((target_x - p_transformed_x)**2 + (target_y - p_transformed_y)**2) for ((target_x, target_y), (p_transformed_x, p_transformed_y)) in zip (targets, p_transformed)]\n",
    "            distance = np.mean(dst)\n",
    "            distances+=dst\n",
    "            \n",
    "            if distance < 100:\n",
    "                well_referenced += 1\n",
    "                good_maps.append((map_name,M,distance))\n",
    "            else:\n",
    "                badly_referenced += 1\n",
    "\n",
    "    return distances, well_referenced, good_maps "
   ]
  },
  {
   "cell_type": "code",
   "execution_count": 16,
   "id": "db9d95c1-5cbe-4887-bdd6-2074e77f2357",
   "metadata": {},
   "outputs": [
    {
     "name": "stderr",
     "output_type": "stream",
     "text": [
      "100%|██████████████████████████████████████████████████████████████████████████████████| 24/24 [00:40<00:00,  1.68s/it]\n"
     ]
    }
   ],
   "source": [
    "superglue_results = do_superglue(1400,5)"
   ]
  },
  {
   "cell_type": "code",
   "execution_count": 17,
   "id": "f4b7bc5f-fec5-4faa-a848-1d1fc8669c95",
   "metadata": {},
   "outputs": [
    {
     "data": {
      "text/plain": [
       "[('btv1b10223757q_f1',\n",
       "  'baseline_strasbourg',\n",
       "  array([[ 8.46246058e-01,  3.01072072e-02,  1.61554056e+03],\n",
       "         [-1.76817733e-02,  8.38417670e-01,  2.10309131e+03],\n",
       "         [ 1.53569268e-06,  2.07255336e-07,  1.00000000e+00]])),\n",
       " ('btv1b10223975d_f1',\n",
       "  'baseline_strasbourg',\n",
       "  array([[ 8.02923946e-01,  1.71392122e-02,  3.17345137e+02],\n",
       "         [-3.86718235e-02,  7.82882139e-01,  6.49921125e+02],\n",
       "         [-3.92031440e-07, -7.52383031e-06,  1.00000000e+00]])),\n",
       " ('btv1b10678312p_f1',\n",
       "  'baseline_montpellier',\n",
       "  array([[ 4.43693101e-01, -2.68154951e-02,  2.48178395e+02],\n",
       "         [ 1.06256198e-02,  4.23005558e-01, -5.57893352e+02],\n",
       "         [ 1.87886779e-06, -1.07212670e-05,  1.00000000e+00]])),\n",
       " ('btv1b53019759c_f1',\n",
       "  'baseline_strasbourg',\n",
       "  array([[ 8.77061888e-01,  9.09788673e-02,  1.68350736e+03],\n",
       "         [-3.13052817e-02,  8.99552551e-01,  1.80199583e+03],\n",
       "         [ 1.59360871e-06,  7.48349004e-06,  1.00000000e+00]])),\n",
       " ('btv1b53025244r_f1',\n",
       "  'baseline_rome',\n",
       "  array([[ 4.75358143e-01,  1.15967091e-01, -4.89734971e+02],\n",
       "         [-1.07869878e-01,  4.65563159e-01,  5.83665395e+02],\n",
       "         [ 4.37612446e-06,  6.48434246e-06,  1.00000000e+00]])),\n",
       " ('btv1b53025339z_f1',\n",
       "  'baseline_rome',\n",
       "  array([[ 3.99324501e-01, -1.64595428e-03, -8.69845913e+01],\n",
       "         [-3.20195726e-03,  4.04168475e-01, -1.64439340e+02],\n",
       "         [-2.64762177e-06,  7.74859426e-07,  1.00000000e+00]])),\n",
       " ('btv1b530583087_f1',\n",
       "  'baseline_toulouse',\n",
       "  array([[ 6.79183808e-01, -9.64240886e-02,  3.01359086e+02],\n",
       "         [ 7.37891131e-02,  6.58607018e-01, -9.50828456e+02],\n",
       "         [-1.04617553e-06, -1.13670476e-05,  1.00000000e+00]])),\n",
       " ('btv1b53060495j_f1',\n",
       "  'baseline_toulouse',\n",
       "  array([[ 6.06539739e-01,  2.89627047e-03, -5.07440664e+02],\n",
       "         [-1.01439749e-04,  6.04965627e-01, -7.75935613e+02],\n",
       "         [-3.59498852e-07,  2.69241160e-07,  1.00000000e+00]])),\n",
       " ('btv1b53099763k_f1',\n",
       "  'baseline_geneve',\n",
       "  array([[ 1.07177759e+00, -1.04573424e+01,  4.17599054e+04],\n",
       "         [ 6.85476267e+00,  1.28365568e+00, -1.60259462e+03],\n",
       "         [ 1.35834667e-03, -2.76008363e-04,  1.00000000e+00]])),\n",
       " ('btv1b531213909_f1',\n",
       "  'baseline_lyon',\n",
       "  array([[ 1.77906960e-01, -1.23983983e+00,  3.27504282e+03],\n",
       "         [-5.73745937e-01, -4.73948424e-01,  4.09704305e+03],\n",
       "         [-7.01956263e-05, -2.17931614e-04,  1.00000000e+00]])),\n",
       " ('btv1b531213926_f1',\n",
       "  'baseline_lyon',\n",
       "  array([[ 1.96938270e+00, -1.32622193e-02, -2.99207303e+03],\n",
       "         [ 1.02999883e-02,  1.93090671e+00, -5.89045748e+02],\n",
       "         [ 4.17594963e-06, -3.12096901e-06,  1.00000000e+00]])),\n",
       " ('btv1b53176832w_f1',\n",
       "  'baseline_lyon',\n",
       "  array([[-4.35063031e+00, -1.57198499e+00,  9.20609402e+03],\n",
       "         [-1.90230087e+00, -1.08886251e+00,  5.04189969e+03],\n",
       "         [-5.04976523e-04, -1.54307288e-04,  1.00000000e+00]])),\n",
       " ('btv1b53233081g_f1',\n",
       "  'baseline_montpellier',\n",
       "  array([[ 4.80112161e-01, -6.79266680e-03, -8.83433718e+02],\n",
       "         [ 2.92528614e-02,  4.72948291e-01, -1.35671939e+03],\n",
       "         [ 2.13880822e-06,  3.01015911e-06,  1.00000000e+00]])),\n",
       " ('btv1b532454454_f1',\n",
       "  'baseline_lyon',\n",
       "  array([[ 5.93825647e-02,  5.69419390e-03, -6.71844483e+02],\n",
       "         [-5.42199768e-01, -1.74114987e-01,  6.10655014e+03],\n",
       "         [-9.35726635e-05, -2.06579178e-05,  1.00000000e+00]])),\n",
       " ('btv1b8440137j_f1',\n",
       "  'baseline_rome',\n",
       "  array([[ 4.34940095e-01,  1.90605009e-02, -3.74020878e+02],\n",
       "         [-5.52145452e-04,  4.51710927e-01, -4.18692785e+02],\n",
       "         [-2.31431578e-06,  1.08778283e-05,  1.00000000e+00]])),\n",
       " ('btv1b8441338z_f1',\n",
       "  'baseline_toulouse',\n",
       "  array([[ 5.68154417e-01, -7.21232123e-02,  4.90981686e+02],\n",
       "         [ 9.54192344e-02,  5.39728836e-01, -5.33997806e+02],\n",
       "         [ 1.12888265e-05, -1.10955589e-06,  1.00000000e+00]])),\n",
       " ('btv1b84423158_f1',\n",
       "  'baseline_montpellier',\n",
       "  array([[ 3.51039550e-01, -8.56073344e-03,  1.71088365e+02],\n",
       "         [ 1.67673155e-02,  3.34862461e-01, -5.46545370e+02],\n",
       "         [ 6.29369744e-06, -3.49601853e-06,  1.00000000e+00]])),\n",
       " ('btv1b8443174r_f1',\n",
       "  'baseline_toulouse',\n",
       "  array([[-6.26946186e-01, -5.00035839e-01,  4.27695259e+03],\n",
       "         [-1.32369846e-01,  4.87644751e-02,  7.16403026e+02],\n",
       "         [-9.22438593e-05, -1.33537395e-04,  1.00000000e+00]])),\n",
       " ('btv1b8446140w_f1',\n",
       "  'baseline_rome',\n",
       "  array([[ 3.94811063e-01, -1.87951146e-02,  1.45884844e+02],\n",
       "         [ 3.24002507e-03,  3.81682134e-01, -9.78652692e+01],\n",
       "         [-8.94745188e-08, -8.18948546e-06,  1.00000000e+00]])),\n",
       " ('btv1b8459660k_f1',\n",
       "  'baseline_geneve',\n",
       "  array([[-1.41809391e-01, -9.72807755e-01, -1.03673413e+03],\n",
       "         [-3.74875766e+00, -8.00828630e+00,  8.68657206e+03],\n",
       "         [-4.73658260e-04, -9.37484278e-04,  1.00000000e+00]])),\n",
       " ('btv1b84602131_f1',\n",
       "  'baseline_geneve',\n",
       "  array([[-4.58625700e-01, -2.33404705e-01,  3.09448567e+03],\n",
       "         [ 1.75176918e+00, -2.50011990e+00,  3.95147325e+03],\n",
       "         [ 3.93604660e-04, -6.40458585e-04,  1.00000000e+00]])),\n",
       " ('btv1b8460215v_f1',\n",
       "  'baseline_geneve',\n",
       "  array([[-5.39959139e-01, -1.86658786e+00,  1.04106886e+04],\n",
       "         [-5.28155681e-01, -1.50135824e-01,  2.77015150e+03],\n",
       "         [-5.26867298e-05, -1.76190193e-04,  1.00000000e+00]])),\n",
       " ('btv1b84951918_f1',\n",
       "  'baseline_strasbourg',\n",
       "  array([[ 1.89724363e+01, -5.04444813e+00,  9.36414520e+03],\n",
       "         [-1.87630508e+00, -1.41298364e+00,  7.75015693e+03],\n",
       "         [ 2.04017365e-03, -5.38319756e-04,  1.00000000e+00]]))]"
      ]
     },
     "execution_count": 17,
     "metadata": {},
     "output_type": "execute_result"
    }
   ],
   "source": [
    "superglue_results"
   ]
  },
  {
   "cell_type": "code",
   "execution_count": 49,
   "id": "a3de093e-b24a-440a-af83-e6cc061f6274",
   "metadata": {},
   "outputs": [],
   "source": [
    "d = [x*1.19 for x in superglue_results[0]]"
   ]
  },
  {
   "cell_type": "code",
   "execution_count": 51,
   "id": "d4195c81-4190-43ce-802d-df17619dacf5",
   "metadata": {},
   "outputs": [],
   "source": [
    "with open('superglue_distances.pickle', 'wb') as handle:\n",
    "    pickle.dump(d, handle, protocol=pickle.HIGHEST_PROTOCOL)"
   ]
  },
  {
   "cell_type": "code",
   "execution_count": 50,
   "id": "188284e3-6ecb-4946-81fa-d90a07cde811",
   "metadata": {},
   "outputs": [
    {
     "data": {
      "image/png": "[encoded data removed]",
      "text/plain": [
       "<Figure size 432x288 with 1 Axes>"
      ]
     },
     "metadata": {
      "needs_background": "light"
     },
     "output_type": "display_data"
    }
   ],
   "source": [
    "f, ax = plt.subplots(figsize=(6, 4))\n",
    "ax.set(xscale=\"log\")\n",
    "sns.histplot(data=d, ax=ax, bins=20, kde=True, kde_kws={\"bw_adjust\":0.5})\n",
    "ax.set_ylabel(\"Number of homologous points\", fontsize=13)\n",
    "ax.set_xlabel(\"Distance (meters)\", fontsize=13)\n",
    "ax.get_figure().savefig(\"superglue_results.png\")"
   ]
  },
  {
   "cell_type": "code",
   "execution_count": 67,
   "id": "8824d59d-7463-4ee1-81c8-10be47bbecd7",
   "metadata": {},
   "outputs": [],
   "source": [
    "with open('other_maps_results.pickle', 'wb') as handle:\n",
    "    pickle.dump(superglue_results, handle, protocol=pickle.HIGHEST_PROTOCOL)"
   ]
  },
  {
   "cell_type": "code",
   "execution_count": 18,
   "id": "9a3bdae4-6745-4db0-91bd-5ea6f41bf6f3",
   "metadata": {},
   "outputs": [],
   "source": [
    "with open('homographies.pickle', 'rb') as handle:\n",
    "    superglue_results = pickle.load(handle)"
   ]
  },
  {
   "cell_type": "code",
   "execution_count": 20,
   "id": "aa6e4d6a-c23b-41a9-8827-68ad4daa9f49",
   "metadata": {},
   "outputs": [
    {
     "name": "stderr",
     "output_type": "stream",
     "text": [
      "100%|██████████████████████████████████████████████████████████████████████████████████| 23/23 [16:40<00:00, 43.50s/it]\n"
     ]
    }
   ],
   "source": [
    "for map_name, baseline_name, M in tqdm.tqdm(superglue_results):\n",
    "    try:\n",
    "        baseline = cv.imread(f\"../segmentation/full_maps/other_full_predictions/{baseline_name}.png\", cv.IMREAD_GRAYSCALE)\n",
    "        baseline = skeletonize(baseline/255).astype(np.uint8)*255\n",
    "        map_image = cv.imread(f\"../segmentation/full_maps/other_full_predictions/{map_name}.png\", cv.IMREAD_GRAYSCALE)\n",
    "        map_image = cv.warpPerspective(map_image,M,(baseline.shape[1], baseline.shape[0]))\n",
    "        map_image = skeletonize(map_image/255).astype(np.uint8)*255\n",
    "        cv.imwrite(f\"assets/other_warped_maps/{map_name}.png\", map_image)\n",
    "    except:\n",
    "        continue\n"
   ]
  },
  {
   "cell_type": "code",
   "execution_count": 5,
   "id": "0c15bf23-5c8c-4631-a430-cc34963ab0d3",
   "metadata": {},
   "outputs": [
    {
     "data": {
      "text/plain": [
       "True"
      ]
     },
     "execution_count": 5,
     "metadata": {},
     "output_type": "execute_result"
    }
   ],
   "source": [
    "baseline = cv.imread(\"assets/map_test/baseline.png\", cv.IMREAD_GRAYSCALE)\n",
    "baseline = skeletonize(baseline/255).astype(np.uint8)*255\n",
    "cv.imwrite(f\"assets/warped_maps/baseline.png\", baseline)"
   ]
  },
  {
   "cell_type": "code",
   "execution_count": null,
   "id": "45c13d9b-fcb4-4f47-8142-df63204a182e",
   "metadata": {},
   "outputs": [],
   "source": []
  }
 ],
 "metadata": {
  "kernelspec": {
   "display_name": "Python 3 (ipykernel)",
   "language": "python",
   "name": "python3"
  },
  "language_info": {
   "codemirror_mode": {
    "name": "ipython",
    "version": 3
   },
   "file_extension": ".py",
   "mimetype": "text/x-python",
   "name": "python",
   "nbconvert_exporter": "python",
   "pygments_lexer": "ipython3",
   "version": "3.10.4"
  }
 },
 "nbformat": 4,
 "nbformat_minor": 5
}

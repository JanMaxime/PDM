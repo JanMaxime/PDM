{
 "cells": [
  {
   "cell_type": "code",
   "execution_count": 6,
   "id": "1e49dae1-1868-4738-a7f3-894338ec2bf0",
   "metadata": {},
   "outputs": [],
   "source": [
    "import json\n",
    "import glob\n",
    "import PIL\n",
    "import cv2 as cv\n",
    "import matplotlib.pyplot as plt"
   ]
  },
  {
   "cell_type": "code",
   "execution_count": 7,
   "id": "8edb32c9-f7b2-4d3c-aa0c-d7daf495b163",
   "metadata": {},
   "outputs": [],
   "source": [
    "def transform_points(points, image, baseline):\n",
    "    #top left : 48.89832,2.26693\n",
    "    # bottom right : 48.81532, 2.42892\n",
    "    \n",
    "    #12553px = 15.02km\n",
    "    #12553px = 15020m\n",
    "    #1px = 1.19\n",
    "    \n",
    "    lower_b = -0.12*(image.shape[0]/image.shape[1])\n",
    "    for i in range(5):\n",
    "        points[\"x\"][i] = int(round((points[\"x\"][i]/lower_b)*image.shape[0]))\n",
    "        points[\"y\"][i] = int(round(((points[\"y\"][i]/0.12)*image.shape[1])))\n",
    "        \n",
    "    diff_y = 2.42892-2.26693\n",
    "    diff_x = 48.89832 - 48.81532\n",
    "    \n",
    "    for i in range(5):\n",
    "        points[\"y_\"][i] = int(round(((points[\"y_\"][i]-2.26693)/diff_y)*baseline.shape[1]))\n",
    "        points[\"x_\"][i] = int(round((1-(points[\"x_\"][i]-48.81532)/diff_x)*baseline.shape[0]))\n",
    "    \n",
    "    temp = points[\"y_\"]\n",
    "    points[\"y_\"] = points[\"x_\"]\n",
    "    points[\"x_\"] = temp\n",
    "    \n",
    "    temp = points[\"y\"]\n",
    "    points[\"y\"] = points[\"x\"]\n",
    "    points[\"x\"] = temp\n",
    "    \n",
    "\n",
    "    \n",
    "    points[\"image_height\"] = image.shape[0]\n",
    "    points[\"image_width\"] = image.shape[1]\n",
    "    '''\n",
    "    for x,y in zip(points[\"x_\"], points[\"y_\"]):\n",
    "        baseline = cv.circle(baseline, (x,y), 50,(255,0,0),-1)\n",
    "    plt.imsave(\"baseline_with_points.png\", baseline)\n",
    "    '''"
   ]
  },
  {
   "cell_type": "code",
   "execution_count": 8,
   "id": "bdc5abf0-03ca-4579-b33a-bb5bd7486e6c",
   "metadata": {},
   "outputs": [],
   "source": [
    "baseline = cv.imread(\"baseline.png\")\n",
    "for point in glob.glob(\"points/*.json\"):\n",
    "    with open(point) as json_file:\n",
    "        json_data = json.load(json_file)\n",
    "        if not point[7:-5] == \"btv1b53085557h\":\n",
    "            the_map = cv.imread(f\"points_full_predictions/{point[7:-5]}.png\")\n",
    "            transform_points(json_data, the_map, baseline)\n",
    "            with open(f\"points_transformed/{point[7:-5]}.json\", \"w\") as transformed_json_file:\n",
    "                json.dump(json_data, transformed_json_file)"
   ]
  },
  {
   "cell_type": "code",
   "execution_count": null,
   "id": "efd2d416-4648-40fd-81e3-8567fd0a76d2",
   "metadata": {},
   "outputs": [],
   "source": []
  }
 ],
 "metadata": {
  "kernelspec": {
   "display_name": "Python 3",
   "language": "python",
   "name": "python3"
  },
  "language_info": {
   "codemirror_mode": {
    "name": "ipython",
    "version": 3
   },
   "file_extension": ".py",
   "mimetype": "text/x-python",
   "name": "python",
   "nbconvert_exporter": "python",
   "pygments_lexer": "ipython3",
   "version": "3.8.8"
  }
 },
 "nbformat": 4,
 "nbformat_minor": 5
}

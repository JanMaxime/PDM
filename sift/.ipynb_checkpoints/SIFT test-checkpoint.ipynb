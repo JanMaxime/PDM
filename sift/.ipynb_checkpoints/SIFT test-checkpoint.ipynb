{
 "cells": [
  {
   "cell_type": "code",
   "execution_count": 1,
   "id": "2771c9c1-c25e-4575-831b-93023fc12408",
   "metadata": {},
   "outputs": [],
   "source": [
    "import numpy as np\n",
    "import cv2 as cv\n",
    "import matplotlib.pyplot as plt\n",
    "from skimage.morphology import skeletonize\n",
    "from sift import *\n",
    "import glob\n",
    "import os\n",
    "import json\n",
    "import copy\n",
    "import math\n",
    "import random\n",
    "import gc"
   ]
  },
  {
   "cell_type": "code",
   "execution_count": 2,
   "id": "9fe2b2d9-f556-4b82-a73e-538b8f144961",
   "metadata": {},
   "outputs": [],
   "source": [
    "def evaluate_homography(scale, gaussian_kernel, do_skeletonize, keypoints_finder_name, train_set=True):\n",
    "    baseline = cv.imread('baseline.png',0)\n",
    "    test_images = []\n",
    "    test_points = []\n",
    "    \n",
    "    if(train_set):\n",
    "        path = \"points_full_predictions_train/*.png\"\n",
    "    else:\n",
    "        path = \"points_full_predictions_test/*.png\"\n",
    "    filenames = []\n",
    "    for filename in glob.glob(path):\n",
    "        test_images.append(cv.imread(filename,0))\n",
    "        filenames.append(filename[29:-4])\n",
    "        with open(f\"points_transformed/{filename[29:-4]}.json\",\"r\") as json_file:\n",
    "            test_points.append(json.load(json_file))\n",
    "        \n",
    "    baseline = cv.resize(baseline, (0,0), fx=scale, fy=scale)\n",
    "    if do_skeletonize:\n",
    "        baseline = (skeletonize(baseline/255)*255).astype(np.uint8)\n",
    "    baseline = cv.GaussianBlur(baseline,gaussian_kernel,0)\n",
    "    \n",
    "    \n",
    "    distances = []\n",
    "    n_homography_found = 0\n",
    "    \n",
    "    for test_image, test_point, filename in zip(test_images, test_points, filenames):\n",
    "        test_image = cv.resize(test_image, (0,0), fx=scale, fy=scale)\n",
    "        if do_skeletonize:\n",
    "            test_image = (skeletonize(test_image/255)*255).astype(np.uint8)\n",
    "        test_image = cv.GaussianBlur(test_image,gaussian_kernel,0)\n",
    "        try:\n",
    "            M = get_homography(test_image, baseline, keypoints_finder_name)\n",
    "        except:\n",
    "            continue\n",
    "        if not type(M) == np.ndarray:\n",
    "            continue\n",
    "        n_homography_found += 1\n",
    "        \n",
    "        pts = np.float32([[x*scale,y*scale] for x,y in zip(test_point[\"x\"], test_point[\"y\"])]).reshape(-1,1,2)\n",
    "        targets = np.float32([[x*scale,y*scale] for x,y in zip(test_point[\"x_\"], test_point[\"y_\"])])\n",
    "        p_transformed = cv.perspectiveTransform(pts,M).reshape(-1,2)\n",
    "        distances.append((1/scale)*np.mean([math.sqrt((target_x - p_transformed_x)**2 + (target_y - p_transformed_y)**2) for ((target_x, target_y), (p_transformed_x, p_transformed_y)) in zip (targets, p_transformed)]))\n",
    "\n",
    "        if not train_set:\n",
    "            saved_baseline = np.copy(baseline)\n",
    "            for i in range(len(targets)):\n",
    "                saved_baseline = cv.circle(saved_baseline, (int(round((targets[i][0]))), int(round((targets[i][1])))), 10, (255,0,0), thickness=-1)\n",
    "                saved_baseline = cv.circle(saved_baseline, (int(round((p_transformed[i][0]))), int(round((p_transformed[i][1])))), 10, (127,0,0), thickness=-1)\n",
    "                #test_image = cv.circle(test_image, (int(round((pts[i][0][0]))), int(round((pts[i][0][1])))), 10, (255,0,0),-1)\n",
    "            plt.imsave(f\"test_results/{filename}.png\", saved_baseline)\n",
    "     \n",
    "    mean_distance = np.mean(distances)\n",
    "    if n_homography_found < 5:\n",
    "        return 9999, n_homography_found\n",
    "    else:\n",
    "        return mean_distance, n_homography_found"
   ]
  },
  {
   "cell_type": "code",
   "execution_count": 3,
   "id": "268e7765-957e-473d-af99-99fef0b83288",
   "metadata": {},
   "outputs": [
    {
     "data": {
      "text/plain": [
       "(2752.118832030428, 9)"
      ]
     },
     "execution_count": 3,
     "metadata": {},
     "output_type": "execute_result"
    }
   ],
   "source": [
    "evaluate_homography(0.5, (15,15), False, \"brisk\",False)"
   ]
  },
  {
   "cell_type": "code",
   "execution_count": 8,
   "id": "88cf3e15-ad45-4dbe-97ae-9fb0169ba4a2",
   "metadata": {},
   "outputs": [
    {
     "data": {
      "text/plain": [
       "[(0.35782154674862804, 71, False, 'sift'),\n",
       " (0.3663225800508104, 15, False, 'sift')]"
      ]
     },
     "execution_count": 8,
     "metadata": {},
     "output_type": "execute_result"
    }
   ],
   "source": [
    "solutions = []\n",
    "keypoints_finders = [\"sift\", \"orb\", \"brisk\"]\n",
    "for s in range(2):\n",
    "    kernel = random.randint(10,80)\n",
    "    if kernel % 2 == 0:\n",
    "        kernel += 1\n",
    "    solutions.append( ( random.uniform(0.2,0.6), kernel, random.random() >0.5, keypoints_finders[0]))\n",
    "solutions"
   ]
  },
  {
   "cell_type": "code",
   "execution_count": 9,
   "id": "32ec175f-9226-4914-bb8d-e1e03acfdf89",
   "metadata": {},
   "outputs": [
    {
     "ename": "NameError",
     "evalue": "name 'rakeypoints_findersd_solutions' is not defined",
     "output_type": "error",
     "traceback": [
      "\u001b[0;31m---------------------------------------------------------------------------\u001b[0m",
      "\u001b[0;31mNameError\u001b[0m                                 Traceback (most recent call last)",
      "Input \u001b[0;32mIn [9]\u001b[0m, in \u001b[0;36m<cell line: 1>\u001b[0;34m()\u001b[0m\n\u001b[1;32m      4\u001b[0m     ranked_solutions\u001b[38;5;241m.\u001b[39mappend((evaluate_homography(s[\u001b[38;5;241m0\u001b[39m], (s[\u001b[38;5;241m1\u001b[39m], s[\u001b[38;5;241m1\u001b[39m]), s[\u001b[38;5;241m2\u001b[39m], s[\u001b[38;5;241m3\u001b[39m]),s))\n\u001b[1;32m      5\u001b[0m ranked_solutions\u001b[38;5;241m.\u001b[39msort()\n\u001b[0;32m----> 6\u001b[0m \u001b[38;5;28mprint\u001b[39m(\u001b[38;5;124mf\u001b[39m\u001b[38;5;124m\"\u001b[39m\u001b[38;5;124mGen \u001b[39m\u001b[38;5;132;01m{\u001b[39;00me\u001b[38;5;132;01m}\u001b[39;00m\u001b[38;5;124m best solution : \u001b[39m\u001b[38;5;132;01m{\u001b[39;00mranked_solutions[\u001b[38;5;241m0\u001b[39m][\u001b[38;5;241m1\u001b[39m]\u001b[38;5;132;01m}\u001b[39;00m\u001b[38;5;124m with fitness \u001b[39m\u001b[38;5;132;01m{\u001b[39;00mrakeypoints_findersd_solutions[\u001b[38;5;241m0\u001b[39m][\u001b[38;5;241m0\u001b[39m]\u001b[38;5;132;01m}\u001b[39;00m\u001b[38;5;124m\"\u001b[39m)\n\u001b[1;32m      7\u001b[0m best_solutions \u001b[38;5;241m=\u001b[39m ranked_solutions[:\u001b[38;5;241m2\u001b[39m]\n\u001b[1;32m      9\u001b[0m scales \u001b[38;5;241m=\u001b[39m []\n",
      "\u001b[0;31mNameError\u001b[0m: name 'rakeypoints_findersd_solutions' is not defined"
     ]
    }
   ],
   "source": [
    "for e in range(2):\n",
    "    ranked_solutions = []\n",
    "    for s in solutions:\n",
    "        ranked_solutions.append((evaluate_homography(s[0], (s[1], s[1]), s[2], s[3]),s))\n",
    "    ranked_solutions.sort()\n",
    "    print(f\"Gen {e} best solution : {ranked_solutions[0][1]} with fitness {ranked_solutions[0][0]}\")\n",
    "    best_solutions = ranked_solutions[:2]\n",
    "    \n",
    "    scales = []\n",
    "    kernels = []\n",
    "    do_skeletonizes = []\n",
    "    best_keypoints_finders = []\n",
    "    for s in best_solutions:\n",
    "        scales.append(s[1][0])\n",
    "        kernels.append(s[1][1])\n",
    "        do_skeletonizes.append(s[1][2])\n",
    "        best_keypoints_finders.append(s[1][3])\n",
    "        \n",
    "        \n",
    "    new_gen = []\n",
    "    for i in range(20):\n",
    "        scale = random.choice(scales) + random.uniform(-0.03, 0.03)\n",
    "        kernel = random.choice(kernels) + random.randint(-2,2)\n",
    "        if kernel % 2 == 0:\n",
    "            kernel += 1\n",
    "        do_skeletonize = random.choice(do_skeletonizes)\n",
    "        do_skeletonize = do_skeletonize if random.random() < 0.8 else not do_skeletonize\n",
    "        \n",
    "        new_gen.append((scale, kernel, do_skeletonize))\n",
    "    solutions = new_gen"
   ]
  },
  {
   "cell_type": "code",
   "execution_count": null,
   "id": "1c84169d-ec00-4977-a3dd-4ec8a43d98a1",
   "metadata": {},
   "outputs": [],
   "source": []
  }
 ],
 "metadata": {
  "kernelspec": {
   "display_name": "Python 3 (ipykernel)",
   "language": "python",
   "name": "python3"
  },
  "language_info": {
   "codemirror_mode": {
    "name": "ipython",
    "version": 3
   },
   "file_extension": ".py",
   "mimetype": "text/x-python",
   "name": "python",
   "nbconvert_exporter": "python",
   "pygments_lexer": "ipython3",
   "version": "3.10.4"
  }
 },
 "nbformat": 4,
 "nbformat_minor": 5
}
